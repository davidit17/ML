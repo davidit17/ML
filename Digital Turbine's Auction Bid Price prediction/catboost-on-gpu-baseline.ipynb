{
 "cells": [
  {
   "cell_type": "code",
   "execution_count": 1,
   "id": "4c9be9ff",
   "metadata": {
    "_cell_guid": "b1076dfc-b9ad-4769-8c92-a6c4dae69d19",
    "_uuid": "8f2839f25d086af736a60e9eeb907d3b93b6e0e5",
    "execution": {
     "iopub.execute_input": "2022-08-07T09:51:19.250230Z",
     "iopub.status.busy": "2022-08-07T09:51:19.249483Z",
     "iopub.status.idle": "2022-08-07T09:51:19.262493Z",
     "shell.execute_reply": "2022-08-07T09:51:19.261537Z"
    },
    "papermill": {
     "duration": 0.025259,
     "end_time": "2022-08-07T09:51:19.265286",
     "exception": false,
     "start_time": "2022-08-07T09:51:19.240027",
     "status": "completed"
    },
    "tags": []
   },
   "outputs": [
    {
     "name": "stdout",
     "output_type": "stream",
     "text": [
      "/kaggle/input/digital-turbine-auction-bid-price-prediction/sample_submission.csv\n",
      "/kaggle/input/digital-turbine-auction-bid-price-prediction/train_data.csv\n",
      "/kaggle/input/digital-turbine-auction-bid-price-prediction/test_data.csv\n"
     ]
    }
   ],
   "source": [
    "# This Python 3 environment comes with many helpful analytics libraries installed\n",
    "# It is defined by the kaggle/python Docker image: https://github.com/kaggle/docker-python\n",
    "# For example, here's several helpful packages to load\n",
    "\n",
    "import numpy as np # linear algebra\n",
    "import pandas as pd # data processing, CSV file I/O (e.g. pd.read_csv)\n",
    "\n",
    "# Input data files are available in the read-only \"../input/\" directory\n",
    "# For example, running this (by clicking run or pressing Shift+Enter) will list all files under the input directory\n",
    "\n",
    "import os\n",
    "for dirname, _, filenames in os.walk('/kaggle/input'):\n",
    "    for filename in filenames:\n",
    "        print(os.path.join(dirname, filename))\n",
    "\n",
    "# You can write up to 20GB to the current directory (/kaggle/working/) that gets preserved as output when you create a version using \"Save & Run All\" \n",
    "# You can also write temporary files to /kaggle/temp/, but they won't be saved outside of the current session"
   ]
  },
  {
   "cell_type": "code",
   "execution_count": 2,
   "id": "d6e2919f",
   "metadata": {
    "execution": {
     "iopub.execute_input": "2022-08-07T09:51:19.281903Z",
     "iopub.status.busy": "2022-08-07T09:51:19.281058Z",
     "iopub.status.idle": "2022-08-07T09:51:43.577521Z",
     "shell.execute_reply": "2022-08-07T09:51:43.576518Z"
    },
    "papermill": {
     "duration": 24.306546,
     "end_time": "2022-08-07T09:51:43.580121",
     "exception": false,
     "start_time": "2022-08-07T09:51:19.273575",
     "status": "completed"
    },
    "tags": []
   },
   "outputs": [],
   "source": [
    "train_df = pd.read_csv('/kaggle/input/digital-turbine-auction-bid-price-prediction/train_data.csv')\n",
    "test_df = pd.read_csv('/kaggle/input/digital-turbine-auction-bid-price-prediction/test_data.csv')"
   ]
  },
  {
   "cell_type": "markdown",
   "id": "b7fb21bf",
   "metadata": {
    "papermill": {
     "duration": 0.006477,
     "end_time": "2022-08-07T09:51:43.593799",
     "exception": false,
     "start_time": "2022-08-07T09:51:43.587322",
     "status": "completed"
    },
    "tags": []
   },
   "source": [
    "# imports"
   ]
  },
  {
   "cell_type": "code",
   "execution_count": 3,
   "id": "093eedda",
   "metadata": {
    "execution": {
     "iopub.execute_input": "2022-08-07T09:51:43.608842Z",
     "iopub.status.busy": "2022-08-07T09:51:43.608525Z",
     "iopub.status.idle": "2022-08-07T09:51:45.043201Z",
     "shell.execute_reply": "2022-08-07T09:51:45.042239Z"
    },
    "papermill": {
     "duration": 1.444913,
     "end_time": "2022-08-07T09:51:45.045566",
     "exception": false,
     "start_time": "2022-08-07T09:51:43.600653",
     "status": "completed"
    },
    "tags": []
   },
   "outputs": [],
   "source": [
    "from matplotlib import pyplot as plt\n",
    "import seaborn as sns\n",
    "from catboost import CatBoostRegressor\n",
    "from sklearn.model_selection import train_test_split\n",
    "from sklearn.metrics import mean_squared_error "
   ]
  },
  {
   "cell_type": "code",
   "execution_count": 4,
   "id": "3d2a2852",
   "metadata": {
    "execution": {
     "iopub.execute_input": "2022-08-07T09:51:45.060572Z",
     "iopub.status.busy": "2022-08-07T09:51:45.060292Z",
     "iopub.status.idle": "2022-08-07T09:51:45.069535Z",
     "shell.execute_reply": "2022-08-07T09:51:45.068651Z"
    },
    "papermill": {
     "duration": 0.018807,
     "end_time": "2022-08-07T09:51:45.071432",
     "exception": false,
     "start_time": "2022-08-07T09:51:45.052625",
     "status": "completed"
    },
    "tags": []
   },
   "outputs": [],
   "source": [
    "# dataframe info stats\n",
    "\n",
    "def stats(data):\n",
    "    \n",
    "    maxx = []\n",
    "    minn = []\n",
    "    for i in data.columns:\n",
    "        maxx.append(data[i].value_counts().max())\n",
    "        minn.append(data[i].value_counts().min())\n",
    "\n",
    "    return pd.DataFrame(\n",
    "        {'nunique': data.nunique(),\n",
    "         'len': len(data),\n",
    "        # 'nunique/len': data.nunique()/len(data),\n",
    "         'types':data.dtypes,\n",
    "         'Nulls' : data.isna().sum(),\n",
    "        # 'Nullpercent' : data.isna().sum()/len(data),\n",
    "         \"Value counts Max\": maxx,\n",
    "         'Value counts Min':minn \n",
    "        },\n",
    "        columns = ['nunique', 'len','types','Nulls'#,'Nullpercent', 'nunique/len'\n",
    "                   ,\"Value counts Max\",'Value counts Min']).\\\n",
    "        sort_values(by ='nunique',ascending = False)\n",
    "\n",
    "\n",
    "\n",
    "def countPlot(col,num = 6,hue = None):\n",
    "    sns.set(rc={'figure.figsize':(6,6)})\n",
    "    ax = sns.countplot(x=col, data=train_df, hue = hue,\n",
    "                   order=train_df[col].value_counts().iloc[:num].index)\n",
    "    \n",
    "    return plt.show()"
   ]
  },
  {
   "cell_type": "code",
   "execution_count": 5,
   "id": "9cb0c777",
   "metadata": {
    "execution": {
     "iopub.execute_input": "2022-08-07T09:51:45.085567Z",
     "iopub.status.busy": "2022-08-07T09:51:45.085148Z",
     "iopub.status.idle": "2022-08-07T09:51:45.112055Z",
     "shell.execute_reply": "2022-08-07T09:51:45.110964Z"
    },
    "papermill": {
     "duration": 0.036852,
     "end_time": "2022-08-07T09:51:45.114742",
     "exception": false,
     "start_time": "2022-08-07T09:51:45.077890",
     "status": "completed"
    },
    "tags": []
   },
   "outputs": [
    {
     "data": {
      "text/html": [
       "<div>\n",
       "<style scoped>\n",
       "    .dataframe tbody tr th:only-of-type {\n",
       "        vertical-align: middle;\n",
       "    }\n",
       "\n",
       "    .dataframe tbody tr th {\n",
       "        vertical-align: top;\n",
       "    }\n",
       "\n",
       "    .dataframe thead th {\n",
       "        text-align: right;\n",
       "    }\n",
       "</style>\n",
       "<table border=\"1\" class=\"dataframe\">\n",
       "  <thead>\n",
       "    <tr style=\"text-align: right;\">\n",
       "      <th></th>\n",
       "      <th>eventTimestamp</th>\n",
       "      <th>unitDisplayType</th>\n",
       "      <th>brandName</th>\n",
       "      <th>bundleId</th>\n",
       "      <th>appVersion</th>\n",
       "      <th>correctModelName</th>\n",
       "      <th>countryCode</th>\n",
       "      <th>deviceId</th>\n",
       "      <th>osAndVersion</th>\n",
       "      <th>connectionType</th>\n",
       "      <th>c1</th>\n",
       "      <th>c2</th>\n",
       "      <th>c3</th>\n",
       "      <th>c4</th>\n",
       "      <th>size</th>\n",
       "      <th>mediationProviderVersion</th>\n",
       "      <th>bidFloorPrice</th>\n",
       "      <th>sentPrice</th>\n",
       "      <th>winBid</th>\n",
       "      <th>has_won</th>\n",
       "    </tr>\n",
       "  </thead>\n",
       "  <tbody>\n",
       "    <tr>\n",
       "      <th>0</th>\n",
       "      <td>1656411567773</td>\n",
       "      <td>banner</td>\n",
       "      <td>LG</td>\n",
       "      <td>com.tilegarden.match3</td>\n",
       "      <td>1.8.22</td>\n",
       "      <td>LM-V405</td>\n",
       "      <td>US</td>\n",
       "      <td>74f9b473fad</td>\n",
       "      <td>Android-10.0</td>\n",
       "      <td>3G</td>\n",
       "      <td>cb2</td>\n",
       "      <td>6.0</td>\n",
       "      <td>6b</td>\n",
       "      <td>4.0</td>\n",
       "      <td>320x50</td>\n",
       "      <td>11.2.1</td>\n",
       "      <td>0.01</td>\n",
       "      <td>0.02</td>\n",
       "      <td>0.88</td>\n",
       "      <td>0</td>\n",
       "    </tr>\n",
       "    <tr>\n",
       "      <th>1</th>\n",
       "      <td>1656925395488</td>\n",
       "      <td>banner</td>\n",
       "      <td>Generic</td>\n",
       "      <td>com.loop.match3d</td>\n",
       "      <td>1245.34.0</td>\n",
       "      <td>Android 4.0</td>\n",
       "      <td>FR</td>\n",
       "      <td>6ad4c88b84e</td>\n",
       "      <td>Android-4.0</td>\n",
       "      <td>WIFI</td>\n",
       "      <td>7d3</td>\n",
       "      <td>6.0</td>\n",
       "      <td>6b</td>\n",
       "      <td>6.0</td>\n",
       "      <td>320x50</td>\n",
       "      <td>11.4.2</td>\n",
       "      <td>0.01</td>\n",
       "      <td>0.03</td>\n",
       "      <td>0.08</td>\n",
       "      <td>0</td>\n",
       "    </tr>\n",
       "    <tr>\n",
       "      <th>2</th>\n",
       "      <td>1656913751642</td>\n",
       "      <td>banner</td>\n",
       "      <td>Generic</td>\n",
       "      <td>com.loop.match3d</td>\n",
       "      <td>1245.35.0</td>\n",
       "      <td>Android 4.0</td>\n",
       "      <td>US</td>\n",
       "      <td>743b9849642</td>\n",
       "      <td>Android-4.0</td>\n",
       "      <td>WIFI</td>\n",
       "      <td>7d3</td>\n",
       "      <td>3.0</td>\n",
       "      <td>6b</td>\n",
       "      <td>3.0</td>\n",
       "      <td>320x50</td>\n",
       "      <td>11.4.3</td>\n",
       "      <td>0.01</td>\n",
       "      <td>0.02</td>\n",
       "      <td>1.72</td>\n",
       "      <td>0</td>\n",
       "    </tr>\n",
       "    <tr>\n",
       "      <th>3</th>\n",
       "      <td>1656656319103</td>\n",
       "      <td>banner</td>\n",
       "      <td>Generic</td>\n",
       "      <td>com.loop.match3d</td>\n",
       "      <td>1245.34.0</td>\n",
       "      <td>Android 4.0</td>\n",
       "      <td>GB</td>\n",
       "      <td>6ad933115b2</td>\n",
       "      <td>Android-4.0</td>\n",
       "      <td>WIFI</td>\n",
       "      <td>7d3</td>\n",
       "      <td>3.0</td>\n",
       "      <td>6b</td>\n",
       "      <td>5.0</td>\n",
       "      <td>320x50</td>\n",
       "      <td>11.4.2</td>\n",
       "      <td>0.01</td>\n",
       "      <td>0.06</td>\n",
       "      <td>0.21</td>\n",
       "      <td>0</td>\n",
       "    </tr>\n",
       "    <tr>\n",
       "      <th>4</th>\n",
       "      <td>1657429389462</td>\n",
       "      <td>interstitial</td>\n",
       "      <td>OPPO</td>\n",
       "      <td>com.loop.match3d</td>\n",
       "      <td>1245.35.0</td>\n",
       "      <td>CPH2127</td>\n",
       "      <td>ID</td>\n",
       "      <td>809f9785bb3</td>\n",
       "      <td>Android-11.0</td>\n",
       "      <td>WIFI</td>\n",
       "      <td>8bd</td>\n",
       "      <td>3.0</td>\n",
       "      <td>6b</td>\n",
       "      <td>3.0</td>\n",
       "      <td>320x480</td>\n",
       "      <td>11.4.3</td>\n",
       "      <td>0.01</td>\n",
       "      <td>0.16</td>\n",
       "      <td>1.91</td>\n",
       "      <td>0</td>\n",
       "    </tr>\n",
       "  </tbody>\n",
       "</table>\n",
       "</div>"
      ],
      "text/plain": [
       "   eventTimestamp unitDisplayType brandName               bundleId appVersion  \\\n",
       "0   1656411567773          banner        LG  com.tilegarden.match3     1.8.22   \n",
       "1   1656925395488          banner   Generic       com.loop.match3d  1245.34.0   \n",
       "2   1656913751642          banner   Generic       com.loop.match3d  1245.35.0   \n",
       "3   1656656319103          banner   Generic       com.loop.match3d  1245.34.0   \n",
       "4   1657429389462    interstitial      OPPO       com.loop.match3d  1245.35.0   \n",
       "\n",
       "  correctModelName countryCode     deviceId  osAndVersion connectionType   c1  \\\n",
       "0          LM-V405          US  74f9b473fad  Android-10.0             3G  cb2   \n",
       "1      Android 4.0          FR  6ad4c88b84e   Android-4.0           WIFI  7d3   \n",
       "2      Android 4.0          US  743b9849642   Android-4.0           WIFI  7d3   \n",
       "3      Android 4.0          GB  6ad933115b2   Android-4.0           WIFI  7d3   \n",
       "4          CPH2127          ID  809f9785bb3  Android-11.0           WIFI  8bd   \n",
       "\n",
       "    c2  c3   c4     size mediationProviderVersion  bidFloorPrice  sentPrice  \\\n",
       "0  6.0  6b  4.0   320x50                   11.2.1           0.01       0.02   \n",
       "1  6.0  6b  6.0   320x50                   11.4.2           0.01       0.03   \n",
       "2  3.0  6b  3.0   320x50                   11.4.3           0.01       0.02   \n",
       "3  3.0  6b  5.0   320x50                   11.4.2           0.01       0.06   \n",
       "4  3.0  6b  3.0  320x480                   11.4.3           0.01       0.16   \n",
       "\n",
       "   winBid  has_won  \n",
       "0    0.88        0  \n",
       "1    0.08        0  \n",
       "2    1.72        0  \n",
       "3    0.21        0  \n",
       "4    1.91        0  "
      ]
     },
     "execution_count": 5,
     "metadata": {},
     "output_type": "execute_result"
    }
   ],
   "source": [
    "train_df.head()"
   ]
  },
  {
   "cell_type": "code",
   "execution_count": 6,
   "id": "1ad887a1",
   "metadata": {
    "execution": {
     "iopub.execute_input": "2022-08-07T09:51:45.129776Z",
     "iopub.status.busy": "2022-08-07T09:51:45.129518Z",
     "iopub.status.idle": "2022-08-07T09:51:45.149148Z",
     "shell.execute_reply": "2022-08-07T09:51:45.148204Z"
    },
    "papermill": {
     "duration": 0.029365,
     "end_time": "2022-08-07T09:51:45.151285",
     "exception": false,
     "start_time": "2022-08-07T09:51:45.121920",
     "status": "completed"
    },
    "tags": []
   },
   "outputs": [
    {
     "data": {
      "text/html": [
       "<div>\n",
       "<style scoped>\n",
       "    .dataframe tbody tr th:only-of-type {\n",
       "        vertical-align: middle;\n",
       "    }\n",
       "\n",
       "    .dataframe tbody tr th {\n",
       "        vertical-align: top;\n",
       "    }\n",
       "\n",
       "    .dataframe thead th {\n",
       "        text-align: right;\n",
       "    }\n",
       "</style>\n",
       "<table border=\"1\" class=\"dataframe\">\n",
       "  <thead>\n",
       "    <tr style=\"text-align: right;\">\n",
       "      <th></th>\n",
       "      <th>eventTimestamp</th>\n",
       "      <th>unitDisplayType</th>\n",
       "      <th>brandName</th>\n",
       "      <th>bundleId</th>\n",
       "      <th>appVersion</th>\n",
       "      <th>correctModelName</th>\n",
       "      <th>countryCode</th>\n",
       "      <th>deviceId</th>\n",
       "      <th>osAndVersion</th>\n",
       "      <th>connectionType</th>\n",
       "      <th>c1</th>\n",
       "      <th>c2</th>\n",
       "      <th>c3</th>\n",
       "      <th>c4</th>\n",
       "      <th>size</th>\n",
       "      <th>mediationProviderVersion</th>\n",
       "      <th>bidFloorPrice</th>\n",
       "      <th>sentPrice</th>\n",
       "    </tr>\n",
       "  </thead>\n",
       "  <tbody>\n",
       "    <tr>\n",
       "      <th>0</th>\n",
       "      <td>1657758857892</td>\n",
       "      <td>rewarded</td>\n",
       "      <td>Generic</td>\n",
       "      <td>com.loop.match3d</td>\n",
       "      <td>1245.35.0</td>\n",
       "      <td>Android 4 Tablet</td>\n",
       "      <td>US</td>\n",
       "      <td>6a0a94554cf</td>\n",
       "      <td>Android-4.0</td>\n",
       "      <td>3G</td>\n",
       "      <td>7b8</td>\n",
       "      <td>2.0</td>\n",
       "      <td>6b</td>\n",
       "      <td>2.0</td>\n",
       "      <td>768x1024</td>\n",
       "      <td>11.4.3</td>\n",
       "      <td>0.05</td>\n",
       "      <td>0.06</td>\n",
       "    </tr>\n",
       "    <tr>\n",
       "      <th>1</th>\n",
       "      <td>1657210707978</td>\n",
       "      <td>interstitial</td>\n",
       "      <td>Generic</td>\n",
       "      <td>com.loop.match3d</td>\n",
       "      <td>1245.35.0</td>\n",
       "      <td>Android 4.0</td>\n",
       "      <td>ZA</td>\n",
       "      <td>6a0b0e59f45</td>\n",
       "      <td>Android-4.0</td>\n",
       "      <td>WIFI</td>\n",
       "      <td>8bd</td>\n",
       "      <td>8.0</td>\n",
       "      <td>6b</td>\n",
       "      <td>6.0</td>\n",
       "      <td>320x480</td>\n",
       "      <td>11.4.3</td>\n",
       "      <td>0.01</td>\n",
       "      <td>0.16</td>\n",
       "    </tr>\n",
       "    <tr>\n",
       "      <th>2</th>\n",
       "      <td>1657392939412</td>\n",
       "      <td>interstitial</td>\n",
       "      <td>Motorola</td>\n",
       "      <td>com.YayySAL.DodgeAgent</td>\n",
       "      <td>13.0.02</td>\n",
       "      <td>Moto g(8) power lite</td>\n",
       "      <td>BR</td>\n",
       "      <td>6a0fa820c46</td>\n",
       "      <td>Android-10.0</td>\n",
       "      <td>WIFI</td>\n",
       "      <td>ea0</td>\n",
       "      <td>8.0</td>\n",
       "      <td>6b</td>\n",
       "      <td>9.0</td>\n",
       "      <td>320x480</td>\n",
       "      <td>11.0.0</td>\n",
       "      <td>0.05</td>\n",
       "      <td>0.06</td>\n",
       "    </tr>\n",
       "    <tr>\n",
       "      <th>3</th>\n",
       "      <td>1657386816882</td>\n",
       "      <td>interstitial</td>\n",
       "      <td>Huawei</td>\n",
       "      <td>com.tintash.nailsalon</td>\n",
       "      <td>1.3.6</td>\n",
       "      <td>JDN2-AL00HN</td>\n",
       "      <td>IQ</td>\n",
       "      <td>6a142bdbea2</td>\n",
       "      <td>Android-9.0</td>\n",
       "      <td>WIFI</td>\n",
       "      <td>3dc</td>\n",
       "      <td>6.0</td>\n",
       "      <td>6b</td>\n",
       "      <td>4.0</td>\n",
       "      <td>768x1024</td>\n",
       "      <td>11.3.3</td>\n",
       "      <td>0.01</td>\n",
       "      <td>0.05</td>\n",
       "    </tr>\n",
       "    <tr>\n",
       "      <th>4</th>\n",
       "      <td>1657211600823</td>\n",
       "      <td>banner</td>\n",
       "      <td>Generic</td>\n",
       "      <td>com.tilegarden.match3</td>\n",
       "      <td>1.8.52</td>\n",
       "      <td>Android 4.0</td>\n",
       "      <td>US</td>\n",
       "      <td>6a16943a771</td>\n",
       "      <td>Android-4.0</td>\n",
       "      <td>WIFI</td>\n",
       "      <td>cb2</td>\n",
       "      <td>7.0</td>\n",
       "      <td>6b</td>\n",
       "      <td>5.0</td>\n",
       "      <td>320x50</td>\n",
       "      <td>11.4.3</td>\n",
       "      <td>0.01</td>\n",
       "      <td>0.03</td>\n",
       "    </tr>\n",
       "  </tbody>\n",
       "</table>\n",
       "</div>"
      ],
      "text/plain": [
       "   eventTimestamp unitDisplayType brandName                bundleId  \\\n",
       "0   1657758857892        rewarded   Generic        com.loop.match3d   \n",
       "1   1657210707978    interstitial   Generic        com.loop.match3d   \n",
       "2   1657392939412    interstitial  Motorola  com.YayySAL.DodgeAgent   \n",
       "3   1657386816882    interstitial    Huawei   com.tintash.nailsalon   \n",
       "4   1657211600823          banner   Generic   com.tilegarden.match3   \n",
       "\n",
       "  appVersion      correctModelName countryCode     deviceId  osAndVersion  \\\n",
       "0  1245.35.0      Android 4 Tablet          US  6a0a94554cf   Android-4.0   \n",
       "1  1245.35.0           Android 4.0          ZA  6a0b0e59f45   Android-4.0   \n",
       "2    13.0.02  Moto g(8) power lite          BR  6a0fa820c46  Android-10.0   \n",
       "3      1.3.6           JDN2-AL00HN          IQ  6a142bdbea2   Android-9.0   \n",
       "4     1.8.52           Android 4.0          US  6a16943a771   Android-4.0   \n",
       "\n",
       "  connectionType   c1   c2  c3   c4      size mediationProviderVersion  \\\n",
       "0             3G  7b8  2.0  6b  2.0  768x1024                   11.4.3   \n",
       "1           WIFI  8bd  8.0  6b  6.0   320x480                   11.4.3   \n",
       "2           WIFI  ea0  8.0  6b  9.0   320x480                   11.0.0   \n",
       "3           WIFI  3dc  6.0  6b  4.0  768x1024                   11.3.3   \n",
       "4           WIFI  cb2  7.0  6b  5.0    320x50                   11.4.3   \n",
       "\n",
       "   bidFloorPrice  sentPrice  \n",
       "0           0.05       0.06  \n",
       "1           0.01       0.16  \n",
       "2           0.05       0.06  \n",
       "3           0.01       0.05  \n",
       "4           0.01       0.03  "
      ]
     },
     "execution_count": 6,
     "metadata": {},
     "output_type": "execute_result"
    }
   ],
   "source": [
    "test_df.head()"
   ]
  },
  {
   "cell_type": "code",
   "execution_count": 7,
   "id": "8f30677d",
   "metadata": {
    "execution": {
     "iopub.execute_input": "2022-08-07T09:51:45.167714Z",
     "iopub.status.busy": "2022-08-07T09:51:45.167463Z",
     "iopub.status.idle": "2022-08-07T09:52:12.179826Z",
     "shell.execute_reply": "2022-08-07T09:52:12.178843Z"
    },
    "papermill": {
     "duration": 27.022237,
     "end_time": "2022-08-07T09:52:12.181855",
     "exception": false,
     "start_time": "2022-08-07T09:51:45.159618",
     "status": "completed"
    },
    "tags": []
   },
   "outputs": [
    {
     "data": {
      "text/html": [
       "<div>\n",
       "<style scoped>\n",
       "    .dataframe tbody tr th:only-of-type {\n",
       "        vertical-align: middle;\n",
       "    }\n",
       "\n",
       "    .dataframe tbody tr th {\n",
       "        vertical-align: top;\n",
       "    }\n",
       "\n",
       "    .dataframe thead th {\n",
       "        text-align: right;\n",
       "    }\n",
       "</style>\n",
       "<table border=\"1\" class=\"dataframe\">\n",
       "  <thead>\n",
       "    <tr style=\"text-align: right;\">\n",
       "      <th></th>\n",
       "      <th>nunique</th>\n",
       "      <th>len</th>\n",
       "      <th>types</th>\n",
       "      <th>Nulls</th>\n",
       "      <th>Value counts Max</th>\n",
       "      <th>Value counts Min</th>\n",
       "    </tr>\n",
       "  </thead>\n",
       "  <tbody>\n",
       "    <tr>\n",
       "      <th>eventTimestamp</th>\n",
       "      <td>7302171</td>\n",
       "      <td>7321633</td>\n",
       "      <td>int64</td>\n",
       "      <td>0</td>\n",
       "      <td>4</td>\n",
       "      <td>1</td>\n",
       "    </tr>\n",
       "    <tr>\n",
       "      <th>deviceId</th>\n",
       "      <td>40176</td>\n",
       "      <td>7321633</td>\n",
       "      <td>object</td>\n",
       "      <td>0</td>\n",
       "      <td>25150</td>\n",
       "      <td>1</td>\n",
       "    </tr>\n",
       "    <tr>\n",
       "      <th>winBid</th>\n",
       "      <td>23008</td>\n",
       "      <td>7321633</td>\n",
       "      <td>float64</td>\n",
       "      <td>0</td>\n",
       "      <td>371679</td>\n",
       "      <td>1</td>\n",
       "    </tr>\n",
       "    <tr>\n",
       "      <th>sentPrice</th>\n",
       "      <td>7521</td>\n",
       "      <td>7321633</td>\n",
       "      <td>float64</td>\n",
       "      <td>0</td>\n",
       "      <td>1527464</td>\n",
       "      <td>1</td>\n",
       "    </tr>\n",
       "    <tr>\n",
       "      <th>correctModelName</th>\n",
       "      <td>2568</td>\n",
       "      <td>7321633</td>\n",
       "      <td>object</td>\n",
       "      <td>0</td>\n",
       "      <td>1973042</td>\n",
       "      <td>1</td>\n",
       "    </tr>\n",
       "    <tr>\n",
       "      <th>countryCode</th>\n",
       "      <td>168</td>\n",
       "      <td>7321633</td>\n",
       "      <td>object</td>\n",
       "      <td>27</td>\n",
       "      <td>2822649</td>\n",
       "      <td>1</td>\n",
       "    </tr>\n",
       "    <tr>\n",
       "      <th>brandName</th>\n",
       "      <td>144</td>\n",
       "      <td>7321633</td>\n",
       "      <td>object</td>\n",
       "      <td>0</td>\n",
       "      <td>2088820</td>\n",
       "      <td>1</td>\n",
       "    </tr>\n",
       "    <tr>\n",
       "      <th>appVersion</th>\n",
       "      <td>101</td>\n",
       "      <td>7321633</td>\n",
       "      <td>object</td>\n",
       "      <td>0</td>\n",
       "      <td>2911851</td>\n",
       "      <td>2</td>\n",
       "    </tr>\n",
       "    <tr>\n",
       "      <th>osAndVersion</th>\n",
       "      <td>96</td>\n",
       "      <td>7321633</td>\n",
       "      <td>object</td>\n",
       "      <td>0</td>\n",
       "      <td>2034520</td>\n",
       "      <td>2</td>\n",
       "    </tr>\n",
       "    <tr>\n",
       "      <th>c1</th>\n",
       "      <td>50</td>\n",
       "      <td>7321633</td>\n",
       "      <td>object</td>\n",
       "      <td>0</td>\n",
       "      <td>3758421</td>\n",
       "      <td>155</td>\n",
       "    </tr>\n",
       "    <tr>\n",
       "      <th>mediationProviderVersion</th>\n",
       "      <td>35</td>\n",
       "      <td>7321633</td>\n",
       "      <td>object</td>\n",
       "      <td>0</td>\n",
       "      <td>2580423</td>\n",
       "      <td>2</td>\n",
       "    </tr>\n",
       "    <tr>\n",
       "      <th>bundleId</th>\n",
       "      <td>18</td>\n",
       "      <td>7321633</td>\n",
       "      <td>object</td>\n",
       "      <td>0</td>\n",
       "      <td>4505172</td>\n",
       "      <td>390</td>\n",
       "    </tr>\n",
       "    <tr>\n",
       "      <th>c2</th>\n",
       "      <td>9</td>\n",
       "      <td>7321633</td>\n",
       "      <td>float64</td>\n",
       "      <td>0</td>\n",
       "      <td>916854</td>\n",
       "      <td>456235</td>\n",
       "    </tr>\n",
       "    <tr>\n",
       "      <th>c4</th>\n",
       "      <td>9</td>\n",
       "      <td>7321633</td>\n",
       "      <td>float64</td>\n",
       "      <td>0</td>\n",
       "      <td>915874</td>\n",
       "      <td>457789</td>\n",
       "    </tr>\n",
       "    <tr>\n",
       "      <th>size</th>\n",
       "      <td>6</td>\n",
       "      <td>7321633</td>\n",
       "      <td>object</td>\n",
       "      <td>0</td>\n",
       "      <td>5188261</td>\n",
       "      <td>814</td>\n",
       "    </tr>\n",
       "    <tr>\n",
       "      <th>c3</th>\n",
       "      <td>4</td>\n",
       "      <td>7321633</td>\n",
       "      <td>object</td>\n",
       "      <td>0</td>\n",
       "      <td>5832503</td>\n",
       "      <td>78117</td>\n",
       "    </tr>\n",
       "    <tr>\n",
       "      <th>bidFloorPrice</th>\n",
       "      <td>4</td>\n",
       "      <td>7321633</td>\n",
       "      <td>float64</td>\n",
       "      <td>0</td>\n",
       "      <td>6797762</td>\n",
       "      <td>5033</td>\n",
       "    </tr>\n",
       "    <tr>\n",
       "      <th>unitDisplayType</th>\n",
       "      <td>3</td>\n",
       "      <td>7321633</td>\n",
       "      <td>object</td>\n",
       "      <td>0</td>\n",
       "      <td>5785775</td>\n",
       "      <td>687604</td>\n",
       "    </tr>\n",
       "    <tr>\n",
       "      <th>connectionType</th>\n",
       "      <td>3</td>\n",
       "      <td>7321633</td>\n",
       "      <td>object</td>\n",
       "      <td>666</td>\n",
       "      <td>5844929</td>\n",
       "      <td>307701</td>\n",
       "    </tr>\n",
       "    <tr>\n",
       "      <th>has_won</th>\n",
       "      <td>2</td>\n",
       "      <td>7321633</td>\n",
       "      <td>int64</td>\n",
       "      <td>0</td>\n",
       "      <td>6509155</td>\n",
       "      <td>812478</td>\n",
       "    </tr>\n",
       "  </tbody>\n",
       "</table>\n",
       "</div>"
      ],
      "text/plain": [
       "                          nunique      len    types  Nulls  Value counts Max  \\\n",
       "eventTimestamp            7302171  7321633    int64      0                 4   \n",
       "deviceId                    40176  7321633   object      0             25150   \n",
       "winBid                      23008  7321633  float64      0            371679   \n",
       "sentPrice                    7521  7321633  float64      0           1527464   \n",
       "correctModelName             2568  7321633   object      0           1973042   \n",
       "countryCode                   168  7321633   object     27           2822649   \n",
       "brandName                     144  7321633   object      0           2088820   \n",
       "appVersion                    101  7321633   object      0           2911851   \n",
       "osAndVersion                   96  7321633   object      0           2034520   \n",
       "c1                             50  7321633   object      0           3758421   \n",
       "mediationProviderVersion       35  7321633   object      0           2580423   \n",
       "bundleId                       18  7321633   object      0           4505172   \n",
       "c2                              9  7321633  float64      0            916854   \n",
       "c4                              9  7321633  float64      0            915874   \n",
       "size                            6  7321633   object      0           5188261   \n",
       "c3                              4  7321633   object      0           5832503   \n",
       "bidFloorPrice                   4  7321633  float64      0           6797762   \n",
       "unitDisplayType                 3  7321633   object      0           5785775   \n",
       "connectionType                  3  7321633   object    666           5844929   \n",
       "has_won                         2  7321633    int64      0           6509155   \n",
       "\n",
       "                          Value counts Min  \n",
       "eventTimestamp                           1  \n",
       "deviceId                                 1  \n",
       "winBid                                   1  \n",
       "sentPrice                                1  \n",
       "correctModelName                         1  \n",
       "countryCode                              1  \n",
       "brandName                                1  \n",
       "appVersion                               2  \n",
       "osAndVersion                             2  \n",
       "c1                                     155  \n",
       "mediationProviderVersion                 2  \n",
       "bundleId                               390  \n",
       "c2                                  456235  \n",
       "c4                                  457789  \n",
       "size                                   814  \n",
       "c3                                   78117  \n",
       "bidFloorPrice                         5033  \n",
       "unitDisplayType                     687604  \n",
       "connectionType                      307701  \n",
       "has_won                             812478  "
      ]
     },
     "execution_count": 7,
     "metadata": {},
     "output_type": "execute_result"
    }
   ],
   "source": [
    "stats(train_df)"
   ]
  },
  {
   "cell_type": "code",
   "execution_count": 8,
   "id": "603db5f6",
   "metadata": {
    "execution": {
     "iopub.execute_input": "2022-08-07T09:52:12.198685Z",
     "iopub.status.busy": "2022-08-07T09:52:12.197847Z",
     "iopub.status.idle": "2022-08-07T09:52:12.364726Z",
     "shell.execute_reply": "2022-08-07T09:52:12.363160Z"
    },
    "papermill": {
     "duration": 0.177289,
     "end_time": "2022-08-07T09:52:12.366867",
     "exception": false,
     "start_time": "2022-08-07T09:52:12.189578",
     "status": "completed"
    },
    "tags": []
   },
   "outputs": [
    {
     "data": {
      "text/html": [
       "<div>\n",
       "<style scoped>\n",
       "    .dataframe tbody tr th:only-of-type {\n",
       "        vertical-align: middle;\n",
       "    }\n",
       "\n",
       "    .dataframe tbody tr th {\n",
       "        vertical-align: top;\n",
       "    }\n",
       "\n",
       "    .dataframe thead th {\n",
       "        text-align: right;\n",
       "    }\n",
       "</style>\n",
       "<table border=\"1\" class=\"dataframe\">\n",
       "  <thead>\n",
       "    <tr style=\"text-align: right;\">\n",
       "      <th></th>\n",
       "      <th>nunique</th>\n",
       "      <th>len</th>\n",
       "      <th>types</th>\n",
       "      <th>Nulls</th>\n",
       "      <th>Value counts Max</th>\n",
       "      <th>Value counts Min</th>\n",
       "    </tr>\n",
       "  </thead>\n",
       "  <tbody>\n",
       "    <tr>\n",
       "      <th>deviceId</th>\n",
       "      <td>41586</td>\n",
       "      <td>41586</td>\n",
       "      <td>object</td>\n",
       "      <td>0</td>\n",
       "      <td>1</td>\n",
       "      <td>1</td>\n",
       "    </tr>\n",
       "    <tr>\n",
       "      <th>eventTimestamp</th>\n",
       "      <td>41584</td>\n",
       "      <td>41586</td>\n",
       "      <td>int64</td>\n",
       "      <td>0</td>\n",
       "      <td>2</td>\n",
       "      <td>1</td>\n",
       "    </tr>\n",
       "    <tr>\n",
       "      <th>correctModelName</th>\n",
       "      <td>2614</td>\n",
       "      <td>41586</td>\n",
       "      <td>object</td>\n",
       "      <td>0</td>\n",
       "      <td>7720</td>\n",
       "      <td>1</td>\n",
       "    </tr>\n",
       "    <tr>\n",
       "      <th>sentPrice</th>\n",
       "      <td>1789</td>\n",
       "      <td>41586</td>\n",
       "      <td>float64</td>\n",
       "      <td>0</td>\n",
       "      <td>7035</td>\n",
       "      <td>1</td>\n",
       "    </tr>\n",
       "    <tr>\n",
       "      <th>countryCode</th>\n",
       "      <td>170</td>\n",
       "      <td>41586</td>\n",
       "      <td>object</td>\n",
       "      <td>6</td>\n",
       "      <td>10411</td>\n",
       "      <td>1</td>\n",
       "    </tr>\n",
       "    <tr>\n",
       "      <th>brandName</th>\n",
       "      <td>149</td>\n",
       "      <td>41586</td>\n",
       "      <td>object</td>\n",
       "      <td>0</td>\n",
       "      <td>9374</td>\n",
       "      <td>1</td>\n",
       "    </tr>\n",
       "    <tr>\n",
       "      <th>appVersion</th>\n",
       "      <td>101</td>\n",
       "      <td>41586</td>\n",
       "      <td>object</td>\n",
       "      <td>0</td>\n",
       "      <td>8686</td>\n",
       "      <td>1</td>\n",
       "    </tr>\n",
       "    <tr>\n",
       "      <th>osAndVersion</th>\n",
       "      <td>97</td>\n",
       "      <td>41586</td>\n",
       "      <td>object</td>\n",
       "      <td>0</td>\n",
       "      <td>12440</td>\n",
       "      <td>1</td>\n",
       "    </tr>\n",
       "    <tr>\n",
       "      <th>c1</th>\n",
       "      <td>50</td>\n",
       "      <td>41586</td>\n",
       "      <td>object</td>\n",
       "      <td>0</td>\n",
       "      <td>5626</td>\n",
       "      <td>12</td>\n",
       "    </tr>\n",
       "    <tr>\n",
       "      <th>mediationProviderVersion</th>\n",
       "      <td>35</td>\n",
       "      <td>41586</td>\n",
       "      <td>object</td>\n",
       "      <td>0</td>\n",
       "      <td>19158</td>\n",
       "      <td>1</td>\n",
       "    </tr>\n",
       "    <tr>\n",
       "      <th>bundleId</th>\n",
       "      <td>18</td>\n",
       "      <td>41586</td>\n",
       "      <td>object</td>\n",
       "      <td>0</td>\n",
       "      <td>10562</td>\n",
       "      <td>55</td>\n",
       "    </tr>\n",
       "    <tr>\n",
       "      <th>c2</th>\n",
       "      <td>9</td>\n",
       "      <td>41586</td>\n",
       "      <td>float64</td>\n",
       "      <td>0</td>\n",
       "      <td>5253</td>\n",
       "      <td>2610</td>\n",
       "    </tr>\n",
       "    <tr>\n",
       "      <th>c4</th>\n",
       "      <td>9</td>\n",
       "      <td>41586</td>\n",
       "      <td>float64</td>\n",
       "      <td>0</td>\n",
       "      <td>5291</td>\n",
       "      <td>2570</td>\n",
       "    </tr>\n",
       "    <tr>\n",
       "      <th>size</th>\n",
       "      <td>6</td>\n",
       "      <td>41586</td>\n",
       "      <td>object</td>\n",
       "      <td>0</td>\n",
       "      <td>19043</td>\n",
       "      <td>38</td>\n",
       "    </tr>\n",
       "    <tr>\n",
       "      <th>c3</th>\n",
       "      <td>4</td>\n",
       "      <td>41586</td>\n",
       "      <td>object</td>\n",
       "      <td>0</td>\n",
       "      <td>33144</td>\n",
       "      <td>577</td>\n",
       "    </tr>\n",
       "    <tr>\n",
       "      <th>bidFloorPrice</th>\n",
       "      <td>4</td>\n",
       "      <td>41586</td>\n",
       "      <td>float64</td>\n",
       "      <td>0</td>\n",
       "      <td>26891</td>\n",
       "      <td>286</td>\n",
       "    </tr>\n",
       "    <tr>\n",
       "      <th>unitDisplayType</th>\n",
       "      <td>3</td>\n",
       "      <td>41586</td>\n",
       "      <td>object</td>\n",
       "      <td>0</td>\n",
       "      <td>21667</td>\n",
       "      <td>9399</td>\n",
       "    </tr>\n",
       "    <tr>\n",
       "      <th>connectionType</th>\n",
       "      <td>3</td>\n",
       "      <td>41586</td>\n",
       "      <td>object</td>\n",
       "      <td>17</td>\n",
       "      <td>29959</td>\n",
       "      <td>2156</td>\n",
       "    </tr>\n",
       "  </tbody>\n",
       "</table>\n",
       "</div>"
      ],
      "text/plain": [
       "                          nunique    len    types  Nulls  Value counts Max  \\\n",
       "deviceId                    41586  41586   object      0                 1   \n",
       "eventTimestamp              41584  41586    int64      0                 2   \n",
       "correctModelName             2614  41586   object      0              7720   \n",
       "sentPrice                    1789  41586  float64      0              7035   \n",
       "countryCode                   170  41586   object      6             10411   \n",
       "brandName                     149  41586   object      0              9374   \n",
       "appVersion                    101  41586   object      0              8686   \n",
       "osAndVersion                   97  41586   object      0             12440   \n",
       "c1                             50  41586   object      0              5626   \n",
       "mediationProviderVersion       35  41586   object      0             19158   \n",
       "bundleId                       18  41586   object      0             10562   \n",
       "c2                              9  41586  float64      0              5253   \n",
       "c4                              9  41586  float64      0              5291   \n",
       "size                            6  41586   object      0             19043   \n",
       "c3                              4  41586   object      0             33144   \n",
       "bidFloorPrice                   4  41586  float64      0             26891   \n",
       "unitDisplayType                 3  41586   object      0             21667   \n",
       "connectionType                  3  41586   object     17             29959   \n",
       "\n",
       "                          Value counts Min  \n",
       "deviceId                                 1  \n",
       "eventTimestamp                           1  \n",
       "correctModelName                         1  \n",
       "sentPrice                                1  \n",
       "countryCode                              1  \n",
       "brandName                                1  \n",
       "appVersion                               1  \n",
       "osAndVersion                             1  \n",
       "c1                                      12  \n",
       "mediationProviderVersion                 1  \n",
       "bundleId                                55  \n",
       "c2                                    2610  \n",
       "c4                                    2570  \n",
       "size                                    38  \n",
       "c3                                     577  \n",
       "bidFloorPrice                          286  \n",
       "unitDisplayType                       9399  \n",
       "connectionType                        2156  "
      ]
     },
     "execution_count": 8,
     "metadata": {},
     "output_type": "execute_result"
    }
   ],
   "source": [
    "stats(test_df)"
   ]
  },
  {
   "cell_type": "markdown",
   "id": "6ca626e6",
   "metadata": {
    "papermill": {
     "duration": 0.007907,
     "end_time": "2022-08-07T09:52:12.382551",
     "exception": false,
     "start_time": "2022-08-07T09:52:12.374644",
     "status": "completed"
    },
    "tags": []
   },
   "source": [
    "# Eda"
   ]
  },
  {
   "cell_type": "code",
   "execution_count": 9,
   "id": "8b7e50f8",
   "metadata": {
    "execution": {
     "iopub.execute_input": "2022-08-07T09:52:12.399521Z",
     "iopub.status.busy": "2022-08-07T09:52:12.399222Z",
     "iopub.status.idle": "2022-08-07T09:52:19.953774Z",
     "shell.execute_reply": "2022-08-07T09:52:19.952900Z"
    },
    "papermill": {
     "duration": 7.565222,
     "end_time": "2022-08-07T09:52:19.955910",
     "exception": false,
     "start_time": "2022-08-07T09:52:12.390688",
     "status": "completed"
    },
    "tags": []
   },
   "outputs": [
    {
     "data": {
      "image/png": "[encoded data removed]",
      "text/plain": [
       "<Figure size 576x576 with 4 Axes>"
      ]
     },
     "metadata": {
      "needs_background": "light"
     },
     "output_type": "display_data"
    }
   ],
   "source": [
    "fig, axes = plt.subplots(2, 2)\n",
    "axes = axes.ravel()\n",
    "train_df['unitDisplayType'].hist(figsize = (8, 8),ax=axes[0])\n",
    "train_df['connectionType'].hist(figsize = (8, 8),ax=axes[1])\n",
    "train_df['c3'].hist(figsize = (8, 8),ax=axes[2])\n",
    "train_df['has_won'].hist(figsize = (8, 8),ax=axes[3])\n",
    "\n",
    "\n",
    "plt.show()"
   ]
  },
  {
   "cell_type": "code",
   "execution_count": 10,
   "id": "6288e5bc",
   "metadata": {
    "execution": {
     "iopub.execute_input": "2022-08-07T09:52:19.974600Z",
     "iopub.status.busy": "2022-08-07T09:52:19.973751Z",
     "iopub.status.idle": "2022-08-07T09:52:23.328914Z",
     "shell.execute_reply": "2022-08-07T09:52:23.327907Z"
    },
    "papermill": {
     "duration": 3.366262,
     "end_time": "2022-08-07T09:52:23.331093",
     "exception": false,
     "start_time": "2022-08-07T09:52:19.964831",
     "status": "completed"
    },
    "tags": []
   },
   "outputs": [
    {
     "data": {
      "image/png": "[encoded data removed]",
      "text/plain": [
       "<Figure size 432x432 with 1 Axes>"
      ]
     },
     "metadata": {},
     "output_type": "display_data"
    }
   ],
   "source": [
    "countPlot('countryCode',10)"
   ]
  },
  {
   "cell_type": "code",
   "execution_count": 11,
   "id": "b003f3bb",
   "metadata": {
    "execution": {
     "iopub.execute_input": "2022-08-07T09:52:23.350640Z",
     "iopub.status.busy": "2022-08-07T09:52:23.348955Z",
     "iopub.status.idle": "2022-08-07T09:52:24.439935Z",
     "shell.execute_reply": "2022-08-07T09:52:24.439029Z"
    },
    "papermill": {
     "duration": 1.102331,
     "end_time": "2022-08-07T09:52:24.442060",
     "exception": false,
     "start_time": "2022-08-07T09:52:23.339729",
     "status": "completed"
    },
    "tags": []
   },
   "outputs": [
    {
     "data": {
      "image/png": "[encoded data removed]",
      "text/plain": [
       "<Figure size 432x432 with 1 Axes>"
      ]
     },
     "metadata": {},
     "output_type": "display_data"
    }
   ],
   "source": [
    "countPlot('winBid',10)"
   ]
  },
  {
   "cell_type": "code",
   "execution_count": 12,
   "id": "7c16c2a4",
   "metadata": {
    "execution": {
     "iopub.execute_input": "2022-08-07T09:52:24.460420Z",
     "iopub.status.busy": "2022-08-07T09:52:24.460127Z",
     "iopub.status.idle": "2022-08-07T09:52:26.073715Z",
     "shell.execute_reply": "2022-08-07T09:52:26.072767Z"
    },
    "papermill": {
     "duration": 1.625175,
     "end_time": "2022-08-07T09:52:26.075919",
     "exception": false,
     "start_time": "2022-08-07T09:52:24.450744",
     "status": "completed"
    },
    "tags": []
   },
   "outputs": [
    {
     "data": {
      "image/png": "[encoded data removed]",
      "text/plain": [
       "<Figure size 432x432 with 1 Axes>"
      ]
     },
     "metadata": {},
     "output_type": "display_data"
    }
   ],
   "source": [
    "countPlot('sentPrice',6,'has_won')"
   ]
  },
  {
   "cell_type": "code",
   "execution_count": 13,
   "id": "7c5ae847",
   "metadata": {
    "execution": {
     "iopub.execute_input": "2022-08-07T09:52:26.095421Z",
     "iopub.status.busy": "2022-08-07T09:52:26.094812Z",
     "iopub.status.idle": "2022-08-07T09:52:29.472944Z",
     "shell.execute_reply": "2022-08-07T09:52:29.472028Z"
    },
    "papermill": {
     "duration": 3.389869,
     "end_time": "2022-08-07T09:52:29.475022",
     "exception": false,
     "start_time": "2022-08-07T09:52:26.085153",
     "status": "completed"
    },
    "tags": []
   },
   "outputs": [
    {
     "data": {
      "image/png": "[encoded data removed]",
      "text/plain": [
       "<Figure size 432x432 with 1 Axes>"
      ]
     },
     "metadata": {},
     "output_type": "display_data"
    }
   ],
   "source": [
    "countPlot('mediationProviderVersion')"
   ]
  },
  {
   "cell_type": "code",
   "execution_count": 14,
   "id": "464f6453",
   "metadata": {
    "execution": {
     "iopub.execute_input": "2022-08-07T09:52:29.495214Z",
     "iopub.status.busy": "2022-08-07T09:52:29.494354Z",
     "iopub.status.idle": "2022-08-07T09:52:33.042082Z",
     "shell.execute_reply": "2022-08-07T09:52:33.041072Z"
    },
    "papermill": {
     "duration": 3.559751,
     "end_time": "2022-08-07T09:52:33.044245",
     "exception": false,
     "start_time": "2022-08-07T09:52:29.484494",
     "status": "completed"
    },
    "tags": []
   },
   "outputs": [
    {
     "data": {
      "text/html": [
       "<div>\n",
       "<style scoped>\n",
       "    .dataframe tbody tr th:only-of-type {\n",
       "        vertical-align: middle;\n",
       "    }\n",
       "\n",
       "    .dataframe tbody tr th {\n",
       "        vertical-align: top;\n",
       "    }\n",
       "\n",
       "    .dataframe thead th {\n",
       "        text-align: right;\n",
       "    }\n",
       "</style>\n",
       "<table border=\"1\" class=\"dataframe\">\n",
       "  <thead>\n",
       "    <tr style=\"text-align: right;\">\n",
       "      <th></th>\n",
       "      <th>mean</th>\n",
       "      <th>median</th>\n",
       "      <th>std</th>\n",
       "      <th>count</th>\n",
       "      <th>percentile80</th>\n",
       "    </tr>\n",
       "    <tr>\n",
       "      <th>countryCode</th>\n",
       "      <th></th>\n",
       "      <th></th>\n",
       "      <th></th>\n",
       "      <th></th>\n",
       "      <th></th>\n",
       "    </tr>\n",
       "  </thead>\n",
       "  <tbody>\n",
       "    <tr>\n",
       "      <th>US</th>\n",
       "      <td>7.029587</td>\n",
       "      <td>1.11</td>\n",
       "      <td>28.964468</td>\n",
       "      <td>2822649</td>\n",
       "      <td>3.45</td>\n",
       "    </tr>\n",
       "    <tr>\n",
       "      <th>GB</th>\n",
       "      <td>3.140568</td>\n",
       "      <td>0.18</td>\n",
       "      <td>14.015662</td>\n",
       "      <td>706591</td>\n",
       "      <td>1.11</td>\n",
       "    </tr>\n",
       "    <tr>\n",
       "      <th>BR</th>\n",
       "      <td>0.718415</td>\n",
       "      <td>0.12</td>\n",
       "      <td>2.233045</td>\n",
       "      <td>449634</td>\n",
       "      <td>0.58</td>\n",
       "    </tr>\n",
       "    <tr>\n",
       "      <th>JP</th>\n",
       "      <td>2.288190</td>\n",
       "      <td>0.12</td>\n",
       "      <td>10.761786</td>\n",
       "      <td>411060</td>\n",
       "      <td>0.87</td>\n",
       "    </tr>\n",
       "    <tr>\n",
       "      <th>MX</th>\n",
       "      <td>0.656103</td>\n",
       "      <td>0.08</td>\n",
       "      <td>2.025010</td>\n",
       "      <td>400655</td>\n",
       "      <td>0.76</td>\n",
       "    </tr>\n",
       "    <tr>\n",
       "      <th>DE</th>\n",
       "      <td>3.063240</td>\n",
       "      <td>0.13</td>\n",
       "      <td>14.806951</td>\n",
       "      <td>361675</td>\n",
       "      <td>1.10</td>\n",
       "    </tr>\n",
       "    <tr>\n",
       "      <th>FR</th>\n",
       "      <td>1.829582</td>\n",
       "      <td>0.08</td>\n",
       "      <td>9.504099</td>\n",
       "      <td>356938</td>\n",
       "      <td>0.94</td>\n",
       "    </tr>\n",
       "    <tr>\n",
       "      <th>CA</th>\n",
       "      <td>4.555101</td>\n",
       "      <td>0.51</td>\n",
       "      <td>23.964473</td>\n",
       "      <td>295789</td>\n",
       "      <td>2.10</td>\n",
       "    </tr>\n",
       "    <tr>\n",
       "      <th>AU</th>\n",
       "      <td>6.790936</td>\n",
       "      <td>0.50</td>\n",
       "      <td>26.668236</td>\n",
       "      <td>140159</td>\n",
       "      <td>4.62</td>\n",
       "    </tr>\n",
       "    <tr>\n",
       "      <th>RU</th>\n",
       "      <td>0.813700</td>\n",
       "      <td>0.37</td>\n",
       "      <td>1.921015</td>\n",
       "      <td>130387</td>\n",
       "      <td>1.11</td>\n",
       "    </tr>\n",
       "    <tr>\n",
       "      <th>IN</th>\n",
       "      <td>0.585807</td>\n",
       "      <td>0.07</td>\n",
       "      <td>1.820270</td>\n",
       "      <td>101095</td>\n",
       "      <td>0.79</td>\n",
       "    </tr>\n",
       "    <tr>\n",
       "      <th>KR</th>\n",
       "      <td>2.765073</td>\n",
       "      <td>0.10</td>\n",
       "      <td>13.837390</td>\n",
       "      <td>92895</td>\n",
       "      <td>0.99</td>\n",
       "    </tr>\n",
       "    <tr>\n",
       "      <th>ES</th>\n",
       "      <td>1.301410</td>\n",
       "      <td>0.08</td>\n",
       "      <td>4.621994</td>\n",
       "      <td>85013</td>\n",
       "      <td>1.05</td>\n",
       "    </tr>\n",
       "    <tr>\n",
       "      <th>ID</th>\n",
       "      <td>1.790127</td>\n",
       "      <td>0.35</td>\n",
       "      <td>3.774250</td>\n",
       "      <td>60832</td>\n",
       "      <td>2.61</td>\n",
       "    </tr>\n",
       "    <tr>\n",
       "      <th>PH</th>\n",
       "      <td>1.327176</td>\n",
       "      <td>0.18</td>\n",
       "      <td>3.468525</td>\n",
       "      <td>60503</td>\n",
       "      <td>1.53</td>\n",
       "    </tr>\n",
       "    <tr>\n",
       "      <th>SG</th>\n",
       "      <td>1.758710</td>\n",
       "      <td>0.25</td>\n",
       "      <td>6.134237</td>\n",
       "      <td>50412</td>\n",
       "      <td>1.27</td>\n",
       "    </tr>\n",
       "    <tr>\n",
       "      <th>NL</th>\n",
       "      <td>3.844835</td>\n",
       "      <td>0.09</td>\n",
       "      <td>17.200798</td>\n",
       "      <td>48824</td>\n",
       "      <td>2.01</td>\n",
       "    </tr>\n",
       "  </tbody>\n",
       "</table>\n",
       "</div>"
      ],
      "text/plain": [
       "                 mean  median        std    count  percentile80\n",
       "countryCode                                                    \n",
       "US           7.029587    1.11  28.964468  2822649          3.45\n",
       "GB           3.140568    0.18  14.015662   706591          1.11\n",
       "BR           0.718415    0.12   2.233045   449634          0.58\n",
       "JP           2.288190    0.12  10.761786   411060          0.87\n",
       "MX           0.656103    0.08   2.025010   400655          0.76\n",
       "DE           3.063240    0.13  14.806951   361675          1.10\n",
       "FR           1.829582    0.08   9.504099   356938          0.94\n",
       "CA           4.555101    0.51  23.964473   295789          2.10\n",
       "AU           6.790936    0.50  26.668236   140159          4.62\n",
       "RU           0.813700    0.37   1.921015   130387          1.11\n",
       "IN           0.585807    0.07   1.820270   101095          0.79\n",
       "KR           2.765073    0.10  13.837390    92895          0.99\n",
       "ES           1.301410    0.08   4.621994    85013          1.05\n",
       "ID           1.790127    0.35   3.774250    60832          2.61\n",
       "PH           1.327176    0.18   3.468525    60503          1.53\n",
       "SG           1.758710    0.25   6.134237    50412          1.27\n",
       "NL           3.844835    0.09  17.200798    48824          2.01"
      ]
     },
     "execution_count": 14,
     "metadata": {},
     "output_type": "execute_result"
    }
   ],
   "source": [
    "def percentile80(x):\n",
    "    return np.percentile(x,80)\n",
    "\n",
    "pivoted = train_df.pivot_table(index = ['countryCode'], values = ['winBid'], \n",
    "               aggfunc = [np.mean, np.median, np.std,'count', percentile80])\n",
    "\n",
    "pivoted.columns = pivoted.columns.get_level_values(0)\n",
    "\n",
    "\n",
    "pivoted.sort_values('count',ascending=False).head(17)"
   ]
  },
  {
   "cell_type": "markdown",
   "id": "be3b307e",
   "metadata": {
    "papermill": {
     "duration": 0.008961,
     "end_time": "2022-08-07T09:52:33.062791",
     "exception": false,
     "start_time": "2022-08-07T09:52:33.053830",
     "status": "completed"
    },
    "tags": []
   },
   "source": [
    "# preprocessing"
   ]
  },
  {
   "cell_type": "code",
   "execution_count": 15,
   "id": "b54ac4f4",
   "metadata": {
    "execution": {
     "iopub.execute_input": "2022-08-07T09:52:33.082576Z",
     "iopub.status.busy": "2022-08-07T09:52:33.081699Z",
     "iopub.status.idle": "2022-08-07T09:52:33.641316Z",
     "shell.execute_reply": "2022-08-07T09:52:33.640308Z"
    },
    "papermill": {
     "duration": 0.571868,
     "end_time": "2022-08-07T09:52:33.643678",
     "exception": false,
     "start_time": "2022-08-07T09:52:33.071810",
     "status": "completed"
    },
    "tags": []
   },
   "outputs": [],
   "source": [
    "# Q&D\n",
    "# try with missing\n",
    "train_df.fillna({'countryCode':'US', 'connectionType':'UNKNOWN'}, inplace=True)\n",
    "test_df.fillna({'countryCode':'US', 'connectionType':'UNKNOWN'}, inplace=True)\n",
    "                                    "
   ]
  },
  {
   "cell_type": "code",
   "execution_count": 16,
   "id": "513f7028",
   "metadata": {
    "execution": {
     "iopub.execute_input": "2022-08-07T09:52:33.664047Z",
     "iopub.status.busy": "2022-08-07T09:52:33.663722Z",
     "iopub.status.idle": "2022-08-07T09:52:33.667870Z",
     "shell.execute_reply": "2022-08-07T09:52:33.666911Z"
    },
    "papermill": {
     "duration": 0.01644,
     "end_time": "2022-08-07T09:52:33.670093",
     "exception": false,
     "start_time": "2022-08-07T09:52:33.653653",
     "status": "completed"
    },
    "tags": []
   },
   "outputs": [],
   "source": [
    "## TODO  fill na in country code by other columns\n",
    "\n",
    "# columns = ['brandName','correctModelName','connectionType','countryCode']\n",
    "\n",
    "# fill_null_df = train_df[columns + ['winBid']]\\\n",
    "# .groupby(columns, as_index=False,sort=True).count()\n",
    "\n",
    "# fillcountrycode = fill_null_df.sort_values(by=['brandName','correctModelName','connectionType','winBid'],ascending=False).drop_duplicates(['brandName','correctModelName','connectionType'])\n",
    "# fillconnectiontype = fill_null_df.sort_values(by=['brandName','correctModelName','countryCode','winBid'],ascending=False).drop_duplicates(['brandName','correctModelName','countryCode'])\n"
   ]
  },
  {
   "cell_type": "code",
   "execution_count": 17,
   "id": "51753581",
   "metadata": {
    "execution": {
     "iopub.execute_input": "2022-08-07T09:52:33.689010Z",
     "iopub.status.busy": "2022-08-07T09:52:33.688717Z",
     "iopub.status.idle": "2022-08-07T09:52:41.916575Z",
     "shell.execute_reply": "2022-08-07T09:52:41.915551Z"
    },
    "papermill": {
     "duration": 8.240095,
     "end_time": "2022-08-07T09:52:41.919132",
     "exception": false,
     "start_time": "2022-08-07T09:52:33.679037",
     "status": "completed"
    },
    "tags": []
   },
   "outputs": [],
   "source": [
    "cols = ['c2', 'c4']\n",
    "train_df[cols] = train_df[cols].applymap(np.int16)\n",
    "test_df[cols] = test_df[cols].applymap(np.int16)"
   ]
  },
  {
   "cell_type": "markdown",
   "id": "e65e3e1d",
   "metadata": {
    "papermill": {
     "duration": 0.009146,
     "end_time": "2022-08-07T09:52:41.937968",
     "exception": false,
     "start_time": "2022-08-07T09:52:41.928822",
     "status": "completed"
    },
    "tags": []
   },
   "source": [
    "# select columns"
   ]
  },
  {
   "cell_type": "code",
   "execution_count": 18,
   "id": "471e97d1",
   "metadata": {
    "execution": {
     "iopub.execute_input": "2022-08-07T09:52:41.957757Z",
     "iopub.status.busy": "2022-08-07T09:52:41.957447Z",
     "iopub.status.idle": "2022-08-07T09:52:41.963227Z",
     "shell.execute_reply": "2022-08-07T09:52:41.962161Z"
    },
    "papermill": {
     "duration": 0.018278,
     "end_time": "2022-08-07T09:52:41.965384",
     "exception": false,
     "start_time": "2022-08-07T09:52:41.947106",
     "status": "completed"
    },
    "tags": []
   },
   "outputs": [],
   "source": [
    "train_columns = [ 'unitDisplayType', 'brandName', 'bundleId',\n",
    "       'appVersion', 'correctModelName', 'countryCode',# 'deviceId',\n",
    "       'osAndVersion', 'connectionType', 'c1', 'c2', 'c3', 'c4', 'size',\n",
    "       'mediationProviderVersion', 'bidFloorPrice'#,'has_won'\n",
    "       ]\n",
    "\n",
    "cat_columns = [ 'unitDisplayType', 'brandName', 'bundleId',\n",
    "       'appVersion', 'correctModelName', 'countryCode', #'deviceId',\n",
    "       'osAndVersion', 'connectionType', 'c1', 'c2', 'c3', 'c4', 'size',\n",
    "       'mediationProviderVersion',#'has_won'\n",
    "       ]\n",
    "\n",
    "target = ['winBid']"
   ]
  },
  {
   "cell_type": "markdown",
   "id": "f017fbd6",
   "metadata": {
    "papermill": {
     "duration": 0.008855,
     "end_time": "2022-08-07T09:52:41.983351",
     "exception": false,
     "start_time": "2022-08-07T09:52:41.974496",
     "status": "completed"
    },
    "tags": []
   },
   "source": [
    "# train model"
   ]
  },
  {
   "cell_type": "code",
   "execution_count": 19,
   "id": "b34ce9a3",
   "metadata": {
    "execution": {
     "iopub.execute_input": "2022-08-07T09:52:42.002934Z",
     "iopub.status.busy": "2022-08-07T09:52:42.002136Z",
     "iopub.status.idle": "2022-08-07T09:52:53.090839Z",
     "shell.execute_reply": "2022-08-07T09:52:53.089848Z"
    },
    "papermill": {
     "duration": 11.100981,
     "end_time": "2022-08-07T09:52:53.093306",
     "exception": false,
     "start_time": "2022-08-07T09:52:41.992325",
     "status": "completed"
    },
    "tags": []
   },
   "outputs": [],
   "source": [
    "X_train, X_val, y_train, y_val = train_test_split(train_df[train_columns],train_df[target], test_size = 0.27, random_state=17) "
   ]
  },
  {
   "cell_type": "code",
   "execution_count": 20,
   "id": "a967c427",
   "metadata": {
    "execution": {
     "iopub.execute_input": "2022-08-07T09:52:53.113225Z",
     "iopub.status.busy": "2022-08-07T09:52:53.112890Z",
     "iopub.status.idle": "2022-08-07T10:03:07.563191Z",
     "shell.execute_reply": "2022-08-07T10:03:07.562253Z"
    },
    "papermill": {
     "duration": 614.473869,
     "end_time": "2022-08-07T10:03:07.576685",
     "exception": false,
     "start_time": "2022-08-07T09:52:53.102816",
     "status": "completed"
    },
    "tags": []
   },
   "outputs": [
    {
     "name": "stdout",
     "output_type": "stream",
     "text": [
      "CPU times: user 11min 38s, sys: 18.6 s, total: 11min 56s\n",
      "Wall time: 10min 14s\n"
     ]
    }
   ],
   "source": [
    "%%time \n",
    "\n",
    "cboost =  CatBoostRegressor(random_state=17,cat_features=cat_columns,task_type='GPU',learning_rate = 0.1,verbose=False)\n",
    "\n",
    "y_pred = cboost.fit(X_train, y_train).predict(X_val)"
   ]
  },
  {
   "cell_type": "code",
   "execution_count": 21,
   "id": "481e0d05",
   "metadata": {
    "execution": {
     "iopub.execute_input": "2022-08-07T10:03:07.609691Z",
     "iopub.status.busy": "2022-08-07T10:03:07.609186Z",
     "iopub.status.idle": "2022-08-07T10:03:07.635114Z",
     "shell.execute_reply": "2022-08-07T10:03:07.634143Z"
    },
    "papermill": {
     "duration": 0.045836,
     "end_time": "2022-08-07T10:03:07.637851",
     "exception": false,
     "start_time": "2022-08-07T10:03:07.592015",
     "status": "completed"
    },
    "tags": []
   },
   "outputs": [
    {
     "data": {
      "text/plain": [
       "17.063670540397457"
      ]
     },
     "execution_count": 21,
     "metadata": {},
     "output_type": "execute_result"
    }
   ],
   "source": [
    "mse = mean_squared_error(y_val, y_pred)\n",
    "np.sqrt(mse)"
   ]
  },
  {
   "cell_type": "code",
   "execution_count": 22,
   "id": "411f5802",
   "metadata": {
    "execution": {
     "iopub.execute_input": "2022-08-07T10:03:07.672793Z",
     "iopub.status.busy": "2022-08-07T10:03:07.672357Z",
     "iopub.status.idle": "2022-08-07T10:03:08.536566Z",
     "shell.execute_reply": "2022-08-07T10:03:08.535566Z"
    },
    "papermill": {
     "duration": 0.883939,
     "end_time": "2022-08-07T10:03:08.539009",
     "exception": false,
     "start_time": "2022-08-07T10:03:07.655070",
     "status": "completed"
    },
    "tags": []
   },
   "outputs": [],
   "source": [
    "y_sub = cboost.predict(test_df[train_columns])"
   ]
  },
  {
   "cell_type": "code",
   "execution_count": 23,
   "id": "2557a44b",
   "metadata": {
    "execution": {
     "iopub.execute_input": "2022-08-07T10:03:08.560743Z",
     "iopub.status.busy": "2022-08-07T10:03:08.558928Z",
     "iopub.status.idle": "2022-08-07T10:03:08.567689Z",
     "shell.execute_reply": "2022-08-07T10:03:08.566690Z"
    },
    "papermill": {
     "duration": 0.021107,
     "end_time": "2022-08-07T10:03:08.569838",
     "exception": false,
     "start_time": "2022-08-07T10:03:08.548731",
     "status": "completed"
    },
    "tags": []
   },
   "outputs": [
    {
     "data": {
      "text/plain": [
       "array([28.29563302, 11.02414479,  1.15045887,  0.3966306 ,  0.93317882,\n",
       "       10.32849027,  0.17086865])"
      ]
     },
     "execution_count": 23,
     "metadata": {},
     "output_type": "execute_result"
    }
   ],
   "source": [
    "y_sub[0:7]"
   ]
  },
  {
   "cell_type": "code",
   "execution_count": 24,
   "id": "0e05fe5f",
   "metadata": {
    "execution": {
     "iopub.execute_input": "2022-08-07T10:03:08.589459Z",
     "iopub.status.busy": "2022-08-07T10:03:08.589177Z",
     "iopub.status.idle": "2022-08-07T10:03:08.594040Z",
     "shell.execute_reply": "2022-08-07T10:03:08.593035Z"
    },
    "papermill": {
     "duration": 0.016933,
     "end_time": "2022-08-07T10:03:08.595909",
     "exception": false,
     "start_time": "2022-08-07T10:03:08.578976",
     "status": "completed"
    },
    "tags": []
   },
   "outputs": [],
   "source": [
    "y_sub = y_sub.clip(0.02)"
   ]
  },
  {
   "cell_type": "code",
   "execution_count": 25,
   "id": "6ebb582c",
   "metadata": {
    "execution": {
     "iopub.execute_input": "2022-08-07T10:03:08.616210Z",
     "iopub.status.busy": "2022-08-07T10:03:08.615468Z",
     "iopub.status.idle": "2022-08-07T10:03:08.619879Z",
     "shell.execute_reply": "2022-08-07T10:03:08.618936Z"
    },
    "papermill": {
     "duration": 0.01633,
     "end_time": "2022-08-07T10:03:08.621832",
     "exception": false,
     "start_time": "2022-08-07T10:03:08.605502",
     "status": "completed"
    },
    "tags": []
   },
   "outputs": [],
   "source": [
    "# TODO bid > bidFloorPrice\n",
    "# TODO B.R"
   ]
  },
  {
   "cell_type": "code",
   "execution_count": 26,
   "id": "81f45814",
   "metadata": {
    "execution": {
     "iopub.execute_input": "2022-08-07T10:03:08.642120Z",
     "iopub.status.busy": "2022-08-07T10:03:08.641847Z",
     "iopub.status.idle": "2022-08-07T10:03:08.653555Z",
     "shell.execute_reply": "2022-08-07T10:03:08.652732Z"
    },
    "papermill": {
     "duration": 0.024313,
     "end_time": "2022-08-07T10:03:08.655446",
     "exception": false,
     "start_time": "2022-08-07T10:03:08.631133",
     "status": "completed"
    },
    "tags": []
   },
   "outputs": [
    {
     "data": {
      "text/html": [
       "<div>\n",
       "<style scoped>\n",
       "    .dataframe tbody tr th:only-of-type {\n",
       "        vertical-align: middle;\n",
       "    }\n",
       "\n",
       "    .dataframe tbody tr th {\n",
       "        vertical-align: top;\n",
       "    }\n",
       "\n",
       "    .dataframe thead th {\n",
       "        text-align: right;\n",
       "    }\n",
       "</style>\n",
       "<table border=\"1\" class=\"dataframe\">\n",
       "  <thead>\n",
       "    <tr style=\"text-align: right;\">\n",
       "      <th></th>\n",
       "      <th>deviceId</th>\n",
       "      <th>winBid</th>\n",
       "    </tr>\n",
       "  </thead>\n",
       "  <tbody>\n",
       "    <tr>\n",
       "      <th>0</th>\n",
       "      <td>6a0a94554cf</td>\n",
       "      <td>28.295633</td>\n",
       "    </tr>\n",
       "    <tr>\n",
       "      <th>1</th>\n",
       "      <td>6a0b0e59f45</td>\n",
       "      <td>11.024145</td>\n",
       "    </tr>\n",
       "    <tr>\n",
       "      <th>2</th>\n",
       "      <td>6a0fa820c46</td>\n",
       "      <td>1.150459</td>\n",
       "    </tr>\n",
       "    <tr>\n",
       "      <th>3</th>\n",
       "      <td>6a142bdbea2</td>\n",
       "      <td>0.396631</td>\n",
       "    </tr>\n",
       "    <tr>\n",
       "      <th>4</th>\n",
       "      <td>6a16943a771</td>\n",
       "      <td>0.933179</td>\n",
       "    </tr>\n",
       "  </tbody>\n",
       "</table>\n",
       "</div>"
      ],
      "text/plain": [
       "      deviceId     winBid\n",
       "0  6a0a94554cf  28.295633\n",
       "1  6a0b0e59f45  11.024145\n",
       "2  6a0fa820c46   1.150459\n",
       "3  6a142bdbea2   0.396631\n",
       "4  6a16943a771   0.933179"
      ]
     },
     "execution_count": 26,
     "metadata": {},
     "output_type": "execute_result"
    }
   ],
   "source": [
    "subdf = pd.DataFrame({'deviceId':test_df['deviceId'], 'winBid':y_sub})\n",
    "subdf.head()"
   ]
  },
  {
   "cell_type": "markdown",
   "id": "750ddcb6",
   "metadata": {
    "papermill": {
     "duration": 0.010377,
     "end_time": "2022-08-07T10:03:08.675879",
     "exception": false,
     "start_time": "2022-08-07T10:03:08.665502",
     "status": "completed"
    },
    "tags": []
   },
   "source": [
    "# submission"
   ]
  },
  {
   "cell_type": "code",
   "execution_count": 27,
   "id": "e4cb0cec",
   "metadata": {
    "execution": {
     "iopub.execute_input": "2022-08-07T10:03:08.696874Z",
     "iopub.status.busy": "2022-08-07T10:03:08.696615Z",
     "iopub.status.idle": "2022-08-07T10:03:08.747186Z",
     "shell.execute_reply": "2022-08-07T10:03:08.746132Z"
    },
    "papermill": {
     "duration": 0.063835,
     "end_time": "2022-08-07T10:03:08.749705",
     "exception": false,
     "start_time": "2022-08-07T10:03:08.685870",
     "status": "completed"
    },
    "tags": []
   },
   "outputs": [
    {
     "data": {
      "text/html": [
       "<div>\n",
       "<style scoped>\n",
       "    .dataframe tbody tr th:only-of-type {\n",
       "        vertical-align: middle;\n",
       "    }\n",
       "\n",
       "    .dataframe tbody tr th {\n",
       "        vertical-align: top;\n",
       "    }\n",
       "\n",
       "    .dataframe thead th {\n",
       "        text-align: right;\n",
       "    }\n",
       "</style>\n",
       "<table border=\"1\" class=\"dataframe\">\n",
       "  <thead>\n",
       "    <tr style=\"text-align: right;\">\n",
       "      <th></th>\n",
       "      <th>deviceId</th>\n",
       "      <th>winBid</th>\n",
       "    </tr>\n",
       "  </thead>\n",
       "  <tbody>\n",
       "    <tr>\n",
       "      <th>0</th>\n",
       "      <td>6a049646837</td>\n",
       "      <td>0.01</td>\n",
       "    </tr>\n",
       "    <tr>\n",
       "      <th>1</th>\n",
       "      <td>6a0616b862a</td>\n",
       "      <td>0.01</td>\n",
       "    </tr>\n",
       "    <tr>\n",
       "      <th>2</th>\n",
       "      <td>6a0769d0ad5</td>\n",
       "      <td>0.01</td>\n",
       "    </tr>\n",
       "    <tr>\n",
       "      <th>3</th>\n",
       "      <td>6a0dc74cfeb</td>\n",
       "      <td>0.01</td>\n",
       "    </tr>\n",
       "    <tr>\n",
       "      <th>4</th>\n",
       "      <td>6a0e80f23a7</td>\n",
       "      <td>0.01</td>\n",
       "    </tr>\n",
       "  </tbody>\n",
       "</table>\n",
       "</div>"
      ],
      "text/plain": [
       "      deviceId  winBid\n",
       "0  6a049646837    0.01\n",
       "1  6a0616b862a    0.01\n",
       "2  6a0769d0ad5    0.01\n",
       "3  6a0dc74cfeb    0.01\n",
       "4  6a0e80f23a7    0.01"
      ]
     },
     "execution_count": 27,
     "metadata": {},
     "output_type": "execute_result"
    }
   ],
   "source": [
    "sub_example = pd.read_csv('/kaggle/input/digital-turbine-auction-bid-price-prediction/sample_submission.csv')\n",
    "\n",
    "sub_example.head()"
   ]
  },
  {
   "cell_type": "code",
   "execution_count": 28,
   "id": "82dd80f6",
   "metadata": {
    "execution": {
     "iopub.execute_input": "2022-08-07T10:03:08.774366Z",
     "iopub.status.busy": "2022-08-07T10:03:08.773417Z",
     "iopub.status.idle": "2022-08-07T10:03:08.798882Z",
     "shell.execute_reply": "2022-08-07T10:03:08.798008Z"
    },
    "papermill": {
     "duration": 0.04031,
     "end_time": "2022-08-07T10:03:08.801614",
     "exception": false,
     "start_time": "2022-08-07T10:03:08.761304",
     "status": "completed"
    },
    "tags": []
   },
   "outputs": [
    {
     "data": {
      "text/html": [
       "<div>\n",
       "<style scoped>\n",
       "    .dataframe tbody tr th:only-of-type {\n",
       "        vertical-align: middle;\n",
       "    }\n",
       "\n",
       "    .dataframe tbody tr th {\n",
       "        vertical-align: top;\n",
       "    }\n",
       "\n",
       "    .dataframe thead th {\n",
       "        text-align: right;\n",
       "    }\n",
       "</style>\n",
       "<table border=\"1\" class=\"dataframe\">\n",
       "  <thead>\n",
       "    <tr style=\"text-align: right;\">\n",
       "      <th></th>\n",
       "      <th>deviceId</th>\n",
       "      <th>winBid</th>\n",
       "    </tr>\n",
       "  </thead>\n",
       "  <tbody>\n",
       "    <tr>\n",
       "      <th>0</th>\n",
       "      <td>6a049646837</td>\n",
       "      <td>3.058941</td>\n",
       "    </tr>\n",
       "    <tr>\n",
       "      <th>1</th>\n",
       "      <td>6a0616b862a</td>\n",
       "      <td>0.437269</td>\n",
       "    </tr>\n",
       "    <tr>\n",
       "      <th>2</th>\n",
       "      <td>6a0769d0ad5</td>\n",
       "      <td>26.551841</td>\n",
       "    </tr>\n",
       "    <tr>\n",
       "      <th>3</th>\n",
       "      <td>6a0dc74cfeb</td>\n",
       "      <td>0.275664</td>\n",
       "    </tr>\n",
       "    <tr>\n",
       "      <th>4</th>\n",
       "      <td>6a0e80f23a7</td>\n",
       "      <td>80.229642</td>\n",
       "    </tr>\n",
       "  </tbody>\n",
       "</table>\n",
       "</div>"
      ],
      "text/plain": [
       "      deviceId     winBid\n",
       "0  6a049646837   3.058941\n",
       "1  6a0616b862a   0.437269\n",
       "2  6a0769d0ad5  26.551841\n",
       "3  6a0dc74cfeb   0.275664\n",
       "4  6a0e80f23a7  80.229642"
      ]
     },
     "execution_count": 28,
     "metadata": {},
     "output_type": "execute_result"
    }
   ],
   "source": [
    "subdf = subdf.set_index('deviceId')\n",
    "subdf = subdf.reindex(index=sub_example['deviceId'])\n",
    "subdf = subdf.reset_index()\n",
    "subdf.head()"
   ]
  },
  {
   "cell_type": "code",
   "execution_count": 29,
   "id": "42a52212",
   "metadata": {
    "execution": {
     "iopub.execute_input": "2022-08-07T10:03:08.823304Z",
     "iopub.status.busy": "2022-08-07T10:03:08.823040Z",
     "iopub.status.idle": "2022-08-07T10:03:08.827681Z",
     "shell.execute_reply": "2022-08-07T10:03:08.826894Z"
    },
    "papermill": {
     "duration": 0.017428,
     "end_time": "2022-08-07T10:03:08.829566",
     "exception": false,
     "start_time": "2022-08-07T10:03:08.812138",
     "status": "completed"
    },
    "tags": []
   },
   "outputs": [],
   "source": [
    "VER = 'BL'"
   ]
  },
  {
   "cell_type": "code",
   "execution_count": 30,
   "id": "1ef7065e",
   "metadata": {
    "execution": {
     "iopub.execute_input": "2022-08-07T10:03:08.850544Z",
     "iopub.status.busy": "2022-08-07T10:03:08.850072Z",
     "iopub.status.idle": "2022-08-07T10:03:08.936484Z",
     "shell.execute_reply": "2022-08-07T10:03:08.935679Z"
    },
    "papermill": {
     "duration": 0.09912,
     "end_time": "2022-08-07T10:03:08.938438",
     "exception": false,
     "start_time": "2022-08-07T10:03:08.839318",
     "status": "completed"
    },
    "tags": []
   },
   "outputs": [],
   "source": [
    "subdf.to_csv(f'submission_{VER}.csv', index = False)"
   ]
  }
 ],
 "metadata": {
  "kernelspec": {
   "display_name": "Python 3",
   "language": "python",
   "name": "python3"
  },
  "language_info": {
   "codemirror_mode": {
    "name": "ipython",
    "version": 3
   },
   "file_extension": ".py",
   "mimetype": "text/x-python",
   "name": "python",
   "nbconvert_exporter": "python",
   "pygments_lexer": "ipython3",
   "version": "3.7.12"
  },
  "papermill": {
   "default_parameters": {},
   "duration": 718.808169,
   "end_time": "2022-08-07T10:03:10.472327",
   "environment_variables": {},
   "exception": null,
   "input_path": "__notebook__.ipynb",
   "output_path": "__notebook__.ipynb",
   "parameters": {},
   "start_time": "2022-08-07T09:51:11.664158",
   "version": "2.3.4"
  }
 },
 "nbformat": 4,
 "nbformat_minor": 5
}
