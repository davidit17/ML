{
 "cells": [
  {
   "cell_type": "code",
   "execution_count": 1,
   "id": "66c3b220",
   "metadata": {
    "_cell_guid": "b1076dfc-b9ad-4769-8c92-a6c4dae69d19",
    "_uuid": "8f2839f25d086af736a60e9eeb907d3b93b6e0e5",
    "execution": {
     "iopub.execute_input": "2025-04-02T20:09:39.307240Z",
     "iopub.status.busy": "2025-04-02T20:09:39.306882Z",
     "iopub.status.idle": "2025-04-02T20:09:40.015119Z",
     "shell.execute_reply": "2025-04-02T20:09:40.014173Z"
    },
    "papermill": {
     "duration": 0.716097,
     "end_time": "2025-04-02T20:09:40.016847",
     "exception": false,
     "start_time": "2025-04-02T20:09:39.300750",
     "status": "completed"
    },
    "tags": []
   },
   "outputs": [],
   "source": [
    "# This Python 3 environment comes with many helpful analytics libraries installed\n",
    "# It is defined by the kaggle/python Docker image: https://github.com/kaggle/docker-python\n",
    "# For example, here's several helpful packages to load\n",
    "\n",
    "import numpy as np # linear algebra\n",
    "import pandas as pd # data processing, CSV file I/O (e.g. pd.read_csv)\n",
    "\n",
    "# Input data files are available in the read-only \"../input/\" directory\n",
    "# For example, running this (by clicking run or pressing Shift+Enter) will list all files under the input directory\n",
    "\n",
    "import os\n",
    "# for dirname, _, filenames in os.walk('/kaggle/input'):\n",
    "#     for filename in filenames:\n",
    "#         print(os.path.join(dirname, filename))\n",
    "\n",
    "# You can write up to 20GB to the current directory (/kaggle/working/) that gets preserved as output when you create a version using \"Save & Run All\" \n",
    "# You can also write temporary files to /kaggle/temp/, but they won't be saved outside of the current session"
   ]
  },
  {
   "cell_type": "code",
   "execution_count": 2,
   "id": "664ecc27",
   "metadata": {
    "execution": {
     "iopub.execute_input": "2025-04-02T20:09:40.026593Z",
     "iopub.status.busy": "2025-04-02T20:09:40.026238Z",
     "iopub.status.idle": "2025-04-02T20:09:42.112065Z",
     "shell.execute_reply": "2025-04-02T20:09:42.111369Z"
    },
    "papermill": {
     "duration": 2.09226,
     "end_time": "2025-04-02T20:09:42.113683",
     "exception": false,
     "start_time": "2025-04-02T20:09:40.021423",
     "status": "completed"
    },
    "tags": []
   },
   "outputs": [
    {
     "name": "stdout",
     "output_type": "stream",
     "text": [
      "3.37.2\n"
     ]
    }
   ],
   "source": [
    "import pandas as pd\n",
    "import sqlite3\n",
    "import glob\n",
    "\n",
    "import numpy as np\n",
    "import xgboost\n",
    "import json\n",
    "from sklearn.metrics import roc_auc_score\n",
    "from sklearn.feature_selection import RFE\n",
    "from sklearn.model_selection import StratifiedShuffleSplit\n",
    "from collections import Counter\n",
    "print(sqlite3.sqlite_version)\n",
    "import optuna\n",
    "from catboost import CatBoostClassifier"
   ]
  },
  {
   "cell_type": "markdown",
   "id": "435212e6",
   "metadata": {
    "papermill": {
     "duration": 0.004136,
     "end_time": "2025-04-02T20:09:42.122444",
     "exception": false,
     "start_time": "2025-04-02T20:09:42.118308",
     "status": "completed"
    },
    "tags": []
   },
   "source": [
    "# load data"
   ]
  },
  {
   "cell_type": "code",
   "execution_count": 3,
   "id": "a77d8341",
   "metadata": {
    "execution": {
     "iopub.execute_input": "2025-04-02T20:09:42.131843Z",
     "iopub.status.busy": "2025-04-02T20:09:42.131501Z",
     "iopub.status.idle": "2025-04-02T20:09:42.134577Z",
     "shell.execute_reply": "2025-04-02T20:09:42.133940Z"
    },
    "papermill": {
     "duration": 0.008885,
     "end_time": "2025-04-02T20:09:42.135784",
     "exception": false,
     "start_time": "2025-04-02T20:09:42.126899",
     "status": "completed"
    },
    "tags": []
   },
   "outputs": [],
   "source": [
    "load_final_panel=1"
   ]
  },
  {
   "cell_type": "code",
   "execution_count": 4,
   "id": "0d46a44a",
   "metadata": {
    "execution": {
     "iopub.execute_input": "2025-04-02T20:09:42.144572Z",
     "iopub.status.busy": "2025-04-02T20:09:42.144363Z",
     "iopub.status.idle": "2025-04-02T20:10:05.266112Z",
     "shell.execute_reply": "2025-04-02T20:10:05.265409Z"
    },
    "papermill": {
     "duration": 23.127521,
     "end_time": "2025-04-02T20:10:05.267339",
     "exception": false,
     "start_time": "2025-04-02T20:09:42.139818",
     "status": "completed"
    },
    "tags": []
   },
   "outputs": [
    {
     "name": "stdout",
     "output_type": "stream",
     "text": [
      "load final panel\n",
      "read targets\n",
      "read df\n",
      "0 train_na\n",
      "0 test_na\n",
      "(5538, 106366)\n",
      "end\n",
      "CPU times: user 37 s, sys: 5.69 s, total: 42.7 s\n",
      "Wall time: 23.1 s\n"
     ]
    }
   ],
   "source": [
    "%%time\n",
    "path = '/kaggle/input/panel-with-new-features-v3/'\n",
    "\n",
    "if load_final_panel:\n",
    "    print('load final panel')\n",
    "    print('read targets')\n",
    "    train_target = pd.read_parquet(path+'train_target', engine=\"pyarrow\")\n",
    "    test_target = pd.read_parquet(path+'test_target', engine=\"pyarrow\")\n",
    "    print('read df')\n",
    "    df_train = pd.read_parquet(path+'df_train_added_features_final', engine=\"pyarrow\")\n",
    "    df_test  = pd.read_parquet(path+'df_test_added_features_final', engine=\"pyarrow\")\n",
    "\n",
    "    new_feat_path = '/kaggle/input/new-features-weekly-pivoted/new_features_df_set2'\n",
    "\n",
    "    pivoted_weekly_features  = pd.read_parquet(new_feat_path, engine=\"pyarrow\")\n",
    "    \n",
    "    df_train = df_train.merge(pivoted_weekly_features,on='Device_ID',how='left')\n",
    "    df_test = df_test.merge(pivoted_weekly_features,on='Device_ID',how='left')\n",
    "\n",
    "    df_train_columns = list(df_train.columns)\n",
    "\n",
    "    print(df_train.isna().any().sum(),'train_na')\n",
    "    print(df_test.isna().any().sum(),'test_na')\n",
    "\n",
    "    print(df_train.shape)\n",
    "\n",
    "    print('end')"
   ]
  },
  {
   "cell_type": "code",
   "execution_count": 5,
   "id": "ace246e1",
   "metadata": {
    "execution": {
     "iopub.execute_input": "2025-04-02T20:10:05.277012Z",
     "iopub.status.busy": "2025-04-02T20:10:05.276759Z",
     "iopub.status.idle": "2025-04-02T20:10:07.423495Z",
     "shell.execute_reply": "2025-04-02T20:10:07.422726Z"
    },
    "papermill": {
     "duration": 2.153358,
     "end_time": "2025-04-02T20:10:07.425145",
     "exception": false,
     "start_time": "2025-04-02T20:10:05.271787",
     "status": "completed"
    },
    "tags": []
   },
   "outputs": [],
   "source": [
    "df_train.sort_values(by = [\"Device_ID\"], inplace = True)\n",
    "df_train.reset_index(drop=True, inplace=True)\n",
    "\n",
    "train_target.sort_values(by = [\"Device_ID\"], inplace = True)\n",
    "train_target.reset_index(drop=True, inplace=True)\n",
    "\n",
    "df_train_Device_ID = df_train[\"Device_ID\"]\n",
    "df_train.drop(columns = [\"Device_ID\"], inplace = True)\n",
    "train_target.drop(columns = [\"Device_ID\"], inplace = True)\n",
    "\n",
    "train_target['Target'] = train_target.Target.astype('category')"
   ]
  },
  {
   "cell_type": "code",
   "execution_count": 6,
   "id": "05d2c37b",
   "metadata": {
    "execution": {
     "iopub.execute_input": "2025-04-02T20:10:07.435138Z",
     "iopub.status.busy": "2025-04-02T20:10:07.434841Z",
     "iopub.status.idle": "2025-04-02T20:10:07.709124Z",
     "shell.execute_reply": "2025-04-02T20:10:07.708411Z"
    },
    "papermill": {
     "duration": 0.28085,
     "end_time": "2025-04-02T20:10:07.710673",
     "exception": false,
     "start_time": "2025-04-02T20:10:07.429823",
     "status": "completed"
    },
    "tags": []
   },
   "outputs": [],
   "source": [
    "df_test.sort_values(by = [\"Device_ID\"], inplace = True)\n",
    "df_test.reset_index(drop=True, inplace=True)\n",
    "\n",
    "test_target.sort_values(by = [\"Device_ID\"], inplace = True)\n",
    "test_target.reset_index(drop=True, inplace=True)\n",
    "\n",
    "df_test_Device_ID = df_test[\"Device_ID\"]\n",
    "df_test.drop(columns = [\"Device_ID\"], inplace = True)\n",
    "test_target.drop(columns = [\"Device_ID\"], inplace = True)\n",
    "\n",
    "test_target['Target'] = test_target.Target.astype('category')"
   ]
  },
  {
   "cell_type": "code",
   "execution_count": 7,
   "id": "31ae55f9",
   "metadata": {
    "execution": {
     "iopub.execute_input": "2025-04-02T20:10:07.721377Z",
     "iopub.status.busy": "2025-04-02T20:10:07.721122Z",
     "iopub.status.idle": "2025-04-02T20:10:07.725407Z",
     "shell.execute_reply": "2025-04-02T20:10:07.724492Z"
    },
    "papermill": {
     "duration": 0.010985,
     "end_time": "2025-04-02T20:10:07.727068",
     "exception": false,
     "start_time": "2025-04-02T20:10:07.716083",
     "status": "completed"
    },
    "tags": []
   },
   "outputs": [
    {
     "name": "stdout",
     "output_type": "stream",
     "text": [
      "data loaded !!!!!!!!!!!!!!!!!!!!\n"
     ]
    }
   ],
   "source": [
    "print('data loaded !!!!!!!!!!!!!!!!!!!!')"
   ]
  },
  {
   "cell_type": "code",
   "execution_count": 8,
   "id": "cbda063b",
   "metadata": {
    "execution": {
     "iopub.execute_input": "2025-04-02T20:10:07.736669Z",
     "iopub.status.busy": "2025-04-02T20:10:07.736453Z",
     "iopub.status.idle": "2025-04-02T20:10:20.798014Z",
     "shell.execute_reply": "2025-04-02T20:10:20.797075Z"
    },
    "papermill": {
     "duration": 13.067808,
     "end_time": "2025-04-02T20:10:20.799324",
     "exception": false,
     "start_time": "2025-04-02T20:10:07.731516",
     "status": "completed"
    },
    "tags": []
   },
   "outputs": [
    {
     "name": "stdout",
     "output_type": "stream",
     "text": [
      "data resplited\n"
     ]
    }
   ],
   "source": [
    "from sklearn.model_selection import train_test_split\n",
    "USE_CALIBRATED_SEED = True\n",
    "RANDOM_SPLIT_SEED = 1062\n",
    "\n",
    "if USE_CALIBRATED_SEED:\n",
    "\n",
    "    df_all = pd.concat([df_train,df_test])\n",
    "    target_all = pd.concat([train_target,test_target])\n",
    "    \n",
    "    df_train, df_test, train_target, test_target = train_test_split(df_all, target_all,\n",
    "                                                            test_size=0.1, random_state=1062)\n",
    "    print('data resplited')\n"
   ]
  },
  {
   "cell_type": "code",
   "execution_count": 9,
   "id": "ef709e09",
   "metadata": {
    "execution": {
     "iopub.execute_input": "2025-04-02T20:10:20.809355Z",
     "iopub.status.busy": "2025-04-02T20:10:20.809098Z",
     "iopub.status.idle": "2025-04-02T20:10:20.813391Z",
     "shell.execute_reply": "2025-04-02T20:10:20.812651Z"
    },
    "papermill": {
     "duration": 0.010733,
     "end_time": "2025-04-02T20:10:20.814536",
     "exception": false,
     "start_time": "2025-04-02T20:10:20.803803",
     "status": "completed"
    },
    "tags": []
   },
   "outputs": [
    {
     "name": "stdout",
     "output_type": "stream",
     "text": [
      "start modeling\n"
     ]
    }
   ],
   "source": [
    "print('start modeling')"
   ]
  },
  {
   "cell_type": "code",
   "execution_count": 10,
   "id": "1187995f",
   "metadata": {
    "execution": {
     "iopub.execute_input": "2025-04-02T20:10:20.824593Z",
     "iopub.status.busy": "2025-04-02T20:10:20.824342Z",
     "iopub.status.idle": "2025-04-02T20:10:20.827929Z",
     "shell.execute_reply": "2025-04-02T20:10:20.827120Z"
    },
    "papermill": {
     "duration": 0.010044,
     "end_time": "2025-04-02T20:10:20.829370",
     "exception": false,
     "start_time": "2025-04-02T20:10:20.819326",
     "status": "completed"
    },
    "tags": []
   },
   "outputs": [],
   "source": [
    "use_final_columns = 0\n",
    "use_rfe = not use_final_columns\n",
    "save_results = 1\n",
    "single_run = 1\n",
    "cv = 0\n",
    "\n",
    "CATBOOST_OPTUNA = 0\n",
    "XGBOOST_OPTUNA = 1\n"
   ]
  },
  {
   "cell_type": "code",
   "execution_count": 11,
   "id": "893e7326",
   "metadata": {
    "execution": {
     "iopub.execute_input": "2025-04-02T20:10:20.839154Z",
     "iopub.status.busy": "2025-04-02T20:10:20.838874Z",
     "iopub.status.idle": "2025-04-02T20:10:20.842105Z",
     "shell.execute_reply": "2025-04-02T20:10:20.841417Z"
    },
    "papermill": {
     "duration": 0.009416,
     "end_time": "2025-04-02T20:10:20.843309",
     "exception": false,
     "start_time": "2025-04-02T20:10:20.833893",
     "status": "completed"
    },
    "tags": []
   },
   "outputs": [],
   "source": [
    "MODEL_NAME_A = 'XGB_model_V25_weekly_features.json'\n",
    "COLUMNS_NAME = \"best_features_V25.json\""
   ]
  },
  {
   "cell_type": "code",
   "execution_count": 12,
   "id": "6db11d43",
   "metadata": {
    "execution": {
     "iopub.execute_input": "2025-04-02T20:10:20.852612Z",
     "iopub.status.busy": "2025-04-02T20:10:20.852388Z",
     "iopub.status.idle": "2025-04-02T20:10:20.856484Z",
     "shell.execute_reply": "2025-04-02T20:10:20.855652Z"
    },
    "papermill": {
     "duration": 0.01016,
     "end_time": "2025-04-02T20:10:20.857825",
     "exception": false,
     "start_time": "2025-04-02T20:10:20.847665",
     "status": "completed"
    },
    "tags": []
   },
   "outputs": [],
   "source": [
    "if use_final_columns:\n",
    "    with open('/kaggle/input/best-features-0-8905/best_features_0.8905.json', \"r\") as fp:\n",
    "        best_feat= json.load(fp)\n",
    "\n",
    "\n",
    "    best_feat = list(set(best_feat + w3 + best_88_of_all+\n",
    "                         best_88_of_all_step_20K+best_88_of_all_step_10K+best_100_all_step_30+\n",
    "                       best_88_all_step_30 + best_88_of_not_it_saved ))\n",
    "\n",
    "\n",
    "    df_train = df_train[best_feat]\n",
    "    df_test = df_test[best_feat]\n",
    "    print(df_train.shape)"
   ]
  },
  {
   "cell_type": "code",
   "execution_count": 13,
   "id": "9728ad20",
   "metadata": {
    "execution": {
     "iopub.execute_input": "2025-04-02T20:10:20.867372Z",
     "iopub.status.busy": "2025-04-02T20:10:20.867143Z",
     "iopub.status.idle": "2025-04-02T20:10:20.870804Z",
     "shell.execute_reply": "2025-04-02T20:10:20.870044Z"
    },
    "papermill": {
     "duration": 0.009902,
     "end_time": "2025-04-02T20:10:20.872118",
     "exception": false,
     "start_time": "2025-04-02T20:10:20.862216",
     "status": "completed"
    },
    "tags": []
   },
   "outputs": [],
   "source": [
    "optuna_params = {'n_estimators': 1128, 'max_depth': 4, 'min_child_weight': 3, 'learning_rate': 0.02849236407842813, 'subsample': 0.8, 'colsample_bytree': 0.8, 'reg_alpha': 0.6925413932342802, 'reg_lambda': 0.009751526420604062, 'gamma': 0.7000000000000001}"
   ]
  },
  {
   "cell_type": "markdown",
   "id": "12065276",
   "metadata": {
    "papermill": {
     "duration": 0.004178,
     "end_time": "2025-04-02T20:10:20.880552",
     "exception": false,
     "start_time": "2025-04-02T20:10:20.876374",
     "status": "completed"
    },
    "tags": []
   },
   "source": [
    "# RFE"
   ]
  },
  {
   "cell_type": "code",
   "execution_count": 14,
   "id": "60655cad",
   "metadata": {
    "execution": {
     "iopub.execute_input": "2025-04-02T20:10:20.889655Z",
     "iopub.status.busy": "2025-04-02T20:10:20.889448Z",
     "iopub.status.idle": "2025-04-02T20:14:55.947440Z",
     "shell.execute_reply": "2025-04-02T20:14:55.946360Z"
    },
    "papermill": {
     "duration": 275.064148,
     "end_time": "2025-04-02T20:14:55.948875",
     "exception": false,
     "start_time": "2025-04-02T20:10:20.884727",
     "status": "completed"
    },
    "tags": []
   },
   "outputs": [
    {
     "name": "stdout",
     "output_type": "stream",
     "text": [
      "start\n",
      "params :  {'n_estimators': 1128, 'max_depth': 4, 'min_child_weight': 3, 'learning_rate': 0.02849236407842813, 'subsample': 0.8, 'colsample_bytree': 0.8, 'reg_alpha': 0.6925413932342802, 'reg_lambda': 0.009751526420604062, 'gamma': 0.7000000000000001}\n",
      "rfe completed\n",
      "Fitting estimator with 106365 features.\n",
      "Fitting estimator with 76365 features.\n",
      "Fitting estimator with 46365 features.\n",
      "Fitting estimator with 16365 features.\n",
      "fit completed\n"
     ]
    },
    {
     "name": "stderr",
     "output_type": "stream",
     "text": [
      "/usr/local/lib/python3.10/dist-packages/xgboost/core.py:160: UserWarning: [20:14:55] WARNING: /workspace/src/common/error_msg.cc:58: Falling back to prediction using DMatrix due to mismatched devices. This might lead to higher memory usage and slower performance. XGBoost is running on: cuda:0, while the input data is on: cpu.\n",
      "Potential solutions:\n",
      "- Use a data structure that matches the device ordinal in the booster.\n",
      "- Set the device for booster before call to inplace_predict.\n",
      "\n",
      "This warning will only be shown once.\n",
      "\n",
      "  warnings.warn(smsg, UserWarning)\n"
     ]
    },
    {
     "name": "stdout",
     "output_type": "stream",
     "text": [
      "The auc for train set: 1.0\n",
      "The auc for validation set: 0.874\n",
      "Counter({'Domain': 1215, 'cls': 102, 'unique': 73, 'total': 36, '24': 14, '7': 13, '30': 13, 'ts': 8, 'sum': 8, 'acf': 4, 'smoothing': 4, 'diff': 3, 'repeating': 3, 'max': 1, 'mean': 1, 'std': 1, 'enthropy': 1})\n",
      "CPU times: user 9min 7s, sys: 18.4 s, total: 9min 25s\n",
      "Wall time: 4min 35s\n"
     ]
    }
   ],
   "source": [
    "%%time\n",
    "\n",
    "\n",
    "if use_rfe :\n",
    "    print('start')\n",
    "\n",
    "    if optuna_params :\n",
    "        print('params : ',optuna_params)\n",
    "\n",
    "    else:\n",
    "    \n",
    "        optuna_params = {'n_estimators': 300, 'max_depth': 9, 'min_child_weight': 4, \n",
    "                         'learning_rate': 0.023978413719368537, 'subsample': 0.8,\n",
    "                         'colsample_bytree': 0.7000000000000001, 'reg_alpha': 0.042291352379944136,\n",
    "                         'reg_lambda': 0.25851748434291855, 'gamma': 0.7}\n",
    "\n",
    "\n",
    "    \n",
    "    model_params = {'random_state':17, 'n_jobs':-1, 'tree_method':\"hist\", \n",
    "     'device' : \"cuda\",  'objective' :'binary:logistic' ,'eval_metric' :roc_auc_score}\n",
    "\n",
    "    params = optuna_params | model_params\n",
    "\n",
    "\n",
    "    xgb_reg = xgboost.XGBRegressor(**params)\n",
    "\n",
    "    selector = RFE(xgb_reg, n_features_to_select=1500, step=30000, verbose=100)\n",
    "    print('rfe completed')\n",
    "    selector = selector.fit(df_train, train_target)\n",
    "    print('fit completed')\n",
    "\n",
    "    best_features = list(df_train.columns[selector.support_])\n",
    "\n",
    "    train_prediction = selector.estimator_.predict(df_train[best_features])\n",
    "    print(f'The auc for train set: {round(roc_auc_score(train_target.Target.astype(int),train_prediction), 3)}')\n",
    "\n",
    "    test_prediction = selector.estimator_.predict(df_test[best_features])\n",
    "    print(f'The auc for validation set: {round(roc_auc_score(test_target.Target,test_prediction), 3)}')\n",
    "\n",
    "    first_words = [s.split('_')[0] for s in best_features]\n",
    "    word_counts = Counter(first_words)\n",
    "    print(word_counts)"
   ]
  },
  {
   "cell_type": "code",
   "execution_count": 15,
   "id": "1afbf67c",
   "metadata": {
    "execution": {
     "iopub.execute_input": "2025-04-02T20:14:55.959889Z",
     "iopub.status.busy": "2025-04-02T20:14:55.959627Z",
     "iopub.status.idle": "2025-04-02T20:14:56.167046Z",
     "shell.execute_reply": "2025-04-02T20:14:56.166308Z"
    },
    "papermill": {
     "duration": 0.214499,
     "end_time": "2025-04-02T20:14:56.168685",
     "exception": false,
     "start_time": "2025-04-02T20:14:55.954186",
     "status": "completed"
    },
    "tags": []
   },
   "outputs": [],
   "source": [
    "if use_rfe:    \n",
    "    df_train = df_train[best_features]\n",
    "    df_test = df_test[best_features]"
   ]
  },
  {
   "cell_type": "markdown",
   "id": "fb9f530f",
   "metadata": {
    "papermill": {
     "duration": 0.004574,
     "end_time": "2025-04-02T20:14:56.178711",
     "exception": false,
     "start_time": "2025-04-02T20:14:56.174137",
     "status": "completed"
    },
    "tags": []
   },
   "source": [
    "# train model"
   ]
  },
  {
   "cell_type": "code",
   "execution_count": 16,
   "id": "8295771c",
   "metadata": {
    "execution": {
     "iopub.execute_input": "2025-04-02T20:14:56.189382Z",
     "iopub.status.busy": "2025-04-02T20:14:56.189115Z",
     "iopub.status.idle": "2025-04-02T20:15:04.291676Z",
     "shell.execute_reply": "2025-04-02T20:15:04.290827Z"
    },
    "papermill": {
     "duration": 8.10944,
     "end_time": "2025-04-02T20:15:04.293103",
     "exception": false,
     "start_time": "2025-04-02T20:14:56.183663",
     "status": "completed"
    },
    "tags": []
   },
   "outputs": [
    {
     "name": "stdout",
     "output_type": "stream",
     "text": [
      "params :  {'n_estimators': 1128, 'max_depth': 4, 'min_child_weight': 3, 'learning_rate': 0.02849236407842813, 'subsample': 0.8, 'colsample_bytree': 0.8, 'reg_alpha': 0.6925413932342802, 'reg_lambda': 0.009751526420604062, 'gamma': 0.7000000000000001}\n",
      "The auc for train set: 1.0\n",
      "(5538, 1500)\n",
      "The auc for validation set: 0.874\n",
      "CPU times: user 10.5 s, sys: 28.3 ms, total: 10.6 s\n",
      "Wall time: 8.1 s\n"
     ]
    }
   ],
   "source": [
    "%%time\n",
    "\n",
    "from sklearn.model_selection import cross_val_score, KFold\n",
    "from sklearn.metrics import make_scorer\n",
    "\n",
    "\n",
    "if single_run:\n",
    "\n",
    "    if optuna_params:\n",
    "        print('params : ',optuna_params)\n",
    "\n",
    "    else:\n",
    "        optuna_params = \\\n",
    "    {'n_estimators': 862, 'max_depth': 8, 'min_child_weight': 5, 'learning_rate': 0.031721261460108965, 'subsample': 1.0, 'colsample_bytree': 0.2, 'reg_alpha': 0.10799432879864407, 'reg_lambda': 0.6650032452501936, 'gamma': 0.7}\n",
    "\n",
    "    model_params = {'random_state':17, 'n_jobs':-1, 'tree_method':\"hist\", \n",
    "     'device' : \"cuda\",  'objective' :'binary:logistic' ,'eval_metric' :roc_auc_score}\n",
    "\n",
    "    params = optuna_params | model_params\n",
    "\n",
    "    \n",
    "    xgb_reg = xgboost.XGBRegressor(**params)\n",
    "    xgb_reg.fit(df_train, train_target.Target.astype(int))\n",
    "    \n",
    "    train_prediction = xgb_reg.predict(df_train)\n",
    "    print(f'The auc for train set: {round(roc_auc_score(train_target.Target.astype(int),train_prediction), 3)}')\n",
    "\n",
    "    print(df_train.shape)\n",
    "    test_prediction = xgb_reg.predict(df_test)\n",
    "    print(f'The auc for validation set: {round(roc_auc_score(test_target.Target.astype(int),test_prediction), 3)}')\n",
    "\n",
    "    if save_results:\n",
    "        xgb_reg.save_model(MODEL_NAME_A)\n",
    "        with open(COLUMNS_NAME, \"w\") as fp:\n",
    "            json.dump(list(df_train.columns), fp)"
   ]
  },
  {
   "cell_type": "markdown",
   "id": "82337ff0",
   "metadata": {
    "papermill": {
     "duration": 0.004544,
     "end_time": "2025-04-02T20:15:04.302761",
     "exception": false,
     "start_time": "2025-04-02T20:15:04.298217",
     "status": "completed"
    },
    "tags": []
   },
   "source": [
    "# optune"
   ]
  },
  {
   "cell_type": "markdown",
   "id": "1dd627cf",
   "metadata": {
    "papermill": {
     "duration": 0.004584,
     "end_time": "2025-04-02T20:15:04.311962",
     "exception": false,
     "start_time": "2025-04-02T20:15:04.307378",
     "status": "completed"
    },
    "tags": []
   },
   "source": [
    "## catboost"
   ]
  },
  {
   "cell_type": "code",
   "execution_count": 17,
   "id": "0a293065",
   "metadata": {
    "execution": {
     "iopub.execute_input": "2025-04-02T20:15:04.322225Z",
     "iopub.status.busy": "2025-04-02T20:15:04.321905Z",
     "iopub.status.idle": "2025-04-02T20:15:04.328146Z",
     "shell.execute_reply": "2025-04-02T20:15:04.327277Z"
    },
    "papermill": {
     "duration": 0.012901,
     "end_time": "2025-04-02T20:15:04.329445",
     "exception": false,
     "start_time": "2025-04-02T20:15:04.316544",
     "status": "completed"
    },
    "tags": []
   },
   "outputs": [],
   "source": [
    "def tuner(trial):    \n",
    "    params = {\n",
    "        \"iterations\": trial.suggest_int(\"iterations\", 100, 500),\n",
    "        \"depth\": trial.suggest_int(\"depth\", 4, 9, step=1),\n",
    "        \"learning_rate\": trial.suggest_float(\"learning_rate\", 1e-6, 1e-1, log=True),\n",
    "        \"l2_leaf_reg\": trial.suggest_float(\"l2_leaf_reg\", 1e-5, 2.5),\n",
    "        \"border_count\": trial.suggest_int(\"border_count\", 32, 255),\n",
    "        \"bagging_temperature\": trial.suggest_float(\"bagging_temperature\", 0.0, 1.0),\n",
    "        \"random_strength\": trial.suggest_float(\"random_strength\", 0.1, 10.0),\n",
    "        \"od_wait\": trial.suggest_int(\"od_wait\", 10, 50),\n",
    "    }    \n",
    "    \n",
    "    model = CatBoostClassifier(\n",
    "        **params,\n",
    "        random_seed=17,\n",
    "        loss_function=\"Logloss\",\n",
    "        eval_metric=\"CrossEntropy\",\n",
    "        verbose=False,\n",
    "        task_type=\"GPU\" \n",
    "    )\n",
    "    \n",
    "    model.fit(\n",
    "        df_train, \n",
    "        train_target.Target, \n",
    "        eval_set=[(df_test, test_target.Target)],\n",
    "        early_stopping_rounds=500,\n",
    "        verbose=False\n",
    "    )\n",
    "    \n",
    "    test_prediction = model.predict_proba(df_test)[:, 1]\n",
    "    \n",
    "    return roc_auc_score(test_target.Target, test_prediction)\n",
    "\n",
    "\n",
    "if CATBOOST_OPTUNA:\n",
    "    study = optuna.create_study(direction='maximize', study_name='catboost_optuna')\n",
    "    study.optimize(tuner, n_trials=200)\n",
    "    print('Best trial: score {}, params {}'.format(study.best_trial.value, study.best_trial.params))"
   ]
  },
  {
   "cell_type": "markdown",
   "id": "48571631",
   "metadata": {
    "papermill": {
     "duration": 0.00466,
     "end_time": "2025-04-02T20:15:04.338857",
     "exception": false,
     "start_time": "2025-04-02T20:15:04.334197",
     "status": "completed"
    },
    "tags": []
   },
   "source": [
    "## xgboost"
   ]
  },
  {
   "cell_type": "code",
   "execution_count": 18,
   "id": "7f471bde",
   "metadata": {
    "execution": {
     "iopub.execute_input": "2025-04-02T20:15:04.349114Z",
     "iopub.status.busy": "2025-04-02T20:15:04.348848Z",
     "iopub.status.idle": "2025-04-02T20:16:11.745759Z",
     "shell.execute_reply": "2025-04-02T20:16:11.744960Z"
    },
    "papermill": {
     "duration": 67.408209,
     "end_time": "2025-04-02T20:16:11.751787",
     "exception": false,
     "start_time": "2025-04-02T20:15:04.343578",
     "status": "completed"
    },
    "tags": []
   },
   "outputs": [
    {
     "name": "stderr",
     "output_type": "stream",
     "text": [
      "[I 2025-04-02 20:15:04,351] A new study created in memory with name: xgboost new feat\n",
      "[I 2025-04-02 20:15:36,999] Trial 0 finished with value: 0.8512698664132213 and parameters: {'n_estimators': 1410, 'max_depth': 10, 'min_child_weight': 4, 'learning_rate': 0.00019232882538294308, 'subsample': 0.9, 'colsample_bytree': 0.30000000000000004, 'reg_alpha': 1.371831143046369, 'reg_lambda': 1.9739244547336712, 'gamma': 0.9}. Best is trial 0 with value: 0.8512698664132213.\n",
      "[I 2025-04-02 20:15:44,703] Trial 1 finished with value: 0.849052220286182 and parameters: {'n_estimators': 324, 'max_depth': 9, 'min_child_weight': 7, 'learning_rate': 9.636616906554145e-06, 'subsample': 1.0, 'colsample_bytree': 0.30000000000000004, 'reg_alpha': 0.7558510422341848, 'reg_lambda': 2.110080681998944, 'gamma': 0.1}. Best is trial 0 with value: 0.8512698664132213.\n",
      "[I 2025-04-02 20:15:49,622] Trial 2 finished with value: 0.8549870637309257 and parameters: {'n_estimators': 217, 'max_depth': 9, 'min_child_weight': 9, 'learning_rate': 0.005660004346747614, 'subsample': 0.4, 'colsample_bytree': 0.4, 'reg_alpha': 1.0910653688731549, 'reg_lambda': 0.10780803660395323, 'gamma': 0.8}. Best is trial 2 with value: 0.8549870637309257.\n",
      "[I 2025-04-02 20:16:06,018] Trial 3 finished with value: 0.8459475157083267 and parameters: {'n_estimators': 838, 'max_depth': 11, 'min_child_weight': 12, 'learning_rate': 0.0001915535772684947, 'subsample': 0.6000000000000001, 'colsample_bytree': 0.4, 'reg_alpha': 1.4079974078585908, 'reg_lambda': 0.31340384899355866, 'gamma': 0.7000000000000001}. Best is trial 2 with value: 0.8549870637309257.\n",
      "[I 2025-04-02 20:16:11,740] Trial 4 finished with value: 0.8426421669570727 and parameters: {'n_estimators': 317, 'max_depth': 5, 'min_child_weight': 6, 'learning_rate': 0.003866735197223482, 'subsample': 0.5, 'colsample_bytree': 0.7000000000000001, 'reg_alpha': 0.049717897643453246, 'reg_lambda': 1.9439854009890432, 'gamma': 0.2}. Best is trial 2 with value: 0.8549870637309257.\n"
     ]
    },
    {
     "name": "stdout",
     "output_type": "stream",
     "text": [
      "Best trial: score 0.8549870637309257, params {'n_estimators': 217, 'max_depth': 9, 'min_child_weight': 9, 'learning_rate': 0.005660004346747614, 'subsample': 0.4, 'colsample_bytree': 0.4, 'reg_alpha': 1.0910653688731549, 'reg_lambda': 0.10780803660395323, 'gamma': 0.8}\n",
      "CPU times: user 1min 17s, sys: 320 ms, total: 1min 18s\n",
      "Wall time: 1min 7s\n"
     ]
    }
   ],
   "source": [
    "%%time\n",
    "def tuner(trial):    \n",
    "    params = {        \n",
    "        \"n_estimators\": trial.suggest_int(\"n_estimators\",100 ,1500),\n",
    "        \"max_depth\":trial.suggest_int(\"max_depth\", 4, 11, step=1),\n",
    "        \"min_child_weight\": trial.suggest_int(\"min_child_weight\", 3, 12,step=1),\n",
    "        \"learning_rate\": trial.suggest_float(\"learning_rate\", 1e-6, 1e-1, log=True), \n",
    "        \"subsample\": trial.suggest_float(\"subsample\", 0.4, 1.0 ,step=0.1),\n",
    "        \"colsample_bytree\": trial.suggest_float(\"colsample_bytree\", 0.1, 1.0 ,step=0.1),\n",
    "        \"reg_alpha\": trial.suggest_float(\"reg_alpha\", 1e-5, 1.5),\n",
    "        \"reg_lambda\":  trial.suggest_float(\"reg_lambda\", 1e-5, 2.5),\n",
    "        \"gamma\": trial.suggest_float(\"gamma\", 0.1, 1.0, step=0.1),\n",
    "    }    \n",
    "    \n",
    "    model = xgboost.XGBRegressor(\n",
    "        **params,\n",
    "        random_state=17,\n",
    "        n_jobs=-1, \n",
    "        objective=\"binary:logistic\",\n",
    "        eval_metric =roc_auc_score,\n",
    "        tree_method=\"hist\", \n",
    "        device = \"cuda\"\n",
    "    )\n",
    "    \n",
    "    model.fit(        \n",
    "        df_train, \n",
    "        train_target.Target.astype(int), \n",
    "        eval_set=[(df_test,test_target.Target.astype(int))],        \n",
    "        verbose=False)\n",
    "    \n",
    "    test_prediction = model.predict(df_test)\n",
    "    \n",
    "    return roc_auc_score(test_target.Target.astype(int),test_prediction)\n",
    "\n",
    "if XGBOOST_OPTUNA:\n",
    "    \n",
    "    \n",
    "    study = optuna.create_study(direction='maximize', study_name='xgboost new feat')\n",
    "    #study.optimize(tuner, n_trials=200) \n",
    "    study.optimize(tuner, n_trials=5)\n",
    "\n",
    "    print('Best trial: score {}, params {}'.format(study.best_trial.value, study.best_trial.params))\n"
   ]
  },
  {
   "cell_type": "markdown",
   "id": "4b473df0",
   "metadata": {
    "papermill": {
     "duration": 0.005079,
     "end_time": "2025-04-02T20:16:11.762122",
     "exception": false,
     "start_time": "2025-04-02T20:16:11.757043",
     "status": "completed"
    },
    "tags": []
   },
   "source": [
    "# end"
   ]
  }
 ],
 "metadata": {
  "kaggle": {
   "accelerator": "gpu",
   "dataSources": [
    {
     "datasetId": 6708670,
     "sourceId": 10807615,
     "sourceType": "datasetVersion"
    },
    {
     "datasetId": 6741817,
     "sourceId": 10854268,
     "sourceType": "datasetVersion"
    },
    {
     "datasetId": 6739379,
     "sourceId": 10867217,
     "sourceType": "datasetVersion"
    },
    {
     "datasetId": 6813315,
     "sourceId": 10995274,
     "sourceType": "datasetVersion"
    }
   ],
   "isGpuEnabled": true,
   "isInternetEnabled": false,
   "language": "python",
   "sourceType": "notebook"
  },
  "kernelspec": {
   "display_name": "Python 3",
   "language": "python",
   "name": "python3"
  },
  "language_info": {
   "codemirror_mode": {
    "name": "ipython",
    "version": 3
   },
   "file_extension": ".py",
   "mimetype": "text/x-python",
   "name": "python",
   "nbconvert_exporter": "python",
   "pygments_lexer": "ipython3",
   "version": "3.10.12"
  },
  "papermill": {
   "default_parameters": {},
   "duration": 396.842684,
   "end_time": "2025-04-02T20:16:13.488899",
   "environment_variables": {},
   "exception": null,
   "input_path": "__notebook__.ipynb",
   "output_path": "__notebook__.ipynb",
   "parameters": {},
   "start_time": "2025-04-02T20:09:36.646215",
   "version": "2.6.0"
  }
 },
 "nbformat": 4,
 "nbformat_minor": 5
}
