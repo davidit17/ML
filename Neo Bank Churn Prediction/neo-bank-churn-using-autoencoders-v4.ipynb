{
 "cells": [
  {
   "cell_type": "code",
   "execution_count": 1,
   "id": "b21e51c3",
   "metadata": {
    "_cell_guid": "b1076dfc-b9ad-4769-8c92-a6c4dae69d19",
    "_uuid": "8f2839f25d086af736a60e9eeb907d3b93b6e0e5",
    "execution": {
     "iopub.execute_input": "2025-01-13T22:40:39.287745Z",
     "iopub.status.busy": "2025-01-13T22:40:39.287319Z",
     "iopub.status.idle": "2025-01-13T22:40:39.880012Z",
     "shell.execute_reply": "2025-01-13T22:40:39.879336Z"
    },
    "papermill": {
     "duration": 0.609164,
     "end_time": "2025-01-13T22:40:39.881478",
     "exception": false,
     "start_time": "2025-01-13T22:40:39.272314",
     "status": "completed"
    },
    "tags": []
   },
   "outputs": [],
   "source": [
    "import numpy as np\n",
    "import pandas as pd \n",
    "import os"
   ]
  },
  {
   "cell_type": "code",
   "execution_count": 2,
   "id": "12d46dcf",
   "metadata": {
    "execution": {
     "iopub.execute_input": "2025-01-13T22:40:39.903880Z",
     "iopub.status.busy": "2025-01-13T22:40:39.903548Z",
     "iopub.status.idle": "2025-01-13T22:40:46.210390Z",
     "shell.execute_reply": "2025-01-13T22:40:46.209424Z"
    },
    "papermill": {
     "duration": 6.319512,
     "end_time": "2025-01-13T22:40:46.212145",
     "exception": false,
     "start_time": "2025-01-13T22:40:39.892633",
     "status": "completed"
    },
    "tags": []
   },
   "outputs": [],
   "source": [
    "import gc\n",
    "import shap\n",
    "import glob\n",
    "import seaborn as sns\n",
    "import pyarrow.parquet as pq\n",
    "from datetime import timedelta\n",
    "from collections import Counter\n",
    "import matplotlib.pyplot as plt\n",
    "from catboost import CatBoostClassifier\n",
    "from sklearn.model_selection import train_test_split\n",
    "from sklearn.metrics import classification_report, accuracy_score ,log_loss, f1_score, recall_score"
   ]
  },
  {
   "cell_type": "code",
   "execution_count": 3,
   "id": "a8bfe5c5",
   "metadata": {
    "execution": {
     "iopub.execute_input": "2025-01-13T22:40:46.234811Z",
     "iopub.status.busy": "2025-01-13T22:40:46.234401Z",
     "iopub.status.idle": "2025-01-13T22:40:46.239909Z",
     "shell.execute_reply": "2025-01-13T22:40:46.239262Z"
    },
    "papermill": {
     "duration": 0.017833,
     "end_time": "2025-01-13T22:40:46.241018",
     "exception": false,
     "start_time": "2025-01-13T22:40:46.223185",
     "status": "completed"
    },
    "tags": []
   },
   "outputs": [],
   "source": [
    "def stats(data:pd.DataFrame) -> pd.DataFrame:\n",
    "    maxx = []\n",
    "    minn = []\n",
    "    for i in data.columns:\n",
    "        maxx.append(data[i].value_counts().max())\n",
    "        minn.append(data[i].value_counts().min())\n",
    "\n",
    "    return pd.DataFrame(\n",
    "        {'nunique': data.nunique(),\n",
    "         'len': len(data),\n",
    "         'types':data.dtypes,\n",
    "         'Nulls' : data.isna().sum(),\n",
    "         \"Value counts Max\": maxx,\n",
    "         'Value counts Min':minn \n",
    "        },\n",
    "        columns = ['nunique', 'len','types','Nulls'\n",
    "                   ,\"Value counts Max\",'Value counts Min']).\\\n",
    "        sort_values(by ='nunique',ascending = False)\n",
    "\n",
    "\n",
    "def plot_shap_for_observation(N:int, shap_values: shap.Explanation) -> None:\n",
    "    val = shap_values[N].values.sum() + shap_values[N].base_values.sum()\n",
    "    prob = np.exp(val)/(1+np.exp(val))\n",
    "    \n",
    "    shap.plots.waterfall(shap_values[N],show = False)\n",
    "    plt.title(f'N = {N} \\n probability : {prob}')\n",
    "    plt.show()"
   ]
  },
  {
   "cell_type": "markdown",
   "id": "25c91a78",
   "metadata": {
    "papermill": {
     "duration": 0.00985,
     "end_time": "2025-01-13T22:40:46.261092",
     "exception": false,
     "start_time": "2025-01-13T22:40:46.251242",
     "status": "completed"
    },
    "tags": []
   },
   "source": [
    "# load data and EDA"
   ]
  },
  {
   "cell_type": "markdown",
   "id": "3189cb24",
   "metadata": {
    "papermill": {
     "duration": 0.010024,
     "end_time": "2025-01-13T22:40:46.281202",
     "exception": false,
     "start_time": "2025-01-13T22:40:46.271178",
     "status": "completed"
    },
    "tags": []
   },
   "source": [
    "## load train data"
   ]
  },
  {
   "cell_type": "code",
   "execution_count": 4,
   "id": "6ca6ace8",
   "metadata": {
    "execution": {
     "iopub.execute_input": "2025-01-13T22:40:46.302785Z",
     "iopub.status.busy": "2025-01-13T22:40:46.302531Z",
     "iopub.status.idle": "2025-01-13T22:40:58.213223Z",
     "shell.execute_reply": "2025-01-13T22:40:58.212187Z"
    },
    "papermill": {
     "duration": 11.922845,
     "end_time": "2025-01-13T22:40:58.214776",
     "exception": false,
     "start_time": "2025-01-13T22:40:46.291931",
     "status": "completed"
    },
    "tags": []
   },
   "outputs": [
    {
     "data": {
      "text/html": [
       "<div>\n",
       "<style scoped>\n",
       "    .dataframe tbody tr th:only-of-type {\n",
       "        vertical-align: middle;\n",
       "    }\n",
       "\n",
       "    .dataframe tbody tr th {\n",
       "        vertical-align: top;\n",
       "    }\n",
       "\n",
       "    .dataframe thead th {\n",
       "        text-align: right;\n",
       "    }\n",
       "</style>\n",
       "<table border=\"1\" class=\"dataframe\">\n",
       "  <thead>\n",
       "    <tr style=\"text-align: right;\">\n",
       "      <th></th>\n",
       "      <th>Id</th>\n",
       "      <th>customer_id</th>\n",
       "      <th>interest_rate</th>\n",
       "      <th>name</th>\n",
       "      <th>country</th>\n",
       "      <th>date_of_birth</th>\n",
       "      <th>address</th>\n",
       "      <th>date</th>\n",
       "      <th>atm_transfer_in</th>\n",
       "      <th>atm_transfer_out</th>\n",
       "      <th>...</th>\n",
       "      <th>crypto_in_volume</th>\n",
       "      <th>crypto_out_volume</th>\n",
       "      <th>complaints</th>\n",
       "      <th>touchpoints</th>\n",
       "      <th>csat_scores</th>\n",
       "      <th>tenure</th>\n",
       "      <th>from_competitor</th>\n",
       "      <th>job</th>\n",
       "      <th>churn_due_to_fraud</th>\n",
       "      <th>model_predicted_fraud</th>\n",
       "    </tr>\n",
       "  </thead>\n",
       "  <tbody>\n",
       "    <tr>\n",
       "      <th>0</th>\n",
       "      <td>1</td>\n",
       "      <td>1</td>\n",
       "      <td>3.5</td>\n",
       "      <td>Yolanda Parker</td>\n",
       "      <td>Lithuania</td>\n",
       "      <td>1954-07-10</td>\n",
       "      <td>1929 Erin Lights Suite 709\\nLake Michaelburgh,...</td>\n",
       "      <td>2008-01-17</td>\n",
       "      <td>0</td>\n",
       "      <td>0</td>\n",
       "      <td>...</td>\n",
       "      <td>393.145010</td>\n",
       "      <td>220.900654</td>\n",
       "      <td>0</td>\n",
       "      <td>[]</td>\n",
       "      <td>{'appointment': None, 'email': None, 'phone': ...</td>\n",
       "      <td>0</td>\n",
       "      <td>False</td>\n",
       "      <td>Amenity horticulturist</td>\n",
       "      <td>False</td>\n",
       "      <td>False</td>\n",
       "    </tr>\n",
       "    <tr>\n",
       "      <th>1</th>\n",
       "      <td>6</td>\n",
       "      <td>1</td>\n",
       "      <td>3.5</td>\n",
       "      <td>Yolanda Parker</td>\n",
       "      <td>Lithuania</td>\n",
       "      <td>1954-07-10</td>\n",
       "      <td>1929 Erin Lights Suite 709\\nLake Michaelburgh,...</td>\n",
       "      <td>2008-01-18</td>\n",
       "      <td>0</td>\n",
       "      <td>0</td>\n",
       "      <td>...</td>\n",
       "      <td>390.005729</td>\n",
       "      <td>221.147296</td>\n",
       "      <td>0</td>\n",
       "      <td>[]</td>\n",
       "      <td>{'appointment': None, 'email': None, 'phone': ...</td>\n",
       "      <td>1</td>\n",
       "      <td>False</td>\n",
       "      <td>Amenity horticulturist</td>\n",
       "      <td>False</td>\n",
       "      <td>False</td>\n",
       "    </tr>\n",
       "    <tr>\n",
       "      <th>2</th>\n",
       "      <td>16</td>\n",
       "      <td>1</td>\n",
       "      <td>3.5</td>\n",
       "      <td>Yolanda Parker</td>\n",
       "      <td>Lithuania</td>\n",
       "      <td>1954-07-10</td>\n",
       "      <td>1929 Erin Lights Suite 709\\nLake Michaelburgh,...</td>\n",
       "      <td>2008-01-19</td>\n",
       "      <td>0</td>\n",
       "      <td>0</td>\n",
       "      <td>...</td>\n",
       "      <td>393.209108</td>\n",
       "      <td>260.510535</td>\n",
       "      <td>0</td>\n",
       "      <td>[]</td>\n",
       "      <td>{'appointment': None, 'email': None, 'phone': ...</td>\n",
       "      <td>2</td>\n",
       "      <td>False</td>\n",
       "      <td>Amenity horticulturist</td>\n",
       "      <td>False</td>\n",
       "      <td>False</td>\n",
       "    </tr>\n",
       "    <tr>\n",
       "      <th>3</th>\n",
       "      <td>31</td>\n",
       "      <td>1</td>\n",
       "      <td>3.5</td>\n",
       "      <td>Yolanda Parker</td>\n",
       "      <td>Lithuania</td>\n",
       "      <td>1954-07-10</td>\n",
       "      <td>1929 Erin Lights Suite 709\\nLake Michaelburgh,...</td>\n",
       "      <td>2008-01-20</td>\n",
       "      <td>0</td>\n",
       "      <td>0</td>\n",
       "      <td>...</td>\n",
       "      <td>394.078294</td>\n",
       "      <td>203.214128</td>\n",
       "      <td>0</td>\n",
       "      <td>[]</td>\n",
       "      <td>{'appointment': None, 'email': None, 'phone': ...</td>\n",
       "      <td>3</td>\n",
       "      <td>False</td>\n",
       "      <td>Amenity horticulturist</td>\n",
       "      <td>False</td>\n",
       "      <td>False</td>\n",
       "    </tr>\n",
       "    <tr>\n",
       "      <th>4</th>\n",
       "      <td>50</td>\n",
       "      <td>1</td>\n",
       "      <td>3.5</td>\n",
       "      <td>Yolanda Parker</td>\n",
       "      <td>Lithuania</td>\n",
       "      <td>1954-07-10</td>\n",
       "      <td>1929 Erin Lights Suite 709\\nLake Michaelburgh,...</td>\n",
       "      <td>2008-01-21</td>\n",
       "      <td>0</td>\n",
       "      <td>0</td>\n",
       "      <td>...</td>\n",
       "      <td>395.174604</td>\n",
       "      <td>207.894467</td>\n",
       "      <td>0</td>\n",
       "      <td>[whatsapp, email, email]</td>\n",
       "      <td>{'appointment': None, 'email': None, 'phone': ...</td>\n",
       "      <td>4</td>\n",
       "      <td>False</td>\n",
       "      <td>Amenity horticulturist</td>\n",
       "      <td>False</td>\n",
       "      <td>False</td>\n",
       "    </tr>\n",
       "  </tbody>\n",
       "</table>\n",
       "<p>5 rows × 26 columns</p>\n",
       "</div>"
      ],
      "text/plain": [
       "   Id  customer_id  interest_rate            name    country date_of_birth  \\\n",
       "0   1            1            3.5  Yolanda Parker  Lithuania    1954-07-10   \n",
       "1   6            1            3.5  Yolanda Parker  Lithuania    1954-07-10   \n",
       "2  16            1            3.5  Yolanda Parker  Lithuania    1954-07-10   \n",
       "3  31            1            3.5  Yolanda Parker  Lithuania    1954-07-10   \n",
       "4  50            1            3.5  Yolanda Parker  Lithuania    1954-07-10   \n",
       "\n",
       "                                             address       date  \\\n",
       "0  1929 Erin Lights Suite 709\\nLake Michaelburgh,... 2008-01-17   \n",
       "1  1929 Erin Lights Suite 709\\nLake Michaelburgh,... 2008-01-18   \n",
       "2  1929 Erin Lights Suite 709\\nLake Michaelburgh,... 2008-01-19   \n",
       "3  1929 Erin Lights Suite 709\\nLake Michaelburgh,... 2008-01-20   \n",
       "4  1929 Erin Lights Suite 709\\nLake Michaelburgh,... 2008-01-21   \n",
       "\n",
       "   atm_transfer_in  atm_transfer_out  ...  crypto_in_volume  \\\n",
       "0                0                 0  ...        393.145010   \n",
       "1                0                 0  ...        390.005729   \n",
       "2                0                 0  ...        393.209108   \n",
       "3                0                 0  ...        394.078294   \n",
       "4                0                 0  ...        395.174604   \n",
       "\n",
       "   crypto_out_volume  complaints               touchpoints  \\\n",
       "0         220.900654           0                        []   \n",
       "1         221.147296           0                        []   \n",
       "2         260.510535           0                        []   \n",
       "3         203.214128           0                        []   \n",
       "4         207.894467           0  [whatsapp, email, email]   \n",
       "\n",
       "                                         csat_scores  tenure  from_competitor  \\\n",
       "0  {'appointment': None, 'email': None, 'phone': ...       0            False   \n",
       "1  {'appointment': None, 'email': None, 'phone': ...       1            False   \n",
       "2  {'appointment': None, 'email': None, 'phone': ...       2            False   \n",
       "3  {'appointment': None, 'email': None, 'phone': ...       3            False   \n",
       "4  {'appointment': None, 'email': None, 'phone': ...       4            False   \n",
       "\n",
       "                      job  churn_due_to_fraud model_predicted_fraud  \n",
       "0  Amenity horticulturist               False                 False  \n",
       "1  Amenity horticulturist               False                 False  \n",
       "2  Amenity horticulturist               False                 False  \n",
       "3  Amenity horticulturist               False                 False  \n",
       "4  Amenity horticulturist               False                 False  \n",
       "\n",
       "[5 rows x 26 columns]"
      ]
     },
     "execution_count": 4,
     "metadata": {},
     "output_type": "execute_result"
    }
   ],
   "source": [
    "train_files = glob.glob('/kaggle/input/neo-bank-non-sub-churn-prediction/train_*.parquet')\n",
    "\n",
    "# Read all the files and concatenate them\n",
    "df_train = pd.concat([pq.read_table(file).to_pandas() for file in train_files])\n",
    "df_train = df_train.sort_values(by=['customer_id','date'])\n",
    "df_train.head()"
   ]
  },
  {
   "cell_type": "code",
   "execution_count": 5,
   "id": "1280bb3f",
   "metadata": {
    "execution": {
     "iopub.execute_input": "2025-01-13T22:40:58.238165Z",
     "iopub.status.busy": "2025-01-13T22:40:58.237918Z",
     "iopub.status.idle": "2025-01-13T22:41:12.613356Z",
     "shell.execute_reply": "2025-01-13T22:41:12.612382Z"
    },
    "papermill": {
     "duration": 14.388061,
     "end_time": "2025-01-13T22:41:12.614814",
     "exception": false,
     "start_time": "2025-01-13T22:40:58.226753",
     "status": "completed"
    },
    "tags": []
   },
   "outputs": [
    {
     "data": {
      "text/html": [
       "<div>\n",
       "<style scoped>\n",
       "    .dataframe tbody tr th:only-of-type {\n",
       "        vertical-align: middle;\n",
       "    }\n",
       "\n",
       "    .dataframe tbody tr th {\n",
       "        vertical-align: top;\n",
       "    }\n",
       "\n",
       "    .dataframe thead th {\n",
       "        text-align: right;\n",
       "    }\n",
       "</style>\n",
       "<table border=\"1\" class=\"dataframe\">\n",
       "  <thead>\n",
       "    <tr style=\"text-align: right;\">\n",
       "      <th></th>\n",
       "      <th>nunique</th>\n",
       "      <th>len</th>\n",
       "      <th>types</th>\n",
       "      <th>Nulls</th>\n",
       "      <th>Value counts Max</th>\n",
       "      <th>Value counts Min</th>\n",
       "    </tr>\n",
       "  </thead>\n",
       "  <tbody>\n",
       "    <tr>\n",
       "      <th>Id</th>\n",
       "      <td>3926058</td>\n",
       "      <td>3926058</td>\n",
       "      <td>int64</td>\n",
       "      <td>0</td>\n",
       "      <td>1</td>\n",
       "      <td>1</td>\n",
       "    </tr>\n",
       "    <tr>\n",
       "      <th>crypto_out_volume</th>\n",
       "      <td>3648444</td>\n",
       "      <td>3926058</td>\n",
       "      <td>float64</td>\n",
       "      <td>0</td>\n",
       "      <td>84415</td>\n",
       "      <td>1</td>\n",
       "    </tr>\n",
       "    <tr>\n",
       "      <th>bank_transfer_in_volume</th>\n",
       "      <td>3648444</td>\n",
       "      <td>3926058</td>\n",
       "      <td>float64</td>\n",
       "      <td>0</td>\n",
       "      <td>84415</td>\n",
       "      <td>1</td>\n",
       "    </tr>\n",
       "    <tr>\n",
       "      <th>crypto_in_volume</th>\n",
       "      <td>3648444</td>\n",
       "      <td>3926058</td>\n",
       "      <td>float64</td>\n",
       "      <td>0</td>\n",
       "      <td>84415</td>\n",
       "      <td>1</td>\n",
       "    </tr>\n",
       "    <tr>\n",
       "      <th>bank_transfer_out_volume</th>\n",
       "      <td>3648444</td>\n",
       "      <td>3926058</td>\n",
       "      <td>float64</td>\n",
       "      <td>0</td>\n",
       "      <td>84415</td>\n",
       "      <td>1</td>\n",
       "    </tr>\n",
       "    <tr>\n",
       "      <th>customer_id</th>\n",
       "      <td>106179</td>\n",
       "      <td>3926058</td>\n",
       "      <td>int64</td>\n",
       "      <td>0</td>\n",
       "      <td>362</td>\n",
       "      <td>1</td>\n",
       "    </tr>\n",
       "    <tr>\n",
       "      <th>bank_transfer_in</th>\n",
       "      <td>24245</td>\n",
       "      <td>3926058</td>\n",
       "      <td>int64</td>\n",
       "      <td>0</td>\n",
       "      <td>1199629</td>\n",
       "      <td>1</td>\n",
       "    </tr>\n",
       "    <tr>\n",
       "      <th>bank_transfer_out</th>\n",
       "      <td>15703</td>\n",
       "      <td>3926058</td>\n",
       "      <td>int64</td>\n",
       "      <td>0</td>\n",
       "      <td>2041907</td>\n",
       "      <td>1</td>\n",
       "    </tr>\n",
       "    <tr>\n",
       "      <th>date</th>\n",
       "      <td>5828</td>\n",
       "      <td>3926058</td>\n",
       "      <td>datetime64[ns]</td>\n",
       "      <td>0</td>\n",
       "      <td>1593</td>\n",
       "      <td>5</td>\n",
       "    </tr>\n",
       "    <tr>\n",
       "      <th>tenure</th>\n",
       "      <td>5303</td>\n",
       "      <td>3926058</td>\n",
       "      <td>int64</td>\n",
       "      <td>0</td>\n",
       "      <td>96601</td>\n",
       "      <td>1</td>\n",
       "    </tr>\n",
       "    <tr>\n",
       "      <th>atm_transfer_out</th>\n",
       "      <td>922</td>\n",
       "      <td>3926058</td>\n",
       "      <td>int64</td>\n",
       "      <td>0</td>\n",
       "      <td>3879599</td>\n",
       "      <td>1</td>\n",
       "    </tr>\n",
       "    <tr>\n",
       "      <th>atm_transfer_in</th>\n",
       "      <td>744</td>\n",
       "      <td>3926058</td>\n",
       "      <td>int64</td>\n",
       "      <td>0</td>\n",
       "      <td>3885808</td>\n",
       "      <td>1</td>\n",
       "    </tr>\n",
       "    <tr>\n",
       "      <th>crypto_in</th>\n",
       "      <td>83</td>\n",
       "      <td>3926058</td>\n",
       "      <td>int64</td>\n",
       "      <td>0</td>\n",
       "      <td>2674103</td>\n",
       "      <td>1</td>\n",
       "    </tr>\n",
       "    <tr>\n",
       "      <th>crypto_out</th>\n",
       "      <td>74</td>\n",
       "      <td>3926058</td>\n",
       "      <td>int64</td>\n",
       "      <td>0</td>\n",
       "      <td>2673298</td>\n",
       "      <td>1</td>\n",
       "    </tr>\n",
       "    <tr>\n",
       "      <th>interest_rate</th>\n",
       "      <td>6</td>\n",
       "      <td>3926058</td>\n",
       "      <td>float64</td>\n",
       "      <td>0</td>\n",
       "      <td>3100916</td>\n",
       "      <td>46510</td>\n",
       "    </tr>\n",
       "    <tr>\n",
       "      <th>complaints</th>\n",
       "      <td>4</td>\n",
       "      <td>3926058</td>\n",
       "      <td>int64</td>\n",
       "      <td>0</td>\n",
       "      <td>3883466</td>\n",
       "      <td>13246</td>\n",
       "    </tr>\n",
       "    <tr>\n",
       "      <th>from_competitor</th>\n",
       "      <td>2</td>\n",
       "      <td>3926058</td>\n",
       "      <td>bool</td>\n",
       "      <td>0</td>\n",
       "      <td>3804184</td>\n",
       "      <td>121874</td>\n",
       "    </tr>\n",
       "    <tr>\n",
       "      <th>churn_due_to_fraud</th>\n",
       "      <td>2</td>\n",
       "      <td>3926058</td>\n",
       "      <td>bool</td>\n",
       "      <td>0</td>\n",
       "      <td>3926031</td>\n",
       "      <td>27</td>\n",
       "    </tr>\n",
       "    <tr>\n",
       "      <th>model_predicted_fraud</th>\n",
       "      <td>2</td>\n",
       "      <td>3926058</td>\n",
       "      <td>bool</td>\n",
       "      <td>0</td>\n",
       "      <td>3924306</td>\n",
       "      <td>1752</td>\n",
       "    </tr>\n",
       "  </tbody>\n",
       "</table>\n",
       "</div>"
      ],
      "text/plain": [
       "                          nunique      len           types  Nulls  \\\n",
       "Id                        3926058  3926058           int64      0   \n",
       "crypto_out_volume         3648444  3926058         float64      0   \n",
       "bank_transfer_in_volume   3648444  3926058         float64      0   \n",
       "crypto_in_volume          3648444  3926058         float64      0   \n",
       "bank_transfer_out_volume  3648444  3926058         float64      0   \n",
       "customer_id                106179  3926058           int64      0   \n",
       "bank_transfer_in            24245  3926058           int64      0   \n",
       "bank_transfer_out           15703  3926058           int64      0   \n",
       "date                         5828  3926058  datetime64[ns]      0   \n",
       "tenure                       5303  3926058           int64      0   \n",
       "atm_transfer_out              922  3926058           int64      0   \n",
       "atm_transfer_in               744  3926058           int64      0   \n",
       "crypto_in                      83  3926058           int64      0   \n",
       "crypto_out                     74  3926058           int64      0   \n",
       "interest_rate                   6  3926058         float64      0   \n",
       "complaints                      4  3926058           int64      0   \n",
       "from_competitor                 2  3926058            bool      0   \n",
       "churn_due_to_fraud              2  3926058            bool      0   \n",
       "model_predicted_fraud           2  3926058            bool      0   \n",
       "\n",
       "                          Value counts Max  Value counts Min  \n",
       "Id                                       1                 1  \n",
       "crypto_out_volume                    84415                 1  \n",
       "bank_transfer_in_volume              84415                 1  \n",
       "crypto_in_volume                     84415                 1  \n",
       "bank_transfer_out_volume             84415                 1  \n",
       "customer_id                            362                 1  \n",
       "bank_transfer_in                   1199629                 1  \n",
       "bank_transfer_out                  2041907                 1  \n",
       "date                                  1593                 5  \n",
       "tenure                               96601                 1  \n",
       "atm_transfer_out                   3879599                 1  \n",
       "atm_transfer_in                    3885808                 1  \n",
       "crypto_in                          2674103                 1  \n",
       "crypto_out                         2673298                 1  \n",
       "interest_rate                      3100916             46510  \n",
       "complaints                         3883466             13246  \n",
       "from_competitor                    3804184            121874  \n",
       "churn_due_to_fraud                 3926031                27  \n",
       "model_predicted_fraud              3924306              1752  "
      ]
     },
     "execution_count": 5,
     "metadata": {},
     "output_type": "execute_result"
    }
   ],
   "source": [
    "stats(df_train.select_dtypes(exclude = ['object']))"
   ]
  },
  {
   "cell_type": "code",
   "execution_count": 6,
   "id": "21d8a416",
   "metadata": {
    "execution": {
     "iopub.execute_input": "2025-01-13T22:41:12.637753Z",
     "iopub.status.busy": "2025-01-13T22:41:12.637482Z",
     "iopub.status.idle": "2025-01-13T22:41:14.000827Z",
     "shell.execute_reply": "2025-01-13T22:41:13.999732Z"
    },
    "papermill": {
     "duration": 1.376014,
     "end_time": "2025-01-13T22:41:14.002159",
     "exception": false,
     "start_time": "2025-01-13T22:41:12.626145",
     "status": "completed"
    },
    "tags": []
   },
   "outputs": [
    {
     "data": {
      "text/html": [
       "<div>\n",
       "<style scoped>\n",
       "    .dataframe tbody tr th:only-of-type {\n",
       "        vertical-align: middle;\n",
       "    }\n",
       "\n",
       "    .dataframe tbody tr th {\n",
       "        vertical-align: top;\n",
       "    }\n",
       "\n",
       "    .dataframe thead th {\n",
       "        text-align: right;\n",
       "    }\n",
       "</style>\n",
       "<table border=\"1\" class=\"dataframe\">\n",
       "  <thead>\n",
       "    <tr style=\"text-align: right;\">\n",
       "      <th></th>\n",
       "      <th>name</th>\n",
       "      <th>country</th>\n",
       "      <th>date_of_birth</th>\n",
       "      <th>address</th>\n",
       "      <th>touchpoints</th>\n",
       "      <th>csat_scores</th>\n",
       "      <th>job</th>\n",
       "    </tr>\n",
       "  </thead>\n",
       "  <tbody>\n",
       "    <tr>\n",
       "      <th>0</th>\n",
       "      <td>Yolanda Parker</td>\n",
       "      <td>Lithuania</td>\n",
       "      <td>1954-07-10</td>\n",
       "      <td>1929 Erin Lights Suite 709\\nLake Michaelburgh,...</td>\n",
       "      <td>[]</td>\n",
       "      <td>{'appointment': None, 'email': None, 'phone': ...</td>\n",
       "      <td>Amenity horticulturist</td>\n",
       "    </tr>\n",
       "    <tr>\n",
       "      <th>1</th>\n",
       "      <td>Yolanda Parker</td>\n",
       "      <td>Lithuania</td>\n",
       "      <td>1954-07-10</td>\n",
       "      <td>1929 Erin Lights Suite 709\\nLake Michaelburgh,...</td>\n",
       "      <td>[]</td>\n",
       "      <td>{'appointment': None, 'email': None, 'phone': ...</td>\n",
       "      <td>Amenity horticulturist</td>\n",
       "    </tr>\n",
       "    <tr>\n",
       "      <th>2</th>\n",
       "      <td>Yolanda Parker</td>\n",
       "      <td>Lithuania</td>\n",
       "      <td>1954-07-10</td>\n",
       "      <td>1929 Erin Lights Suite 709\\nLake Michaelburgh,...</td>\n",
       "      <td>[]</td>\n",
       "      <td>{'appointment': None, 'email': None, 'phone': ...</td>\n",
       "      <td>Amenity horticulturist</td>\n",
       "    </tr>\n",
       "    <tr>\n",
       "      <th>3</th>\n",
       "      <td>Yolanda Parker</td>\n",
       "      <td>Lithuania</td>\n",
       "      <td>1954-07-10</td>\n",
       "      <td>1929 Erin Lights Suite 709\\nLake Michaelburgh,...</td>\n",
       "      <td>[]</td>\n",
       "      <td>{'appointment': None, 'email': None, 'phone': ...</td>\n",
       "      <td>Amenity horticulturist</td>\n",
       "    </tr>\n",
       "    <tr>\n",
       "      <th>4</th>\n",
       "      <td>Yolanda Parker</td>\n",
       "      <td>Lithuania</td>\n",
       "      <td>1954-07-10</td>\n",
       "      <td>1929 Erin Lights Suite 709\\nLake Michaelburgh,...</td>\n",
       "      <td>[whatsapp, email, email]</td>\n",
       "      <td>{'appointment': None, 'email': None, 'phone': ...</td>\n",
       "      <td>Amenity horticulturist</td>\n",
       "    </tr>\n",
       "  </tbody>\n",
       "</table>\n",
       "</div>"
      ],
      "text/plain": [
       "             name    country date_of_birth  \\\n",
       "0  Yolanda Parker  Lithuania    1954-07-10   \n",
       "1  Yolanda Parker  Lithuania    1954-07-10   \n",
       "2  Yolanda Parker  Lithuania    1954-07-10   \n",
       "3  Yolanda Parker  Lithuania    1954-07-10   \n",
       "4  Yolanda Parker  Lithuania    1954-07-10   \n",
       "\n",
       "                                             address  \\\n",
       "0  1929 Erin Lights Suite 709\\nLake Michaelburgh,...   \n",
       "1  1929 Erin Lights Suite 709\\nLake Michaelburgh,...   \n",
       "2  1929 Erin Lights Suite 709\\nLake Michaelburgh,...   \n",
       "3  1929 Erin Lights Suite 709\\nLake Michaelburgh,...   \n",
       "4  1929 Erin Lights Suite 709\\nLake Michaelburgh,...   \n",
       "\n",
       "                touchpoints  \\\n",
       "0                        []   \n",
       "1                        []   \n",
       "2                        []   \n",
       "3                        []   \n",
       "4  [whatsapp, email, email]   \n",
       "\n",
       "                                         csat_scores                     job  \n",
       "0  {'appointment': None, 'email': None, 'phone': ...  Amenity horticulturist  \n",
       "1  {'appointment': None, 'email': None, 'phone': ...  Amenity horticulturist  \n",
       "2  {'appointment': None, 'email': None, 'phone': ...  Amenity horticulturist  \n",
       "3  {'appointment': None, 'email': None, 'phone': ...  Amenity horticulturist  \n",
       "4  {'appointment': None, 'email': None, 'phone': ...  Amenity horticulturist  "
      ]
     },
     "execution_count": 6,
     "metadata": {},
     "output_type": "execute_result"
    }
   ],
   "source": [
    "df_train.select_dtypes('object').head()"
   ]
  },
  {
   "cell_type": "code",
   "execution_count": 7,
   "id": "cf1855e4",
   "metadata": {
    "execution": {
     "iopub.execute_input": "2025-01-13T22:41:14.025313Z",
     "iopub.status.busy": "2025-01-13T22:41:14.025085Z",
     "iopub.status.idle": "2025-01-13T22:41:15.749176Z",
     "shell.execute_reply": "2025-01-13T22:41:15.748153Z"
    },
    "papermill": {
     "duration": 1.737007,
     "end_time": "2025-01-13T22:41:15.750534",
     "exception": false,
     "start_time": "2025-01-13T22:41:14.013527",
     "status": "completed"
    },
    "tags": []
   },
   "outputs": [
    {
     "name": "stdout",
     "output_type": "stream",
     "text": [
      "country\n",
      "1    106179\n",
      "Name: count, dtype: int64\n",
      "address\n",
      "1    106179\n",
      "Name: count, dtype: int64\n",
      "job\n",
      "1    106179\n",
      "Name: count, dtype: int64\n"
     ]
    }
   ],
   "source": [
    "# no job/country/address change in train\n",
    "for i in ['country','address','job']:\n",
    "    print(df_train.groupby('customer_id')[i].nunique().value_counts())"
   ]
  },
  {
   "cell_type": "markdown",
   "id": "4108922b",
   "metadata": {
    "papermill": {
     "duration": 0.011076,
     "end_time": "2025-01-13T22:41:15.773226",
     "exception": false,
     "start_time": "2025-01-13T22:41:15.762150",
     "status": "completed"
    },
    "tags": []
   },
   "source": [
    "## load test data"
   ]
  },
  {
   "cell_type": "code",
   "execution_count": 8,
   "id": "83a5f3cc",
   "metadata": {
    "execution": {
     "iopub.execute_input": "2025-01-13T22:41:15.796217Z",
     "iopub.status.busy": "2025-01-13T22:41:15.795950Z",
     "iopub.status.idle": "2025-01-13T22:41:19.329613Z",
     "shell.execute_reply": "2025-01-13T22:41:19.328741Z"
    },
    "papermill": {
     "duration": 3.546724,
     "end_time": "2025-01-13T22:41:19.330961",
     "exception": false,
     "start_time": "2025-01-13T22:41:15.784237",
     "status": "completed"
    },
    "tags": []
   },
   "outputs": [
    {
     "data": {
      "text/html": [
       "<div>\n",
       "<style scoped>\n",
       "    .dataframe tbody tr th:only-of-type {\n",
       "        vertical-align: middle;\n",
       "    }\n",
       "\n",
       "    .dataframe tbody tr th {\n",
       "        vertical-align: top;\n",
       "    }\n",
       "\n",
       "    .dataframe thead th {\n",
       "        text-align: right;\n",
       "    }\n",
       "</style>\n",
       "<table border=\"1\" class=\"dataframe\">\n",
       "  <thead>\n",
       "    <tr style=\"text-align: right;\">\n",
       "      <th></th>\n",
       "      <th>Id</th>\n",
       "      <th>customer_id</th>\n",
       "      <th>interest_rate</th>\n",
       "      <th>name</th>\n",
       "      <th>country</th>\n",
       "      <th>date_of_birth</th>\n",
       "      <th>address</th>\n",
       "      <th>date</th>\n",
       "      <th>atm_transfer_in</th>\n",
       "      <th>atm_transfer_out</th>\n",
       "      <th>...</th>\n",
       "      <th>crypto_out_volume</th>\n",
       "      <th>complaints</th>\n",
       "      <th>touchpoints</th>\n",
       "      <th>csat_scores</th>\n",
       "      <th>tenure</th>\n",
       "      <th>from_competitor</th>\n",
       "      <th>job</th>\n",
       "      <th>churn_due_to_fraud</th>\n",
       "      <th>Usage</th>\n",
       "      <th>model_predicted_fraud</th>\n",
       "    </tr>\n",
       "  </thead>\n",
       "  <tbody>\n",
       "    <tr>\n",
       "      <th>1097087</th>\n",
       "      <td>7284407</td>\n",
       "      <td>1</td>\n",
       "      <td>0.0</td>\n",
       "      <td>Yolanda Parker</td>\n",
       "      <td>Lithuania</td>\n",
       "      <td>1954-07-10</td>\n",
       "      <td>1929 Erin Lights Suite 709\\nLake Michaelburgh,...</td>\n",
       "      <td>2026-02-27</td>\n",
       "      <td>0</td>\n",
       "      <td>0</td>\n",
       "      <td>...</td>\n",
       "      <td>213.615319</td>\n",
       "      <td>0</td>\n",
       "      <td>[]</td>\n",
       "      <td>{'appointment': None, 'email': None, 'phone': ...</td>\n",
       "      <td>5398</td>\n",
       "      <td>False</td>\n",
       "      <td>Amenity horticulturist</td>\n",
       "      <td>False</td>\n",
       "      <td>Public</td>\n",
       "      <td>False</td>\n",
       "    </tr>\n",
       "    <tr>\n",
       "      <th>1040227</th>\n",
       "      <td>7227547</td>\n",
       "      <td>2</td>\n",
       "      <td>2.8</td>\n",
       "      <td>Bonnie Carr</td>\n",
       "      <td>Greece</td>\n",
       "      <td>1947-05-27</td>\n",
       "      <td>00867 Dominguez Camp Apt. 575\\nPort Josephland...</td>\n",
       "      <td>2026-01-03</td>\n",
       "      <td>0</td>\n",
       "      <td>0</td>\n",
       "      <td>...</td>\n",
       "      <td>34.881290</td>\n",
       "      <td>0</td>\n",
       "      <td>[]</td>\n",
       "      <td>{'appointment': None, 'email': None, 'phone': ...</td>\n",
       "      <td>887</td>\n",
       "      <td>False</td>\n",
       "      <td>Exhibition designer</td>\n",
       "      <td>False</td>\n",
       "      <td>Public</td>\n",
       "      <td>False</td>\n",
       "    </tr>\n",
       "    <tr>\n",
       "      <th>392455</th>\n",
       "      <td>6579775</td>\n",
       "      <td>3</td>\n",
       "      <td>0.0</td>\n",
       "      <td>Michael Mcknight</td>\n",
       "      <td>Romania</td>\n",
       "      <td>2002-11-09</td>\n",
       "      <td>36495 Travis Ranch Apt. 055\\nJustinmouth, CO 7...</td>\n",
       "      <td>2024-10-27</td>\n",
       "      <td>0</td>\n",
       "      <td>0</td>\n",
       "      <td>...</td>\n",
       "      <td>1163.469651</td>\n",
       "      <td>0</td>\n",
       "      <td>[]</td>\n",
       "      <td>{'appointment': None, 'email': None, 'phone': ...</td>\n",
       "      <td>5217</td>\n",
       "      <td>False</td>\n",
       "      <td>Engineer, broadcasting (operations)</td>\n",
       "      <td>False</td>\n",
       "      <td>Public</td>\n",
       "      <td>False</td>\n",
       "    </tr>\n",
       "    <tr>\n",
       "      <th>555437</th>\n",
       "      <td>6742757</td>\n",
       "      <td>4</td>\n",
       "      <td>3.2</td>\n",
       "      <td>Sharon Howard</td>\n",
       "      <td>Switzerland</td>\n",
       "      <td>1973-09-16</td>\n",
       "      <td>4660 Wilson Streets Apt. 764\\nSouth Amyside, P...</td>\n",
       "      <td>2025-02-22</td>\n",
       "      <td>0</td>\n",
       "      <td>0</td>\n",
       "      <td>...</td>\n",
       "      <td>119.017834</td>\n",
       "      <td>0</td>\n",
       "      <td>[]</td>\n",
       "      <td>{'appointment': None, 'email': None, 'phone': ...</td>\n",
       "      <td>448</td>\n",
       "      <td>False</td>\n",
       "      <td>Hydrographic surveyor</td>\n",
       "      <td>False</td>\n",
       "      <td>Public</td>\n",
       "      <td>False</td>\n",
       "    </tr>\n",
       "    <tr>\n",
       "      <th>38410</th>\n",
       "      <td>6225730</td>\n",
       "      <td>5</td>\n",
       "      <td>3.0</td>\n",
       "      <td>Emily Solis</td>\n",
       "      <td>Netherlands</td>\n",
       "      <td>2006-06-30</td>\n",
       "      <td>664 Brown Rapid\\nBrianburgh, MN 10337 Netherlands</td>\n",
       "      <td>2024-02-01</td>\n",
       "      <td>0</td>\n",
       "      <td>0</td>\n",
       "      <td>...</td>\n",
       "      <td>63.071141</td>\n",
       "      <td>0</td>\n",
       "      <td>[phone, phone]</td>\n",
       "      <td>{'appointment': None, 'email': None, 'phone': ...</td>\n",
       "      <td>5859</td>\n",
       "      <td>False</td>\n",
       "      <td>Occupational hygienist</td>\n",
       "      <td>False</td>\n",
       "      <td>Private</td>\n",
       "      <td>False</td>\n",
       "    </tr>\n",
       "  </tbody>\n",
       "</table>\n",
       "<p>5 rows × 27 columns</p>\n",
       "</div>"
      ],
      "text/plain": [
       "              Id  customer_id  interest_rate              name      country  \\\n",
       "1097087  7284407            1            0.0    Yolanda Parker    Lithuania   \n",
       "1040227  7227547            2            2.8       Bonnie Carr       Greece   \n",
       "392455   6579775            3            0.0  Michael Mcknight      Romania   \n",
       "555437   6742757            4            3.2     Sharon Howard  Switzerland   \n",
       "38410    6225730            5            3.0       Emily Solis  Netherlands   \n",
       "\n",
       "        date_of_birth                                            address  \\\n",
       "1097087    1954-07-10  1929 Erin Lights Suite 709\\nLake Michaelburgh,...   \n",
       "1040227    1947-05-27  00867 Dominguez Camp Apt. 575\\nPort Josephland...   \n",
       "392455     2002-11-09  36495 Travis Ranch Apt. 055\\nJustinmouth, CO 7...   \n",
       "555437     1973-09-16  4660 Wilson Streets Apt. 764\\nSouth Amyside, P...   \n",
       "38410      2006-06-30  664 Brown Rapid\\nBrianburgh, MN 10337 Netherlands   \n",
       "\n",
       "              date  atm_transfer_in  atm_transfer_out  ...  crypto_out_volume  \\\n",
       "1097087 2026-02-27                0                 0  ...         213.615319   \n",
       "1040227 2026-01-03                0                 0  ...          34.881290   \n",
       "392455  2024-10-27                0                 0  ...        1163.469651   \n",
       "555437  2025-02-22                0                 0  ...         119.017834   \n",
       "38410   2024-02-01                0                 0  ...          63.071141   \n",
       "\n",
       "         complaints     touchpoints  \\\n",
       "1097087           0              []   \n",
       "1040227           0              []   \n",
       "392455            0              []   \n",
       "555437            0              []   \n",
       "38410             0  [phone, phone]   \n",
       "\n",
       "                                               csat_scores  tenure  \\\n",
       "1097087  {'appointment': None, 'email': None, 'phone': ...    5398   \n",
       "1040227  {'appointment': None, 'email': None, 'phone': ...     887   \n",
       "392455   {'appointment': None, 'email': None, 'phone': ...    5217   \n",
       "555437   {'appointment': None, 'email': None, 'phone': ...     448   \n",
       "38410    {'appointment': None, 'email': None, 'phone': ...    5859   \n",
       "\n",
       "         from_competitor                                  job  \\\n",
       "1097087            False               Amenity horticulturist   \n",
       "1040227            False                  Exhibition designer   \n",
       "392455             False  Engineer, broadcasting (operations)   \n",
       "555437             False                Hydrographic surveyor   \n",
       "38410              False               Occupational hygienist   \n",
       "\n",
       "         churn_due_to_fraud    Usage model_predicted_fraud  \n",
       "1097087               False   Public                 False  \n",
       "1040227               False   Public                 False  \n",
       "392455                False   Public                 False  \n",
       "555437                False   Public                 False  \n",
       "38410                 False  Private                 False  \n",
       "\n",
       "[5 rows x 27 columns]"
      ]
     },
     "execution_count": 8,
     "metadata": {},
     "output_type": "execute_result"
    }
   ],
   "source": [
    "df_test = pq.read_table('/kaggle/input/neo-bank-non-sub-churn-prediction/test.parquet').to_pandas() \n",
    "df_test = df_test.sort_values(by=['customer_id','date'])\n",
    "df_test.head()"
   ]
  },
  {
   "cell_type": "code",
   "execution_count": 9,
   "id": "85a4082c",
   "metadata": {
    "execution": {
     "iopub.execute_input": "2025-01-13T22:41:19.354644Z",
     "iopub.status.busy": "2025-01-13T22:41:19.354422Z",
     "iopub.status.idle": "2025-01-13T22:41:20.252205Z",
     "shell.execute_reply": "2025-01-13T22:41:20.251088Z"
    },
    "papermill": {
     "duration": 0.911015,
     "end_time": "2025-01-13T22:41:20.253648",
     "exception": false,
     "start_time": "2025-01-13T22:41:19.342633",
     "status": "completed"
    },
    "tags": []
   },
   "outputs": [
    {
     "name": "stdout",
     "output_type": "stream",
     "text": [
      "country\n",
      "1    165155\n",
      "Name: count, dtype: int64\n",
      "address\n",
      "1    165155\n",
      "Name: count, dtype: int64\n",
      "job\n",
      "1    165155\n",
      "Name: count, dtype: int64\n",
      "Usage\n",
      "1    165090\n",
      "2        65\n",
      "Name: count, dtype: int64\n"
     ]
    }
   ],
   "source": [
    "# no job/country/address change  in test\n",
    "for i in ['country','address','job','Usage']:\n",
    "    print(df_test.groupby('customer_id')[i].nunique().value_counts())"
   ]
  },
  {
   "cell_type": "code",
   "execution_count": 10,
   "id": "5c376f05",
   "metadata": {
    "execution": {
     "iopub.execute_input": "2025-01-13T22:41:20.280973Z",
     "iopub.status.busy": "2025-01-13T22:41:20.280704Z",
     "iopub.status.idle": "2025-01-13T22:41:20.300069Z",
     "shell.execute_reply": "2025-01-13T22:41:20.299054Z"
    },
    "papermill": {
     "duration": 0.033425,
     "end_time": "2025-01-13T22:41:20.301359",
     "exception": false,
     "start_time": "2025-01-13T22:41:20.267934",
     "status": "completed"
    },
    "tags": []
   },
   "outputs": [
    {
     "data": {
      "text/html": [
       "<div>\n",
       "<style scoped>\n",
       "    .dataframe tbody tr th:only-of-type {\n",
       "        vertical-align: middle;\n",
       "    }\n",
       "\n",
       "    .dataframe tbody tr th {\n",
       "        vertical-align: top;\n",
       "    }\n",
       "\n",
       "    .dataframe thead th {\n",
       "        text-align: right;\n",
       "    }\n",
       "</style>\n",
       "<table border=\"1\" class=\"dataframe\">\n",
       "  <thead>\n",
       "    <tr style=\"text-align: right;\">\n",
       "      <th></th>\n",
       "      <th>Id</th>\n",
       "      <th>customer_id</th>\n",
       "      <th>interest_rate</th>\n",
       "      <th>name</th>\n",
       "      <th>country</th>\n",
       "      <th>date_of_birth</th>\n",
       "      <th>address</th>\n",
       "      <th>date</th>\n",
       "      <th>atm_transfer_in</th>\n",
       "      <th>atm_transfer_out</th>\n",
       "      <th>...</th>\n",
       "      <th>crypto_out_volume</th>\n",
       "      <th>complaints</th>\n",
       "      <th>touchpoints</th>\n",
       "      <th>csat_scores</th>\n",
       "      <th>tenure</th>\n",
       "      <th>from_competitor</th>\n",
       "      <th>job</th>\n",
       "      <th>churn_due_to_fraud</th>\n",
       "      <th>Usage</th>\n",
       "      <th>model_predicted_fraud</th>\n",
       "    </tr>\n",
       "  </thead>\n",
       "  <tbody>\n",
       "    <tr>\n",
       "      <th>1097087</th>\n",
       "      <td>7284407</td>\n",
       "      <td>1</td>\n",
       "      <td>0.0</td>\n",
       "      <td>Yolanda Parker</td>\n",
       "      <td>Lithuania</td>\n",
       "      <td>1954-07-10</td>\n",
       "      <td>1929 Erin Lights Suite 709\\nLake Michaelburgh,...</td>\n",
       "      <td>2026-02-27</td>\n",
       "      <td>0</td>\n",
       "      <td>0</td>\n",
       "      <td>...</td>\n",
       "      <td>213.615319</td>\n",
       "      <td>0</td>\n",
       "      <td>[]</td>\n",
       "      <td>{'appointment': None, 'email': None, 'phone': ...</td>\n",
       "      <td>5398</td>\n",
       "      <td>False</td>\n",
       "      <td>Amenity horticulturist</td>\n",
       "      <td>False</td>\n",
       "      <td>Public</td>\n",
       "      <td>False</td>\n",
       "    </tr>\n",
       "    <tr>\n",
       "      <th>1040227</th>\n",
       "      <td>7227547</td>\n",
       "      <td>2</td>\n",
       "      <td>2.8</td>\n",
       "      <td>Bonnie Carr</td>\n",
       "      <td>Greece</td>\n",
       "      <td>1947-05-27</td>\n",
       "      <td>00867 Dominguez Camp Apt. 575\\nPort Josephland...</td>\n",
       "      <td>2026-01-03</td>\n",
       "      <td>0</td>\n",
       "      <td>0</td>\n",
       "      <td>...</td>\n",
       "      <td>34.881290</td>\n",
       "      <td>0</td>\n",
       "      <td>[]</td>\n",
       "      <td>{'appointment': None, 'email': None, 'phone': ...</td>\n",
       "      <td>887</td>\n",
       "      <td>False</td>\n",
       "      <td>Exhibition designer</td>\n",
       "      <td>False</td>\n",
       "      <td>Public</td>\n",
       "      <td>False</td>\n",
       "    </tr>\n",
       "    <tr>\n",
       "      <th>392455</th>\n",
       "      <td>6579775</td>\n",
       "      <td>3</td>\n",
       "      <td>0.0</td>\n",
       "      <td>Michael Mcknight</td>\n",
       "      <td>Romania</td>\n",
       "      <td>2002-11-09</td>\n",
       "      <td>36495 Travis Ranch Apt. 055\\nJustinmouth, CO 7...</td>\n",
       "      <td>2024-10-27</td>\n",
       "      <td>0</td>\n",
       "      <td>0</td>\n",
       "      <td>...</td>\n",
       "      <td>1163.469651</td>\n",
       "      <td>0</td>\n",
       "      <td>[]</td>\n",
       "      <td>{'appointment': None, 'email': None, 'phone': ...</td>\n",
       "      <td>5217</td>\n",
       "      <td>False</td>\n",
       "      <td>Engineer, broadcasting (operations)</td>\n",
       "      <td>False</td>\n",
       "      <td>Public</td>\n",
       "      <td>False</td>\n",
       "    </tr>\n",
       "    <tr>\n",
       "      <th>555437</th>\n",
       "      <td>6742757</td>\n",
       "      <td>4</td>\n",
       "      <td>3.2</td>\n",
       "      <td>Sharon Howard</td>\n",
       "      <td>Switzerland</td>\n",
       "      <td>1973-09-16</td>\n",
       "      <td>4660 Wilson Streets Apt. 764\\nSouth Amyside, P...</td>\n",
       "      <td>2025-02-22</td>\n",
       "      <td>0</td>\n",
       "      <td>0</td>\n",
       "      <td>...</td>\n",
       "      <td>119.017834</td>\n",
       "      <td>0</td>\n",
       "      <td>[]</td>\n",
       "      <td>{'appointment': None, 'email': None, 'phone': ...</td>\n",
       "      <td>448</td>\n",
       "      <td>False</td>\n",
       "      <td>Hydrographic surveyor</td>\n",
       "      <td>False</td>\n",
       "      <td>Public</td>\n",
       "      <td>False</td>\n",
       "    </tr>\n",
       "    <tr>\n",
       "      <th>38410</th>\n",
       "      <td>6225730</td>\n",
       "      <td>5</td>\n",
       "      <td>3.0</td>\n",
       "      <td>Emily Solis</td>\n",
       "      <td>Netherlands</td>\n",
       "      <td>2006-06-30</td>\n",
       "      <td>664 Brown Rapid\\nBrianburgh, MN 10337 Netherlands</td>\n",
       "      <td>2024-02-01</td>\n",
       "      <td>0</td>\n",
       "      <td>0</td>\n",
       "      <td>...</td>\n",
       "      <td>63.071141</td>\n",
       "      <td>0</td>\n",
       "      <td>[phone, phone]</td>\n",
       "      <td>{'appointment': None, 'email': None, 'phone': ...</td>\n",
       "      <td>5859</td>\n",
       "      <td>False</td>\n",
       "      <td>Occupational hygienist</td>\n",
       "      <td>False</td>\n",
       "      <td>Private</td>\n",
       "      <td>False</td>\n",
       "    </tr>\n",
       "  </tbody>\n",
       "</table>\n",
       "<p>5 rows × 27 columns</p>\n",
       "</div>"
      ],
      "text/plain": [
       "              Id  customer_id  interest_rate              name      country  \\\n",
       "1097087  7284407            1            0.0    Yolanda Parker    Lithuania   \n",
       "1040227  7227547            2            2.8       Bonnie Carr       Greece   \n",
       "392455   6579775            3            0.0  Michael Mcknight      Romania   \n",
       "555437   6742757            4            3.2     Sharon Howard  Switzerland   \n",
       "38410    6225730            5            3.0       Emily Solis  Netherlands   \n",
       "\n",
       "        date_of_birth                                            address  \\\n",
       "1097087    1954-07-10  1929 Erin Lights Suite 709\\nLake Michaelburgh,...   \n",
       "1040227    1947-05-27  00867 Dominguez Camp Apt. 575\\nPort Josephland...   \n",
       "392455     2002-11-09  36495 Travis Ranch Apt. 055\\nJustinmouth, CO 7...   \n",
       "555437     1973-09-16  4660 Wilson Streets Apt. 764\\nSouth Amyside, P...   \n",
       "38410      2006-06-30  664 Brown Rapid\\nBrianburgh, MN 10337 Netherlands   \n",
       "\n",
       "              date  atm_transfer_in  atm_transfer_out  ...  crypto_out_volume  \\\n",
       "1097087 2026-02-27                0                 0  ...         213.615319   \n",
       "1040227 2026-01-03                0                 0  ...          34.881290   \n",
       "392455  2024-10-27                0                 0  ...        1163.469651   \n",
       "555437  2025-02-22                0                 0  ...         119.017834   \n",
       "38410   2024-02-01                0                 0  ...          63.071141   \n",
       "\n",
       "         complaints     touchpoints  \\\n",
       "1097087           0              []   \n",
       "1040227           0              []   \n",
       "392455            0              []   \n",
       "555437            0              []   \n",
       "38410             0  [phone, phone]   \n",
       "\n",
       "                                               csat_scores  tenure  \\\n",
       "1097087  {'appointment': None, 'email': None, 'phone': ...    5398   \n",
       "1040227  {'appointment': None, 'email': None, 'phone': ...     887   \n",
       "392455   {'appointment': None, 'email': None, 'phone': ...    5217   \n",
       "555437   {'appointment': None, 'email': None, 'phone': ...     448   \n",
       "38410    {'appointment': None, 'email': None, 'phone': ...    5859   \n",
       "\n",
       "         from_competitor                                  job  \\\n",
       "1097087            False               Amenity horticulturist   \n",
       "1040227            False                  Exhibition designer   \n",
       "392455             False  Engineer, broadcasting (operations)   \n",
       "555437             False                Hydrographic surveyor   \n",
       "38410              False               Occupational hygienist   \n",
       "\n",
       "         churn_due_to_fraud    Usage model_predicted_fraud  \n",
       "1097087               False   Public                 False  \n",
       "1040227               False   Public                 False  \n",
       "392455                False   Public                 False  \n",
       "555437                False   Public                 False  \n",
       "38410                 False  Private                 False  \n",
       "\n",
       "[5 rows x 27 columns]"
      ]
     },
     "execution_count": 10,
     "metadata": {},
     "output_type": "execute_result"
    }
   ],
   "source": [
    "df_test.head()"
   ]
  },
  {
   "cell_type": "code",
   "execution_count": 11,
   "id": "ebd1cbcf",
   "metadata": {
    "execution": {
     "iopub.execute_input": "2025-01-13T22:41:20.328293Z",
     "iopub.status.busy": "2025-01-13T22:41:20.328052Z",
     "iopub.status.idle": "2025-01-13T22:41:23.776550Z",
     "shell.execute_reply": "2025-01-13T22:41:23.775565Z"
    },
    "papermill": {
     "duration": 3.462331,
     "end_time": "2025-01-13T22:41:23.778160",
     "exception": false,
     "start_time": "2025-01-13T22:41:20.315829",
     "status": "completed"
    },
    "tags": []
   },
   "outputs": [
    {
     "data": {
      "text/html": [
       "<div>\n",
       "<style scoped>\n",
       "    .dataframe tbody tr th:only-of-type {\n",
       "        vertical-align: middle;\n",
       "    }\n",
       "\n",
       "    .dataframe tbody tr th {\n",
       "        vertical-align: top;\n",
       "    }\n",
       "\n",
       "    .dataframe thead th {\n",
       "        text-align: right;\n",
       "    }\n",
       "</style>\n",
       "<table border=\"1\" class=\"dataframe\">\n",
       "  <thead>\n",
       "    <tr style=\"text-align: right;\">\n",
       "      <th></th>\n",
       "      <th>nunique</th>\n",
       "      <th>len</th>\n",
       "      <th>types</th>\n",
       "      <th>Nulls</th>\n",
       "      <th>Value counts Max</th>\n",
       "      <th>Value counts Min</th>\n",
       "    </tr>\n",
       "  </thead>\n",
       "  <tbody>\n",
       "    <tr>\n",
       "      <th>Id</th>\n",
       "      <td>1360472</td>\n",
       "      <td>1360472</td>\n",
       "      <td>int64</td>\n",
       "      <td>0</td>\n",
       "      <td>1</td>\n",
       "      <td>1</td>\n",
       "    </tr>\n",
       "    <tr>\n",
       "      <th>crypto_out_volume</th>\n",
       "      <td>1358289</td>\n",
       "      <td>1360472</td>\n",
       "      <td>float64</td>\n",
       "      <td>0</td>\n",
       "      <td>2</td>\n",
       "      <td>1</td>\n",
       "    </tr>\n",
       "    <tr>\n",
       "      <th>bank_transfer_in_volume</th>\n",
       "      <td>1358289</td>\n",
       "      <td>1360472</td>\n",
       "      <td>float64</td>\n",
       "      <td>0</td>\n",
       "      <td>2</td>\n",
       "      <td>1</td>\n",
       "    </tr>\n",
       "    <tr>\n",
       "      <th>crypto_in_volume</th>\n",
       "      <td>1358289</td>\n",
       "      <td>1360472</td>\n",
       "      <td>float64</td>\n",
       "      <td>0</td>\n",
       "      <td>2</td>\n",
       "      <td>1</td>\n",
       "    </tr>\n",
       "    <tr>\n",
       "      <th>bank_transfer_out_volume</th>\n",
       "      <td>1358289</td>\n",
       "      <td>1360472</td>\n",
       "      <td>float64</td>\n",
       "      <td>0</td>\n",
       "      <td>2</td>\n",
       "      <td>1</td>\n",
       "    </tr>\n",
       "    <tr>\n",
       "      <th>customer_id</th>\n",
       "      <td>165155</td>\n",
       "      <td>1360472</td>\n",
       "      <td>int64</td>\n",
       "      <td>0</td>\n",
       "      <td>84</td>\n",
       "      <td>1</td>\n",
       "    </tr>\n",
       "    <tr>\n",
       "      <th>bank_transfer_in</th>\n",
       "      <td>22010</td>\n",
       "      <td>1360472</td>\n",
       "      <td>int64</td>\n",
       "      <td>0</td>\n",
       "      <td>521251</td>\n",
       "      <td>1</td>\n",
       "    </tr>\n",
       "    <tr>\n",
       "      <th>bank_transfer_out</th>\n",
       "      <td>16734</td>\n",
       "      <td>1360472</td>\n",
       "      <td>int64</td>\n",
       "      <td>0</td>\n",
       "      <td>699179</td>\n",
       "      <td>1</td>\n",
       "    </tr>\n",
       "    <tr>\n",
       "      <th>tenure</th>\n",
       "      <td>4831</td>\n",
       "      <td>1360472</td>\n",
       "      <td>int64</td>\n",
       "      <td>0</td>\n",
       "      <td>54198</td>\n",
       "      <td>1</td>\n",
       "    </tr>\n",
       "    <tr>\n",
       "      <th>date</th>\n",
       "      <td>1096</td>\n",
       "      <td>1360472</td>\n",
       "      <td>datetime64[ns]</td>\n",
       "      <td>0</td>\n",
       "      <td>1643</td>\n",
       "      <td>17</td>\n",
       "    </tr>\n",
       "    <tr>\n",
       "      <th>atm_transfer_in</th>\n",
       "      <td>293</td>\n",
       "      <td>1360472</td>\n",
       "      <td>int64</td>\n",
       "      <td>0</td>\n",
       "      <td>1349131</td>\n",
       "      <td>1</td>\n",
       "    </tr>\n",
       "    <tr>\n",
       "      <th>atm_transfer_out</th>\n",
       "      <td>273</td>\n",
       "      <td>1360472</td>\n",
       "      <td>int64</td>\n",
       "      <td>0</td>\n",
       "      <td>1347441</td>\n",
       "      <td>1</td>\n",
       "    </tr>\n",
       "    <tr>\n",
       "      <th>crypto_in</th>\n",
       "      <td>237</td>\n",
       "      <td>1360472</td>\n",
       "      <td>int64</td>\n",
       "      <td>0</td>\n",
       "      <td>961186</td>\n",
       "      <td>1</td>\n",
       "    </tr>\n",
       "    <tr>\n",
       "      <th>crypto_out</th>\n",
       "      <td>89</td>\n",
       "      <td>1360472</td>\n",
       "      <td>int64</td>\n",
       "      <td>0</td>\n",
       "      <td>961602</td>\n",
       "      <td>1</td>\n",
       "    </tr>\n",
       "    <tr>\n",
       "      <th>interest_rate</th>\n",
       "      <td>7</td>\n",
       "      <td>1360472</td>\n",
       "      <td>float64</td>\n",
       "      <td>0</td>\n",
       "      <td>545563</td>\n",
       "      <td>125</td>\n",
       "    </tr>\n",
       "    <tr>\n",
       "      <th>complaints</th>\n",
       "      <td>4</td>\n",
       "      <td>1360472</td>\n",
       "      <td>int64</td>\n",
       "      <td>0</td>\n",
       "      <td>1347118</td>\n",
       "      <td>4199</td>\n",
       "    </tr>\n",
       "    <tr>\n",
       "      <th>from_competitor</th>\n",
       "      <td>2</td>\n",
       "      <td>1360472</td>\n",
       "      <td>bool</td>\n",
       "      <td>0</td>\n",
       "      <td>1320111</td>\n",
       "      <td>40361</td>\n",
       "    </tr>\n",
       "    <tr>\n",
       "      <th>churn_due_to_fraud</th>\n",
       "      <td>2</td>\n",
       "      <td>1360472</td>\n",
       "      <td>bool</td>\n",
       "      <td>0</td>\n",
       "      <td>1360417</td>\n",
       "      <td>55</td>\n",
       "    </tr>\n",
       "    <tr>\n",
       "      <th>model_predicted_fraud</th>\n",
       "      <td>2</td>\n",
       "      <td>1360472</td>\n",
       "      <td>bool</td>\n",
       "      <td>0</td>\n",
       "      <td>1360145</td>\n",
       "      <td>327</td>\n",
       "    </tr>\n",
       "  </tbody>\n",
       "</table>\n",
       "</div>"
      ],
      "text/plain": [
       "                          nunique      len           types  Nulls  \\\n",
       "Id                        1360472  1360472           int64      0   \n",
       "crypto_out_volume         1358289  1360472         float64      0   \n",
       "bank_transfer_in_volume   1358289  1360472         float64      0   \n",
       "crypto_in_volume          1358289  1360472         float64      0   \n",
       "bank_transfer_out_volume  1358289  1360472         float64      0   \n",
       "customer_id                165155  1360472           int64      0   \n",
       "bank_transfer_in            22010  1360472           int64      0   \n",
       "bank_transfer_out           16734  1360472           int64      0   \n",
       "tenure                       4831  1360472           int64      0   \n",
       "date                         1096  1360472  datetime64[ns]      0   \n",
       "atm_transfer_in               293  1360472           int64      0   \n",
       "atm_transfer_out              273  1360472           int64      0   \n",
       "crypto_in                     237  1360472           int64      0   \n",
       "crypto_out                     89  1360472           int64      0   \n",
       "interest_rate                   7  1360472         float64      0   \n",
       "complaints                      4  1360472           int64      0   \n",
       "from_competitor                 2  1360472            bool      0   \n",
       "churn_due_to_fraud              2  1360472            bool      0   \n",
       "model_predicted_fraud           2  1360472            bool      0   \n",
       "\n",
       "                          Value counts Max  Value counts Min  \n",
       "Id                                       1                 1  \n",
       "crypto_out_volume                        2                 1  \n",
       "bank_transfer_in_volume                  2                 1  \n",
       "crypto_in_volume                         2                 1  \n",
       "bank_transfer_out_volume                 2                 1  \n",
       "customer_id                             84                 1  \n",
       "bank_transfer_in                    521251                 1  \n",
       "bank_transfer_out                   699179                 1  \n",
       "tenure                               54198                 1  \n",
       "date                                  1643                17  \n",
       "atm_transfer_in                    1349131                 1  \n",
       "atm_transfer_out                   1347441                 1  \n",
       "crypto_in                           961186                 1  \n",
       "crypto_out                          961602                 1  \n",
       "interest_rate                       545563               125  \n",
       "complaints                         1347118              4199  \n",
       "from_competitor                    1320111             40361  \n",
       "churn_due_to_fraud                 1360417                55  \n",
       "model_predicted_fraud              1360145               327  "
      ]
     },
     "execution_count": 11,
     "metadata": {},
     "output_type": "execute_result"
    }
   ],
   "source": [
    "stats(df_test.select_dtypes(exclude = ['object']))"
   ]
  },
  {
   "cell_type": "code",
   "execution_count": 12,
   "id": "6d53248e",
   "metadata": {
    "execution": {
     "iopub.execute_input": "2025-01-13T22:41:23.804239Z",
     "iopub.status.busy": "2025-01-13T22:41:23.803987Z",
     "iopub.status.idle": "2025-01-13T22:41:23.964957Z",
     "shell.execute_reply": "2025-01-13T22:41:23.964057Z"
    },
    "papermill": {
     "duration": 0.174893,
     "end_time": "2025-01-13T22:41:23.966288",
     "exception": false,
     "start_time": "2025-01-13T22:41:23.791395",
     "status": "completed"
    },
    "tags": []
   },
   "outputs": [
    {
     "data": {
      "text/html": [
       "<div>\n",
       "<style scoped>\n",
       "    .dataframe tbody tr th:only-of-type {\n",
       "        vertical-align: middle;\n",
       "    }\n",
       "\n",
       "    .dataframe tbody tr th {\n",
       "        vertical-align: top;\n",
       "    }\n",
       "\n",
       "    .dataframe thead th {\n",
       "        text-align: right;\n",
       "    }\n",
       "</style>\n",
       "<table border=\"1\" class=\"dataframe\">\n",
       "  <thead>\n",
       "    <tr style=\"text-align: right;\">\n",
       "      <th></th>\n",
       "      <th>name</th>\n",
       "      <th>country</th>\n",
       "      <th>date_of_birth</th>\n",
       "      <th>address</th>\n",
       "      <th>touchpoints</th>\n",
       "      <th>csat_scores</th>\n",
       "      <th>job</th>\n",
       "      <th>Usage</th>\n",
       "    </tr>\n",
       "  </thead>\n",
       "  <tbody>\n",
       "    <tr>\n",
       "      <th>1097087</th>\n",
       "      <td>Yolanda Parker</td>\n",
       "      <td>Lithuania</td>\n",
       "      <td>1954-07-10</td>\n",
       "      <td>1929 Erin Lights Suite 709\\nLake Michaelburgh,...</td>\n",
       "      <td>[]</td>\n",
       "      <td>{'appointment': None, 'email': None, 'phone': ...</td>\n",
       "      <td>Amenity horticulturist</td>\n",
       "      <td>Public</td>\n",
       "    </tr>\n",
       "    <tr>\n",
       "      <th>1040227</th>\n",
       "      <td>Bonnie Carr</td>\n",
       "      <td>Greece</td>\n",
       "      <td>1947-05-27</td>\n",
       "      <td>00867 Dominguez Camp Apt. 575\\nPort Josephland...</td>\n",
       "      <td>[]</td>\n",
       "      <td>{'appointment': None, 'email': None, 'phone': ...</td>\n",
       "      <td>Exhibition designer</td>\n",
       "      <td>Public</td>\n",
       "    </tr>\n",
       "    <tr>\n",
       "      <th>392455</th>\n",
       "      <td>Michael Mcknight</td>\n",
       "      <td>Romania</td>\n",
       "      <td>2002-11-09</td>\n",
       "      <td>36495 Travis Ranch Apt. 055\\nJustinmouth, CO 7...</td>\n",
       "      <td>[]</td>\n",
       "      <td>{'appointment': None, 'email': None, 'phone': ...</td>\n",
       "      <td>Engineer, broadcasting (operations)</td>\n",
       "      <td>Public</td>\n",
       "    </tr>\n",
       "    <tr>\n",
       "      <th>555437</th>\n",
       "      <td>Sharon Howard</td>\n",
       "      <td>Switzerland</td>\n",
       "      <td>1973-09-16</td>\n",
       "      <td>4660 Wilson Streets Apt. 764\\nSouth Amyside, P...</td>\n",
       "      <td>[]</td>\n",
       "      <td>{'appointment': None, 'email': None, 'phone': ...</td>\n",
       "      <td>Hydrographic surveyor</td>\n",
       "      <td>Public</td>\n",
       "    </tr>\n",
       "    <tr>\n",
       "      <th>38410</th>\n",
       "      <td>Emily Solis</td>\n",
       "      <td>Netherlands</td>\n",
       "      <td>2006-06-30</td>\n",
       "      <td>664 Brown Rapid\\nBrianburgh, MN 10337 Netherlands</td>\n",
       "      <td>[phone, phone]</td>\n",
       "      <td>{'appointment': None, 'email': None, 'phone': ...</td>\n",
       "      <td>Occupational hygienist</td>\n",
       "      <td>Private</td>\n",
       "    </tr>\n",
       "  </tbody>\n",
       "</table>\n",
       "</div>"
      ],
      "text/plain": [
       "                     name      country date_of_birth  \\\n",
       "1097087    Yolanda Parker    Lithuania    1954-07-10   \n",
       "1040227       Bonnie Carr       Greece    1947-05-27   \n",
       "392455   Michael Mcknight      Romania    2002-11-09   \n",
       "555437      Sharon Howard  Switzerland    1973-09-16   \n",
       "38410         Emily Solis  Netherlands    2006-06-30   \n",
       "\n",
       "                                                   address     touchpoints  \\\n",
       "1097087  1929 Erin Lights Suite 709\\nLake Michaelburgh,...              []   \n",
       "1040227  00867 Dominguez Camp Apt. 575\\nPort Josephland...              []   \n",
       "392455   36495 Travis Ranch Apt. 055\\nJustinmouth, CO 7...              []   \n",
       "555437   4660 Wilson Streets Apt. 764\\nSouth Amyside, P...              []   \n",
       "38410    664 Brown Rapid\\nBrianburgh, MN 10337 Netherlands  [phone, phone]   \n",
       "\n",
       "                                               csat_scores  \\\n",
       "1097087  {'appointment': None, 'email': None, 'phone': ...   \n",
       "1040227  {'appointment': None, 'email': None, 'phone': ...   \n",
       "392455   {'appointment': None, 'email': None, 'phone': ...   \n",
       "555437   {'appointment': None, 'email': None, 'phone': ...   \n",
       "38410    {'appointment': None, 'email': None, 'phone': ...   \n",
       "\n",
       "                                         job    Usage  \n",
       "1097087               Amenity horticulturist   Public  \n",
       "1040227                  Exhibition designer   Public  \n",
       "392455   Engineer, broadcasting (operations)   Public  \n",
       "555437                 Hydrographic surveyor   Public  \n",
       "38410                 Occupational hygienist  Private  "
      ]
     },
     "execution_count": 12,
     "metadata": {},
     "output_type": "execute_result"
    }
   ],
   "source": [
    "df_test.select_dtypes('object').head()"
   ]
  },
  {
   "cell_type": "markdown",
   "id": "0f7a13c2",
   "metadata": {
    "papermill": {
     "duration": 0.012027,
     "end_time": "2025-01-13T22:41:23.991183",
     "exception": false,
     "start_time": "2025-01-13T22:41:23.979156",
     "status": "completed"
    },
    "tags": []
   },
   "source": [
    "## check time spans train"
   ]
  },
  {
   "cell_type": "code",
   "execution_count": 13,
   "id": "99a85dfe",
   "metadata": {
    "execution": {
     "iopub.execute_input": "2025-01-13T22:41:24.016523Z",
     "iopub.status.busy": "2025-01-13T22:41:24.016263Z",
     "iopub.status.idle": "2025-01-13T22:41:24.322233Z",
     "shell.execute_reply": "2025-01-13T22:41:24.321359Z"
    },
    "papermill": {
     "duration": 0.320116,
     "end_time": "2025-01-13T22:41:24.323602",
     "exception": false,
     "start_time": "2025-01-13T22:41:24.003486",
     "status": "completed"
    },
    "tags": []
   },
   "outputs": [
    {
     "data": {
      "text/html": [
       "<div>\n",
       "<style scoped>\n",
       "    .dataframe tbody tr th:only-of-type {\n",
       "        vertical-align: middle;\n",
       "    }\n",
       "\n",
       "    .dataframe tbody tr th {\n",
       "        vertical-align: top;\n",
       "    }\n",
       "\n",
       "    .dataframe thead th {\n",
       "        text-align: right;\n",
       "    }\n",
       "</style>\n",
       "<table border=\"1\" class=\"dataframe\">\n",
       "  <thead>\n",
       "    <tr style=\"text-align: right;\">\n",
       "      <th></th>\n",
       "      <th>min</th>\n",
       "      <th>max</th>\n",
       "      <th>diff</th>\n",
       "    </tr>\n",
       "    <tr>\n",
       "      <th>customer_id</th>\n",
       "      <th></th>\n",
       "      <th></th>\n",
       "      <th></th>\n",
       "    </tr>\n",
       "  </thead>\n",
       "  <tbody>\n",
       "    <tr>\n",
       "      <th>1</th>\n",
       "      <td>2008</td>\n",
       "      <td>2022</td>\n",
       "      <td>14</td>\n",
       "    </tr>\n",
       "    <tr>\n",
       "      <th>2</th>\n",
       "      <td>2008</td>\n",
       "      <td>2010</td>\n",
       "      <td>2</td>\n",
       "    </tr>\n",
       "    <tr>\n",
       "      <th>3</th>\n",
       "      <td>2008</td>\n",
       "      <td>2022</td>\n",
       "      <td>14</td>\n",
       "    </tr>\n",
       "    <tr>\n",
       "      <th>4</th>\n",
       "      <td>2008</td>\n",
       "      <td>2009</td>\n",
       "      <td>1</td>\n",
       "    </tr>\n",
       "    <tr>\n",
       "      <th>5</th>\n",
       "      <td>2008</td>\n",
       "      <td>2023</td>\n",
       "      <td>15</td>\n",
       "    </tr>\n",
       "  </tbody>\n",
       "</table>\n",
       "</div>"
      ],
      "text/plain": [
       "              min   max  diff\n",
       "customer_id                  \n",
       "1            2008  2022    14\n",
       "2            2008  2010     2\n",
       "3            2008  2022    14\n",
       "4            2008  2009     1\n",
       "5            2008  2023    15"
      ]
     },
     "execution_count": 13,
     "metadata": {},
     "output_type": "execute_result"
    }
   ],
   "source": [
    "df_train['year'] = df_train.date.dt.year\n",
    "df_train['month'] = df_train.date.dt.month\n",
    "\n",
    "periods = df_train.groupby('customer_id').agg({'year':['min','max']}).droplevel(0, axis=1) \n",
    "periods['diff'] = periods['max']-periods['min']\n",
    "periods.head()"
   ]
  },
  {
   "cell_type": "code",
   "execution_count": 14,
   "id": "1794aea8",
   "metadata": {
    "execution": {
     "iopub.execute_input": "2025-01-13T22:41:24.350162Z",
     "iopub.status.busy": "2025-01-13T22:41:24.349921Z",
     "iopub.status.idle": "2025-01-13T22:41:24.936580Z",
     "shell.execute_reply": "2025-01-13T22:41:24.935742Z"
    },
    "papermill": {
     "duration": 0.601969,
     "end_time": "2025-01-13T22:41:24.938707",
     "exception": false,
     "start_time": "2025-01-13T22:41:24.336738",
     "status": "completed"
    },
    "tags": []
   },
   "outputs": [
    {
     "data": {
      "image/png": "[encoded data removed]",
      "text/plain": [
       "<Figure size 1200x600 with 2 Axes>"
      ]
     },
     "metadata": {},
     "output_type": "display_data"
    }
   ],
   "source": [
    "\n",
    "trans_matrix = periods.groupby(['min', 'max']).count().unstack()\n",
    "trans_matrix.columns = trans_matrix.columns.droplevel()\n",
    "\n",
    "fig, ax = plt.subplots(figsize=(12,6))\n",
    "ax = sns.heatmap(trans_matrix/1000,vmin=0,vmax=3,annot=True,fmt='.2f')\n",
    "for t in ax.texts: t.set_text(t.get_text() + \"k\")\n",
    "plt.show()"
   ]
  },
  {
   "cell_type": "markdown",
   "id": "f103984f",
   "metadata": {
    "papermill": {
     "duration": 0.013902,
     "end_time": "2025-01-13T22:41:24.967164",
     "exception": false,
     "start_time": "2025-01-13T22:41:24.953262",
     "status": "completed"
    },
    "tags": []
   },
   "source": [
    "### check time spans test"
   ]
  },
  {
   "cell_type": "code",
   "execution_count": 15,
   "id": "e7a2554d",
   "metadata": {
    "execution": {
     "iopub.execute_input": "2025-01-13T22:41:24.996264Z",
     "iopub.status.busy": "2025-01-13T22:41:24.996032Z",
     "iopub.status.idle": "2025-01-13T22:41:25.139483Z",
     "shell.execute_reply": "2025-01-13T22:41:25.138679Z"
    },
    "papermill": {
     "duration": 0.1595,
     "end_time": "2025-01-13T22:41:25.140975",
     "exception": false,
     "start_time": "2025-01-13T22:41:24.981475",
     "status": "completed"
    },
    "tags": []
   },
   "outputs": [
    {
     "data": {
      "text/html": [
       "<div>\n",
       "<style scoped>\n",
       "    .dataframe tbody tr th:only-of-type {\n",
       "        vertical-align: middle;\n",
       "    }\n",
       "\n",
       "    .dataframe tbody tr th {\n",
       "        vertical-align: top;\n",
       "    }\n",
       "\n",
       "    .dataframe thead th {\n",
       "        text-align: right;\n",
       "    }\n",
       "</style>\n",
       "<table border=\"1\" class=\"dataframe\">\n",
       "  <thead>\n",
       "    <tr style=\"text-align: right;\">\n",
       "      <th></th>\n",
       "      <th>min</th>\n",
       "      <th>max</th>\n",
       "      <th>diff</th>\n",
       "    </tr>\n",
       "    <tr>\n",
       "      <th>customer_id</th>\n",
       "      <th></th>\n",
       "      <th></th>\n",
       "      <th></th>\n",
       "    </tr>\n",
       "  </thead>\n",
       "  <tbody>\n",
       "    <tr>\n",
       "      <th>1</th>\n",
       "      <td>2026</td>\n",
       "      <td>2026</td>\n",
       "      <td>0</td>\n",
       "    </tr>\n",
       "    <tr>\n",
       "      <th>2</th>\n",
       "      <td>2026</td>\n",
       "      <td>2026</td>\n",
       "      <td>0</td>\n",
       "    </tr>\n",
       "    <tr>\n",
       "      <th>3</th>\n",
       "      <td>2024</td>\n",
       "      <td>2024</td>\n",
       "      <td>0</td>\n",
       "    </tr>\n",
       "    <tr>\n",
       "      <th>4</th>\n",
       "      <td>2025</td>\n",
       "      <td>2025</td>\n",
       "      <td>0</td>\n",
       "    </tr>\n",
       "    <tr>\n",
       "      <th>5</th>\n",
       "      <td>2024</td>\n",
       "      <td>2025</td>\n",
       "      <td>1</td>\n",
       "    </tr>\n",
       "  </tbody>\n",
       "</table>\n",
       "</div>"
      ],
      "text/plain": [
       "              min   max  diff\n",
       "customer_id                  \n",
       "1            2026  2026     0\n",
       "2            2026  2026     0\n",
       "3            2024  2024     0\n",
       "4            2025  2025     0\n",
       "5            2024  2025     1"
      ]
     },
     "execution_count": 15,
     "metadata": {},
     "output_type": "execute_result"
    }
   ],
   "source": [
    "df_test['year'] = df_test.date.dt.year\n",
    "df_test['month'] = df_test.date.dt.month\n",
    "\n",
    "test_periods = df_test.groupby('customer_id').agg({'year':['min','max']}).droplevel(0, axis=1) \n",
    "test_periods['diff'] = test_periods['max']-test_periods['min']\n",
    "test_periods.head()"
   ]
  },
  {
   "cell_type": "code",
   "execution_count": 16,
   "id": "e539ad5d",
   "metadata": {
    "execution": {
     "iopub.execute_input": "2025-01-13T22:41:25.176571Z",
     "iopub.status.busy": "2025-01-13T22:41:25.176293Z",
     "iopub.status.idle": "2025-01-13T22:41:25.409865Z",
     "shell.execute_reply": "2025-01-13T22:41:25.408975Z"
    },
    "papermill": {
     "duration": 0.250672,
     "end_time": "2025-01-13T22:41:25.411612",
     "exception": false,
     "start_time": "2025-01-13T22:41:25.160940",
     "status": "completed"
    },
    "tags": []
   },
   "outputs": [
    {
     "data": {
      "image/png": "[encoded data removed]",
      "text/plain": [
       "<Figure size 800x400 with 2 Axes>"
      ]
     },
     "metadata": {},
     "output_type": "display_data"
    }
   ],
   "source": [
    "trans_matrix = test_periods.groupby(['min', 'max']).count().unstack()\n",
    "trans_matrix.columns = trans_matrix.columns.droplevel()\n",
    "\n",
    "fig, ax = plt.subplots(figsize=(8,4))\n",
    "ax = sns.heatmap(trans_matrix/1000,annot=True,fmt='.1f')\n",
    "for t in ax.texts: t.set_text(t.get_text() + \"k\")\n",
    "plt.show()\n"
   ]
  },
  {
   "cell_type": "markdown",
   "id": "9f426e74",
   "metadata": {
    "papermill": {
     "duration": 0.014132,
     "end_time": "2025-01-13T22:41:25.441283",
     "exception": false,
     "start_time": "2025-01-13T22:41:25.427151",
     "status": "completed"
    },
    "tags": []
   },
   "source": [
    "# train test distribution"
   ]
  },
  {
   "cell_type": "code",
   "execution_count": 17,
   "id": "a068b2be",
   "metadata": {
    "execution": {
     "iopub.execute_input": "2025-01-13T22:41:25.471336Z",
     "iopub.status.busy": "2025-01-13T22:41:25.471099Z",
     "iopub.status.idle": "2025-01-13T22:41:25.475885Z",
     "shell.execute_reply": "2025-01-13T22:41:25.475222Z"
    },
    "papermill": {
     "duration": 0.021518,
     "end_time": "2025-01-13T22:41:25.477119",
     "exception": false,
     "start_time": "2025-01-13T22:41:25.455601",
     "status": "completed"
    },
    "tags": []
   },
   "outputs": [],
   "source": [
    "real_activity_columns = ['atm_transfer_in',\n",
    "       'atm_transfer_out', 'bank_transfer_in', 'bank_transfer_out',\n",
    "       'crypto_in', 'crypto_out']\n",
    "\n",
    "real_activity_volumn_columns = ['bank_transfer_in_volume',\n",
    "       'bank_transfer_out_volume', 'crypto_in_volume', 'crypto_out_volume']\n",
    "\n",
    "\n",
    "def add_columns_for_distributions(data:pd.DataFrame) -> pd.DataFrame:\n",
    "    data['prev_activity_in_days'] = data.groupby('customer_id')['date'].diff().dt.days\n",
    "    data['first_activity'] = data.groupby('customer_id')['date'].transform('min')\n",
    "    \n",
    "    data['last_activity'] = data.groupby('customer_id')['date'].transform('max')\n",
    "    data['days_between_first_and_last_activity'] = (data['last_activity']-\n",
    "                                                        data['first_activity']).dt.days\n",
    "\n",
    "    data['activities_count_today'] = data[real_activity_columns+\n",
    "                                        real_activity_volumn_columns].gt(0).sum(axis=1)\n",
    "\n",
    "    return data\n"
   ]
  },
  {
   "cell_type": "code",
   "execution_count": 18,
   "id": "12e60cec",
   "metadata": {
    "execution": {
     "iopub.execute_input": "2025-01-13T22:41:25.506979Z",
     "iopub.status.busy": "2025-01-13T22:41:25.506697Z",
     "iopub.status.idle": "2025-01-13T22:41:26.929900Z",
     "shell.execute_reply": "2025-01-13T22:41:26.929161Z"
    },
    "papermill": {
     "duration": 1.439933,
     "end_time": "2025-01-13T22:41:26.931429",
     "exception": false,
     "start_time": "2025-01-13T22:41:25.491496",
     "status": "completed"
    },
    "tags": []
   },
   "outputs": [],
   "source": [
    "df_train = add_columns_for_distributions(df_train)\n",
    "df_test = add_columns_for_distributions(df_test)"
   ]
  },
  {
   "cell_type": "code",
   "execution_count": 19,
   "id": "ac93df89",
   "metadata": {
    "execution": {
     "iopub.execute_input": "2025-01-13T22:41:26.962174Z",
     "iopub.status.busy": "2025-01-13T22:41:26.961907Z",
     "iopub.status.idle": "2025-01-13T22:41:27.200481Z",
     "shell.execute_reply": "2025-01-13T22:41:27.199556Z"
    },
    "papermill": {
     "duration": 0.255057,
     "end_time": "2025-01-13T22:41:27.201829",
     "exception": false,
     "start_time": "2025-01-13T22:41:26.946772",
     "status": "completed"
    },
    "tags": []
   },
   "outputs": [
    {
     "data": {
      "text/html": [
       "<div>\n",
       "<style scoped>\n",
       "    .dataframe tbody tr th:only-of-type {\n",
       "        vertical-align: middle;\n",
       "    }\n",
       "\n",
       "    .dataframe tbody tr th {\n",
       "        vertical-align: top;\n",
       "    }\n",
       "\n",
       "    .dataframe thead th {\n",
       "        text-align: right;\n",
       "    }\n",
       "</style>\n",
       "<table border=\"1\" class=\"dataframe\">\n",
       "  <thead>\n",
       "    <tr style=\"text-align: right;\">\n",
       "      <th></th>\n",
       "      <th>customer_id</th>\n",
       "      <th>days_between_last_first</th>\n",
       "      <th>prev_activity_in_days_mean</th>\n",
       "      <th>real_activity_num_mean</th>\n",
       "      <th>num_activities</th>\n",
       "    </tr>\n",
       "  </thead>\n",
       "  <tbody>\n",
       "    <tr>\n",
       "      <th>train_count</th>\n",
       "      <td>106179.00</td>\n",
       "      <td>106179.00</td>\n",
       "      <td>103765.00</td>\n",
       "      <td>106179.00</td>\n",
       "      <td>106179.00</td>\n",
       "    </tr>\n",
       "    <tr>\n",
       "      <th>test_count</th>\n",
       "      <td>165155.00</td>\n",
       "      <td>165155.00</td>\n",
       "      <td>128886.00</td>\n",
       "      <td>165155.00</td>\n",
       "      <td>165155.00</td>\n",
       "    </tr>\n",
       "    <tr>\n",
       "      <th>train_mean</th>\n",
       "      <td>53091.54</td>\n",
       "      <td>1233.46</td>\n",
       "      <td>45.06</td>\n",
       "      <td>36.98</td>\n",
       "      <td>36.98</td>\n",
       "    </tr>\n",
       "    <tr>\n",
       "      <th>test_mean</th>\n",
       "      <td>82595.25</td>\n",
       "      <td>376.51</td>\n",
       "      <td>75.14</td>\n",
       "      <td>8.24</td>\n",
       "      <td>8.24</td>\n",
       "    </tr>\n",
       "    <tr>\n",
       "      <th>train_max</th>\n",
       "      <td>106186.00</td>\n",
       "      <td>5821.00</td>\n",
       "      <td>449.00</td>\n",
       "      <td>362.00</td>\n",
       "      <td>362.00</td>\n",
       "    </tr>\n",
       "    <tr>\n",
       "      <th>test_max</th>\n",
       "      <td>165324.00</td>\n",
       "      <td>1043.00</td>\n",
       "      <td>971.00</td>\n",
       "      <td>84.00</td>\n",
       "      <td>84.00</td>\n",
       "    </tr>\n",
       "  </tbody>\n",
       "</table>\n",
       "</div>"
      ],
      "text/plain": [
       "             customer_id  days_between_last_first  prev_activity_in_days_mean  \\\n",
       "train_count    106179.00                106179.00                   103765.00   \n",
       "test_count     165155.00                165155.00                   128886.00   \n",
       "train_mean      53091.54                  1233.46                       45.06   \n",
       "test_mean       82595.25                   376.51                       75.14   \n",
       "train_max      106186.00                  5821.00                      449.00   \n",
       "test_max       165324.00                  1043.00                      971.00   \n",
       "\n",
       "             real_activity_num_mean  num_activities  \n",
       "train_count               106179.00       106179.00  \n",
       "test_count                165155.00       165155.00  \n",
       "train_mean                    36.98           36.98  \n",
       "test_mean                      8.24            8.24  \n",
       "train_max                    362.00          362.00  \n",
       "test_max                      84.00           84.00  "
      ]
     },
     "execution_count": 19,
     "metadata": {},
     "output_type": "execute_result"
    }
   ],
   "source": [
    "train_stats = df_train.groupby('customer_id', as_index=False)\\\n",
    "           .agg(days_between_last_first=('days_between_first_and_last_activity','mean'),\n",
    "                 prev_activity_in_days_mean=('prev_activity_in_days','mean'),\n",
    "                real_activity_num_mean=('activities_count_today','count'),\n",
    "                 num_activities = ('Id','count'))\n",
    "\n",
    "test_stats = df_test.groupby('customer_id', as_index=False)\\\n",
    "           .agg(days_between_last_first=('days_between_first_and_last_activity','mean'),\n",
    "                 prev_activity_in_days_mean=('prev_activity_in_days','mean'),\n",
    "                real_activity_num_mean=('activities_count_today','count'),\n",
    "                 num_activities = ('Id','count'))\n",
    "\n",
    "train_stats = train_stats.agg(['count', 'mean', 'max']).T\n",
    "test_stats = test_stats.agg(['count', 'mean', 'max']).T\n",
    "\n",
    "train_stats.columns = [f\"train_{col}\" for col in train_stats.columns]\n",
    "test_stats.columns = [f\"test_{col}\" for col in test_stats.columns]\n",
    "\n",
    "sorted_columns = [col for pair in zip(train_stats.columns, test_stats.columns) for col in pair]\n",
    "pd.concat([train_stats, test_stats], axis=1)[sorted_columns].T.round(2)"
   ]
  },
  {
   "cell_type": "markdown",
   "id": "21fe7f3c",
   "metadata": {
    "papermill": {
     "duration": 0.014312,
     "end_time": "2025-01-13T22:41:27.231235",
     "exception": false,
     "start_time": "2025-01-13T22:41:27.216923",
     "status": "completed"
    },
    "tags": []
   },
   "source": [
    "# split periods"
   ]
  },
  {
   "cell_type": "code",
   "execution_count": 20,
   "id": "d89dcc2d",
   "metadata": {
    "execution": {
     "iopub.execute_input": "2025-01-13T22:41:27.261274Z",
     "iopub.status.busy": "2025-01-13T22:41:27.261027Z",
     "iopub.status.idle": "2025-01-13T22:41:27.320889Z",
     "shell.execute_reply": "2025-01-13T22:41:27.320172Z"
    },
    "papermill": {
     "duration": 0.076571,
     "end_time": "2025-01-13T22:41:27.322365",
     "exception": false,
     "start_time": "2025-01-13T22:41:27.245794",
     "status": "completed"
    },
    "tags": []
   },
   "outputs": [],
   "source": [
    "bins = [2008, 2011, 2014, 2017, 2020, 2023]\n",
    "# we will drop 2008 data\n",
    "\n",
    "labels = [f'{bins[i]+1}-{bins[i+1] }' for i in range(len(bins) -1)]\n",
    "df_train['year_bin'] = pd.cut(df_train['year'], bins=bins, right=True,\n",
    "                              labels=labels, include_lowest=False,)"
   ]
  },
  {
   "cell_type": "code",
   "execution_count": 21,
   "id": "6be54188",
   "metadata": {
    "execution": {
     "iopub.execute_input": "2025-01-13T22:41:27.353410Z",
     "iopub.status.busy": "2025-01-13T22:41:27.353171Z",
     "iopub.status.idle": "2025-01-13T22:41:27.390851Z",
     "shell.execute_reply": "2025-01-13T22:41:27.390070Z"
    },
    "papermill": {
     "duration": 0.054265,
     "end_time": "2025-01-13T22:41:27.392022",
     "exception": false,
     "start_time": "2025-01-13T22:41:27.337757",
     "status": "completed"
    },
    "tags": []
   },
   "outputs": [
    {
     "data": {
      "text/html": [
       "<div>\n",
       "<style scoped>\n",
       "    .dataframe tbody tr th:only-of-type {\n",
       "        vertical-align: middle;\n",
       "    }\n",
       "\n",
       "    .dataframe tbody tr th {\n",
       "        vertical-align: top;\n",
       "    }\n",
       "\n",
       "    .dataframe thead th {\n",
       "        text-align: right;\n",
       "    }\n",
       "</style>\n",
       "<table border=\"1\" class=\"dataframe\">\n",
       "  <thead>\n",
       "    <tr style=\"text-align: right;\">\n",
       "      <th></th>\n",
       "      <th>min</th>\n",
       "      <th>max</th>\n",
       "    </tr>\n",
       "    <tr>\n",
       "      <th>year_bin</th>\n",
       "      <th></th>\n",
       "      <th></th>\n",
       "    </tr>\n",
       "  </thead>\n",
       "  <tbody>\n",
       "    <tr>\n",
       "      <th>2009-2011</th>\n",
       "      <td>2009</td>\n",
       "      <td>2011</td>\n",
       "    </tr>\n",
       "    <tr>\n",
       "      <th>2012-2014</th>\n",
       "      <td>2012</td>\n",
       "      <td>2014</td>\n",
       "    </tr>\n",
       "    <tr>\n",
       "      <th>2015-2017</th>\n",
       "      <td>2015</td>\n",
       "      <td>2017</td>\n",
       "    </tr>\n",
       "    <tr>\n",
       "      <th>2018-2020</th>\n",
       "      <td>2018</td>\n",
       "      <td>2020</td>\n",
       "    </tr>\n",
       "    <tr>\n",
       "      <th>2021-2023</th>\n",
       "      <td>2021</td>\n",
       "      <td>2023</td>\n",
       "    </tr>\n",
       "  </tbody>\n",
       "</table>\n",
       "</div>"
      ],
      "text/plain": [
       "            min   max\n",
       "year_bin             \n",
       "2009-2011  2009  2011\n",
       "2012-2014  2012  2014\n",
       "2015-2017  2015  2017\n",
       "2018-2020  2018  2020\n",
       "2021-2023  2021  2023"
      ]
     },
     "execution_count": 21,
     "metadata": {},
     "output_type": "execute_result"
    }
   ],
   "source": [
    "df_train.groupby('year_bin',observed=False)['year'].agg(['min','max'])"
   ]
  },
  {
   "cell_type": "markdown",
   "id": "aae6e2c0",
   "metadata": {
    "papermill": {
     "duration": 0.014619,
     "end_time": "2025-01-13T22:41:27.421796",
     "exception": false,
     "start_time": "2025-01-13T22:41:27.407177",
     "status": "completed"
    },
    "tags": []
   },
   "source": [
    "# create target variable"
   ]
  },
  {
   "cell_type": "code",
   "execution_count": 22,
   "id": "9f161352",
   "metadata": {
    "execution": {
     "iopub.execute_input": "2025-01-13T22:41:27.452179Z",
     "iopub.status.busy": "2025-01-13T22:41:27.451942Z",
     "iopub.status.idle": "2025-01-13T22:41:27.456257Z",
     "shell.execute_reply": "2025-01-13T22:41:27.455401Z"
    },
    "papermill": {
     "duration": 0.020976,
     "end_time": "2025-01-13T22:41:27.457510",
     "exception": false,
     "start_time": "2025-01-13T22:41:27.436534",
     "status": "completed"
    },
    "tags": []
   },
   "outputs": [
    {
     "name": "stdout",
     "output_type": "stream",
     "text": [
      "(3926058, 34)\n",
      "(1360472, 34)\n"
     ]
    }
   ],
   "source": [
    "print(df_train.shape)\n",
    "print(df_test.shape)"
   ]
  },
  {
   "cell_type": "markdown",
   "id": "a1b570ef",
   "metadata": {
    "papermill": {
     "duration": 0.014399,
     "end_time": "2025-01-13T22:41:27.486621",
     "exception": false,
     "start_time": "2025-01-13T22:41:27.472222",
     "status": "completed"
    },
    "tags": []
   },
   "source": [
    "#### assumptions\n",
    "###### all the activities in the last year from the last action should\n",
    "###### signal about the churn"
   ]
  },
  {
   "cell_type": "code",
   "execution_count": 23,
   "id": "c06cd71b",
   "metadata": {
    "execution": {
     "iopub.execute_input": "2025-01-13T22:41:27.516633Z",
     "iopub.status.busy": "2025-01-13T22:41:27.516394Z",
     "iopub.status.idle": "2025-01-13T22:41:27.584266Z",
     "shell.execute_reply": "2025-01-13T22:41:27.583401Z"
    },
    "papermill": {
     "duration": 0.084229,
     "end_time": "2025-01-13T22:41:27.585552",
     "exception": false,
     "start_time": "2025-01-13T22:41:27.501323",
     "status": "completed"
    },
    "tags": []
   },
   "outputs": [
    {
     "data": {
      "text/plain": [
       "prev_activity_in_days\n",
       "1.0      8633\n",
       "2.0      5037\n",
       "376.0    3458\n",
       "378.0    3339\n",
       "375.0    3333\n",
       "Name: count, dtype: int64"
      ]
     },
     "execution_count": 23,
     "metadata": {},
     "output_type": "execute_result"
    }
   ],
   "source": [
    "df_train.groupby('customer_id')['prev_activity_in_days'].max().value_counts().head()"
   ]
  },
  {
   "cell_type": "code",
   "execution_count": 24,
   "id": "523aac37",
   "metadata": {
    "execution": {
     "iopub.execute_input": "2025-01-13T22:41:27.617075Z",
     "iopub.status.busy": "2025-01-13T22:41:27.616818Z",
     "iopub.status.idle": "2025-01-13T22:41:28.051490Z",
     "shell.execute_reply": "2025-01-13T22:41:28.050631Z"
    },
    "papermill": {
     "duration": 0.451936,
     "end_time": "2025-01-13T22:41:28.052811",
     "exception": false,
     "start_time": "2025-01-13T22:41:27.600875",
     "status": "completed"
    },
    "tags": []
   },
   "outputs": [
    {
     "data": {
      "text/plain": [
       "<Axes: >"
      ]
     },
     "execution_count": 24,
     "metadata": {},
     "output_type": "execute_result"
    },
    {
     "data": {
      "image/png": "[encoded data removed]",
      "text/plain": [
       "<Figure size 640x480 with 1 Axes>"
      ]
     },
     "metadata": {},
     "output_type": "display_data"
    }
   ],
   "source": [
    "df_train.groupby('customer_id')['prev_activity_in_days'].max().hist()"
   ]
  },
  {
   "cell_type": "code",
   "execution_count": 25,
   "id": "2376ef4a",
   "metadata": {
    "execution": {
     "iopub.execute_input": "2025-01-13T22:41:28.084642Z",
     "iopub.status.busy": "2025-01-13T22:41:28.084415Z",
     "iopub.status.idle": "2025-01-13T22:41:28.269481Z",
     "shell.execute_reply": "2025-01-13T22:41:28.268805Z"
    },
    "papermill": {
     "duration": 0.20245,
     "end_time": "2025-01-13T22:41:28.271105",
     "exception": false,
     "start_time": "2025-01-13T22:41:28.068655",
     "status": "completed"
    },
    "tags": []
   },
   "outputs": [],
   "source": [
    "DAYS_BEFORE_LAST_ACTIVITY = 400\n",
    "\n",
    "CONTEXT_WINDOW = 365\n",
    "\n",
    "## target\n",
    "## TODO define the target better\n",
    "##churn 1 \n",
    "\n",
    "df_train[f'within_{DAYS_BEFORE_LAST_ACTIVITY}_days_of_last_activity'] =\\\n",
    "                df_train['date'] >=(df_train['last_activity'] - timedelta(days=DAYS_BEFORE_LAST_ACTIVITY))\n",
    "\n",
    "df_train['churn_1'] = df_train[f'within_{DAYS_BEFORE_LAST_ACTIVITY}_days_of_last_activity']\n",
    "\n",
    "# churn 2\n",
    "df_train['prev_activity_more_than_year'] = df_train.prev_activity_in_days>365\n",
    "\n",
    "df_train['churn_2'] = df_train.groupby(\"customer_id\")['prev_activity_more_than_year'].cumsum()\n"
   ]
  },
  {
   "cell_type": "code",
   "execution_count": 26,
   "id": "65cd5138",
   "metadata": {
    "execution": {
     "iopub.execute_input": "2025-01-13T22:41:28.304581Z",
     "iopub.status.busy": "2025-01-13T22:41:28.304335Z",
     "iopub.status.idle": "2025-01-13T22:42:08.109113Z",
     "shell.execute_reply": "2025-01-13T22:42:08.108048Z"
    },
    "papermill": {
     "duration": 39.822957,
     "end_time": "2025-01-13T22:42:08.110840",
     "exception": false,
     "start_time": "2025-01-13T22:41:28.287883",
     "status": "completed"
    },
    "tags": []
   },
   "outputs": [],
   "source": [
    "\n",
    "# prev activity features\n",
    "df_train['expanding_mean_prev_activity'] = df_train.groupby('customer_id')['prev_activity_in_days'].expanding()\\\n",
    "                            .mean().reset_index(level=0)['prev_activity_in_days']\n",
    "\n",
    "\n",
    "df_train[f'rolling_mean_prev_activity_{CONTEXT_WINDOW}D'] = df_train.groupby('customer_id').rolling(f'{CONTEXT_WINDOW}D',on='date')\\\n",
    "    .mean('prev_activity_in_days').reset_index(level=0)['prev_activity_in_days']\n",
    "\n",
    "df_train['prev_activity_larger_than_mean'] = (df_train['prev_activity_in_days']>\n",
    "                                             df_train['expanding_mean_prev_activity'])\n",
    "\n",
    "\n",
    "df_train['churn_3'] = df_train.groupby(\"customer_id\")['prev_activity_larger_than_mean'].cumsum()\n",
    "\n",
    "## activity volume\n",
    "\n"
   ]
  },
  {
   "cell_type": "code",
   "execution_count": 27,
   "id": "b2351b0f",
   "metadata": {
    "execution": {
     "iopub.execute_input": "2025-01-13T22:42:08.143799Z",
     "iopub.status.busy": "2025-01-13T22:42:08.143498Z",
     "iopub.status.idle": "2025-01-13T22:42:08.279985Z",
     "shell.execute_reply": "2025-01-13T22:42:08.279016Z"
    },
    "papermill": {
     "duration": 0.154243,
     "end_time": "2025-01-13T22:42:08.281396",
     "exception": false,
     "start_time": "2025-01-13T22:42:08.127153",
     "status": "completed"
    },
    "tags": []
   },
   "outputs": [
    {
     "data": {
      "text/html": [
       "<div>\n",
       "<style scoped>\n",
       "    .dataframe tbody tr th:only-of-type {\n",
       "        vertical-align: middle;\n",
       "    }\n",
       "\n",
       "    .dataframe tbody tr th {\n",
       "        vertical-align: top;\n",
       "    }\n",
       "\n",
       "    .dataframe thead th {\n",
       "        text-align: right;\n",
       "    }\n",
       "</style>\n",
       "<table border=\"1\" class=\"dataframe\">\n",
       "  <thead>\n",
       "    <tr style=\"text-align: right;\">\n",
       "      <th></th>\n",
       "      <th>date</th>\n",
       "      <th>prev_activity_in_days</th>\n",
       "      <th>expanding_mean_prev_activity</th>\n",
       "    </tr>\n",
       "  </thead>\n",
       "  <tbody>\n",
       "    <tr>\n",
       "      <th>107645</th>\n",
       "      <td>2017-04-11</td>\n",
       "      <td>1.0</td>\n",
       "      <td>23.515152</td>\n",
       "    </tr>\n",
       "    <tr>\n",
       "      <th>77946</th>\n",
       "      <td>2011-10-06</td>\n",
       "      <td>1.0</td>\n",
       "      <td>4.064000</td>\n",
       "    </tr>\n",
       "    <tr>\n",
       "      <th>82145</th>\n",
       "      <td>2020-03-16</td>\n",
       "      <td>2.0</td>\n",
       "      <td>10.564103</td>\n",
       "    </tr>\n",
       "    <tr>\n",
       "      <th>133511</th>\n",
       "      <td>2020-08-25</td>\n",
       "      <td>367.0</td>\n",
       "      <td>34.545455</td>\n",
       "    </tr>\n",
       "    <tr>\n",
       "      <th>348173</th>\n",
       "      <td>2023-05-31</td>\n",
       "      <td>1.0</td>\n",
       "      <td>1.000000</td>\n",
       "    </tr>\n",
       "    <tr>\n",
       "      <th>193710</th>\n",
       "      <td>2016-01-14</td>\n",
       "      <td>1.0</td>\n",
       "      <td>1.000000</td>\n",
       "    </tr>\n",
       "  </tbody>\n",
       "</table>\n",
       "</div>"
      ],
      "text/plain": [
       "             date  prev_activity_in_days  expanding_mean_prev_activity\n",
       "107645 2017-04-11                    1.0                     23.515152\n",
       "77946  2011-10-06                    1.0                      4.064000\n",
       "82145  2020-03-16                    2.0                     10.564103\n",
       "133511 2020-08-25                  367.0                     34.545455\n",
       "348173 2023-05-31                    1.0                      1.000000\n",
       "193710 2016-01-14                    1.0                      1.000000"
      ]
     },
     "execution_count": 27,
     "metadata": {},
     "output_type": "execute_result"
    }
   ],
   "source": [
    "df_train[['date','prev_activity_in_days','expanding_mean_prev_activity']].sample(6)"
   ]
  },
  {
   "cell_type": "markdown",
   "id": "5cc34ce9",
   "metadata": {
    "papermill": {
     "duration": 0.015159,
     "end_time": "2025-01-13T22:42:08.312422",
     "exception": false,
     "start_time": "2025-01-13T22:42:08.297263",
     "status": "completed"
    },
    "tags": []
   },
   "source": [
    "# feature engineering"
   ]
  },
  {
   "cell_type": "markdown",
   "id": "cccd16f2",
   "metadata": {
    "papermill": {
     "duration": 0.015032,
     "end_time": "2025-01-13T22:42:08.343242",
     "exception": false,
     "start_time": "2025-01-13T22:42:08.328210",
     "status": "completed"
    },
    "tags": []
   },
   "source": [
    "## extract csas and touchpoints"
   ]
  },
  {
   "cell_type": "code",
   "execution_count": 28,
   "id": "9c7248fc",
   "metadata": {
    "execution": {
     "iopub.execute_input": "2025-01-13T22:42:08.374856Z",
     "iopub.status.busy": "2025-01-13T22:42:08.374556Z",
     "iopub.status.idle": "2025-01-13T22:42:08.380139Z",
     "shell.execute_reply": "2025-01-13T22:42:08.379275Z"
    },
    "papermill": {
     "duration": 0.022941,
     "end_time": "2025-01-13T22:42:08.381310",
     "exception": false,
     "start_time": "2025-01-13T22:42:08.358369",
     "status": "completed"
    },
    "tags": []
   },
   "outputs": [],
   "source": [
    "def extract_csat_scores(data:pd.DataFrame) -> pd.DataFrame:\n",
    "    csat_scores_explode = pd.json_normalize(data['csat_scores'])\n",
    "    csat_scores_explode.index = csat_scores_explode.index.values\n",
    "    csat_scores_explode.columns = ['csat_appointment', 'csat_email', 'csat_phone', 'csat_whatsapp']\n",
    "\n",
    "    return csat_scores_explode\n",
    "\n",
    "\n",
    "def extract_touchpoints(data:pd.DataFrame) -> pd.DataFrame:\n",
    "    data['touchpoints_count'] = data['touchpoints'].apply(Counter)\n",
    "    touchpoints_explode = pd.json_normalize(data['touchpoints_count'])\n",
    "    data.drop('touchpoints_count',axis=1,inplace=True)\n",
    "    touchpoints_explode.columns = ['touchpoint_whatsapp', 'touchpoint_email', 'touchpoint_appointment', 'touchpoint_phone']\n",
    "    return touchpoints_explode\n",
    "    \n",
    "\n",
    "def add_csat_and_touchpoints(data:pd.DataFrame) -> pd.DataFrame:\n",
    "    \n",
    "    data.reset_index(drop=True,inplace=True)\n",
    "    csat_scores = extract_csat_scores(data)\n",
    "    data = pd.concat([data,csat_scores],axis=1)\n",
    "    #data.drop('csat_scores',axis=1,inplace=True)\n",
    "    \n",
    "    touchpoints_explode = extract_touchpoints(data)\n",
    "    data = pd.concat([data,touchpoints_explode],axis=1)\n",
    "    #data.drop('touchpoints',axis=1,inplace=True)\n",
    "    return data"
   ]
  },
  {
   "cell_type": "code",
   "execution_count": 29,
   "id": "38c6ba27",
   "metadata": {
    "execution": {
     "iopub.execute_input": "2025-01-13T22:42:08.414372Z",
     "iopub.status.busy": "2025-01-13T22:42:08.414129Z",
     "iopub.status.idle": "2025-01-13T22:42:52.518395Z",
     "shell.execute_reply": "2025-01-13T22:42:52.517708Z"
    },
    "papermill": {
     "duration": 44.121931,
     "end_time": "2025-01-13T22:42:52.520032",
     "exception": false,
     "start_time": "2025-01-13T22:42:08.398101",
     "status": "completed"
    },
    "tags": []
   },
   "outputs": [],
   "source": [
    "df_train = add_csat_and_touchpoints(df_train)\n",
    "df_test = add_csat_and_touchpoints(df_test)"
   ]
  },
  {
   "cell_type": "markdown",
   "id": "46359434",
   "metadata": {
    "papermill": {
     "duration": 0.015333,
     "end_time": "2025-01-13T22:42:52.551967",
     "exception": false,
     "start_time": "2025-01-13T22:42:52.536634",
     "status": "completed"
    },
    "tags": []
   },
   "source": [
    "## basic features"
   ]
  },
  {
   "cell_type": "code",
   "execution_count": 30,
   "id": "e5e45724",
   "metadata": {
    "execution": {
     "iopub.execute_input": "2025-01-13T22:42:52.584516Z",
     "iopub.status.busy": "2025-01-13T22:42:52.584209Z",
     "iopub.status.idle": "2025-01-13T22:42:52.589636Z",
     "shell.execute_reply": "2025-01-13T22:42:52.588698Z"
    },
    "papermill": {
     "duration": 0.023579,
     "end_time": "2025-01-13T22:42:52.591110",
     "exception": false,
     "start_time": "2025-01-13T22:42:52.567531",
     "status": "completed"
    },
    "tags": []
   },
   "outputs": [],
   "source": [
    "real_activity_columns = ['atm_transfer_in',\n",
    "       'atm_transfer_out', 'bank_transfer_in', 'bank_transfer_out',\n",
    "       'crypto_in', 'crypto_out']\n",
    "\n",
    "real_activity_volumn_columns = ['bank_transfer_in_volume',\n",
    "       'bank_transfer_out_volume', 'crypto_in_volume', 'crypto_out_volume']\n",
    "\n",
    "\n",
    "csat_columns = ['csat_whatsapp','csat_phone','csat_email','csat_appointment']\n",
    "\n",
    "def add_basic_features(data:pd.DataFrame) -> pd.DataFrame:\n",
    "    \n",
    "    data['activities_count_today'] = data[real_activity_columns+\n",
    "                                            real_activity_volumn_columns].gt(0).sum(axis=1)\n",
    "    \n",
    "    data['total_volume_in'] = data[[c for c in real_activity_volumn_columns \n",
    "                                    if 'in_volume' in c]].sum(axis=1)\n",
    "    \n",
    "    data['total_volume_out'] = data[[c for c in real_activity_volumn_columns if\n",
    "                                     'out_volume' in c]].sum(axis=1)\n",
    "    \n",
    "    data['csat_answeres'] = data[csat_columns].count(axis=1)\n",
    "    \n",
    "    return data"
   ]
  },
  {
   "cell_type": "code",
   "execution_count": 31,
   "id": "0da4ef7a",
   "metadata": {
    "execution": {
     "iopub.execute_input": "2025-01-13T22:42:52.623141Z",
     "iopub.status.busy": "2025-01-13T22:42:52.622904Z",
     "iopub.status.idle": "2025-01-13T22:42:54.841267Z",
     "shell.execute_reply": "2025-01-13T22:42:54.840263Z"
    },
    "papermill": {
     "duration": 2.236057,
     "end_time": "2025-01-13T22:42:54.842827",
     "exception": false,
     "start_time": "2025-01-13T22:42:52.606770",
     "status": "completed"
    },
    "tags": []
   },
   "outputs": [
    {
     "name": "stdout",
     "output_type": "stream",
     "text": [
      "CPU times: user 2.23 s, sys: 79.2 ms, total: 2.3 s\n",
      "Wall time: 2.21 s\n"
     ]
    }
   ],
   "source": [
    "%%time\n",
    "\n",
    "df_train = add_basic_features(df_train)\n",
    "df_test = add_basic_features(df_test)\n"
   ]
  },
  {
   "cell_type": "markdown",
   "id": "dd43bf00",
   "metadata": {
    "papermill": {
     "duration": 0.015148,
     "end_time": "2025-01-13T22:42:54.873966",
     "exception": false,
     "start_time": "2025-01-13T22:42:54.858818",
     "status": "completed"
    },
    "tags": []
   },
   "source": [
    "## agg features"
   ]
  },
  {
   "cell_type": "code",
   "execution_count": 32,
   "id": "bdbb4827",
   "metadata": {
    "execution": {
     "iopub.execute_input": "2025-01-13T22:42:54.906447Z",
     "iopub.status.busy": "2025-01-13T22:42:54.906170Z",
     "iopub.status.idle": "2025-01-13T22:42:54.910895Z",
     "shell.execute_reply": "2025-01-13T22:42:54.910231Z"
    },
    "papermill": {
     "duration": 0.022457,
     "end_time": "2025-01-13T22:42:54.912143",
     "exception": false,
     "start_time": "2025-01-13T22:42:54.889686",
     "status": "completed"
    },
    "tags": []
   },
   "outputs": [],
   "source": [
    "rolling_mean_columns = ['atm_transfer_in', 'atm_transfer_out', \n",
    "                     'bank_transfer_in','bank_transfer_out',\n",
    "                     'crypto_in','crypto_out',\n",
    "                        'bank_transfer_in_volume','bank_transfer_out_volume',\n",
    "                        'crypto_in_volume', 'crypto_out_volume',\n",
    "                        \n",
    "                       'interest_rate',\n",
    "                        'activities_count_today',\n",
    "                        'csat_answeres',\n",
    "                        'csat_whatsapp','csat_phone','csat_email','csat_appointment'\n",
    "        \n",
    "                       ]\n",
    "\n",
    "rolling_sum_columns = ['touchpoint_whatsapp', 'touchpoint_email', 'touchpoint_appointment',\n",
    "       'touchpoint_phone','csat_answeres',]\n",
    "\n",
    "rolling_count_columns = ['Id']\n",
    " \n",
    "cumsum_columns = [ 'bank_transfer_in',\n",
    "                     'bank_transfer_out']\n",
    "\n",
    "new_rolling_mean_columns = [col+f'_roll_mean_{CONTEXT_WINDOW}' for col in rolling_mean_columns]\n",
    "new_rolling_sum_columns = [col+f'_roll_sum_{CONTEXT_WINDOW}' for col in rolling_sum_columns]\n",
    "new_rolling_count_columns = [col+f'_roll_count_{CONTEXT_WINDOW}' for col in rolling_count_columns]\n",
    "new_cumsum_columns = [col+'_cumsum' for col in cumsum_columns]\n",
    "\n"
   ]
  },
  {
   "cell_type": "code",
   "execution_count": 33,
   "id": "51b2f5d1",
   "metadata": {
    "execution": {
     "iopub.execute_input": "2025-01-13T22:42:54.943928Z",
     "iopub.status.busy": "2025-01-13T22:42:54.943640Z",
     "iopub.status.idle": "2025-01-13T22:42:54.948734Z",
     "shell.execute_reply": "2025-01-13T22:42:54.948040Z"
    },
    "papermill": {
     "duration": 0.022127,
     "end_time": "2025-01-13T22:42:54.949838",
     "exception": false,
     "start_time": "2025-01-13T22:42:54.927711",
     "status": "completed"
    },
    "tags": []
   },
   "outputs": [],
   "source": [
    "def create_rolling_features(data:pd.DataFrame,\n",
    "                            context_window:int = CONTEXT_WINDOW,\n",
    "                            group_column:list[str] = ['customer_id']) -> pd.DataFrame:\n",
    "\n",
    "    if len(group_column) == 1:\n",
    "        level = 0\n",
    "    else:\n",
    "        level=None\n",
    "\n",
    "    #data = data.reset_index(drop=True)\n",
    "    \n",
    "\n",
    "    data[new_rolling_mean_columns] = data.groupby(group_column).\\\n",
    "    rolling(f'{context_window}D',on='date')\\\n",
    "    .mean(rolling_mean_columns).reset_index(level=level)[rolling_mean_columns]\n",
    "    \n",
    "    \n",
    "    data[new_rolling_sum_columns] = data.groupby(group_column).\\\n",
    "    rolling(f'{context_window}D',on='date')\\\n",
    "    .sum(rolling_sum_columns).reset_index(level=level)[rolling_sum_columns]\n",
    "    \n",
    "    \n",
    "    data[new_rolling_count_columns] = data.groupby(group_column).\\\n",
    "    rolling(f'{context_window}D',on='date')\\\n",
    "    .count(rolling_count_columns).reset_index(level=level)[rolling_count_columns]\n",
    "    \n",
    "\n",
    "    return data\n"
   ]
  },
  {
   "cell_type": "code",
   "execution_count": 34,
   "id": "434a42e6",
   "metadata": {
    "execution": {
     "iopub.execute_input": "2025-01-13T22:42:54.981621Z",
     "iopub.status.busy": "2025-01-13T22:42:54.981372Z",
     "iopub.status.idle": "2025-01-13T22:42:54.985909Z",
     "shell.execute_reply": "2025-01-13T22:42:54.985059Z"
    },
    "papermill": {
     "duration": 0.021711,
     "end_time": "2025-01-13T22:42:54.987077",
     "exception": false,
     "start_time": "2025-01-13T22:42:54.965366",
     "status": "completed"
    },
    "tags": []
   },
   "outputs": [],
   "source": [
    "def create_expanding_features(data:pd.DataFrame,group_column:list[str] = ['customer_id']) -> pd.DataFrame:\n",
    "    \n",
    "    data[new_cumsum_columns] = data.groupby(group_column)[cumsum_columns].cumsum()\n",
    "    \n",
    "    data['avg_interest_rate'] = data.groupby(group_column)['interest_rate'].\\\n",
    "                                expanding().mean().reset_index()['interest_rate']\n",
    "    \n",
    "    data['min_interest_rate'] = data.groupby(group_column)['interest_rate'].\\\n",
    "                                expanding().min().reset_index()['interest_rate']\n",
    "    \n",
    "    data['max_interest_rate'] = data.groupby(group_column)['interest_rate'].\\\n",
    "                                expanding().max().reset_index()['interest_rate']\n",
    "\n",
    "    return data"
   ]
  },
  {
   "cell_type": "code",
   "execution_count": 35,
   "id": "0f8c808d",
   "metadata": {
    "execution": {
     "iopub.execute_input": "2025-01-13T22:42:55.018893Z",
     "iopub.status.busy": "2025-01-13T22:42:55.018607Z",
     "iopub.status.idle": "2025-01-13T22:55:24.495339Z",
     "shell.execute_reply": "2025-01-13T22:55:24.494440Z"
    },
    "papermill": {
     "duration": 749.509603,
     "end_time": "2025-01-13T22:55:24.512068",
     "exception": false,
     "start_time": "2025-01-13T22:42:55.002465",
     "status": "completed"
    },
    "tags": []
   },
   "outputs": [
    {
     "name": "stdout",
     "output_type": "stream",
     "text": [
      "CPU times: user 12min 8s, sys: 20.9 s, total: 12min 29s\n",
      "Wall time: 12min 29s\n"
     ]
    }
   ],
   "source": [
    "%%time \n",
    "\n",
    "import warnings\n",
    "with warnings.catch_warnings():\n",
    "    warnings.simplefilter(action='ignore', category=FutureWarning)\n",
    "    \n",
    "\n",
    "    df_train = create_rolling_features(df_train,CONTEXT_WINDOW,['customer_id','year_bin'])\n",
    "    df_test = create_rolling_features(df_test)\n",
    "\n",
    "    df_train = create_expanding_features(df_train,['customer_id','year_bin'])\n",
    "    df_test = create_expanding_features(df_test)"
   ]
  },
  {
   "cell_type": "code",
   "execution_count": 36,
   "id": "5c8790f3",
   "metadata": {
    "execution": {
     "iopub.execute_input": "2025-01-13T22:55:24.544096Z",
     "iopub.status.busy": "2025-01-13T22:55:24.543841Z",
     "iopub.status.idle": "2025-01-13T22:55:24.547591Z",
     "shell.execute_reply": "2025-01-13T22:55:24.546832Z"
    },
    "papermill": {
     "duration": 0.021265,
     "end_time": "2025-01-13T22:55:24.548920",
     "exception": false,
     "start_time": "2025-01-13T22:55:24.527655",
     "status": "completed"
    },
    "tags": []
   },
   "outputs": [],
   "source": [
    "CONTEXT_WINDOW = 60\n",
    "new_rolling_mean_columns = [col+f'_roll_mean_{CONTEXT_WINDOW}' for col in rolling_mean_columns]\n",
    "new_rolling_sum_columns = [col+f'_roll_sum_{CONTEXT_WINDOW}' for col in rolling_sum_columns]\n",
    "new_rolling_count_columns = [col+f'_roll_count_{CONTEXT_WINDOW}' for col in rolling_count_columns]"
   ]
  },
  {
   "cell_type": "code",
   "execution_count": 37,
   "id": "197e9b2d",
   "metadata": {
    "execution": {
     "iopub.execute_input": "2025-01-13T22:55:24.618135Z",
     "iopub.status.busy": "2025-01-13T22:55:24.617879Z",
     "iopub.status.idle": "2025-01-13T23:14:42.085260Z",
     "shell.execute_reply": "2025-01-13T23:14:42.084305Z"
    },
    "papermill": {
     "duration": 1157.502018,
     "end_time": "2025-01-13T23:14:42.103577",
     "exception": false,
     "start_time": "2025-01-13T22:55:24.601559",
     "status": "completed"
    },
    "tags": []
   },
   "outputs": [
    {
     "name": "stdout",
     "output_type": "stream",
     "text": [
      "CPU times: user 18min 47s, sys: 29.6 s, total: 19min 17s\n",
      "Wall time: 19min 17s\n"
     ]
    }
   ],
   "source": [
    "%%time \n",
    "\n",
    "with warnings.catch_warnings():\n",
    "    warnings.simplefilter(action='ignore', category=FutureWarning)\n",
    "    \n",
    "\n",
    "    df_train = create_rolling_features(df_train,CONTEXT_WINDOW,['customer_id','year_bin'])\n",
    "    df_test = create_rolling_features(df_test)"
   ]
  },
  {
   "cell_type": "markdown",
   "id": "e7ae1eb3",
   "metadata": {
    "execution": {
     "iopub.execute_input": "2024-12-30T19:22:02.194107Z",
     "iopub.status.busy": "2024-12-30T19:22:02.193733Z",
     "iopub.status.idle": "2024-12-30T19:22:02.198677Z",
     "shell.execute_reply": "2024-12-30T19:22:02.197395Z",
     "shell.execute_reply.started": "2024-12-30T19:22:02.194077Z"
    },
    "papermill": {
     "duration": 0.015696,
     "end_time": "2025-01-13T23:14:42.135951",
     "exception": false,
     "start_time": "2025-01-13T23:14:42.120255",
     "status": "completed"
    },
    "tags": []
   },
   "source": [
    "## TODO add more features"
   ]
  },
  {
   "cell_type": "code",
   "execution_count": 38,
   "id": "a694f378",
   "metadata": {
    "execution": {
     "iopub.execute_input": "2025-01-13T23:14:42.168257Z",
     "iopub.status.busy": "2025-01-13T23:14:42.167987Z",
     "iopub.status.idle": "2025-01-13T23:14:42.172024Z",
     "shell.execute_reply": "2025-01-13T23:14:42.171191Z"
    },
    "papermill": {
     "duration": 0.02177,
     "end_time": "2025-01-13T23:14:42.173309",
     "exception": false,
     "start_time": "2025-01-13T23:14:42.151539",
     "status": "completed"
    },
    "tags": []
   },
   "outputs": [],
   "source": [
    "\n",
    "churn_columns = ['days_between_first_and_last_activity','year_bin','prev_activity_more_than_year',\n",
    "   'churn_2','prev_activity_larger_than_men', 'expanding_mean_prev_activity',\n",
    "\n",
    "                 'churn_1', 'churn_3','year','first_activity','last_activity']\n",
    "\n",
    "drop_columns = ['Id', 'customer_id','date_of_birth','name','touchpoints',\n",
    "                'rolling_mean_prev_activity_365D', 'prev_activity_larger_than_mean',\n",
    "\n",
    "                \n",
    "                'address', 'date','within_365_days_of_last_activity','touchpoints','csat_scores']\n",
    "\n",
    "fraud_columns = ['churn_due_to_fraud','model_predicted_fraud',]\n",
    "\n",
    "\n",
    "target = 'within_400_days_of_last_activity'"
   ]
  },
  {
   "cell_type": "code",
   "execution_count": 39,
   "id": "a4819bdf",
   "metadata": {
    "execution": {
     "iopub.execute_input": "2025-01-13T23:14:42.205476Z",
     "iopub.status.busy": "2025-01-13T23:14:42.205224Z",
     "iopub.status.idle": "2025-01-13T23:14:42.208859Z",
     "shell.execute_reply": "2025-01-13T23:14:42.208045Z"
    },
    "papermill": {
     "duration": 0.021074,
     "end_time": "2025-01-13T23:14:42.210183",
     "exception": false,
     "start_time": "2025-01-13T23:14:42.189109",
     "status": "completed"
    },
    "tags": []
   },
   "outputs": [],
   "source": [
    "cols_for_model = [c for c in df_train.columns if c not in drop_columns+churn_columns+fraud_columns+[target]]"
   ]
  },
  {
   "cell_type": "code",
   "execution_count": 40,
   "id": "915c9502",
   "metadata": {
    "execution": {
     "iopub.execute_input": "2025-01-13T23:14:42.241866Z",
     "iopub.status.busy": "2025-01-13T23:14:42.241637Z",
     "iopub.status.idle": "2025-01-13T23:14:42.245207Z",
     "shell.execute_reply": "2025-01-13T23:14:42.244555Z"
    },
    "papermill": {
     "duration": 0.020556,
     "end_time": "2025-01-13T23:14:42.246322",
     "exception": false,
     "start_time": "2025-01-13T23:14:42.225766",
     "status": "completed"
    },
    "tags": []
   },
   "outputs": [],
   "source": [
    "# cols_for_model = ['interest_rate',\n",
    "#  'country',\n",
    "#  'atm_transfer_in',\n",
    "#  'atm_transfer_out',\n",
    "#  'bank_transfer_in',\n",
    "#  'bank_transfer_out',\n",
    "#  'crypto_in',\n",
    "#  'crypto_out',\n",
    "#  'bank_transfer_in_volume',\n",
    "#  'bank_transfer_out_volume',\n",
    "#  'crypto_in_volume',\n",
    "#  'crypto_out_volume',\n",
    "#  'complaints',\n",
    "#  'tenure',\n",
    "#  'from_competitor',\n",
    "#  'job',\n",
    "#  'month',\n",
    "#  'prev_activity_in_days',\n",
    "#  'activities_count_today',\n",
    "#  'csat_appointment',\n",
    "#  'csat_email',\n",
    "#  'csat_phone',\n",
    "#  'csat_whatsapp',\n",
    "#  'touchpoint_whatsapp',\n",
    "#  'touchpoint_email',\n",
    "#  'touchpoint_appointment',\n",
    "#  'touchpoint_phone',\n",
    "#  'total_volume_in',\n",
    "#  'total_volume_out',\n",
    "#  'csat_answeres',\n",
    "#  'atm_transfer_in_roll_mean_365',\n",
    "#  'atm_transfer_out_roll_mean_365',\n",
    "#  'bank_transfer_in_roll_mean_365',\n",
    "#  'bank_transfer_out_roll_mean_365',\n",
    "#  'crypto_in_roll_mean_365',\n",
    "#  'crypto_out_roll_mean_365',\n",
    "#  'bank_transfer_in_volume_roll_mean_365',\n",
    "#  'bank_transfer_out_volume_roll_mean_365',\n",
    "#  'crypto_in_volume_roll_mean_365',\n",
    "#  'crypto_out_volume_roll_mean_365',\n",
    "#  'interest_rate_roll_mean_365',\n",
    "#  'activities_count_today_roll_mean_365',\n",
    "#  'csat_answeres_roll_mean_365',\n",
    "#  'csat_whatsapp_roll_mean_365',\n",
    "#  'csat_phone_roll_mean_365',\n",
    "#  'csat_email_roll_mean_365',\n",
    "#  'csat_appointment_roll_mean_365',\n",
    "#  'touchpoint_whatsapp_roll_sum_365',\n",
    "#  'touchpoint_email_roll_sum_365',\n",
    "#  'touchpoint_appointment_roll_sum_365',\n",
    "#  'touchpoint_phone_roll_sum_365',\n",
    "#  'csat_answeres_roll_sum_365',\n",
    "#  'Id_roll_count_365',\n",
    "#  'bank_transfer_in_cumsum',\n",
    "#  'bank_transfer_out_cumsum',\n",
    "#  'avg_interest_rate',\n",
    "#  'min_interest_rate',\n",
    "#  'max_interest_rate',\n",
    "#  'atm_transfer_in_roll_mean_60',\n",
    "#  'atm_transfer_out_roll_mean_60',\n",
    "#  'bank_transfer_in_roll_mean_60',\n",
    "#  'bank_transfer_out_roll_mean_60',\n",
    "#  'crypto_in_roll_mean_60',\n",
    "#  'crypto_out_roll_mean_60',\n",
    "#  'bank_transfer_in_volume_roll_mean_60',\n",
    "#  'bank_transfer_out_volume_roll_mean_60',\n",
    "#  'crypto_in_volume_roll_mean_60',\n",
    "#  'crypto_out_volume_roll_mean_60',\n",
    "#  'interest_rate_roll_mean_60',\n",
    "#  'activities_count_today_roll_mean_60',\n",
    "#  'csat_answeres_roll_mean_60',\n",
    "#  'csat_whatsapp_roll_mean_60',\n",
    "#  'csat_phone_roll_mean_60',\n",
    "#  'csat_email_roll_mean_60',\n",
    "#  'csat_appointment_roll_mean_60',\n",
    "#  'touchpoint_whatsapp_roll_sum_60',\n",
    "#  'touchpoint_email_roll_sum_60',\n",
    "#  'touchpoint_appointment_roll_sum_60',\n",
    "#  'touchpoint_phone_roll_sum_60',\n",
    "#  'csat_answeres_roll_sum_60',\n",
    "#  'Id_roll_count_60']"
   ]
  },
  {
   "cell_type": "code",
   "execution_count": 41,
   "id": "262439a4",
   "metadata": {
    "execution": {
     "iopub.execute_input": "2025-01-13T23:14:42.278822Z",
     "iopub.status.busy": "2025-01-13T23:14:42.278551Z",
     "iopub.status.idle": "2025-01-13T23:14:42.281720Z",
     "shell.execute_reply": "2025-01-13T23:14:42.281063Z"
    },
    "papermill": {
     "duration": 0.021089,
     "end_time": "2025-01-13T23:14:42.282931",
     "exception": false,
     "start_time": "2025-01-13T23:14:42.261842",
     "status": "completed"
    },
    "tags": []
   },
   "outputs": [],
   "source": [
    "\n",
    "categorical_columns = ['country','job']\n",
    "\n",
    "target = 'within_400_days_of_last_activity'"
   ]
  },
  {
   "cell_type": "markdown",
   "id": "2a1e1459",
   "metadata": {
    "papermill": {
     "duration": 0.015243,
     "end_time": "2025-01-13T23:14:42.313724",
     "exception": false,
     "start_time": "2025-01-13T23:14:42.298481",
     "status": "completed"
    },
    "tags": []
   },
   "source": [
    "# inspect 10 sample "
   ]
  },
  {
   "cell_type": "code",
   "execution_count": 42,
   "id": "41164a7b",
   "metadata": {
    "execution": {
     "iopub.execute_input": "2025-01-13T23:14:42.345741Z",
     "iopub.status.busy": "2025-01-13T23:14:42.345488Z",
     "iopub.status.idle": "2025-01-13T23:14:42.386008Z",
     "shell.execute_reply": "2025-01-13T23:14:42.385254Z"
    },
    "papermill": {
     "duration": 0.058277,
     "end_time": "2025-01-13T23:14:42.387485",
     "exception": false,
     "start_time": "2025-01-13T23:14:42.329208",
     "status": "completed"
    },
    "tags": []
   },
   "outputs": [],
   "source": [
    "verified_target = [74330,41422,98852,41620,84714,84703,84692,3367,\t41857]\n",
    "verified_target_df = df_train[df_train['customer_id'].isin(verified_target)].copy()\n",
    "verified_target_df['target'] = np.where(verified_target_df['customer_id']==3367,1,0)"
   ]
  },
  {
   "cell_type": "markdown",
   "id": "83fa123b",
   "metadata": {
    "papermill": {
     "duration": 0.017286,
     "end_time": "2025-01-13T23:14:42.421056",
     "exception": false,
     "start_time": "2025-01-13T23:14:42.403770",
     "status": "completed"
    },
    "tags": []
   },
   "source": [
    "## pca"
   ]
  },
  {
   "cell_type": "code",
   "execution_count": 43,
   "id": "42d06ebd",
   "metadata": {
    "execution": {
     "iopub.execute_input": "2025-01-13T23:14:42.453593Z",
     "iopub.status.busy": "2025-01-13T23:14:42.453323Z",
     "iopub.status.idle": "2025-01-13T23:14:42.769598Z",
     "shell.execute_reply": "2025-01-13T23:14:42.768734Z"
    },
    "papermill": {
     "duration": 0.334065,
     "end_time": "2025-01-13T23:14:42.771070",
     "exception": false,
     "start_time": "2025-01-13T23:14:42.437005",
     "status": "completed"
    },
    "tags": []
   },
   "outputs": [
    {
     "data": {
      "image/png": "[encoded data removed]",
      "text/plain": [
       "<Figure size 800x600 with 1 Axes>"
      ]
     },
     "metadata": {},
     "output_type": "display_data"
    }
   ],
   "source": [
    "from sklearn.decomposition import PCA\n",
    "X = verified_target_df[list(set(cols_for_model) - set(categorical_columns))].fillna(0)\n",
    "y = verified_target_df['target']\n",
    "\n",
    "# Apply PCA to reduce to 2 dimensions\n",
    "pca = PCA(n_components=2)\n",
    "X_pca = pca.fit_transform(X)\n",
    "\n",
    "# Create a scatter plot\n",
    "plt.figure(figsize=(8, 6))\n",
    "plt.scatter(\n",
    "    X_pca[y == 0, 0], X_pca[y == 0, 1], color='red', label='Class 0', alpha=0.7\n",
    ")\n",
    "plt.scatter(\n",
    "    X_pca[y == 1, 0], X_pca[y == 1, 1], color='blue', label='Class 1', alpha=0.7\n",
    ")\n",
    "plt.title(\"PCA Visualization\")\n",
    "plt.xlabel(\"Principal Component 1\")\n",
    "plt.ylabel(\"Principal Component 2\")\n",
    "plt.legend()\n",
    "plt.grid(True)\n",
    "plt.show()"
   ]
  },
  {
   "cell_type": "markdown",
   "id": "0ed42ec4",
   "metadata": {
    "papermill": {
     "duration": 0.016009,
     "end_time": "2025-01-13T23:14:42.804236",
     "exception": false,
     "start_time": "2025-01-13T23:14:42.788227",
     "status": "completed"
    },
    "tags": []
   },
   "source": [
    "## tsne"
   ]
  },
  {
   "cell_type": "code",
   "execution_count": 44,
   "id": "27f0cb3c",
   "metadata": {
    "execution": {
     "iopub.execute_input": "2025-01-13T23:14:42.837767Z",
     "iopub.status.busy": "2025-01-13T23:14:42.837428Z",
     "iopub.status.idle": "2025-01-13T23:14:43.650772Z",
     "shell.execute_reply": "2025-01-13T23:14:43.649918Z"
    },
    "papermill": {
     "duration": 0.831875,
     "end_time": "2025-01-13T23:14:43.652412",
     "exception": false,
     "start_time": "2025-01-13T23:14:42.820537",
     "status": "completed"
    },
    "tags": []
   },
   "outputs": [
    {
     "data": {
      "image/png": "[encoded data removed]",
      "text/plain": [
       "<Figure size 800x600 with 1 Axes>"
      ]
     },
     "metadata": {},
     "output_type": "display_data"
    }
   ],
   "source": [
    "from sklearn.manifold import TSNE\n",
    "\n",
    "X = verified_target_df[list(set(cols_for_model) - set(categorical_columns))].fillna(0)\n",
    "y = verified_target_df['target']\n",
    "\n",
    "# Apply t-SNE to reduce to 2 dimensions\n",
    "tsne = TSNE(n_components=2, random_state=42, perplexity=30, learning_rate=200)\n",
    "X_tsne = tsne.fit_transform(X)\n",
    "\n",
    "# Create a scatter plot\n",
    "plt.figure(figsize=(8, 6))\n",
    "plt.scatter(\n",
    "    X_tsne[y == 0, 0], X_tsne[y == 0, 1], color='red', label='Class 0', alpha=0.7\n",
    ")\n",
    "plt.scatter(\n",
    "    X_tsne[y == 1, 0], X_tsne[y == 1, 1], color='blue', label='Class 1', alpha=0.7\n",
    ")\n",
    "plt.title(\"t-SNE Visualization\")\n",
    "plt.xlabel(\"t-SNE Component 1\")\n",
    "plt.ylabel(\"t-SNE Component 2\")\n",
    "plt.legend()\n",
    "plt.grid(True)\n",
    "plt.show()"
   ]
  },
  {
   "cell_type": "markdown",
   "id": "b81099a6",
   "metadata": {
    "papermill": {
     "duration": 0.016734,
     "end_time": "2025-01-13T23:14:43.687690",
     "exception": false,
     "start_time": "2025-01-13T23:14:43.670956",
     "status": "completed"
    },
    "tags": []
   },
   "source": [
    "# autoencoders"
   ]
  },
  {
   "cell_type": "markdown",
   "id": "9f4194a4",
   "metadata": {
    "papermill": {
     "duration": 0.016828,
     "end_time": "2025-01-13T23:14:43.721771",
     "exception": false,
     "start_time": "2025-01-13T23:14:43.704943",
     "status": "completed"
    },
    "tags": []
   },
   "source": [
    "## find non churners"
   ]
  },
  {
   "cell_type": "code",
   "execution_count": 45,
   "id": "6e4838a2",
   "metadata": {
    "execution": {
     "iopub.execute_input": "2025-01-13T23:14:43.757521Z",
     "iopub.status.busy": "2025-01-13T23:14:43.757192Z",
     "iopub.status.idle": "2025-01-13T23:14:48.372812Z",
     "shell.execute_reply": "2025-01-13T23:14:48.372119Z"
    },
    "papermill": {
     "duration": 4.635558,
     "end_time": "2025-01-13T23:14:48.374327",
     "exception": false,
     "start_time": "2025-01-13T23:14:43.738769",
     "status": "completed"
    },
    "tags": []
   },
   "outputs": [],
   "source": [
    "## more conservative non churners\n",
    "\n",
    "real_activities_only = df_train[(df_train['year']<=2023) & \n",
    "                                (df_train['activities_count_today'] > 0)].copy()\n",
    "\n",
    "real_activities_only['max_year'] = real_activities_only.groupby('customer_id')['year'].\\\n",
    "                                                                    transform('max')\n"
   ]
  },
  {
   "cell_type": "code",
   "execution_count": 46,
   "id": "20dd8778",
   "metadata": {
    "execution": {
     "iopub.execute_input": "2025-01-13T23:14:48.410654Z",
     "iopub.status.busy": "2025-01-13T23:14:48.410374Z",
     "iopub.status.idle": "2025-01-13T23:14:48.415137Z",
     "shell.execute_reply": "2025-01-13T23:14:48.414314Z"
    },
    "papermill": {
     "duration": 0.024225,
     "end_time": "2025-01-13T23:14:48.416452",
     "exception": false,
     "start_time": "2025-01-13T23:14:48.392227",
     "status": "completed"
    },
    "tags": []
   },
   "outputs": [
    {
     "data": {
      "text/plain": [
       "(3926058, 105)"
      ]
     },
     "execution_count": 46,
     "metadata": {},
     "output_type": "execute_result"
    }
   ],
   "source": [
    "real_activities_only.shape"
   ]
  },
  {
   "cell_type": "code",
   "execution_count": 47,
   "id": "06a543bf",
   "metadata": {
    "execution": {
     "iopub.execute_input": "2025-01-13T23:14:48.453039Z",
     "iopub.status.busy": "2025-01-13T23:14:48.452819Z",
     "iopub.status.idle": "2025-01-13T23:14:48.692966Z",
     "shell.execute_reply": "2025-01-13T23:14:48.692125Z"
    },
    "papermill": {
     "duration": 0.259537,
     "end_time": "2025-01-13T23:14:48.694418",
     "exception": false,
     "start_time": "2025-01-13T23:14:48.434881",
     "status": "completed"
    },
    "tags": []
   },
   "outputs": [],
   "source": [
    "df_non_churners = real_activities_only[(real_activities_only['max_year']>=2023) &\n",
    "                                        (real_activities_only['year']<2022) &\n",
    "                                        (real_activities_only['churn_3']==0)]\n",
    "\n",
    "\n",
    "# df_non_churners = real_activities_only[(real_activities_only['max_year']>=2023) &\n",
    "#                                         (real_activities_only['year']<2022)]\n",
    "# ## to do add "
   ]
  },
  {
   "cell_type": "code",
   "execution_count": 48,
   "id": "1fc0fdec",
   "metadata": {
    "execution": {
     "iopub.execute_input": "2025-01-13T23:14:48.730640Z",
     "iopub.status.busy": "2025-01-13T23:14:48.730405Z",
     "iopub.status.idle": "2025-01-13T23:14:55.316501Z",
     "shell.execute_reply": "2025-01-13T23:14:55.315226Z"
    },
    "papermill": {
     "duration": 6.606889,
     "end_time": "2025-01-13T23:14:55.319248",
     "exception": false,
     "start_time": "2025-01-13T23:14:48.712359",
     "status": "completed"
    },
    "tags": []
   },
   "outputs": [],
   "source": [
    "#!pip install --upgrade tensorflow==2.13\n",
    "import tensorflow as tf"
   ]
  },
  {
   "cell_type": "code",
   "execution_count": 49,
   "id": "4cc4f9c5",
   "metadata": {
    "execution": {
     "iopub.execute_input": "2025-01-13T23:14:55.361044Z",
     "iopub.status.busy": "2025-01-13T23:14:55.360394Z",
     "iopub.status.idle": "2025-01-13T23:14:55.365689Z",
     "shell.execute_reply": "2025-01-13T23:14:55.364871Z"
    },
    "papermill": {
     "duration": 0.025239,
     "end_time": "2025-01-13T23:14:55.366922",
     "exception": false,
     "start_time": "2025-01-13T23:14:55.341683",
     "status": "completed"
    },
    "tags": []
   },
   "outputs": [
    {
     "data": {
      "text/plain": [
       "'2.17.0'"
      ]
     },
     "execution_count": 49,
     "metadata": {},
     "output_type": "execute_result"
    }
   ],
   "source": [
    "tf.__version__"
   ]
  },
  {
   "cell_type": "code",
   "execution_count": 50,
   "id": "b1d4d2f3",
   "metadata": {
    "execution": {
     "iopub.execute_input": "2025-01-13T23:14:55.403556Z",
     "iopub.status.busy": "2025-01-13T23:14:55.403247Z",
     "iopub.status.idle": "2025-01-13T23:17:09.818631Z",
     "shell.execute_reply": "2025-01-13T23:17:09.817560Z"
    },
    "papermill": {
     "duration": 134.435039,
     "end_time": "2025-01-13T23:17:09.820235",
     "exception": false,
     "start_time": "2025-01-13T23:14:55.385196",
     "status": "completed"
    },
    "tags": []
   },
   "outputs": [
    {
     "name": "stdout",
     "output_type": "stream",
     "text": [
      "Epoch 1/500\n",
      "\u001b[1m565/565\u001b[0m \u001b[32m━━━━━━━━━━━━━━━━━━━━\u001b[0m\u001b[37m\u001b[0m \u001b[1m0s\u001b[0m 5ms/step - loss: 0.8874\n",
      "Epoch 1: val_loss improved from inf to 0.71132, saving model to neo_bank_churn.weights.h5\n",
      "\u001b[1m565/565\u001b[0m \u001b[32m━━━━━━━━━━━━━━━━━━━━\u001b[0m\u001b[37m\u001b[0m \u001b[1m8s\u001b[0m 7ms/step - loss: 0.8872 - val_loss: 0.7113\n",
      "Epoch 2/500\n",
      "\u001b[1m558/565\u001b[0m \u001b[32m━━━━━━━━━━━━━━━━━━━\u001b[0m\u001b[37m━\u001b[0m \u001b[1m0s\u001b[0m 2ms/step - loss: 0.7195\n",
      "Epoch 2: val_loss improved from 0.71132 to 0.68603, saving model to neo_bank_churn.weights.h5\n",
      "\u001b[1m565/565\u001b[0m \u001b[32m━━━━━━━━━━━━━━━━━━━━\u001b[0m\u001b[37m\u001b[0m \u001b[1m1s\u001b[0m 2ms/step - loss: 0.7193 - val_loss: 0.6860\n",
      "Epoch 3/500\n",
      "\u001b[1m554/565\u001b[0m \u001b[32m━━━━━━━━━━━━━━━━━━━\u001b[0m\u001b[37m━\u001b[0m \u001b[1m0s\u001b[0m 2ms/step - loss: 0.6840\n",
      "Epoch 3: val_loss improved from 0.68603 to 0.67694, saving model to neo_bank_churn.weights.h5\n",
      "\u001b[1m565/565\u001b[0m \u001b[32m━━━━━━━━━━━━━━━━━━━━\u001b[0m\u001b[37m\u001b[0m \u001b[1m1s\u001b[0m 2ms/step - loss: 0.6841 - val_loss: 0.6769\n",
      "Epoch 4/500\n",
      "\u001b[1m539/565\u001b[0m \u001b[32m━━━━━━━━━━━━━━━━━━━\u001b[0m\u001b[37m━\u001b[0m \u001b[1m0s\u001b[0m 2ms/step - loss: 0.6754\n",
      "Epoch 4: val_loss improved from 0.67694 to 0.67309, saving model to neo_bank_churn.weights.h5\n",
      "\u001b[1m565/565\u001b[0m \u001b[32m━━━━━━━━━━━━━━━━━━━━\u001b[0m\u001b[37m\u001b[0m \u001b[1m1s\u001b[0m 2ms/step - loss: 0.6757 - val_loss: 0.6731\n",
      "Epoch 5/500\n",
      "\u001b[1m544/565\u001b[0m \u001b[32m━━━━━━━━━━━━━━━━━━━\u001b[0m\u001b[37m━\u001b[0m \u001b[1m0s\u001b[0m 2ms/step - loss: 0.6858\n",
      "Epoch 5: val_loss improved from 0.67309 to 0.67050, saving model to neo_bank_churn.weights.h5\n",
      "\u001b[1m565/565\u001b[0m \u001b[32m━━━━━━━━━━━━━━━━━━━━\u001b[0m\u001b[37m\u001b[0m \u001b[1m1s\u001b[0m 2ms/step - loss: 0.6856 - val_loss: 0.6705\n",
      "Epoch 6/500\n",
      "\u001b[1m548/565\u001b[0m \u001b[32m━━━━━━━━━━━━━━━━━━━\u001b[0m\u001b[37m━\u001b[0m \u001b[1m0s\u001b[0m 2ms/step - loss: 0.6723\n",
      "Epoch 6: val_loss improved from 0.67050 to 0.66897, saving model to neo_bank_churn.weights.h5\n",
      "\u001b[1m565/565\u001b[0m \u001b[32m━━━━━━━━━━━━━━━━━━━━\u001b[0m\u001b[37m\u001b[0m \u001b[1m1s\u001b[0m 2ms/step - loss: 0.6724 - val_loss: 0.6690\n",
      "Epoch 7/500\n",
      "\u001b[1m544/565\u001b[0m \u001b[32m━━━━━━━━━━━━━━━━━━━\u001b[0m\u001b[37m━\u001b[0m \u001b[1m0s\u001b[0m 2ms/step - loss: 0.6805\n",
      "Epoch 7: val_loss improved from 0.66897 to 0.66829, saving model to neo_bank_churn.weights.h5\n",
      "\u001b[1m565/565\u001b[0m \u001b[32m━━━━━━━━━━━━━━━━━━━━\u001b[0m\u001b[37m\u001b[0m \u001b[1m1s\u001b[0m 2ms/step - loss: 0.6803 - val_loss: 0.6683\n",
      "Epoch 8/500\n",
      "\u001b[1m536/565\u001b[0m \u001b[32m━━━━━━━━━━━━━━━━━━\u001b[0m\u001b[37m━━\u001b[0m \u001b[1m0s\u001b[0m 2ms/step - loss: 0.6708\n",
      "Epoch 8: val_loss improved from 0.66829 to 0.66711, saving model to neo_bank_churn.weights.h5\n",
      "\u001b[1m565/565\u001b[0m \u001b[32m━━━━━━━━━━━━━━━━━━━━\u001b[0m\u001b[37m\u001b[0m \u001b[1m1s\u001b[0m 2ms/step - loss: 0.6710 - val_loss: 0.6671\n",
      "Epoch 9/500\n",
      "\u001b[1m554/565\u001b[0m \u001b[32m━━━━━━━━━━━━━━━━━━━\u001b[0m\u001b[37m━\u001b[0m \u001b[1m0s\u001b[0m 2ms/step - loss: 0.6661\n",
      "Epoch 9: val_loss improved from 0.66711 to 0.66627, saving model to neo_bank_churn.weights.h5\n",
      "\u001b[1m565/565\u001b[0m \u001b[32m━━━━━━━━━━━━━━━━━━━━\u001b[0m\u001b[37m\u001b[0m \u001b[1m1s\u001b[0m 2ms/step - loss: 0.6663 - val_loss: 0.6663\n",
      "Epoch 10/500\n",
      "\u001b[1m542/565\u001b[0m \u001b[32m━━━━━━━━━━━━━━━━━━━\u001b[0m\u001b[37m━\u001b[0m \u001b[1m0s\u001b[0m 2ms/step - loss: 0.6771\n",
      "Epoch 10: val_loss improved from 0.66627 to 0.66588, saving model to neo_bank_churn.weights.h5\n",
      "\u001b[1m565/565\u001b[0m \u001b[32m━━━━━━━━━━━━━━━━━━━━\u001b[0m\u001b[37m\u001b[0m \u001b[1m1s\u001b[0m 2ms/step - loss: 0.6768 - val_loss: 0.6659\n",
      "Epoch 11/500\n",
      "\u001b[1m549/565\u001b[0m \u001b[32m━━━━━━━━━━━━━━━━━━━\u001b[0m\u001b[37m━\u001b[0m \u001b[1m0s\u001b[0m 2ms/step - loss: 0.6701\n",
      "Epoch 11: val_loss improved from 0.66588 to 0.66585, saving model to neo_bank_churn.weights.h5\n",
      "\u001b[1m565/565\u001b[0m \u001b[32m━━━━━━━━━━━━━━━━━━━━\u001b[0m\u001b[37m\u001b[0m \u001b[1m1s\u001b[0m 2ms/step - loss: 0.6702 - val_loss: 0.6659\n",
      "Epoch 12/500\n",
      "\u001b[1m544/565\u001b[0m \u001b[32m━━━━━━━━━━━━━━━━━━━\u001b[0m\u001b[37m━\u001b[0m \u001b[1m0s\u001b[0m 2ms/step - loss: 0.6723\n",
      "Epoch 12: val_loss improved from 0.66585 to 0.66560, saving model to neo_bank_churn.weights.h5\n",
      "\u001b[1m565/565\u001b[0m \u001b[32m━━━━━━━━━━━━━━━━━━━━\u001b[0m\u001b[37m\u001b[0m \u001b[1m1s\u001b[0m 2ms/step - loss: 0.6723 - val_loss: 0.6656\n",
      "Epoch 13/500\n",
      "\u001b[1m543/565\u001b[0m \u001b[32m━━━━━━━━━━━━━━━━━━━\u001b[0m\u001b[37m━\u001b[0m \u001b[1m0s\u001b[0m 2ms/step - loss: 0.6724\n",
      "Epoch 13: val_loss improved from 0.66560 to 0.66555, saving model to neo_bank_churn.weights.h5\n",
      "\u001b[1m565/565\u001b[0m \u001b[32m━━━━━━━━━━━━━━━━━━━━\u001b[0m\u001b[37m\u001b[0m \u001b[1m1s\u001b[0m 2ms/step - loss: 0.6724 - val_loss: 0.6656\n",
      "Epoch 14/500\n",
      "\u001b[1m549/565\u001b[0m \u001b[32m━━━━━━━━━━━━━━━━━━━\u001b[0m\u001b[37m━\u001b[0m \u001b[1m0s\u001b[0m 2ms/step - loss: 0.6800\n",
      "Epoch 14: val_loss improved from 0.66555 to 0.66533, saving model to neo_bank_churn.weights.h5\n",
      "\u001b[1m565/565\u001b[0m \u001b[32m━━━━━━━━━━━━━━━━━━━━\u001b[0m\u001b[37m\u001b[0m \u001b[1m1s\u001b[0m 2ms/step - loss: 0.6797 - val_loss: 0.6653\n",
      "Epoch 15/500\n",
      "\u001b[1m542/565\u001b[0m \u001b[32m━━━━━━━━━━━━━━━━━━━\u001b[0m\u001b[37m━\u001b[0m \u001b[1m0s\u001b[0m 2ms/step - loss: 0.6654\n",
      "Epoch 15: val_loss did not improve from 0.66533\n",
      "\u001b[1m565/565\u001b[0m \u001b[32m━━━━━━━━━━━━━━━━━━━━\u001b[0m\u001b[37m\u001b[0m \u001b[1m1s\u001b[0m 2ms/step - loss: 0.6657 - val_loss: 0.6654\n",
      "Epoch 16/500\n",
      "\u001b[1m542/565\u001b[0m \u001b[32m━━━━━━━━━━━━━━━━━━━\u001b[0m\u001b[37m━\u001b[0m \u001b[1m0s\u001b[0m 2ms/step - loss: 0.6674\n",
      "Epoch 16: val_loss improved from 0.66533 to 0.66518, saving model to neo_bank_churn.weights.h5\n",
      "\u001b[1m565/565\u001b[0m \u001b[32m━━━━━━━━━━━━━━━━━━━━\u001b[0m\u001b[37m\u001b[0m \u001b[1m1s\u001b[0m 2ms/step - loss: 0.6676 - val_loss: 0.6652\n",
      "Epoch 17/500\n",
      "\u001b[1m558/565\u001b[0m \u001b[32m━━━━━━━━━━━━━━━━━━━\u001b[0m\u001b[37m━\u001b[0m \u001b[1m0s\u001b[0m 2ms/step - loss: 0.6736\n",
      "Epoch 17: val_loss improved from 0.66518 to 0.66508, saving model to neo_bank_churn.weights.h5\n",
      "\u001b[1m565/565\u001b[0m \u001b[32m━━━━━━━━━━━━━━━━━━━━\u001b[0m\u001b[37m\u001b[0m \u001b[1m1s\u001b[0m 2ms/step - loss: 0.6736 - val_loss: 0.6651\n",
      "Epoch 18/500\n",
      "\u001b[1m542/565\u001b[0m \u001b[32m━━━━━━━━━━━━━━━━━━━\u001b[0m\u001b[37m━\u001b[0m \u001b[1m0s\u001b[0m 2ms/step - loss: 0.6650\n",
      "Epoch 18: val_loss improved from 0.66508 to 0.66498, saving model to neo_bank_churn.weights.h5\n",
      "\u001b[1m565/565\u001b[0m \u001b[32m━━━━━━━━━━━━━━━━━━━━\u001b[0m\u001b[37m\u001b[0m \u001b[1m1s\u001b[0m 2ms/step - loss: 0.6653 - val_loss: 0.6650\n",
      "Epoch 19/500\n",
      "\u001b[1m549/565\u001b[0m \u001b[32m━━━━━━━━━━━━━━━━━━━\u001b[0m\u001b[37m━\u001b[0m \u001b[1m0s\u001b[0m 2ms/step - loss: 0.6699\n",
      "Epoch 19: val_loss improved from 0.66498 to 0.66494, saving model to neo_bank_churn.weights.h5\n",
      "\u001b[1m565/565\u001b[0m \u001b[32m━━━━━━━━━━━━━━━━━━━━\u001b[0m\u001b[37m\u001b[0m \u001b[1m1s\u001b[0m 2ms/step - loss: 0.6699 - val_loss: 0.6649\n",
      "Epoch 20/500\n",
      "\u001b[1m534/565\u001b[0m \u001b[32m━━━━━━━━━━━━━━━━━━\u001b[0m\u001b[37m━━\u001b[0m \u001b[1m0s\u001b[0m 2ms/step - loss: 0.6756\n",
      "Epoch 20: val_loss did not improve from 0.66494\n",
      "\u001b[1m565/565\u001b[0m \u001b[32m━━━━━━━━━━━━━━━━━━━━\u001b[0m\u001b[37m\u001b[0m \u001b[1m1s\u001b[0m 2ms/step - loss: 0.6754 - val_loss: 0.6650\n",
      "Epoch 21/500\n",
      "\u001b[1m552/565\u001b[0m \u001b[32m━━━━━━━━━━━━━━━━━━━\u001b[0m\u001b[37m━\u001b[0m \u001b[1m0s\u001b[0m 2ms/step - loss: 0.6710\n",
      "Epoch 21: val_loss improved from 0.66494 to 0.66474, saving model to neo_bank_churn.weights.h5\n",
      "\u001b[1m565/565\u001b[0m \u001b[32m━━━━━━━━━━━━━━━━━━━━\u001b[0m\u001b[37m\u001b[0m \u001b[1m1s\u001b[0m 2ms/step - loss: 0.6710 - val_loss: 0.6647\n",
      "Epoch 22/500\n",
      "\u001b[1m551/565\u001b[0m \u001b[32m━━━━━━━━━━━━━━━━━━━\u001b[0m\u001b[37m━\u001b[0m \u001b[1m0s\u001b[0m 2ms/step - loss: 0.6739\n",
      "Epoch 22: val_loss improved from 0.66474 to 0.66465, saving model to neo_bank_churn.weights.h5\n",
      "\u001b[1m565/565\u001b[0m \u001b[32m━━━━━━━━━━━━━━━━━━━━\u001b[0m\u001b[37m\u001b[0m \u001b[1m1s\u001b[0m 2ms/step - loss: 0.6738 - val_loss: 0.6647\n",
      "Epoch 23/500\n",
      "\u001b[1m556/565\u001b[0m \u001b[32m━━━━━━━━━━━━━━━━━━━\u001b[0m\u001b[37m━\u001b[0m \u001b[1m0s\u001b[0m 2ms/step - loss: 0.6771\n",
      "Epoch 23: val_loss did not improve from 0.66465\n",
      "\u001b[1m565/565\u001b[0m \u001b[32m━━━━━━━━━━━━━━━━━━━━\u001b[0m\u001b[37m\u001b[0m \u001b[1m1s\u001b[0m 2ms/step - loss: 0.6770 - val_loss: 0.6647\n",
      "Epoch 24/500\n",
      "\u001b[1m553/565\u001b[0m \u001b[32m━━━━━━━━━━━━━━━━━━━\u001b[0m\u001b[37m━\u001b[0m \u001b[1m0s\u001b[0m 2ms/step - loss: 0.6738\n",
      "Epoch 24: val_loss improved from 0.66465 to 0.66456, saving model to neo_bank_churn.weights.h5\n",
      "\u001b[1m565/565\u001b[0m \u001b[32m━━━━━━━━━━━━━━━━━━━━\u001b[0m\u001b[37m\u001b[0m \u001b[1m1s\u001b[0m 2ms/step - loss: 0.6737 - val_loss: 0.6646\n",
      "Epoch 25/500\n",
      "\u001b[1m551/565\u001b[0m \u001b[32m━━━━━━━━━━━━━━━━━━━\u001b[0m\u001b[37m━\u001b[0m \u001b[1m0s\u001b[0m 2ms/step - loss: 0.6701\n",
      "Epoch 25: val_loss improved from 0.66456 to 0.66451, saving model to neo_bank_churn.weights.h5\n",
      "\u001b[1m565/565\u001b[0m \u001b[32m━━━━━━━━━━━━━━━━━━━━\u001b[0m\u001b[37m\u001b[0m \u001b[1m1s\u001b[0m 2ms/step - loss: 0.6701 - val_loss: 0.6645\n",
      "Epoch 26/500\n",
      "\u001b[1m539/565\u001b[0m \u001b[32m━━━━━━━━━━━━━━━━━━━\u001b[0m\u001b[37m━\u001b[0m \u001b[1m0s\u001b[0m 2ms/step - loss: 0.6667\n",
      "Epoch 26: val_loss improved from 0.66451 to 0.66346, saving model to neo_bank_churn.weights.h5\n",
      "\u001b[1m565/565\u001b[0m \u001b[32m━━━━━━━━━━━━━━━━━━━━\u001b[0m\u001b[37m\u001b[0m \u001b[1m1s\u001b[0m 2ms/step - loss: 0.6669 - val_loss: 0.6635\n",
      "Epoch 27/500\n",
      "\u001b[1m550/565\u001b[0m \u001b[32m━━━━━━━━━━━━━━━━━━━\u001b[0m\u001b[37m━\u001b[0m \u001b[1m0s\u001b[0m 2ms/step - loss: 0.6705\n",
      "Epoch 27: val_loss improved from 0.66346 to 0.66315, saving model to neo_bank_churn.weights.h5\n",
      "\u001b[1m565/565\u001b[0m \u001b[32m━━━━━━━━━━━━━━━━━━━━\u001b[0m\u001b[37m\u001b[0m \u001b[1m1s\u001b[0m 2ms/step - loss: 0.6704 - val_loss: 0.6631\n",
      "Epoch 28/500\n",
      "\u001b[1m557/565\u001b[0m \u001b[32m━━━━━━━━━━━━━━━━━━━\u001b[0m\u001b[37m━\u001b[0m \u001b[1m0s\u001b[0m 2ms/step - loss: 0.6674\n",
      "Epoch 28: val_loss did not improve from 0.66315\n",
      "\u001b[1m565/565\u001b[0m \u001b[32m━━━━━━━━━━━━━━━━━━━━\u001b[0m\u001b[37m\u001b[0m \u001b[1m1s\u001b[0m 2ms/step - loss: 0.6674 - val_loss: 0.6632\n",
      "Epoch 29/500\n",
      "\u001b[1m553/565\u001b[0m \u001b[32m━━━━━━━━━━━━━━━━━━━\u001b[0m\u001b[37m━\u001b[0m \u001b[1m0s\u001b[0m 2ms/step - loss: 0.6615\n",
      "Epoch 29: val_loss improved from 0.66315 to 0.66313, saving model to neo_bank_churn.weights.h5\n",
      "\u001b[1m565/565\u001b[0m \u001b[32m━━━━━━━━━━━━━━━━━━━━\u001b[0m\u001b[37m\u001b[0m \u001b[1m1s\u001b[0m 2ms/step - loss: 0.6617 - val_loss: 0.6631\n",
      "Epoch 30/500\n",
      "\u001b[1m540/565\u001b[0m \u001b[32m━━━━━━━━━━━━━━━━━━━\u001b[0m\u001b[37m━\u001b[0m \u001b[1m0s\u001b[0m 2ms/step - loss: 0.6645\n",
      "Epoch 30: val_loss improved from 0.66313 to 0.66083, saving model to neo_bank_churn.weights.h5\n",
      "\u001b[1m565/565\u001b[0m \u001b[32m━━━━━━━━━━━━━━━━━━━━\u001b[0m\u001b[37m\u001b[0m \u001b[1m1s\u001b[0m 2ms/step - loss: 0.6647 - val_loss: 0.6608\n",
      "Epoch 31/500\n",
      "\u001b[1m543/565\u001b[0m \u001b[32m━━━━━━━━━━━━━━━━━━━\u001b[0m\u001b[37m━\u001b[0m \u001b[1m0s\u001b[0m 2ms/step - loss: 0.6723\n",
      "Epoch 31: val_loss did not improve from 0.66083\n",
      "\u001b[1m565/565\u001b[0m \u001b[32m━━━━━━━━━━━━━━━━━━━━\u001b[0m\u001b[37m\u001b[0m \u001b[1m1s\u001b[0m 2ms/step - loss: 0.6721 - val_loss: 0.6611\n",
      "Epoch 32/500\n",
      "\u001b[1m540/565\u001b[0m \u001b[32m━━━━━━━━━━━━━━━━━━━\u001b[0m\u001b[37m━\u001b[0m \u001b[1m0s\u001b[0m 2ms/step - loss: 0.6693\n",
      "Epoch 32: val_loss improved from 0.66083 to 0.66061, saving model to neo_bank_churn.weights.h5\n",
      "\u001b[1m565/565\u001b[0m \u001b[32m━━━━━━━━━━━━━━━━━━━━\u001b[0m\u001b[37m\u001b[0m \u001b[1m1s\u001b[0m 2ms/step - loss: 0.6692 - val_loss: 0.6606\n",
      "Epoch 33/500\n",
      "\u001b[1m538/565\u001b[0m \u001b[32m━━━━━━━━━━━━━━━━━━━\u001b[0m\u001b[37m━\u001b[0m \u001b[1m0s\u001b[0m 2ms/step - loss: 0.6727\n",
      "Epoch 33: val_loss improved from 0.66061 to 0.66057, saving model to neo_bank_churn.weights.h5\n",
      "\u001b[1m565/565\u001b[0m \u001b[32m━━━━━━━━━━━━━━━━━━━━\u001b[0m\u001b[37m\u001b[0m \u001b[1m1s\u001b[0m 2ms/step - loss: 0.6724 - val_loss: 0.6606\n",
      "Epoch 34/500\n",
      "\u001b[1m560/565\u001b[0m \u001b[32m━━━━━━━━━━━━━━━━━━━\u001b[0m\u001b[37m━\u001b[0m \u001b[1m0s\u001b[0m 2ms/step - loss: 0.6560\n",
      "Epoch 34: val_loss did not improve from 0.66057\n",
      "\u001b[1m565/565\u001b[0m \u001b[32m━━━━━━━━━━━━━━━━━━━━\u001b[0m\u001b[37m\u001b[0m \u001b[1m1s\u001b[0m 2ms/step - loss: 0.6561 - val_loss: 0.6606\n",
      "Epoch 35/500\n",
      "\u001b[1m560/565\u001b[0m \u001b[32m━━━━━━━━━━━━━━━━━━━\u001b[0m\u001b[37m━\u001b[0m \u001b[1m0s\u001b[0m 2ms/step - loss: 0.6640\n",
      "Epoch 35: val_loss improved from 0.66057 to 0.66045, saving model to neo_bank_churn.weights.h5\n",
      "\u001b[1m565/565\u001b[0m \u001b[32m━━━━━━━━━━━━━━━━━━━━\u001b[0m\u001b[37m\u001b[0m \u001b[1m1s\u001b[0m 2ms/step - loss: 0.6640 - val_loss: 0.6605\n",
      "Epoch 36/500\n",
      "\u001b[1m542/565\u001b[0m \u001b[32m━━━━━━━━━━━━━━━━━━━\u001b[0m\u001b[37m━\u001b[0m \u001b[1m0s\u001b[0m 2ms/step - loss: 0.6560\n",
      "Epoch 36: val_loss improved from 0.66045 to 0.66043, saving model to neo_bank_churn.weights.h5\n",
      "\u001b[1m565/565\u001b[0m \u001b[32m━━━━━━━━━━━━━━━━━━━━\u001b[0m\u001b[37m\u001b[0m \u001b[1m1s\u001b[0m 2ms/step - loss: 0.6564 - val_loss: 0.6604\n",
      "Epoch 37/500\n",
      "\u001b[1m542/565\u001b[0m \u001b[32m━━━━━━━━━━━━━━━━━━━\u001b[0m\u001b[37m━\u001b[0m \u001b[1m0s\u001b[0m 2ms/step - loss: 0.6565\n",
      "Epoch 37: val_loss improved from 0.66043 to 0.66039, saving model to neo_bank_churn.weights.h5\n",
      "\u001b[1m565/565\u001b[0m \u001b[32m━━━━━━━━━━━━━━━━━━━━\u001b[0m\u001b[37m\u001b[0m \u001b[1m1s\u001b[0m 2ms/step - loss: 0.6570 - val_loss: 0.6604\n",
      "Epoch 38/500\n",
      "\u001b[1m539/565\u001b[0m \u001b[32m━━━━━━━━━━━━━━━━━━━\u001b[0m\u001b[37m━\u001b[0m \u001b[1m0s\u001b[0m 2ms/step - loss: 0.6663\n",
      "Epoch 38: val_loss improved from 0.66039 to 0.66024, saving model to neo_bank_churn.weights.h5\n",
      "\u001b[1m565/565\u001b[0m \u001b[32m━━━━━━━━━━━━━━━━━━━━\u001b[0m\u001b[37m\u001b[0m \u001b[1m1s\u001b[0m 2ms/step - loss: 0.6663 - val_loss: 0.6602\n",
      "Epoch 39/500\n",
      "\u001b[1m541/565\u001b[0m \u001b[32m━━━━━━━━━━━━━━━━━━━\u001b[0m\u001b[37m━\u001b[0m \u001b[1m0s\u001b[0m 2ms/step - loss: 0.6660\n",
      "Epoch 39: val_loss did not improve from 0.66024\n",
      "\u001b[1m565/565\u001b[0m \u001b[32m━━━━━━━━━━━━━━━━━━━━\u001b[0m\u001b[37m\u001b[0m \u001b[1m1s\u001b[0m 2ms/step - loss: 0.6660 - val_loss: 0.6603\n",
      "Epoch 40/500\n",
      "\u001b[1m547/565\u001b[0m \u001b[32m━━━━━━━━━━━━━━━━━━━\u001b[0m\u001b[37m━\u001b[0m \u001b[1m0s\u001b[0m 2ms/step - loss: 0.6619\n",
      "Epoch 40: val_loss did not improve from 0.66024\n",
      "\u001b[1m565/565\u001b[0m \u001b[32m━━━━━━━━━━━━━━━━━━━━\u001b[0m\u001b[37m\u001b[0m \u001b[1m1s\u001b[0m 2ms/step - loss: 0.6621 - val_loss: 0.6603\n",
      "Epoch 41/500\n",
      "\u001b[1m536/565\u001b[0m \u001b[32m━━━━━━━━━━━━━━━━━━\u001b[0m\u001b[37m━━\u001b[0m \u001b[1m0s\u001b[0m 2ms/step - loss: 0.6678\n",
      "Epoch 41: val_loss did not improve from 0.66024\n",
      "\u001b[1m565/565\u001b[0m \u001b[32m━━━━━━━━━━━━━━━━━━━━\u001b[0m\u001b[37m\u001b[0m \u001b[1m1s\u001b[0m 2ms/step - loss: 0.6678 - val_loss: 0.6602\n",
      "Epoch 42/500\n",
      "\u001b[1m561/565\u001b[0m \u001b[32m━━━━━━━━━━━━━━━━━━━\u001b[0m\u001b[37m━\u001b[0m \u001b[1m0s\u001b[0m 2ms/step - loss: 0.6725\n",
      "Epoch 42: val_loss improved from 0.66024 to 0.66010, saving model to neo_bank_churn.weights.h5\n",
      "\u001b[1m565/565\u001b[0m \u001b[32m━━━━━━━━━━━━━━━━━━━━\u001b[0m\u001b[37m\u001b[0m \u001b[1m1s\u001b[0m 2ms/step - loss: 0.6725 - val_loss: 0.6601\n",
      "Epoch 43/500\n",
      "\u001b[1m539/565\u001b[0m \u001b[32m━━━━━━━━━━━━━━━━━━━\u001b[0m\u001b[37m━\u001b[0m \u001b[1m0s\u001b[0m 2ms/step - loss: 0.6607\n",
      "Epoch 43: val_loss did not improve from 0.66010\n",
      "\u001b[1m565/565\u001b[0m \u001b[32m━━━━━━━━━━━━━━━━━━━━\u001b[0m\u001b[37m\u001b[0m \u001b[1m1s\u001b[0m 2ms/step - loss: 0.6610 - val_loss: 0.6602\n",
      "Epoch 44/500\n",
      "\u001b[1m542/565\u001b[0m \u001b[32m━━━━━━━━━━━━━━━━━━━\u001b[0m\u001b[37m━\u001b[0m \u001b[1m0s\u001b[0m 2ms/step - loss: 0.6676\n",
      "Epoch 44: val_loss improved from 0.66010 to 0.66005, saving model to neo_bank_churn.weights.h5\n",
      "\u001b[1m565/565\u001b[0m \u001b[32m━━━━━━━━━━━━━━━━━━━━\u001b[0m\u001b[37m\u001b[0m \u001b[1m1s\u001b[0m 2ms/step - loss: 0.6676 - val_loss: 0.6600\n",
      "Epoch 45/500\n",
      "\u001b[1m544/565\u001b[0m \u001b[32m━━━━━━━━━━━━━━━━━━━\u001b[0m\u001b[37m━\u001b[0m \u001b[1m0s\u001b[0m 2ms/step - loss: 0.6595\n",
      "Epoch 45: val_loss did not improve from 0.66005\n",
      "\u001b[1m565/565\u001b[0m \u001b[32m━━━━━━━━━━━━━━━━━━━━\u001b[0m\u001b[37m\u001b[0m \u001b[1m1s\u001b[0m 2ms/step - loss: 0.6598 - val_loss: 0.6601\n",
      "Epoch 46/500\n",
      "\u001b[1m543/565\u001b[0m \u001b[32m━━━━━━━━━━━━━━━━━━━\u001b[0m\u001b[37m━\u001b[0m \u001b[1m0s\u001b[0m 2ms/step - loss: 0.6658\n",
      "Epoch 46: val_loss did not improve from 0.66005\n",
      "\u001b[1m565/565\u001b[0m \u001b[32m━━━━━━━━━━━━━━━━━━━━\u001b[0m\u001b[37m\u001b[0m \u001b[1m1s\u001b[0m 2ms/step - loss: 0.6659 - val_loss: 0.6601\n",
      "Epoch 47/500\n",
      "\u001b[1m542/565\u001b[0m \u001b[32m━━━━━━━━━━━━━━━━━━━\u001b[0m\u001b[37m━\u001b[0m \u001b[1m0s\u001b[0m 2ms/step - loss: 0.6553\n",
      "Epoch 47: val_loss did not improve from 0.66005\n",
      "\u001b[1m565/565\u001b[0m \u001b[32m━━━━━━━━━━━━━━━━━━━━\u001b[0m\u001b[37m\u001b[0m \u001b[1m1s\u001b[0m 2ms/step - loss: 0.6558 - val_loss: 0.6607\n",
      "Epoch 48/500\n",
      "\u001b[1m540/565\u001b[0m \u001b[32m━━━━━━━━━━━━━━━━━━━\u001b[0m\u001b[37m━\u001b[0m \u001b[1m0s\u001b[0m 2ms/step - loss: 0.6677\n",
      "Epoch 48: val_loss did not improve from 0.66005\n",
      "\u001b[1m565/565\u001b[0m \u001b[32m━━━━━━━━━━━━━━━━━━━━\u001b[0m\u001b[37m\u001b[0m \u001b[1m1s\u001b[0m 2ms/step - loss: 0.6677 - val_loss: 0.6602\n",
      "Epoch 49/500\n",
      "\u001b[1m542/565\u001b[0m \u001b[32m━━━━━━━━━━━━━━━━━━━\u001b[0m\u001b[37m━\u001b[0m \u001b[1m0s\u001b[0m 2ms/step - loss: 0.6740\n",
      "Epoch 49: val_loss improved from 0.66005 to 0.65952, saving model to neo_bank_churn.weights.h5\n",
      "\u001b[1m565/565\u001b[0m \u001b[32m━━━━━━━━━━━━━━━━━━━━\u001b[0m\u001b[37m\u001b[0m \u001b[1m1s\u001b[0m 2ms/step - loss: 0.6737 - val_loss: 0.6595\n",
      "Epoch 50/500\n",
      "\u001b[1m562/565\u001b[0m \u001b[32m━━━━━━━━━━━━━━━━━━━\u001b[0m\u001b[37m━\u001b[0m \u001b[1m0s\u001b[0m 2ms/step - loss: 0.6616\n",
      "Epoch 50: val_loss improved from 0.65952 to 0.65946, saving model to neo_bank_churn.weights.h5\n",
      "\u001b[1m565/565\u001b[0m \u001b[32m━━━━━━━━━━━━━━━━━━━━\u001b[0m\u001b[37m\u001b[0m \u001b[1m1s\u001b[0m 2ms/step - loss: 0.6616 - val_loss: 0.6595\n",
      "Epoch 51/500\n",
      "\u001b[1m564/565\u001b[0m \u001b[32m━━━━━━━━━━━━━━━━━━━\u001b[0m\u001b[37m━\u001b[0m \u001b[1m0s\u001b[0m 2ms/step - loss: 0.6641\n",
      "Epoch 51: val_loss improved from 0.65946 to 0.65936, saving model to neo_bank_churn.weights.h5\n",
      "\u001b[1m565/565\u001b[0m \u001b[32m━━━━━━━━━━━━━━━━━━━━\u001b[0m\u001b[37m\u001b[0m \u001b[1m1s\u001b[0m 2ms/step - loss: 0.6641 - val_loss: 0.6594\n",
      "Epoch 52/500\n",
      "\u001b[1m548/565\u001b[0m \u001b[32m━━━━━━━━━━━━━━━━━━━\u001b[0m\u001b[37m━\u001b[0m \u001b[1m0s\u001b[0m 2ms/step - loss: 0.6631\n",
      "Epoch 52: val_loss improved from 0.65936 to 0.65783, saving model to neo_bank_churn.weights.h5\n",
      "\u001b[1m565/565\u001b[0m \u001b[32m━━━━━━━━━━━━━━━━━━━━\u001b[0m\u001b[37m\u001b[0m \u001b[1m1s\u001b[0m 2ms/step - loss: 0.6632 - val_loss: 0.6578\n",
      "Epoch 53/500\n",
      "\u001b[1m542/565\u001b[0m \u001b[32m━━━━━━━━━━━━━━━━━━━\u001b[0m\u001b[37m━\u001b[0m \u001b[1m0s\u001b[0m 2ms/step - loss: 0.6611\n",
      "Epoch 53: val_loss did not improve from 0.65783\n",
      "\u001b[1m565/565\u001b[0m \u001b[32m━━━━━━━━━━━━━━━━━━━━\u001b[0m\u001b[37m\u001b[0m \u001b[1m1s\u001b[0m 2ms/step - loss: 0.6613 - val_loss: 0.6580\n",
      "Epoch 54/500\n",
      "\u001b[1m544/565\u001b[0m \u001b[32m━━━━━━━━━━━━━━━━━━━\u001b[0m\u001b[37m━\u001b[0m \u001b[1m0s\u001b[0m 2ms/step - loss: 0.6620\n",
      "Epoch 54: val_loss improved from 0.65783 to 0.65777, saving model to neo_bank_churn.weights.h5\n",
      "\u001b[1m565/565\u001b[0m \u001b[32m━━━━━━━━━━━━━━━━━━━━\u001b[0m\u001b[37m\u001b[0m \u001b[1m1s\u001b[0m 2ms/step - loss: 0.6621 - val_loss: 0.6578\n",
      "Epoch 55/500\n",
      "\u001b[1m548/565\u001b[0m \u001b[32m━━━━━━━━━━━━━━━━━━━\u001b[0m\u001b[37m━\u001b[0m \u001b[1m0s\u001b[0m 2ms/step - loss: 0.6716\n",
      "Epoch 55: val_loss did not improve from 0.65777\n",
      "\u001b[1m565/565\u001b[0m \u001b[32m━━━━━━━━━━━━━━━━━━━━\u001b[0m\u001b[37m\u001b[0m \u001b[1m1s\u001b[0m 2ms/step - loss: 0.6714 - val_loss: 0.6578\n",
      "Epoch 56/500\n",
      "\u001b[1m543/565\u001b[0m \u001b[32m━━━━━━━━━━━━━━━━━━━\u001b[0m\u001b[37m━\u001b[0m \u001b[1m0s\u001b[0m 2ms/step - loss: 0.6540\n",
      "Epoch 56: val_loss improved from 0.65777 to 0.65771, saving model to neo_bank_churn.weights.h5\n",
      "\u001b[1m565/565\u001b[0m \u001b[32m━━━━━━━━━━━━━━━━━━━━\u001b[0m\u001b[37m\u001b[0m \u001b[1m1s\u001b[0m 2ms/step - loss: 0.6544 - val_loss: 0.6577\n",
      "Epoch 57/500\n",
      "\u001b[1m546/565\u001b[0m \u001b[32m━━━━━━━━━━━━━━━━━━━\u001b[0m\u001b[37m━\u001b[0m \u001b[1m0s\u001b[0m 2ms/step - loss: 0.6540\n",
      "Epoch 57: val_loss did not improve from 0.65771\n",
      "\u001b[1m565/565\u001b[0m \u001b[32m━━━━━━━━━━━━━━━━━━━━\u001b[0m\u001b[37m\u001b[0m \u001b[1m1s\u001b[0m 2ms/step - loss: 0.6544 - val_loss: 0.6578\n",
      "Epoch 58/500\n",
      "\u001b[1m545/565\u001b[0m \u001b[32m━━━━━━━━━━━━━━━━━━━\u001b[0m\u001b[37m━\u001b[0m \u001b[1m0s\u001b[0m 2ms/step - loss: 0.6519\n",
      "Epoch 58: val_loss did not improve from 0.65771\n",
      "\u001b[1m565/565\u001b[0m \u001b[32m━━━━━━━━━━━━━━━━━━━━\u001b[0m\u001b[37m\u001b[0m \u001b[1m1s\u001b[0m 2ms/step - loss: 0.6523 - val_loss: 0.6578\n",
      "Epoch 59/500\n",
      "\u001b[1m543/565\u001b[0m \u001b[32m━━━━━━━━━━━━━━━━━━━\u001b[0m\u001b[37m━\u001b[0m \u001b[1m0s\u001b[0m 2ms/step - loss: 0.6673\n",
      "Epoch 59: val_loss improved from 0.65771 to 0.65765, saving model to neo_bank_churn.weights.h5\n",
      "\u001b[1m565/565\u001b[0m \u001b[32m━━━━━━━━━━━━━━━━━━━━\u001b[0m\u001b[37m\u001b[0m \u001b[1m1s\u001b[0m 2ms/step - loss: 0.6672 - val_loss: 0.6577\n",
      "Epoch 60/500\n",
      "\u001b[1m565/565\u001b[0m \u001b[32m━━━━━━━━━━━━━━━━━━━━\u001b[0m\u001b[37m\u001b[0m \u001b[1m0s\u001b[0m 2ms/step - loss: 0.6630\n",
      "Epoch 60: val_loss did not improve from 0.65765\n",
      "\u001b[1m565/565\u001b[0m \u001b[32m━━━━━━━━━━━━━━━━━━━━\u001b[0m\u001b[37m\u001b[0m \u001b[1m1s\u001b[0m 2ms/step - loss: 0.6630 - val_loss: 0.6578\n",
      "Epoch 61/500\n",
      "\u001b[1m550/565\u001b[0m \u001b[32m━━━━━━━━━━━━━━━━━━━\u001b[0m\u001b[37m━\u001b[0m \u001b[1m0s\u001b[0m 2ms/step - loss: 0.6648\n",
      "Epoch 61: val_loss did not improve from 0.65765\n",
      "\u001b[1m565/565\u001b[0m \u001b[32m━━━━━━━━━━━━━━━━━━━━\u001b[0m\u001b[37m\u001b[0m \u001b[1m1s\u001b[0m 2ms/step - loss: 0.6648 - val_loss: 0.6577\n",
      "Epoch 62/500\n",
      "\u001b[1m544/565\u001b[0m \u001b[32m━━━━━━━━━━━━━━━━━━━\u001b[0m\u001b[37m━\u001b[0m \u001b[1m0s\u001b[0m 2ms/step - loss: 0.6627\n",
      "Epoch 62: val_loss did not improve from 0.65765\n",
      "\u001b[1m565/565\u001b[0m \u001b[32m━━━━━━━━━━━━━━━━━━━━\u001b[0m\u001b[37m\u001b[0m \u001b[1m1s\u001b[0m 2ms/step - loss: 0.6628 - val_loss: 0.6577\n",
      "Epoch 63/500\n",
      "\u001b[1m548/565\u001b[0m \u001b[32m━━━━━━━━━━━━━━━━━━━\u001b[0m\u001b[37m━\u001b[0m \u001b[1m0s\u001b[0m 2ms/step - loss: 0.6603\n",
      "Epoch 63: val_loss did not improve from 0.65765\n",
      "\u001b[1m565/565\u001b[0m \u001b[32m━━━━━━━━━━━━━━━━━━━━\u001b[0m\u001b[37m\u001b[0m \u001b[1m1s\u001b[0m 2ms/step - loss: 0.6604 - val_loss: 0.6577\n",
      "Epoch 64/500\n",
      "\u001b[1m544/565\u001b[0m \u001b[32m━━━━━━━━━━━━━━━━━━━\u001b[0m\u001b[37m━\u001b[0m \u001b[1m0s\u001b[0m 2ms/step - loss: 0.6712\n",
      "Epoch 64: val_loss improved from 0.65765 to 0.65758, saving model to neo_bank_churn.weights.h5\n",
      "\u001b[1m565/565\u001b[0m \u001b[32m━━━━━━━━━━━━━━━━━━━━\u001b[0m\u001b[37m\u001b[0m \u001b[1m1s\u001b[0m 2ms/step - loss: 0.6709 - val_loss: 0.6576\n",
      "Epoch 65/500\n",
      "\u001b[1m558/565\u001b[0m \u001b[32m━━━━━━━━━━━━━━━━━━━\u001b[0m\u001b[37m━\u001b[0m \u001b[1m0s\u001b[0m 2ms/step - loss: 0.6728\n",
      "Epoch 65: val_loss improved from 0.65758 to 0.65753, saving model to neo_bank_churn.weights.h5\n",
      "\u001b[1m565/565\u001b[0m \u001b[32m━━━━━━━━━━━━━━━━━━━━\u001b[0m\u001b[37m\u001b[0m \u001b[1m1s\u001b[0m 2ms/step - loss: 0.6726 - val_loss: 0.6575\n",
      "Epoch 66/500\n",
      "\u001b[1m565/565\u001b[0m \u001b[32m━━━━━━━━━━━━━━━━━━━━\u001b[0m\u001b[37m\u001b[0m \u001b[1m0s\u001b[0m 2ms/step - loss: 0.6694\n",
      "Epoch 66: val_loss improved from 0.65753 to 0.65711, saving model to neo_bank_churn.weights.h5\n",
      "\u001b[1m565/565\u001b[0m \u001b[32m━━━━━━━━━━━━━━━━━━━━\u001b[0m\u001b[37m\u001b[0m \u001b[1m1s\u001b[0m 2ms/step - loss: 0.6694 - val_loss: 0.6571\n",
      "Epoch 67/500\n",
      "\u001b[1m548/565\u001b[0m \u001b[32m━━━━━━━━━━━━━━━━━━━\u001b[0m\u001b[37m━\u001b[0m \u001b[1m0s\u001b[0m 2ms/step - loss: 0.6611\n",
      "Epoch 67: val_loss improved from 0.65711 to 0.65698, saving model to neo_bank_churn.weights.h5\n",
      "\u001b[1m565/565\u001b[0m \u001b[32m━━━━━━━━━━━━━━━━━━━━\u001b[0m\u001b[37m\u001b[0m \u001b[1m1s\u001b[0m 2ms/step - loss: 0.6612 - val_loss: 0.6570\n",
      "Epoch 68/500\n",
      "\u001b[1m546/565\u001b[0m \u001b[32m━━━━━━━━━━━━━━━━━━━\u001b[0m\u001b[37m━\u001b[0m \u001b[1m0s\u001b[0m 2ms/step - loss: 0.6605\n",
      "Epoch 68: val_loss did not improve from 0.65698\n",
      "\u001b[1m565/565\u001b[0m \u001b[32m━━━━━━━━━━━━━━━━━━━━\u001b[0m\u001b[37m\u001b[0m \u001b[1m1s\u001b[0m 2ms/step - loss: 0.6606 - val_loss: 0.6571\n",
      "Epoch 69/500\n",
      "\u001b[1m561/565\u001b[0m \u001b[32m━━━━━━━━━━━━━━━━━━━\u001b[0m\u001b[37m━\u001b[0m \u001b[1m0s\u001b[0m 2ms/step - loss: 0.6564\n",
      "Epoch 69: val_loss did not improve from 0.65698\n",
      "\u001b[1m565/565\u001b[0m \u001b[32m━━━━━━━━━━━━━━━━━━━━\u001b[0m\u001b[37m\u001b[0m \u001b[1m1s\u001b[0m 2ms/step - loss: 0.6565 - val_loss: 0.6571\n",
      "Epoch 70/500\n",
      "\u001b[1m555/565\u001b[0m \u001b[32m━━━━━━━━━━━━━━━━━━━\u001b[0m\u001b[37m━\u001b[0m \u001b[1m0s\u001b[0m 2ms/step - loss: 0.6606\n",
      "Epoch 70: val_loss did not improve from 0.65698\n",
      "\u001b[1m565/565\u001b[0m \u001b[32m━━━━━━━━━━━━━━━━━━━━\u001b[0m\u001b[37m\u001b[0m \u001b[1m1s\u001b[0m 2ms/step - loss: 0.6606 - val_loss: 0.6570\n",
      "Epoch 71/500\n",
      "\u001b[1m543/565\u001b[0m \u001b[32m━━━━━━━━━━━━━━━━━━━\u001b[0m\u001b[37m━\u001b[0m \u001b[1m0s\u001b[0m 2ms/step - loss: 0.6644\n",
      "Epoch 71: val_loss improved from 0.65698 to 0.65682, saving model to neo_bank_churn.weights.h5\n",
      "\u001b[1m565/565\u001b[0m \u001b[32m━━━━━━━━━━━━━━━━━━━━\u001b[0m\u001b[37m\u001b[0m \u001b[1m1s\u001b[0m 2ms/step - loss: 0.6644 - val_loss: 0.6568\n",
      "Epoch 72/500\n",
      "\u001b[1m543/565\u001b[0m \u001b[32m━━━━━━━━━━━━━━━━━━━\u001b[0m\u001b[37m━\u001b[0m \u001b[1m0s\u001b[0m 2ms/step - loss: 0.6621\n",
      "Epoch 72: val_loss did not improve from 0.65682\n",
      "\u001b[1m565/565\u001b[0m \u001b[32m━━━━━━━━━━━━━━━━━━━━\u001b[0m\u001b[37m\u001b[0m \u001b[1m1s\u001b[0m 2ms/step - loss: 0.6622 - val_loss: 0.6569\n",
      "Epoch 73/500\n",
      "\u001b[1m538/565\u001b[0m \u001b[32m━━━━━━━━━━━━━━━━━━━\u001b[0m\u001b[37m━\u001b[0m \u001b[1m0s\u001b[0m 2ms/step - loss: 0.6593\n",
      "Epoch 73: val_loss improved from 0.65682 to 0.65671, saving model to neo_bank_churn.weights.h5\n",
      "\u001b[1m565/565\u001b[0m \u001b[32m━━━━━━━━━━━━━━━━━━━━\u001b[0m\u001b[37m\u001b[0m \u001b[1m1s\u001b[0m 2ms/step - loss: 0.6595 - val_loss: 0.6567\n",
      "Epoch 74/500\n",
      "\u001b[1m539/565\u001b[0m \u001b[32m━━━━━━━━━━━━━━━━━━━\u001b[0m\u001b[37m━\u001b[0m \u001b[1m0s\u001b[0m 2ms/step - loss: 0.6689\n",
      "Epoch 74: val_loss improved from 0.65671 to 0.65669, saving model to neo_bank_churn.weights.h5\n",
      "\u001b[1m565/565\u001b[0m \u001b[32m━━━━━━━━━━━━━━━━━━━━\u001b[0m\u001b[37m\u001b[0m \u001b[1m1s\u001b[0m 2ms/step - loss: 0.6686 - val_loss: 0.6567\n",
      "Epoch 75/500\n",
      "\u001b[1m547/565\u001b[0m \u001b[32m━━━━━━━━━━━━━━━━━━━\u001b[0m\u001b[37m━\u001b[0m \u001b[1m0s\u001b[0m 2ms/step - loss: 0.6660\n",
      "Epoch 75: val_loss improved from 0.65669 to 0.65658, saving model to neo_bank_churn.weights.h5\n",
      "\u001b[1m565/565\u001b[0m \u001b[32m━━━━━━━━━━━━━━━━━━━━\u001b[0m\u001b[37m\u001b[0m \u001b[1m1s\u001b[0m 2ms/step - loss: 0.6659 - val_loss: 0.6566\n",
      "Epoch 76/500\n",
      "\u001b[1m543/565\u001b[0m \u001b[32m━━━━━━━━━━━━━━━━━━━\u001b[0m\u001b[37m━\u001b[0m \u001b[1m0s\u001b[0m 2ms/step - loss: 0.6611\n",
      "Epoch 76: val_loss improved from 0.65658 to 0.65646, saving model to neo_bank_churn.weights.h5\n",
      "\u001b[1m565/565\u001b[0m \u001b[32m━━━━━━━━━━━━━━━━━━━━\u001b[0m\u001b[37m\u001b[0m \u001b[1m1s\u001b[0m 2ms/step - loss: 0.6612 - val_loss: 0.6565\n",
      "Epoch 77/500\n",
      "\u001b[1m544/565\u001b[0m \u001b[32m━━━━━━━━━━━━━━━━━━━\u001b[0m\u001b[37m━\u001b[0m \u001b[1m0s\u001b[0m 2ms/step - loss: 0.6542\n",
      "Epoch 77: val_loss improved from 0.65646 to 0.65641, saving model to neo_bank_churn.weights.h5\n",
      "\u001b[1m565/565\u001b[0m \u001b[32m━━━━━━━━━━━━━━━━━━━━\u001b[0m\u001b[37m\u001b[0m \u001b[1m1s\u001b[0m 2ms/step - loss: 0.6546 - val_loss: 0.6564\n",
      "Epoch 78/500\n",
      "\u001b[1m549/565\u001b[0m \u001b[32m━━━━━━━━━━━━━━━━━━━\u001b[0m\u001b[37m━\u001b[0m \u001b[1m0s\u001b[0m 2ms/step - loss: 0.6632\n",
      "Epoch 78: val_loss did not improve from 0.65641\n",
      "\u001b[1m565/565\u001b[0m \u001b[32m━━━━━━━━━━━━━━━━━━━━\u001b[0m\u001b[37m\u001b[0m \u001b[1m1s\u001b[0m 2ms/step - loss: 0.6631 - val_loss: 0.6565\n",
      "Epoch 79/500\n",
      "\u001b[1m538/565\u001b[0m \u001b[32m━━━━━━━━━━━━━━━━━━━\u001b[0m\u001b[37m━\u001b[0m \u001b[1m0s\u001b[0m 2ms/step - loss: 0.6542\n",
      "Epoch 79: val_loss improved from 0.65641 to 0.65638, saving model to neo_bank_churn.weights.h5\n",
      "\u001b[1m565/565\u001b[0m \u001b[32m━━━━━━━━━━━━━━━━━━━━\u001b[0m\u001b[37m\u001b[0m \u001b[1m1s\u001b[0m 2ms/step - loss: 0.6547 - val_loss: 0.6564\n",
      "Epoch 80/500\n",
      "\u001b[1m541/565\u001b[0m \u001b[32m━━━━━━━━━━━━━━━━━━━\u001b[0m\u001b[37m━\u001b[0m \u001b[1m0s\u001b[0m 2ms/step - loss: 0.6607\n",
      "Epoch 80: val_loss improved from 0.65638 to 0.65638, saving model to neo_bank_churn.weights.h5\n",
      "\u001b[1m565/565\u001b[0m \u001b[32m━━━━━━━━━━━━━━━━━━━━\u001b[0m\u001b[37m\u001b[0m \u001b[1m1s\u001b[0m 2ms/step - loss: 0.6608 - val_loss: 0.6564\n",
      "Epoch 81/500\n",
      "\u001b[1m546/565\u001b[0m \u001b[32m━━━━━━━━━━━━━━━━━━━\u001b[0m\u001b[37m━\u001b[0m \u001b[1m0s\u001b[0m 2ms/step - loss: 0.6601\n",
      "Epoch 81: val_loss improved from 0.65638 to 0.65636, saving model to neo_bank_churn.weights.h5\n",
      "\u001b[1m565/565\u001b[0m \u001b[32m━━━━━━━━━━━━━━━━━━━━\u001b[0m\u001b[37m\u001b[0m \u001b[1m1s\u001b[0m 2ms/step - loss: 0.6602 - val_loss: 0.6564\n",
      "Epoch 82/500\n",
      "\u001b[1m544/565\u001b[0m \u001b[32m━━━━━━━━━━━━━━━━━━━\u001b[0m\u001b[37m━\u001b[0m \u001b[1m0s\u001b[0m 2ms/step - loss: 0.6617\n",
      "Epoch 82: val_loss did not improve from 0.65636\n",
      "\u001b[1m565/565\u001b[0m \u001b[32m━━━━━━━━━━━━━━━━━━━━\u001b[0m\u001b[37m\u001b[0m \u001b[1m1s\u001b[0m 2ms/step - loss: 0.6618 - val_loss: 0.6565\n",
      "Epoch 83/500\n",
      "\u001b[1m544/565\u001b[0m \u001b[32m━━━━━━━━━━━━━━━━━━━\u001b[0m\u001b[37m━\u001b[0m \u001b[1m0s\u001b[0m 2ms/step - loss: 0.6645\n",
      "Epoch 83: val_loss did not improve from 0.65636\n",
      "\u001b[1m565/565\u001b[0m \u001b[32m━━━━━━━━━━━━━━━━━━━━\u001b[0m\u001b[37m\u001b[0m \u001b[1m1s\u001b[0m 2ms/step - loss: 0.6644 - val_loss: 0.6566\n",
      "Epoch 84/500\n",
      "\u001b[1m538/565\u001b[0m \u001b[32m━━━━━━━━━━━━━━━━━━━\u001b[0m\u001b[37m━\u001b[0m \u001b[1m0s\u001b[0m 2ms/step - loss: 0.6660\n",
      "Epoch 84: val_loss did not improve from 0.65636\n",
      "\u001b[1m565/565\u001b[0m \u001b[32m━━━━━━━━━━━━━━━━━━━━\u001b[0m\u001b[37m\u001b[0m \u001b[1m1s\u001b[0m 2ms/step - loss: 0.6659 - val_loss: 0.6565\n",
      "Epoch 85/500\n",
      "\u001b[1m535/565\u001b[0m \u001b[32m━━━━━━━━━━━━━━━━━━\u001b[0m\u001b[37m━━\u001b[0m \u001b[1m0s\u001b[0m 2ms/step - loss: 0.6660\n",
      "Epoch 85: val_loss did not improve from 0.65636\n",
      "\u001b[1m565/565\u001b[0m \u001b[32m━━━━━━━━━━━━━━━━━━━━\u001b[0m\u001b[37m\u001b[0m \u001b[1m1s\u001b[0m 2ms/step - loss: 0.6658 - val_loss: 0.6566\n",
      "Epoch 86/500\n",
      "\u001b[1m537/565\u001b[0m \u001b[32m━━━━━━━━━━━━━━━━━━━\u001b[0m\u001b[37m━\u001b[0m \u001b[1m0s\u001b[0m 2ms/step - loss: 0.6609\n",
      "Epoch 86: val_loss improved from 0.65636 to 0.65635, saving model to neo_bank_churn.weights.h5\n",
      "\u001b[1m565/565\u001b[0m \u001b[32m━━━━━━━━━━━━━━━━━━━━\u001b[0m\u001b[37m\u001b[0m \u001b[1m1s\u001b[0m 2ms/step - loss: 0.6609 - val_loss: 0.6564\n",
      "Epoch 87/500\n",
      "\u001b[1m556/565\u001b[0m \u001b[32m━━━━━━━━━━━━━━━━━━━\u001b[0m\u001b[37m━\u001b[0m \u001b[1m0s\u001b[0m 2ms/step - loss: 0.6597\n",
      "Epoch 87: val_loss did not improve from 0.65635\n",
      "\u001b[1m565/565\u001b[0m \u001b[32m━━━━━━━━━━━━━━━━━━━━\u001b[0m\u001b[37m\u001b[0m \u001b[1m1s\u001b[0m 2ms/step - loss: 0.6598 - val_loss: 0.6564\n",
      "Epoch 88/500\n",
      "\u001b[1m557/565\u001b[0m \u001b[32m━━━━━━━━━━━━━━━━━━━\u001b[0m\u001b[37m━\u001b[0m \u001b[1m0s\u001b[0m 2ms/step - loss: 0.6603\n",
      "Epoch 88: val_loss did not improve from 0.65635\n",
      "\u001b[1m565/565\u001b[0m \u001b[32m━━━━━━━━━━━━━━━━━━━━\u001b[0m\u001b[37m\u001b[0m \u001b[1m1s\u001b[0m 2ms/step - loss: 0.6603 - val_loss: 0.6564\n",
      "Epoch 89/500\n",
      "\u001b[1m559/565\u001b[0m \u001b[32m━━━━━━━━━━━━━━━━━━━\u001b[0m\u001b[37m━\u001b[0m \u001b[1m0s\u001b[0m 2ms/step - loss: 0.6616\n",
      "Epoch 89: val_loss did not improve from 0.65635\n",
      "\u001b[1m565/565\u001b[0m \u001b[32m━━━━━━━━━━━━━━━━━━━━\u001b[0m\u001b[37m\u001b[0m \u001b[1m1s\u001b[0m 2ms/step - loss: 0.6616 - val_loss: 0.6565\n",
      "Epoch 90/500\n",
      "\u001b[1m542/565\u001b[0m \u001b[32m━━━━━━━━━━━━━━━━━━━\u001b[0m\u001b[37m━\u001b[0m \u001b[1m0s\u001b[0m 2ms/step - loss: 0.6630\n",
      "Epoch 90: val_loss improved from 0.65635 to 0.65635, saving model to neo_bank_churn.weights.h5\n",
      "\u001b[1m565/565\u001b[0m \u001b[32m━━━━━━━━━━━━━━━━━━━━\u001b[0m\u001b[37m\u001b[0m \u001b[1m1s\u001b[0m 2ms/step - loss: 0.6630 - val_loss: 0.6563\n",
      "Epoch 91/500\n",
      "\u001b[1m550/565\u001b[0m \u001b[32m━━━━━━━━━━━━━━━━━━━\u001b[0m\u001b[37m━\u001b[0m \u001b[1m0s\u001b[0m 2ms/step - loss: 0.6543\n",
      "Epoch 91: val_loss did not improve from 0.65635\n",
      "\u001b[1m565/565\u001b[0m \u001b[32m━━━━━━━━━━━━━━━━━━━━\u001b[0m\u001b[37m\u001b[0m \u001b[1m1s\u001b[0m 2ms/step - loss: 0.6545 - val_loss: 0.6563\n",
      "Epoch 92/500\n",
      "\u001b[1m555/565\u001b[0m \u001b[32m━━━━━━━━━━━━━━━━━━━\u001b[0m\u001b[37m━\u001b[0m \u001b[1m0s\u001b[0m 2ms/step - loss: 0.6561\n",
      "Epoch 92: val_loss improved from 0.65635 to 0.65622, saving model to neo_bank_churn.weights.h5\n",
      "\u001b[1m565/565\u001b[0m \u001b[32m━━━━━━━━━━━━━━━━━━━━\u001b[0m\u001b[37m\u001b[0m \u001b[1m1s\u001b[0m 2ms/step - loss: 0.6563 - val_loss: 0.6562\n",
      "Epoch 93/500\n",
      "\u001b[1m547/565\u001b[0m \u001b[32m━━━━━━━━━━━━━━━━━━━\u001b[0m\u001b[37m━\u001b[0m \u001b[1m0s\u001b[0m 2ms/step - loss: 0.6573\n",
      "Epoch 93: val_loss improved from 0.65622 to 0.65618, saving model to neo_bank_churn.weights.h5\n",
      "\u001b[1m565/565\u001b[0m \u001b[32m━━━━━━━━━━━━━━━━━━━━\u001b[0m\u001b[37m\u001b[0m \u001b[1m1s\u001b[0m 2ms/step - loss: 0.6575 - val_loss: 0.6562\n",
      "Epoch 94/500\n",
      "\u001b[1m552/565\u001b[0m \u001b[32m━━━━━━━━━━━━━━━━━━━\u001b[0m\u001b[37m━\u001b[0m \u001b[1m0s\u001b[0m 2ms/step - loss: 0.6554\n",
      "Epoch 94: val_loss improved from 0.65618 to 0.65617, saving model to neo_bank_churn.weights.h5\n",
      "\u001b[1m565/565\u001b[0m \u001b[32m━━━━━━━━━━━━━━━━━━━━\u001b[0m\u001b[37m\u001b[0m \u001b[1m1s\u001b[0m 2ms/step - loss: 0.6556 - val_loss: 0.6562\n",
      "Epoch 95/500\n",
      "\u001b[1m565/565\u001b[0m \u001b[32m━━━━━━━━━━━━━━━━━━━━\u001b[0m\u001b[37m\u001b[0m \u001b[1m0s\u001b[0m 2ms/step - loss: 0.6600\n",
      "Epoch 95: val_loss did not improve from 0.65617\n",
      "\u001b[1m565/565\u001b[0m \u001b[32m━━━━━━━━━━━━━━━━━━━━\u001b[0m\u001b[37m\u001b[0m \u001b[1m1s\u001b[0m 2ms/step - loss: 0.6600 - val_loss: 0.6562\n",
      "Epoch 96/500\n",
      "\u001b[1m551/565\u001b[0m \u001b[32m━━━━━━━━━━━━━━━━━━━\u001b[0m\u001b[37m━\u001b[0m \u001b[1m0s\u001b[0m 2ms/step - loss: 0.6691\n",
      "Epoch 96: val_loss did not improve from 0.65617\n",
      "\u001b[1m565/565\u001b[0m \u001b[32m━━━━━━━━━━━━━━━━━━━━\u001b[0m\u001b[37m\u001b[0m \u001b[1m1s\u001b[0m 2ms/step - loss: 0.6689 - val_loss: 0.6562\n",
      "Epoch 97/500\n",
      "\u001b[1m547/565\u001b[0m \u001b[32m━━━━━━━━━━━━━━━━━━━\u001b[0m\u001b[37m━\u001b[0m \u001b[1m0s\u001b[0m 2ms/step - loss: 0.6573\n",
      "Epoch 97: val_loss improved from 0.65617 to 0.65615, saving model to neo_bank_churn.weights.h5\n",
      "\u001b[1m565/565\u001b[0m \u001b[32m━━━━━━━━━━━━━━━━━━━━\u001b[0m\u001b[37m\u001b[0m \u001b[1m1s\u001b[0m 2ms/step - loss: 0.6575 - val_loss: 0.6562\n",
      "Epoch 98/500\n",
      "\u001b[1m556/565\u001b[0m \u001b[32m━━━━━━━━━━━━━━━━━━━\u001b[0m\u001b[37m━\u001b[0m \u001b[1m0s\u001b[0m 2ms/step - loss: 0.6630\n",
      "Epoch 98: val_loss did not improve from 0.65615\n",
      "\u001b[1m565/565\u001b[0m \u001b[32m━━━━━━━━━━━━━━━━━━━━\u001b[0m\u001b[37m\u001b[0m \u001b[1m1s\u001b[0m 2ms/step - loss: 0.6630 - val_loss: 0.6564\n",
      "Epoch 99/500\n",
      "\u001b[1m550/565\u001b[0m \u001b[32m━━━━━━━━━━━━━━━━━━━\u001b[0m\u001b[37m━\u001b[0m \u001b[1m0s\u001b[0m 2ms/step - loss: 0.6547\n",
      "Epoch 99: val_loss improved from 0.65615 to 0.65614, saving model to neo_bank_churn.weights.h5\n",
      "\u001b[1m565/565\u001b[0m \u001b[32m━━━━━━━━━━━━━━━━━━━━\u001b[0m\u001b[37m\u001b[0m \u001b[1m1s\u001b[0m 2ms/step - loss: 0.6549 - val_loss: 0.6561\n",
      "Epoch 100/500\n",
      "\u001b[1m542/565\u001b[0m \u001b[32m━━━━━━━━━━━━━━━━━━━\u001b[0m\u001b[37m━\u001b[0m \u001b[1m0s\u001b[0m 2ms/step - loss: 0.6670\n",
      "Epoch 100: val_loss did not improve from 0.65614\n",
      "\u001b[1m565/565\u001b[0m \u001b[32m━━━━━━━━━━━━━━━━━━━━\u001b[0m\u001b[37m\u001b[0m \u001b[1m1s\u001b[0m 2ms/step - loss: 0.6668 - val_loss: 0.6563\n",
      "Epoch 101/500\n",
      "\u001b[1m547/565\u001b[0m \u001b[32m━━━━━━━━━━━━━━━━━━━\u001b[0m\u001b[37m━\u001b[0m \u001b[1m0s\u001b[0m 2ms/step - loss: 0.6640\n",
      "Epoch 101: val_loss did not improve from 0.65614\n",
      "\u001b[1m565/565\u001b[0m \u001b[32m━━━━━━━━━━━━━━━━━━━━\u001b[0m\u001b[37m\u001b[0m \u001b[1m1s\u001b[0m 2ms/step - loss: 0.6640 - val_loss: 0.6562\n",
      "Epoch 102/500\n",
      "\u001b[1m548/565\u001b[0m \u001b[32m━━━━━━━━━━━━━━━━━━━\u001b[0m\u001b[37m━\u001b[0m \u001b[1m0s\u001b[0m 2ms/step - loss: 0.6637\n",
      "Epoch 102: val_loss did not improve from 0.65614\n",
      "\u001b[1m565/565\u001b[0m \u001b[32m━━━━━━━━━━━━━━━━━━━━\u001b[0m\u001b[37m\u001b[0m \u001b[1m1s\u001b[0m 2ms/step - loss: 0.6637 - val_loss: 0.6563\n",
      "Epoch 103/500\n",
      "\u001b[1m544/565\u001b[0m \u001b[32m━━━━━━━━━━━━━━━━━━━\u001b[0m\u001b[37m━\u001b[0m \u001b[1m0s\u001b[0m 2ms/step - loss: 0.6635\n",
      "Epoch 103: val_loss did not improve from 0.65614\n",
      "\u001b[1m565/565\u001b[0m \u001b[32m━━━━━━━━━━━━━━━━━━━━\u001b[0m\u001b[37m\u001b[0m \u001b[1m1s\u001b[0m 2ms/step - loss: 0.6635 - val_loss: 0.6562\n",
      "Epoch 104/500\n",
      "\u001b[1m559/565\u001b[0m \u001b[32m━━━━━━━━━━━━━━━━━━━\u001b[0m\u001b[37m━\u001b[0m \u001b[1m0s\u001b[0m 2ms/step - loss: 0.6652\n",
      "Epoch 104: val_loss did not improve from 0.65614\n",
      "\u001b[1m565/565\u001b[0m \u001b[32m━━━━━━━━━━━━━━━━━━━━\u001b[0m\u001b[37m\u001b[0m \u001b[1m1s\u001b[0m 2ms/step - loss: 0.6651 - val_loss: 0.6565\n",
      "Epoch 104: early stopping\n",
      "Restoring model weights from the end of the best epoch: 99.\n",
      "\u001b[1m2259/2259\u001b[0m \u001b[32m━━━━━━━━━━━━━━━━━━━━\u001b[0m\u001b[37m\u001b[0m \u001b[1m3s\u001b[0m 1ms/step\n",
      "0.656140093742685\n",
      "CPU times: user 2min 55s, sys: 21.3 s, total: 3min 17s\n",
      "Wall time: 2min 14s\n"
     ]
    }
   ],
   "source": [
    "%%time\n",
    "import pandas as pd\n",
    "import numpy as np\n",
    "from sklearn.preprocessing import StandardScaler\n",
    "from sklearn.model_selection import train_test_split\n",
    "from tensorflow.keras.models import Model\n",
    "from tensorflow.keras.layers import Input, Dense\n",
    "import matplotlib.pyplot as plt\n",
    "from tensorflow.keras.callbacks import ModelCheckpoint, EarlyStopping\n",
    "from sklearn.preprocessing import MinMaxScaler\n",
    "\n",
    "\n",
    "\n",
    "\n",
    "## TODO handle missing values \n",
    "X = df_non_churners[[c for c in cols_for_model if (c!='country') & (c!='job')]].fillna(0)\n",
    "scaler = StandardScaler()\n",
    "X_scaled = scaler.fit_transform(X)\n",
    "X_scaled = pd.DataFrame(X_scaled, columns=X.columns)\n",
    "\n",
    "X_train, X_val = train_test_split(X_scaled, test_size=0.2, random_state=17)\n",
    "\n",
    "input_dim = X_train.shape[1]\n",
    "N = 2\n",
    "\n",
    "input_layer = Input(shape=(input_dim,))\n",
    "encoded = Dense(32*N, activation='relu')(input_layer)\n",
    "\n",
    "#encoded = Dense(24*N, activation='relu')(encoded)\n",
    "\n",
    "encoded = Dense(16*N, activation='relu')(encoded)\n",
    "encoded = Dense(8*N, activation='relu')(encoded)\n",
    "\n",
    "encoded = Dense(4*N, activation='relu')(encoded)\n",
    "decoded = Dense(8*N, activation='relu')(encoded)\n",
    "\n",
    "decoded = Dense(16*N, activation='relu')(decoded)\n",
    "#decoded = Dense(24*N, activation='relu')(decoded)\n",
    "decoded = Dense(32*N, activation='relu')(decoded)\n",
    "decoded = Dense(input_dim, activation='sigmoid')(decoded)\n",
    "\n",
    "autoencoder = Model(input_layer, decoded, name='neo_bank_churn')\n",
    "autoencoder.compile(optimizer='adam', loss='mse')\n",
    "\n",
    "model_name = \"neo_bank_churn.weights.h5\"\n",
    "checkpoint = ModelCheckpoint(model_name,\n",
    "                            monitor=\"val_loss\",\n",
    "                            mode=\"min\",\n",
    "                            save_best_only = True,\n",
    "                            save_weights_only=True,\n",
    "                            verbose=1)\n",
    "earlystopping = EarlyStopping(monitor='val_loss',\n",
    "                              min_delta = 0, \n",
    "                              patience = 5, \n",
    "                              verbose = 1,\n",
    "                              restore_best_weights=True)\n",
    "\n",
    "callbacks = [checkpoint, earlystopping]\n",
    "\n",
    "\n",
    "\n",
    "\n",
    "history = autoencoder.fit(\n",
    "    X_train, X_train,\n",
    "    epochs=100*5,\n",
    "    batch_size=512*1,\n",
    "    validation_data=(X_val, X_val),\n",
    "    verbose=1,callbacks=callbacks, shuffle=True\n",
    ")\n",
    "\n",
    "\n",
    "\n",
    "X_val_reconstructed = autoencoder.predict(X_val)\n",
    "reconstruction_errors = np.mean(np.square(X_val - X_val_reconstructed), axis=1)\n",
    "print(reconstruction_errors.mean())"
   ]
  },
  {
   "cell_type": "code",
   "execution_count": 51,
   "id": "34efa63d",
   "metadata": {
    "execution": {
     "iopub.execute_input": "2025-01-13T23:17:10.066741Z",
     "iopub.status.busy": "2025-01-13T23:17:10.066307Z",
     "iopub.status.idle": "2025-01-13T23:17:10.259615Z",
     "shell.execute_reply": "2025-01-13T23:17:10.258728Z"
    },
    "papermill": {
     "duration": 0.316211,
     "end_time": "2025-01-13T23:17:10.261112",
     "exception": false,
     "start_time": "2025-01-13T23:17:09.944901",
     "status": "completed"
    },
    "tags": []
   },
   "outputs": [
    {
     "data": {
      "image/png": "[encoded data removed]",
      "text/plain": [
       "<Figure size 1000x600 with 1 Axes>"
      ]
     },
     "metadata": {},
     "output_type": "display_data"
    }
   ],
   "source": [
    "plt.figure(figsize=(10,6))\n",
    "plt.plot(history.history['loss'], label=\"Training Loss\")\n",
    "plt.plot(history.history['val_loss'], label=\"Validation Loss\")\n",
    "plt.xlabel('Epochs')\n",
    "plt.ylabel('Loss')\n",
    "plt.legend()\n",
    "plt.title(\"Loss values by Epoch\")\n",
    "plt.show()"
   ]
  },
  {
   "cell_type": "code",
   "execution_count": 52,
   "id": "159552c4",
   "metadata": {
    "execution": {
     "iopub.execute_input": "2025-01-13T23:17:10.503288Z",
     "iopub.status.busy": "2025-01-13T23:17:10.502988Z",
     "iopub.status.idle": "2025-01-13T23:17:10.506573Z",
     "shell.execute_reply": "2025-01-13T23:17:10.505724Z"
    },
    "papermill": {
     "duration": 0.124317,
     "end_time": "2025-01-13T23:17:10.507798",
     "exception": false,
     "start_time": "2025-01-13T23:17:10.383481",
     "status": "completed"
    },
    "tags": []
   },
   "outputs": [],
   "source": [
    "# from scipy.stats import norm\n",
    "\n",
    "# mean, std = norm.fit(reconstruction_errors)\n",
    "# cdf = norm.cdf(reconstruction_errors, loc=mean, scale=std)\n",
    "# anomaly_probabilities = 1 - cdf\n",
    "\n",
    "# print(\"Reconstruction errors:\", reconstruction_errors[:5])\n",
    "# print(\"Anomaly probabilities:\", anomaly_probabilities[:5])\n",
    "#anomaly_probabilities.mean()\n",
    "\n",
    "# from statsmodels.distributions.empirical_distribution import ECDF\n",
    "\n",
    "# ecdf = ECDF(reconstruction_errors)\n",
    "# reconstruction_errors_normalized = 1 - ecdf(reconstruction_errors)\n",
    "# reconstruction_errors_normalized.mean()\n",
    "\n",
    "\n",
    "# from scipy.stats import lognorm\n",
    "# shape, loc, scale = lognorm.fit(reconstruction_errors, floc=0)\n",
    "# cdf = lognorm.cdf(reconstruction_errors, s=shape, loc=loc, scale=scale)\n",
    "# reconstruction_errors_normalized = 1 - cdf\n",
    "\n",
    "# reconstruction_errors_normalized.mean()"
   ]
  },
  {
   "cell_type": "code",
   "execution_count": 53,
   "id": "8f57aac5",
   "metadata": {
    "execution": {
     "iopub.execute_input": "2025-01-13T23:17:10.763759Z",
     "iopub.status.busy": "2025-01-13T23:17:10.763427Z",
     "iopub.status.idle": "2025-01-13T23:17:10.769897Z",
     "shell.execute_reply": "2025-01-13T23:17:10.769140Z"
    },
    "papermill": {
     "duration": 0.144816,
     "end_time": "2025-01-13T23:17:10.771216",
     "exception": false,
     "start_time": "2025-01-13T23:17:10.626400",
     "status": "completed"
    },
    "tags": []
   },
   "outputs": [
    {
     "data": {
      "text/plain": [
       "0.0024727096309873774"
      ]
     },
     "execution_count": 53,
     "metadata": {},
     "output_type": "execute_result"
    }
   ],
   "source": [
    "prob_scaler = MinMaxScaler()\n",
    "reconstruction_errors_normalized = prob_scaler.fit_transform(reconstruction_errors.values.reshape(-1, 1))\n",
    "reconstruction_errors_normalized.mean()"
   ]
  },
  {
   "cell_type": "code",
   "execution_count": 54,
   "id": "62c5b689",
   "metadata": {
    "execution": {
     "iopub.execute_input": "2025-01-13T23:17:11.052374Z",
     "iopub.status.busy": "2025-01-13T23:17:11.052086Z",
     "iopub.status.idle": "2025-01-13T23:17:12.149716Z",
     "shell.execute_reply": "2025-01-13T23:17:12.148849Z"
    },
    "papermill": {
     "duration": 1.217289,
     "end_time": "2025-01-13T23:17:12.151416",
     "exception": false,
     "start_time": "2025-01-13T23:17:10.934127",
     "status": "completed"
    },
    "tags": []
   },
   "outputs": [
    {
     "data": {
      "image/png": "[encoded data removed]",
      "text/plain": [
       "<Figure size 1200x400 with 2 Axes>"
      ]
     },
     "metadata": {},
     "output_type": "display_data"
    }
   ],
   "source": [
    "fig, (ax1, ax2) = plt.subplots(1, 2, figsize=(12, 4))\n",
    "\n",
    "ax1.hist(reconstruction_errors_normalized, bins=100)\n",
    "ax1.set_title(\"Reconstruction Error (Original Scale)\")\n",
    "ax1.set_xlabel(\"Reconstruction Error\")\n",
    "ax1.set_ylabel(\"Frequency\")\n",
    "\n",
    "ax2.hist(reconstruction_errors_normalized, bins=100)\n",
    "ax2.set_title(\"Reconstruction Error (Log Scale)\")\n",
    "ax2.set_xlabel(\"Reconstruction Error\")\n",
    "ax2.set_yscale(\"log\")  \n",
    "\n",
    "plt.tight_layout()\n",
    "plt.show()"
   ]
  },
  {
   "cell_type": "markdown",
   "id": "a180c7f3",
   "metadata": {
    "papermill": {
     "duration": 0.121014,
     "end_time": "2025-01-13T23:17:12.410386",
     "exception": false,
     "start_time": "2025-01-13T23:17:12.289372",
     "status": "completed"
    },
    "tags": []
   },
   "source": [
    "## create prediction "
   ]
  },
  {
   "cell_type": "code",
   "execution_count": 55,
   "id": "da90b87f",
   "metadata": {
    "execution": {
     "iopub.execute_input": "2025-01-13T23:17:12.657298Z",
     "iopub.status.busy": "2025-01-13T23:17:12.656987Z",
     "iopub.status.idle": "2025-01-13T23:18:39.575559Z",
     "shell.execute_reply": "2025-01-13T23:18:39.574580Z"
    },
    "papermill": {
     "duration": 87.214924,
     "end_time": "2025-01-13T23:18:39.747057",
     "exception": false,
     "start_time": "2025-01-13T23:17:12.532133",
     "status": "completed"
    },
    "tags": []
   },
   "outputs": [
    {
     "name": "stdout",
     "output_type": "stream",
     "text": [
      "\u001b[1m42515/42515\u001b[0m \u001b[32m━━━━━━━━━━━━━━━━━━━━\u001b[0m\u001b[37m\u001b[0m \u001b[1m51s\u001b[0m 1ms/step\n",
      "Customer 1: Churn Probability = 0.12\n",
      "Customer 2: Churn Probability = 0.01\n",
      "Customer 3: Churn Probability = 1.98\n",
      "Customer 4: Churn Probability = 0.01\n",
      "Customer 5: Churn Probability = 0.18\n",
      "Customer 6: Churn Probability = 0.15\n",
      "Customer 7: Churn Probability = 0.16\n",
      "Customer 8: Churn Probability = 0.15\n",
      "Customer 9: Churn Probability = 0.15\n",
      "Customer 10: Churn Probability = 0.15\n"
     ]
    }
   ],
   "source": [
    "\n",
    "df_pred = df_test[X.columns].fillna(0)\n",
    "X_new = scaler.transform(df_pred)\n",
    "\n",
    "new_reconstruction_errors = np.mean(np.square(X_new - autoencoder.predict(X_new)), axis=1)\n",
    "new_churn_probabilities = prob_scaler.transform(new_reconstruction_errors.reshape(-1, 1))\n",
    "\n",
    "for i, prob in enumerate(new_churn_probabilities[:10]):  \n",
    "    print(f\"Customer {i+1}: Churn Probability = {prob[0]:.2f}\")"
   ]
  },
  {
   "cell_type": "code",
   "execution_count": 56,
   "id": "c96cffab",
   "metadata": {
    "execution": {
     "iopub.execute_input": "2025-01-13T23:18:40.081598Z",
     "iopub.status.busy": "2025-01-13T23:18:40.081297Z",
     "iopub.status.idle": "2025-01-13T23:18:40.086575Z",
     "shell.execute_reply": "2025-01-13T23:18:40.085928Z"
    },
    "papermill": {
     "duration": 0.175217,
     "end_time": "2025-01-13T23:18:40.087901",
     "exception": false,
     "start_time": "2025-01-13T23:18:39.912684",
     "status": "completed"
    },
    "tags": []
   },
   "outputs": [
    {
     "data": {
      "text/plain": [
       "array([[0.11666567],\n",
       "       [0.00940364],\n",
       "       [1.9805276 ],\n",
       "       [0.00981115],\n",
       "       [0.1844304 ],\n",
       "       [0.14601785],\n",
       "       [0.15914725],\n",
       "       [0.15240069],\n",
       "       [0.1524273 ],\n",
       "       [0.15232871],\n",
       "       [0.15240741],\n",
       "       [0.15236507],\n",
       "       [0.01302146],\n",
       "       [0.0234372 ],\n",
       "       [0.00834805]])"
      ]
     },
     "execution_count": 56,
     "metadata": {},
     "output_type": "execute_result"
    }
   ],
   "source": [
    "new_churn_probabilities[0:15]"
   ]
  },
  {
   "cell_type": "code",
   "execution_count": 57,
   "id": "fa2f394f",
   "metadata": {
    "execution": {
     "iopub.execute_input": "2025-01-13T23:18:40.459269Z",
     "iopub.status.busy": "2025-01-13T23:18:40.458977Z",
     "iopub.status.idle": "2025-01-13T23:18:40.464270Z",
     "shell.execute_reply": "2025-01-13T23:18:40.463527Z"
    },
    "papermill": {
     "duration": 0.21229,
     "end_time": "2025-01-13T23:18:40.465488",
     "exception": false,
     "start_time": "2025-01-13T23:18:40.253198",
     "status": "completed"
    },
    "tags": []
   },
   "outputs": [
    {
     "data": {
      "text/plain": [
       "0.016617675023618484"
      ]
     },
     "execution_count": 57,
     "metadata": {},
     "output_type": "execute_result"
    }
   ],
   "source": [
    "new_churn_probabilities.mean()"
   ]
  },
  {
   "cell_type": "code",
   "execution_count": 58,
   "id": "6aed848e",
   "metadata": {
    "execution": {
     "iopub.execute_input": "2025-01-13T23:18:40.801522Z",
     "iopub.status.busy": "2025-01-13T23:18:40.801188Z",
     "iopub.status.idle": "2025-01-13T23:18:43.640263Z",
     "shell.execute_reply": "2025-01-13T23:18:43.639487Z"
    },
    "papermill": {
     "duration": 3.011419,
     "end_time": "2025-01-13T23:18:43.641859",
     "exception": false,
     "start_time": "2025-01-13T23:18:40.630440",
     "status": "completed"
    },
    "tags": []
   },
   "outputs": [],
   "source": [
    "sub = df_test['Id'].copy().reset_index()\n",
    "sub['churn'] = new_churn_probabilities.reshape(1360472,).tolist()\n",
    "sub.churn = sub.churn.clip(upper=1)\n",
    "sub[['Id','churn']].set_index('Id').to_csv('submission.csv')"
   ]
  },
  {
   "cell_type": "markdown",
   "id": "e43cd157",
   "metadata": {
    "execution": {
     "iopub.execute_input": "2025-01-12T06:07:07.138493Z",
     "iopub.status.busy": "2025-01-12T06:07:07.138173Z",
     "iopub.status.idle": "2025-01-12T06:07:07.144311Z",
     "shell.execute_reply": "2025-01-12T06:07:07.143101Z",
     "shell.execute_reply.started": "2025-01-12T06:07:07.138470Z"
    },
    "papermill": {
     "duration": 0.170813,
     "end_time": "2025-01-13T23:18:43.980348",
     "exception": false,
     "start_time": "2025-01-13T23:18:43.809535",
     "status": "completed"
    },
    "tags": []
   },
   "source": [
    "<a href=\"submission.csv\"> Download File </a>"
   ]
  },
  {
   "cell_type": "code",
   "execution_count": null,
   "id": "9e0ae6d9",
   "metadata": {
    "papermill": {
     "duration": 0.168245,
     "end_time": "2025-01-13T23:18:44.318990",
     "exception": false,
     "start_time": "2025-01-13T23:18:44.150745",
     "status": "completed"
    },
    "tags": []
   },
   "outputs": [],
   "source": []
  }
 ],
 "metadata": {
  "kaggle": {
   "accelerator": "gpu",
   "dataSources": [
    {
     "databundleVersionId": 10259364,
     "sourceId": 88226,
     "sourceType": "competition"
    }
   ],
   "dockerImageVersionId": 30823,
   "isGpuEnabled": true,
   "isInternetEnabled": true,
   "language": "python",
   "sourceType": "notebook"
  },
  "kernelspec": {
   "display_name": "Python 3",
   "language": "python",
   "name": "python3"
  },
  "language_info": {
   "codemirror_mode": {
    "name": "ipython",
    "version": 3
   },
   "file_extension": ".py",
   "mimetype": "text/x-python",
   "name": "python",
   "nbconvert_exporter": "python",
   "pygments_lexer": "ipython3",
   "version": "3.10.12"
  },
  "papermill": {
   "default_parameters": {},
   "duration": 2290.279176,
   "end_time": "2025-01-13T23:18:47.410374",
   "environment_variables": {},
   "exception": null,
   "input_path": "__notebook__.ipynb",
   "output_path": "__notebook__.ipynb",
   "parameters": {},
   "start_time": "2025-01-13T22:40:37.131198",
   "version": "2.6.0"
  }
 },
 "nbformat": 4,
 "nbformat_minor": 5
}
