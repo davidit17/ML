{
 "cells": [
  {
   "cell_type": "code",
   "execution_count": 2,
   "metadata": {},
   "outputs": [],
   "source": [
    "import pandas as pd\n",
    "import matplotlib.pyplot as plt\n",
    "from sklearn.model_selection import train_test_split\n",
    "from sklearn.metrics import classification_report\n",
    "import numpy as np\n",
    "import seaborn as sns\n",
    "sns.set(style=\"darkgrid\")\n",
    "\n",
    "from sklearn.neighbors import KNeighborsClassifier\n",
    "\n"
   ]
  },
  {
   "cell_type": "markdown",
   "metadata": {},
   "source": [
    "# data importing"
   ]
  },
  {
   "cell_type": "code",
   "execution_count": 3,
   "metadata": {},
   "outputs": [],
   "source": [
    "# importing csv files\n",
    "# column 0 in csv file has no bussiness meaning \n",
    "\n",
    "polisot= pd.read_csv('Polisot.csv',usecols = [1,2,3,4,5,6],parse_dates=[4,5])\n",
    "\n",
    "tviot = pd.read_csv('Tviot.csv',index_col=0, usecols = [1,2,3],parse_dates=[2])\n",
    "\n",
    "customers = pd.read_csv('Customers.csv',usecols = [1,2,3,4,5,6] ,index_col=4)"
   ]
  },
  {
   "cell_type": "markdown",
   "metadata": {},
   "source": [
    "# preprocessing"
   ]
  },
  {
   "cell_type": "code",
   "execution_count": 4,
   "metadata": {},
   "outputs": [],
   "source": [
    "# deal with car company nulls\n",
    "\n",
    "# check to see the values \n",
    "polisot.Rechecv_Companny.unique()\n",
    "\n",
    "# fill null with value //  can deduce the type of car by licence plate for real plates\n",
    "polisot.Rechecv_Companny.fillna('Unknown', inplace=True)"
   ]
  },
  {
   "cell_type": "code",
   "execution_count": 5,
   "metadata": {},
   "outputs": [],
   "source": [
    "# assign category type \n",
    "\n",
    "polisot['Rechecv_Companny'] = polisot['Rechecv_Companny'].astype('category')\n",
    "\n",
    "\n",
    "\n",
    "# manufacture year 0 to mean  \n",
    "\n",
    "#polisot['Manufacture_Year'] = polisot['Manufacture_Year'].replace(0,polisot['Manufacture_Year'][polisot['Manufacture_Year']>1980].mean())\n",
    "\n",
    "# replace year =0 with mean for every car type\n",
    "\n",
    "def man_year(rechev,manyear):\n",
    "    if manyear >1980 :\n",
    "        return manyear\n",
    "    else :\n",
    "        return polisot['Manufacture_Year'][(polisot['Rechecv_Companny']==rechev) & (polisot['Manufacture_Year']>1980)].mean()\n",
    "\n",
    "polisot['Manufacture_Year'] = polisot.apply(lambda x: man_year(x['Rechecv_Companny'],x['Manufacture_Year']),axis=1  )\n",
    "\n",
    "\n",
    "\n"
   ]
  },
  {
   "cell_type": "code",
   "execution_count": 6,
   "metadata": {},
   "outputs": [
    {
     "data": {
      "text/html": [
       "<div>\n",
       "<style scoped>\n",
       "    .dataframe tbody tr th:only-of-type {\n",
       "        vertical-align: middle;\n",
       "    }\n",
       "\n",
       "    .dataframe tbody tr th {\n",
       "        vertical-align: top;\n",
       "    }\n",
       "\n",
       "    .dataframe thead th {\n",
       "        text-align: right;\n",
       "    }\n",
       "</style>\n",
       "<table border=\"1\" class=\"dataframe\">\n",
       "  <thead>\n",
       "    <tr style=\"text-align: right;\">\n",
       "      <th></th>\n",
       "      <th>Rishuy_number</th>\n",
       "      <th>Keypls</th>\n",
       "      <th>Rechecv_Companny</th>\n",
       "      <th>Manufacture_Year</th>\n",
       "      <th>Start_date</th>\n",
       "      <th>End_date</th>\n",
       "    </tr>\n",
       "  </thead>\n",
       "  <tbody>\n",
       "    <tr>\n",
       "      <th>0</th>\n",
       "      <td>73002500</td>\n",
       "      <td>1000</td>\n",
       "      <td>Mazda</td>\n",
       "      <td>2008.175663</td>\n",
       "      <td>2016-09-03</td>\n",
       "      <td>2017-09-03</td>\n",
       "    </tr>\n",
       "    <tr>\n",
       "      <th>1</th>\n",
       "      <td>73002501</td>\n",
       "      <td>1001</td>\n",
       "      <td>Fiat</td>\n",
       "      <td>2006.000000</td>\n",
       "      <td>2016-04-08</td>\n",
       "      <td>2017-04-08</td>\n",
       "    </tr>\n",
       "    <tr>\n",
       "      <th>2</th>\n",
       "      <td>73002502</td>\n",
       "      <td>1002</td>\n",
       "      <td>Mazda</td>\n",
       "      <td>2000.000000</td>\n",
       "      <td>2016-11-11</td>\n",
       "      <td>2017-11-11</td>\n",
       "    </tr>\n",
       "    <tr>\n",
       "      <th>3</th>\n",
       "      <td>73002503</td>\n",
       "      <td>1003</td>\n",
       "      <td>Mazda</td>\n",
       "      <td>2010.000000</td>\n",
       "      <td>2016-04-08</td>\n",
       "      <td>2017-04-08</td>\n",
       "    </tr>\n",
       "    <tr>\n",
       "      <th>4</th>\n",
       "      <td>73002504</td>\n",
       "      <td>1004</td>\n",
       "      <td>Fiat</td>\n",
       "      <td>2008.000000</td>\n",
       "      <td>2016-01-01</td>\n",
       "      <td>2016-12-31</td>\n",
       "    </tr>\n",
       "  </tbody>\n",
       "</table>\n",
       "</div>"
      ],
      "text/plain": [
       "   Rishuy_number  Keypls Rechecv_Companny  Manufacture_Year Start_date  \\\n",
       "0       73002500    1000            Mazda       2008.175663 2016-09-03   \n",
       "1       73002501    1001             Fiat       2006.000000 2016-04-08   \n",
       "2       73002502    1002            Mazda       2000.000000 2016-11-11   \n",
       "3       73002503    1003            Mazda       2010.000000 2016-04-08   \n",
       "4       73002504    1004             Fiat       2008.000000 2016-01-01   \n",
       "\n",
       "    End_date  \n",
       "0 2017-09-03  \n",
       "1 2017-04-08  \n",
       "2 2017-11-11  \n",
       "3 2017-04-08  \n",
       "4 2016-12-31  "
      ]
     },
     "execution_count": 6,
     "metadata": {},
     "output_type": "execute_result"
    }
   ],
   "source": [
    "# rearrange columns order\n",
    "\n",
    "cols = [ 'Rishuy_number','Keypls', 'Rechecv_Companny', 'Manufacture_Year',\n",
    "       'Start_date', 'End_date']\n",
    "\n",
    "polisot = polisot[cols]\n",
    "\n",
    "polisot.head()"
   ]
  },
  {
   "cell_type": "code",
   "execution_count": 7,
   "metadata": {
    "scrolled": true
   },
   "outputs": [
    {
     "name": "stdout",
     "output_type": "stream",
     "text": [
      "<class 'pandas.core.frame.DataFrame'>\n",
      "Int64Index: 711 entries, 1002 to 5000\n",
      "Data columns (total 2 columns):\n",
      "Tvia_number    711 non-null int64\n",
      "Tvia_date      711 non-null datetime64[ns]\n",
      "dtypes: datetime64[ns](1), int64(1)\n",
      "memory usage: 16.7 KB\n"
     ]
    },
    {
     "data": {
      "text/html": [
       "<div>\n",
       "<style scoped>\n",
       "    .dataframe tbody tr th:only-of-type {\n",
       "        vertical-align: middle;\n",
       "    }\n",
       "\n",
       "    .dataframe tbody tr th {\n",
       "        vertical-align: top;\n",
       "    }\n",
       "\n",
       "    .dataframe thead th {\n",
       "        text-align: right;\n",
       "    }\n",
       "</style>\n",
       "<table border=\"1\" class=\"dataframe\">\n",
       "  <thead>\n",
       "    <tr style=\"text-align: right;\">\n",
       "      <th></th>\n",
       "      <th>Tvia_number</th>\n",
       "      <th>Tvia_date</th>\n",
       "    </tr>\n",
       "    <tr>\n",
       "      <th>Keypls</th>\n",
       "      <th></th>\n",
       "      <th></th>\n",
       "    </tr>\n",
       "  </thead>\n",
       "  <tbody>\n",
       "    <tr>\n",
       "      <th>1002</th>\n",
       "      <td>4</td>\n",
       "      <td>2016-11-11</td>\n",
       "    </tr>\n",
       "    <tr>\n",
       "      <th>1004</th>\n",
       "      <td>16</td>\n",
       "      <td>2016-11-29</td>\n",
       "    </tr>\n",
       "    <tr>\n",
       "      <th>1020</th>\n",
       "      <td>400</td>\n",
       "      <td>2016-05-02</td>\n",
       "    </tr>\n",
       "    <tr>\n",
       "      <th>1033</th>\n",
       "      <td>1089</td>\n",
       "      <td>2016-07-08</td>\n",
       "    </tr>\n",
       "    <tr>\n",
       "      <th>1046</th>\n",
       "      <td>2116</td>\n",
       "      <td>2016-06-24</td>\n",
       "    </tr>\n",
       "  </tbody>\n",
       "</table>\n",
       "</div>"
      ],
      "text/plain": [
       "        Tvia_number  Tvia_date\n",
       "Keypls                        \n",
       "1002              4 2016-11-11\n",
       "1004             16 2016-11-29\n",
       "1020            400 2016-05-02\n",
       "1033           1089 2016-07-08\n",
       "1046           2116 2016-06-24"
      ]
     },
     "execution_count": 7,
     "metadata": {},
     "output_type": "execute_result"
    }
   ],
   "source": [
    "tviot.info()\n",
    "tviot.head()"
   ]
  },
  {
   "cell_type": "code",
   "execution_count": 8,
   "metadata": {},
   "outputs": [
    {
     "name": "stdout",
     "output_type": "stream",
     "text": [
      "<class 'pandas.core.frame.DataFrame'>\n",
      "Int64Index: 8000 entries, 2198 to 1501\n",
      "Data columns (total 5 columns):\n",
      "ID                    8000 non-null int64\n",
      "Age                   8000 non-null int64\n",
      "Gender                8000 non-null object\n",
      "City                  8000 non-null object\n",
      "Meshlem_polisa_IND    8000 non-null int64\n",
      "dtypes: int64(3), object(2)\n",
      "memory usage: 375.0+ KB\n"
     ]
    },
    {
     "data": {
      "text/html": [
       "<div>\n",
       "<style scoped>\n",
       "    .dataframe tbody tr th:only-of-type {\n",
       "        vertical-align: middle;\n",
       "    }\n",
       "\n",
       "    .dataframe tbody tr th {\n",
       "        vertical-align: top;\n",
       "    }\n",
       "\n",
       "    .dataframe thead th {\n",
       "        text-align: right;\n",
       "    }\n",
       "</style>\n",
       "<table border=\"1\" class=\"dataframe\">\n",
       "  <thead>\n",
       "    <tr style=\"text-align: right;\">\n",
       "      <th></th>\n",
       "      <th>ID</th>\n",
       "      <th>Age</th>\n",
       "      <th>Gender</th>\n",
       "      <th>City</th>\n",
       "      <th>Meshlem_polisa_IND</th>\n",
       "    </tr>\n",
       "    <tr>\n",
       "      <th>Keypls</th>\n",
       "      <th></th>\n",
       "      <th></th>\n",
       "      <th></th>\n",
       "      <th></th>\n",
       "      <th></th>\n",
       "    </tr>\n",
       "  </thead>\n",
       "  <tbody>\n",
       "    <tr>\n",
       "      <th>2198</th>\n",
       "      <td>300600900</td>\n",
       "      <td>39</td>\n",
       "      <td>Male</td>\n",
       "      <td>Tel Aviv</td>\n",
       "      <td>0</td>\n",
       "    </tr>\n",
       "    <tr>\n",
       "      <th>1152</th>\n",
       "      <td>300600901</td>\n",
       "      <td>44</td>\n",
       "      <td>Male</td>\n",
       "      <td>Jerusalem</td>\n",
       "      <td>0</td>\n",
       "    </tr>\n",
       "    <tr>\n",
       "      <th>4990</th>\n",
       "      <td>300600902</td>\n",
       "      <td>43</td>\n",
       "      <td>Female</td>\n",
       "      <td>Tel Aviv</td>\n",
       "      <td>0</td>\n",
       "    </tr>\n",
       "    <tr>\n",
       "      <th>1543</th>\n",
       "      <td>300600903</td>\n",
       "      <td>57</td>\n",
       "      <td>Female</td>\n",
       "      <td>Jerusalem</td>\n",
       "      <td>0</td>\n",
       "    </tr>\n",
       "    <tr>\n",
       "      <th>3704</th>\n",
       "      <td>300600904</td>\n",
       "      <td>21</td>\n",
       "      <td>Male</td>\n",
       "      <td>Ashdod</td>\n",
       "      <td>0</td>\n",
       "    </tr>\n",
       "  </tbody>\n",
       "</table>\n",
       "</div>"
      ],
      "text/plain": [
       "               ID  Age  Gender       City  Meshlem_polisa_IND\n",
       "Keypls                                                       \n",
       "2198    300600900   39    Male   Tel Aviv                   0\n",
       "1152    300600901   44    Male  Jerusalem                   0\n",
       "4990    300600902   43  Female   Tel Aviv                   0\n",
       "1543    300600903   57  Female  Jerusalem                   0\n",
       "3704    300600904   21    Male     Ashdod                   0"
      ]
     },
     "execution_count": 8,
     "metadata": {},
     "output_type": "execute_result"
    }
   ],
   "source": [
    "customers.info()\n",
    "customers.head()"
   ]
  },
  {
   "cell_type": "code",
   "execution_count": 9,
   "metadata": {},
   "outputs": [
    {
     "name": "stdout",
     "output_type": "stream",
     "text": [
      "nulls in data :  False\n",
      "Series([], dtype: int64)\n",
      "=====\n",
      "nulls in data :  False\n",
      "Series([], dtype: int64)\n",
      "=====\n",
      "nulls in data :  False\n",
      "Series([], dtype: int64)\n",
      "=====\n"
     ]
    }
   ],
   "source": [
    "# find if there is nulls in data and if there  is where and how many\n",
    "\n",
    "def findnulls(X):\n",
    "    \n",
    "    print(\"nulls in data : \" ,X.isnull().values.any())\n",
    "    nulls = X.isnull().sum()\n",
    "    print(nulls[nulls > 0])\n",
    "    print(\"=====\")\n",
    "    \n",
    "findnulls(polisot)\n",
    "findnulls(tviot)\n",
    "findnulls(customers)"
   ]
  },
  {
   "cell_type": "markdown",
   "metadata": {},
   "source": [
    "# visualization"
   ]
  },
  {
   "cell_type": "code",
   "execution_count": 10,
   "metadata": {},
   "outputs": [],
   "source": [
    "def show_hist(X,size=(10, 10)):\n",
    "    X.hist(figsize = size)\n",
    "    plt.show()"
   ]
  },
  {
   "cell_type": "code",
   "execution_count": 11,
   "metadata": {},
   "outputs": [
    {
     "data": {
      "image/png": "[encoded data removed]",
      "text/plain": [
       "<Figure size 288x288 with 1 Axes>"
      ]
     },
     "metadata": {},
     "output_type": "display_data"
    }
   ],
   "source": [
    "# polisot \n",
    "show_hist(polisot['Manufacture_Year'],size=(4,4))"
   ]
  },
  {
   "cell_type": "code",
   "execution_count": 12,
   "metadata": {},
   "outputs": [
    {
     "data": {
      "image/png": "[encoded data removed]",
      "text/plain": [
       "<Figure size 432x288 with 1 Axes>"
      ]
     },
     "metadata": {},
     "output_type": "display_data"
    }
   ],
   "source": [
    "# car by company in polisot\n",
    "ax = sns.countplot(x=\"Rechecv_Companny\", data=polisot)"
   ]
  },
  {
   "cell_type": "code",
   "execution_count": 13,
   "metadata": {},
   "outputs": [
    {
     "data": {
      "image/png": "[encoded data removed]",
      "text/plain": [
       "<Figure size 720x288 with 2 Axes>"
      ]
     },
     "metadata": {},
     "output_type": "display_data"
    }
   ],
   "source": [
    "#customers\n",
    "show_hist(customers.drop('ID',axis=1),size=(10,4))"
   ]
  },
  {
   "cell_type": "code",
   "execution_count": 14,
   "metadata": {},
   "outputs": [
    {
     "data": {
      "image/png": "[encoded data removed]",
      "text/plain": [
       "<Figure size 432x288 with 1 Axes>"
      ]
     },
     "metadata": {},
     "output_type": "display_data"
    }
   ],
   "source": [
    "# customers gender \n",
    "ax = sns.countplot(x=\"Gender\", data=customers)"
   ]
  },
  {
   "cell_type": "code",
   "execution_count": 15,
   "metadata": {},
   "outputs": [
    {
     "data": {
      "image/png": "[encoded data removed]",
      "text/plain": [
       "<Figure size 432x288 with 1 Axes>"
      ]
     },
     "metadata": {},
     "output_type": "display_data"
    }
   ],
   "source": [
    "# customers city \n",
    "ax = sns.countplot(x=\"City\", data=customers)"
   ]
  },
  {
   "cell_type": "markdown",
   "metadata": {},
   "source": [
    "# model 1 "
   ]
  },
  {
   "cell_type": "code",
   "execution_count": 16,
   "metadata": {},
   "outputs": [],
   "source": [
    "per_car = polisot.merge(tviot, how='left', on='Keypls' )\n"
   ]
  },
  {
   "cell_type": "code",
   "execution_count": 17,
   "metadata": {},
   "outputs": [
    {
     "name": "stdout",
     "output_type": "stream",
     "text": [
      "(4001, 6)\n",
      "(711, 2)\n",
      "(4001, 8)\n"
     ]
    }
   ],
   "source": [
    "print(polisot.shape)\n",
    "print(tviot.shape)\n",
    "print(per_car.shape)"
   ]
  },
  {
   "cell_type": "code",
   "execution_count": 18,
   "metadata": {},
   "outputs": [
    {
     "name": "stdout",
     "output_type": "stream",
     "text": [
      "nulls in data :  True\n",
      "Tvia_number    3290\n",
      "Tvia_date      3290\n",
      "dtype: int64\n",
      "=====\n"
     ]
    }
   ],
   "source": [
    "findnulls(per_car)\n"
   ]
  },
  {
   "cell_type": "code",
   "execution_count": 19,
   "metadata": {},
   "outputs": [
    {
     "data": {
      "text/html": [
       "<div>\n",
       "<style scoped>\n",
       "    .dataframe tbody tr th:only-of-type {\n",
       "        vertical-align: middle;\n",
       "    }\n",
       "\n",
       "    .dataframe tbody tr th {\n",
       "        vertical-align: top;\n",
       "    }\n",
       "\n",
       "    .dataframe thead th {\n",
       "        text-align: right;\n",
       "    }\n",
       "</style>\n",
       "<table border=\"1\" class=\"dataframe\">\n",
       "  <thead>\n",
       "    <tr style=\"text-align: right;\">\n",
       "      <th></th>\n",
       "      <th>Rishuy_number</th>\n",
       "      <th>Keypls</th>\n",
       "      <th>Rechecv_Companny</th>\n",
       "      <th>Manufacture_Year</th>\n",
       "      <th>Start_date</th>\n",
       "      <th>End_date</th>\n",
       "      <th>Tvia_number</th>\n",
       "      <th>Tvia_date</th>\n",
       "    </tr>\n",
       "  </thead>\n",
       "  <tbody>\n",
       "    <tr>\n",
       "      <th>0</th>\n",
       "      <td>73002500</td>\n",
       "      <td>1000</td>\n",
       "      <td>Mazda</td>\n",
       "      <td>2008.175663</td>\n",
       "      <td>2016-09-03</td>\n",
       "      <td>2017-09-03</td>\n",
       "      <td>NaN</td>\n",
       "      <td>NaT</td>\n",
       "    </tr>\n",
       "    <tr>\n",
       "      <th>1</th>\n",
       "      <td>73002501</td>\n",
       "      <td>1001</td>\n",
       "      <td>Fiat</td>\n",
       "      <td>2006.000000</td>\n",
       "      <td>2016-04-08</td>\n",
       "      <td>2017-04-08</td>\n",
       "      <td>NaN</td>\n",
       "      <td>NaT</td>\n",
       "    </tr>\n",
       "    <tr>\n",
       "      <th>2</th>\n",
       "      <td>73002502</td>\n",
       "      <td>1002</td>\n",
       "      <td>Mazda</td>\n",
       "      <td>2000.000000</td>\n",
       "      <td>2016-11-11</td>\n",
       "      <td>2017-11-11</td>\n",
       "      <td>4.0</td>\n",
       "      <td>2016-11-11</td>\n",
       "    </tr>\n",
       "    <tr>\n",
       "      <th>3</th>\n",
       "      <td>73002503</td>\n",
       "      <td>1003</td>\n",
       "      <td>Mazda</td>\n",
       "      <td>2010.000000</td>\n",
       "      <td>2016-04-08</td>\n",
       "      <td>2017-04-08</td>\n",
       "      <td>NaN</td>\n",
       "      <td>NaT</td>\n",
       "    </tr>\n",
       "    <tr>\n",
       "      <th>4</th>\n",
       "      <td>73002504</td>\n",
       "      <td>1004</td>\n",
       "      <td>Fiat</td>\n",
       "      <td>2008.000000</td>\n",
       "      <td>2016-01-01</td>\n",
       "      <td>2016-12-31</td>\n",
       "      <td>16.0</td>\n",
       "      <td>2016-11-29</td>\n",
       "    </tr>\n",
       "  </tbody>\n",
       "</table>\n",
       "</div>"
      ],
      "text/plain": [
       "   Rishuy_number  Keypls Rechecv_Companny  Manufacture_Year Start_date  \\\n",
       "0       73002500    1000            Mazda       2008.175663 2016-09-03   \n",
       "1       73002501    1001             Fiat       2006.000000 2016-04-08   \n",
       "2       73002502    1002            Mazda       2000.000000 2016-11-11   \n",
       "3       73002503    1003            Mazda       2010.000000 2016-04-08   \n",
       "4       73002504    1004             Fiat       2008.000000 2016-01-01   \n",
       "\n",
       "    End_date  Tvia_number  Tvia_date  \n",
       "0 2017-09-03          NaN        NaT  \n",
       "1 2017-04-08          NaN        NaT  \n",
       "2 2017-11-11          4.0 2016-11-11  \n",
       "3 2017-04-08          NaN        NaT  \n",
       "4 2016-12-31         16.0 2016-11-29  "
      ]
     },
     "execution_count": 19,
     "metadata": {},
     "output_type": "execute_result"
    }
   ],
   "source": [
    "per_car.head()"
   ]
  },
  {
   "cell_type": "code",
   "execution_count": 20,
   "metadata": {},
   "outputs": [],
   "source": [
    "# new feature ins length \n",
    "\n",
    "per_car['ins_length'] =(per_car['End_date']-per_car['Start_date']).dt.days\n",
    "\n",
    "# new feature :  accident timing  - 0 is first day of insurance start , 1 is last day\n",
    "\n",
    "#per_car['tvia_time'] =((per_car['End_date']-per_car['Tvia_date']).dt.days / per_car['ins_length'])\n",
    "\n",
    "per_car['accident'] = np.where(per_car['Tvia_number'].isnull(), 0, 1)\n",
    "\n",
    "# fill default time for na values\n",
    "\n",
    "#per_car['Tvia_date'].fillna(value=pd.to_datetime('1/1/1900'), inplace=True) \n",
    "\n",
    "# fill na values with 0 \n",
    "\n",
    "per_car.Tvia_number.fillna(0,inplace=True)\n",
    "#per_car.tvia_time.fillna(0,inplace=True)"
   ]
  },
  {
   "cell_type": "code",
   "execution_count": 21,
   "metadata": {},
   "outputs": [
    {
     "data": {
      "text/html": [
       "<div>\n",
       "<style scoped>\n",
       "    .dataframe tbody tr th:only-of-type {\n",
       "        vertical-align: middle;\n",
       "    }\n",
       "\n",
       "    .dataframe tbody tr th {\n",
       "        vertical-align: top;\n",
       "    }\n",
       "\n",
       "    .dataframe thead th {\n",
       "        text-align: right;\n",
       "    }\n",
       "</style>\n",
       "<table border=\"1\" class=\"dataframe\">\n",
       "  <thead>\n",
       "    <tr style=\"text-align: right;\">\n",
       "      <th></th>\n",
       "      <th>Rishuy_number</th>\n",
       "      <th>Keypls</th>\n",
       "      <th>Rechecv_Companny</th>\n",
       "      <th>Manufacture_Year</th>\n",
       "      <th>Start_date</th>\n",
       "      <th>End_date</th>\n",
       "      <th>Tvia_number</th>\n",
       "      <th>Tvia_date</th>\n",
       "      <th>ins_length</th>\n",
       "      <th>accident</th>\n",
       "    </tr>\n",
       "  </thead>\n",
       "  <tbody>\n",
       "    <tr>\n",
       "      <th>0</th>\n",
       "      <td>73002500</td>\n",
       "      <td>1000</td>\n",
       "      <td>Mazda</td>\n",
       "      <td>2008.175663</td>\n",
       "      <td>2016-09-03</td>\n",
       "      <td>2017-09-03</td>\n",
       "      <td>0.0</td>\n",
       "      <td>NaT</td>\n",
       "      <td>365</td>\n",
       "      <td>0</td>\n",
       "    </tr>\n",
       "    <tr>\n",
       "      <th>1</th>\n",
       "      <td>73002501</td>\n",
       "      <td>1001</td>\n",
       "      <td>Fiat</td>\n",
       "      <td>2006.000000</td>\n",
       "      <td>2016-04-08</td>\n",
       "      <td>2017-04-08</td>\n",
       "      <td>0.0</td>\n",
       "      <td>NaT</td>\n",
       "      <td>365</td>\n",
       "      <td>0</td>\n",
       "    </tr>\n",
       "    <tr>\n",
       "      <th>2</th>\n",
       "      <td>73002502</td>\n",
       "      <td>1002</td>\n",
       "      <td>Mazda</td>\n",
       "      <td>2000.000000</td>\n",
       "      <td>2016-11-11</td>\n",
       "      <td>2017-11-11</td>\n",
       "      <td>4.0</td>\n",
       "      <td>2016-11-11</td>\n",
       "      <td>365</td>\n",
       "      <td>1</td>\n",
       "    </tr>\n",
       "    <tr>\n",
       "      <th>3</th>\n",
       "      <td>73002503</td>\n",
       "      <td>1003</td>\n",
       "      <td>Mazda</td>\n",
       "      <td>2010.000000</td>\n",
       "      <td>2016-04-08</td>\n",
       "      <td>2017-04-08</td>\n",
       "      <td>0.0</td>\n",
       "      <td>NaT</td>\n",
       "      <td>365</td>\n",
       "      <td>0</td>\n",
       "    </tr>\n",
       "    <tr>\n",
       "      <th>4</th>\n",
       "      <td>73002504</td>\n",
       "      <td>1004</td>\n",
       "      <td>Fiat</td>\n",
       "      <td>2008.000000</td>\n",
       "      <td>2016-01-01</td>\n",
       "      <td>2016-12-31</td>\n",
       "      <td>16.0</td>\n",
       "      <td>2016-11-29</td>\n",
       "      <td>365</td>\n",
       "      <td>1</td>\n",
       "    </tr>\n",
       "  </tbody>\n",
       "</table>\n",
       "</div>"
      ],
      "text/plain": [
       "   Rishuy_number  Keypls Rechecv_Companny  Manufacture_Year Start_date  \\\n",
       "0       73002500    1000            Mazda       2008.175663 2016-09-03   \n",
       "1       73002501    1001             Fiat       2006.000000 2016-04-08   \n",
       "2       73002502    1002            Mazda       2000.000000 2016-11-11   \n",
       "3       73002503    1003            Mazda       2010.000000 2016-04-08   \n",
       "4       73002504    1004             Fiat       2008.000000 2016-01-01   \n",
       "\n",
       "    End_date  Tvia_number  Tvia_date  ins_length  accident  \n",
       "0 2017-09-03          0.0        NaT         365         0  \n",
       "1 2017-04-08          0.0        NaT         365         0  \n",
       "2 2017-11-11          4.0 2016-11-11         365         1  \n",
       "3 2017-04-08          0.0        NaT         365         0  \n",
       "4 2016-12-31         16.0 2016-11-29         365         1  "
      ]
     },
     "execution_count": 21,
     "metadata": {},
     "output_type": "execute_result"
    }
   ],
   "source": [
    "per_car.head()"
   ]
  },
  {
   "cell_type": "code",
   "execution_count": 22,
   "metadata": {},
   "outputs": [
    {
     "data": {
      "image/png": "[encoded data removed]",
      "text/plain": [
       "<Figure size 720x720 with 4 Axes>"
      ]
     },
     "metadata": {},
     "output_type": "display_data"
    }
   ],
   "source": [
    "show_hist(per_car[['accident','ins_length','Manufacture_Year']])"
   ]
  },
  {
   "cell_type": "code",
   "execution_count": 23,
   "metadata": {},
   "outputs": [
    {
     "data": {
      "text/plain": [
       "Index(['Rishuy_number', 'Keypls', 'Rechecv_Companny', 'Manufacture_Year',\n",
       "       'Start_date', 'End_date', 'Tvia_number', 'Tvia_date', 'ins_length',\n",
       "       'accident'],\n",
       "      dtype='object')"
      ]
     },
     "execution_count": 23,
     "metadata": {},
     "output_type": "execute_result"
    }
   ],
   "source": [
    "per_car.columns\n"
   ]
  },
  {
   "cell_type": "code",
   "execution_count": 24,
   "metadata": {},
   "outputs": [],
   "source": [
    "# select the relevant feature columns\n",
    "\n",
    "fcols = [ 'Keypls', 'Rechecv_Companny', 'Manufacture_Year'\n",
    "        , 'ins_length'\n",
    "       ]"
   ]
  },
  {
   "cell_type": "code",
   "execution_count": 25,
   "metadata": {},
   "outputs": [],
   "source": [
    "# create features and labels \n",
    "\n",
    "y = per_car.accident\n",
    "X = per_car[fcols].set_index('Keypls')"
   ]
  },
  {
   "cell_type": "code",
   "execution_count": 26,
   "metadata": {},
   "outputs": [],
   "source": [
    "# car company is categorical column . we nead to convert to bolean columns \n",
    "\n",
    "X = pd.get_dummies(X)"
   ]
  },
  {
   "cell_type": "code",
   "execution_count": 27,
   "metadata": {},
   "outputs": [
    {
     "data": {
      "text/html": [
       "<div>\n",
       "<style scoped>\n",
       "    .dataframe tbody tr th:only-of-type {\n",
       "        vertical-align: middle;\n",
       "    }\n",
       "\n",
       "    .dataframe tbody tr th {\n",
       "        vertical-align: top;\n",
       "    }\n",
       "\n",
       "    .dataframe thead th {\n",
       "        text-align: right;\n",
       "    }\n",
       "</style>\n",
       "<table border=\"1\" class=\"dataframe\">\n",
       "  <thead>\n",
       "    <tr style=\"text-align: right;\">\n",
       "      <th></th>\n",
       "      <th>Manufacture_Year</th>\n",
       "      <th>ins_length</th>\n",
       "      <th>Rechecv_Companny_BMW</th>\n",
       "      <th>Rechecv_Companny_Fiat</th>\n",
       "      <th>Rechecv_Companny_Ford</th>\n",
       "      <th>Rechecv_Companny_Mazda</th>\n",
       "      <th>Rechecv_Companny_Tesla</th>\n",
       "      <th>Rechecv_Companny_Unknown</th>\n",
       "    </tr>\n",
       "    <tr>\n",
       "      <th>Keypls</th>\n",
       "      <th></th>\n",
       "      <th></th>\n",
       "      <th></th>\n",
       "      <th></th>\n",
       "      <th></th>\n",
       "      <th></th>\n",
       "      <th></th>\n",
       "      <th></th>\n",
       "    </tr>\n",
       "  </thead>\n",
       "  <tbody>\n",
       "    <tr>\n",
       "      <th>1000</th>\n",
       "      <td>2008.175663</td>\n",
       "      <td>365</td>\n",
       "      <td>0</td>\n",
       "      <td>0</td>\n",
       "      <td>0</td>\n",
       "      <td>1</td>\n",
       "      <td>0</td>\n",
       "      <td>0</td>\n",
       "    </tr>\n",
       "    <tr>\n",
       "      <th>1001</th>\n",
       "      <td>2006.000000</td>\n",
       "      <td>365</td>\n",
       "      <td>0</td>\n",
       "      <td>1</td>\n",
       "      <td>0</td>\n",
       "      <td>0</td>\n",
       "      <td>0</td>\n",
       "      <td>0</td>\n",
       "    </tr>\n",
       "    <tr>\n",
       "      <th>1002</th>\n",
       "      <td>2000.000000</td>\n",
       "      <td>365</td>\n",
       "      <td>0</td>\n",
       "      <td>0</td>\n",
       "      <td>0</td>\n",
       "      <td>1</td>\n",
       "      <td>0</td>\n",
       "      <td>0</td>\n",
       "    </tr>\n",
       "    <tr>\n",
       "      <th>1003</th>\n",
       "      <td>2010.000000</td>\n",
       "      <td>365</td>\n",
       "      <td>0</td>\n",
       "      <td>0</td>\n",
       "      <td>0</td>\n",
       "      <td>1</td>\n",
       "      <td>0</td>\n",
       "      <td>0</td>\n",
       "    </tr>\n",
       "    <tr>\n",
       "      <th>1004</th>\n",
       "      <td>2008.000000</td>\n",
       "      <td>365</td>\n",
       "      <td>0</td>\n",
       "      <td>1</td>\n",
       "      <td>0</td>\n",
       "      <td>0</td>\n",
       "      <td>0</td>\n",
       "      <td>0</td>\n",
       "    </tr>\n",
       "  </tbody>\n",
       "</table>\n",
       "</div>"
      ],
      "text/plain": [
       "        Manufacture_Year  ins_length  Rechecv_Companny_BMW  \\\n",
       "Keypls                                                       \n",
       "1000         2008.175663         365                     0   \n",
       "1001         2006.000000         365                     0   \n",
       "1002         2000.000000         365                     0   \n",
       "1003         2010.000000         365                     0   \n",
       "1004         2008.000000         365                     0   \n",
       "\n",
       "        Rechecv_Companny_Fiat  Rechecv_Companny_Ford  Rechecv_Companny_Mazda  \\\n",
       "Keypls                                                                         \n",
       "1000                        0                      0                       1   \n",
       "1001                        1                      0                       0   \n",
       "1002                        0                      0                       1   \n",
       "1003                        0                      0                       1   \n",
       "1004                        1                      0                       0   \n",
       "\n",
       "        Rechecv_Companny_Tesla  Rechecv_Companny_Unknown  \n",
       "Keypls                                                    \n",
       "1000                         0                         0  \n",
       "1001                         0                         0  \n",
       "1002                         0                         0  \n",
       "1003                         0                         0  \n",
       "1004                         0                         0  "
      ]
     },
     "execution_count": 27,
     "metadata": {},
     "output_type": "execute_result"
    }
   ],
   "source": [
    "X.head()"
   ]
  },
  {
   "cell_type": "code",
   "execution_count": 28,
   "metadata": {},
   "outputs": [],
   "source": [
    "#split data to test and train set to check the model \n",
    "\n",
    "X_train, X_test, y_train, y_test = train_test_split(X, y, test_size = 0.3, random_state=27)\n"
   ]
  },
  {
   "cell_type": "markdown",
   "metadata": {},
   "source": [
    "# knn"
   ]
  },
  {
   "cell_type": "code",
   "execution_count": 29,
   "metadata": {},
   "outputs": [
    {
     "data": {
      "image/png": "[encoded data removed]",
      "text/plain": [
       "<Figure size 432x288 with 1 Axes>"
      ]
     },
     "metadata": {},
     "output_type": "display_data"
    }
   ],
   "source": [
    "\n",
    "neighbors = np.arange(1, 15)\n",
    "train_accuracy = np.empty(len(neighbors))\n",
    "test_accuracy = np.empty(len(neighbors))\n",
    "\n",
    "for i, k in enumerate(neighbors):\n",
    "    knn = KNeighborsClassifier(k)\n",
    "    knn.fit(X_train,y_train)\n",
    "    train_accuracy[i] = knn.score(X_train,y_train)\n",
    "    test_accuracy[i] = knn.score(X_test, y_test)\n",
    "\n",
    "plt.title('k-NN: Varying Number of Neighbors')\n",
    "plt.plot(neighbors, test_accuracy, label = 'Testing Accuracy')\n",
    "plt.plot(neighbors, train_accuracy, label = 'Training Accuracy')\n",
    "plt.legend()\n",
    "plt.xlabel('Number of Neighbors')\n",
    "plt.ylabel('Accuracy')\n",
    "plt.show()"
   ]
  },
  {
   "cell_type": "code",
   "execution_count": 30,
   "metadata": {},
   "outputs": [
    {
     "name": "stdout",
     "output_type": "stream",
     "text": [
      "0.8109908409658618\n",
      "             precision    recall  f1-score   support\n",
      "\n",
      "no accident       0.83      0.97      0.89       991\n",
      "   accident       0.24      0.04      0.07       210\n",
      "\n",
      "avg / total       0.72      0.81      0.75      1201\n",
      "\n"
     ]
    }
   ],
   "source": [
    "knn  = KNeighborsClassifier(n_neighbors=6)\n",
    "knn.fit(X_train,y_train)\n",
    "y_pred = knn.predict(X_test)\n",
    "\n",
    "print(knn.score(X_test, y_test))\n",
    "\n",
    "target_names = ['no accident', 'accident']\n",
    "\n",
    "print(classification_report(y_test, y_pred, target_names=target_names))"
   ]
  },
  {
   "cell_type": "code",
   "execution_count": null,
   "metadata": {},
   "outputs": [],
   "source": []
  },
  {
   "cell_type": "markdown",
   "metadata": {},
   "source": [
    "# random forest "
   ]
  },
  {
   "cell_type": "code",
   "execution_count": 31,
   "metadata": {},
   "outputs": [
    {
     "name": "stdout",
     "output_type": "stream",
     "text": [
      "             precision    recall  f1-score   support\n",
      "\n",
      "no accident       0.83      0.96      0.89       991\n",
      "   accident       0.23      0.05      0.09       210\n",
      "\n",
      "avg / total       0.72      0.80      0.75      1201\n",
      "\n"
     ]
    }
   ],
   "source": [
    "from sklearn.ensemble import RandomForestClassifier\n",
    "RF = RandomForestClassifier()\n",
    "\n",
    "RF.fit(X_train, y_train)\n",
    "\n",
    "#predict test set result\n",
    "y_pred = RF.predict(X_test)\n",
    "\n",
    "target_names = ['no accident', 'accident']\n",
    "\n",
    "print(classification_report(y_test, y_pred, target_names=target_names))\n"
   ]
  },
  {
   "cell_type": "markdown",
   "metadata": {},
   "source": [
    "# NAIVE BAYES"
   ]
  },
  {
   "cell_type": "code",
   "execution_count": 32,
   "metadata": {},
   "outputs": [
    {
     "name": "stdout",
     "output_type": "stream",
     "text": [
      "             precision    recall  f1-score   support\n",
      "\n",
      "no accident       0.86      0.70      0.77       991\n",
      "   accident       0.25      0.46      0.32       210\n",
      "\n",
      "avg / total       0.75      0.66      0.70      1201\n",
      "\n"
     ]
    }
   ],
   "source": [
    "#NAIVE BAYES\n",
    "\n",
    "from sklearn.naive_bayes import GaussianNB\n",
    "from sklearn.preprocessing import StandardScaler\n",
    "\n",
    "\n",
    "# Feature Scaling\n",
    "sc_X = StandardScaler()\n",
    "X_train = sc_X.fit_transform(X_train)\n",
    "X_test = sc_X.transform(X_test)\n",
    "\n",
    "classifier = GaussianNB()\n",
    "\n",
    "classifier.fit(X_train, y_train)\n",
    "\n",
    "y_pred = classifier.predict(X_test)\n",
    "\n",
    "print(classification_report(y_test, y_pred, target_names=target_names))"
   ]
  },
  {
   "cell_type": "markdown",
   "metadata": {},
   "source": [
    "# model 2 \n",
    "\n",
    "## with customers data "
   ]
  },
  {
   "cell_type": "code",
   "execution_count": 33,
   "metadata": {},
   "outputs": [],
   "source": [
    "per_car = polisot.merge(tviot, how='left', on='Keypls' )\n",
    "per_car['ins_length'] =(per_car['End_date']-per_car['Start_date']).dt.days\n",
    "per_car['accident'] = np.where(per_car['Tvia_number'].isnull(), 0, 1)\n"
   ]
  },
  {
   "cell_type": "code",
   "execution_count": 34,
   "metadata": {},
   "outputs": [],
   "source": [
    "per_car = per_car.drop(['Tvia_date','Tvia_number'],axis = 1 )"
   ]
  },
  {
   "cell_type": "code",
   "execution_count": 35,
   "metadata": {},
   "outputs": [
    {
     "data": {
      "text/html": [
       "<div>\n",
       "<style scoped>\n",
       "    .dataframe tbody tr th:only-of-type {\n",
       "        vertical-align: middle;\n",
       "    }\n",
       "\n",
       "    .dataframe tbody tr th {\n",
       "        vertical-align: top;\n",
       "    }\n",
       "\n",
       "    .dataframe thead th {\n",
       "        text-align: right;\n",
       "    }\n",
       "</style>\n",
       "<table border=\"1\" class=\"dataframe\">\n",
       "  <thead>\n",
       "    <tr style=\"text-align: right;\">\n",
       "      <th></th>\n",
       "      <th>Rishuy_number</th>\n",
       "      <th>Keypls</th>\n",
       "      <th>Rechecv_Companny</th>\n",
       "      <th>Manufacture_Year</th>\n",
       "      <th>Start_date</th>\n",
       "      <th>End_date</th>\n",
       "      <th>ins_length</th>\n",
       "      <th>accident</th>\n",
       "    </tr>\n",
       "  </thead>\n",
       "  <tbody>\n",
       "    <tr>\n",
       "      <th>0</th>\n",
       "      <td>73002500</td>\n",
       "      <td>1000</td>\n",
       "      <td>Mazda</td>\n",
       "      <td>2008.175663</td>\n",
       "      <td>2016-09-03</td>\n",
       "      <td>2017-09-03</td>\n",
       "      <td>365</td>\n",
       "      <td>0</td>\n",
       "    </tr>\n",
       "    <tr>\n",
       "      <th>1</th>\n",
       "      <td>73002501</td>\n",
       "      <td>1001</td>\n",
       "      <td>Fiat</td>\n",
       "      <td>2006.000000</td>\n",
       "      <td>2016-04-08</td>\n",
       "      <td>2017-04-08</td>\n",
       "      <td>365</td>\n",
       "      <td>0</td>\n",
       "    </tr>\n",
       "    <tr>\n",
       "      <th>2</th>\n",
       "      <td>73002502</td>\n",
       "      <td>1002</td>\n",
       "      <td>Mazda</td>\n",
       "      <td>2000.000000</td>\n",
       "      <td>2016-11-11</td>\n",
       "      <td>2017-11-11</td>\n",
       "      <td>365</td>\n",
       "      <td>1</td>\n",
       "    </tr>\n",
       "    <tr>\n",
       "      <th>3</th>\n",
       "      <td>73002503</td>\n",
       "      <td>1003</td>\n",
       "      <td>Mazda</td>\n",
       "      <td>2010.000000</td>\n",
       "      <td>2016-04-08</td>\n",
       "      <td>2017-04-08</td>\n",
       "      <td>365</td>\n",
       "      <td>0</td>\n",
       "    </tr>\n",
       "    <tr>\n",
       "      <th>4</th>\n",
       "      <td>73002504</td>\n",
       "      <td>1004</td>\n",
       "      <td>Fiat</td>\n",
       "      <td>2008.000000</td>\n",
       "      <td>2016-01-01</td>\n",
       "      <td>2016-12-31</td>\n",
       "      <td>365</td>\n",
       "      <td>1</td>\n",
       "    </tr>\n",
       "  </tbody>\n",
       "</table>\n",
       "</div>"
      ],
      "text/plain": [
       "   Rishuy_number  Keypls Rechecv_Companny  Manufacture_Year Start_date  \\\n",
       "0       73002500    1000            Mazda       2008.175663 2016-09-03   \n",
       "1       73002501    1001             Fiat       2006.000000 2016-04-08   \n",
       "2       73002502    1002            Mazda       2000.000000 2016-11-11   \n",
       "3       73002503    1003            Mazda       2010.000000 2016-04-08   \n",
       "4       73002504    1004             Fiat       2008.000000 2016-01-01   \n",
       "\n",
       "    End_date  ins_length  accident  \n",
       "0 2017-09-03         365         0  \n",
       "1 2017-04-08         365         0  \n",
       "2 2017-11-11         365         1  \n",
       "3 2017-04-08         365         0  \n",
       "4 2016-12-31         365         1  "
      ]
     },
     "execution_count": 35,
     "metadata": {},
     "output_type": "execute_result"
    }
   ],
   "source": [
    "per_car.head()"
   ]
  },
  {
   "cell_type": "code",
   "execution_count": 36,
   "metadata": {},
   "outputs": [],
   "source": [
    "## join costumers info to per_car data to a combined data \n",
    "\n",
    "c = per_car.merge(customers, how='left', on='Keypls' )"
   ]
  },
  {
   "cell_type": "markdown",
   "metadata": {},
   "source": [
    "# preprocessing"
   ]
  },
  {
   "cell_type": "code",
   "execution_count": 37,
   "metadata": {},
   "outputs": [],
   "source": [
    "# make categorical columns categorical \n",
    "categorical_cols=['Gender','City']\n",
    "c[categorical_cols] = c[categorical_cols].astype('category')"
   ]
  },
  {
   "cell_type": "code",
   "execution_count": 38,
   "metadata": {},
   "outputs": [
    {
     "data": {
      "text/html": [
       "<div>\n",
       "<style scoped>\n",
       "    .dataframe tbody tr th:only-of-type {\n",
       "        vertical-align: middle;\n",
       "    }\n",
       "\n",
       "    .dataframe tbody tr th {\n",
       "        vertical-align: top;\n",
       "    }\n",
       "\n",
       "    .dataframe thead th {\n",
       "        text-align: right;\n",
       "    }\n",
       "</style>\n",
       "<table border=\"1\" class=\"dataframe\">\n",
       "  <thead>\n",
       "    <tr style=\"text-align: right;\">\n",
       "      <th></th>\n",
       "      <th>Rishuy_number</th>\n",
       "      <th>Keypls</th>\n",
       "      <th>Rechecv_Companny</th>\n",
       "      <th>Manufacture_Year</th>\n",
       "      <th>Start_date</th>\n",
       "      <th>End_date</th>\n",
       "      <th>ins_length</th>\n",
       "      <th>accident</th>\n",
       "      <th>ID</th>\n",
       "      <th>Age</th>\n",
       "      <th>Gender</th>\n",
       "      <th>City</th>\n",
       "      <th>Meshlem_polisa_IND</th>\n",
       "    </tr>\n",
       "  </thead>\n",
       "  <tbody>\n",
       "    <tr>\n",
       "      <th>0</th>\n",
       "      <td>73002500</td>\n",
       "      <td>1000</td>\n",
       "      <td>Mazda</td>\n",
       "      <td>2008.175663</td>\n",
       "      <td>2016-09-03</td>\n",
       "      <td>2017-09-03</td>\n",
       "      <td>365</td>\n",
       "      <td>0</td>\n",
       "      <td>300606479.0</td>\n",
       "      <td>26.0</td>\n",
       "      <td>Male</td>\n",
       "      <td>Jerusalem</td>\n",
       "      <td>0.0</td>\n",
       "    </tr>\n",
       "    <tr>\n",
       "      <th>1</th>\n",
       "      <td>73002500</td>\n",
       "      <td>1000</td>\n",
       "      <td>Mazda</td>\n",
       "      <td>2008.175663</td>\n",
       "      <td>2016-09-03</td>\n",
       "      <td>2017-09-03</td>\n",
       "      <td>365</td>\n",
       "      <td>0</td>\n",
       "      <td>300607701.0</td>\n",
       "      <td>75.0</td>\n",
       "      <td>Male</td>\n",
       "      <td>Tel Aviv</td>\n",
       "      <td>1.0</td>\n",
       "    </tr>\n",
       "    <tr>\n",
       "      <th>2</th>\n",
       "      <td>73002501</td>\n",
       "      <td>1001</td>\n",
       "      <td>Fiat</td>\n",
       "      <td>2006.000000</td>\n",
       "      <td>2016-04-08</td>\n",
       "      <td>2017-04-08</td>\n",
       "      <td>365</td>\n",
       "      <td>0</td>\n",
       "      <td>300606662.0</td>\n",
       "      <td>47.0</td>\n",
       "      <td>Female</td>\n",
       "      <td>Haifa</td>\n",
       "      <td>0.0</td>\n",
       "    </tr>\n",
       "    <tr>\n",
       "      <th>3</th>\n",
       "      <td>73002501</td>\n",
       "      <td>1001</td>\n",
       "      <td>Fiat</td>\n",
       "      <td>2006.000000</td>\n",
       "      <td>2016-04-08</td>\n",
       "      <td>2017-04-08</td>\n",
       "      <td>365</td>\n",
       "      <td>0</td>\n",
       "      <td>300606907.0</td>\n",
       "      <td>18.0</td>\n",
       "      <td>Female</td>\n",
       "      <td>Jerusalem</td>\n",
       "      <td>1.0</td>\n",
       "    </tr>\n",
       "    <tr>\n",
       "      <th>4</th>\n",
       "      <td>73002502</td>\n",
       "      <td>1002</td>\n",
       "      <td>Mazda</td>\n",
       "      <td>2000.000000</td>\n",
       "      <td>2016-11-11</td>\n",
       "      <td>2017-11-11</td>\n",
       "      <td>365</td>\n",
       "      <td>1</td>\n",
       "      <td>300601754.0</td>\n",
       "      <td>25.0</td>\n",
       "      <td>Female</td>\n",
       "      <td>Tel Aviv</td>\n",
       "      <td>0.0</td>\n",
       "    </tr>\n",
       "    <tr>\n",
       "      <th>5</th>\n",
       "      <td>73002502</td>\n",
       "      <td>1002</td>\n",
       "      <td>Mazda</td>\n",
       "      <td>2000.000000</td>\n",
       "      <td>2016-11-11</td>\n",
       "      <td>2017-11-11</td>\n",
       "      <td>365</td>\n",
       "      <td>1</td>\n",
       "      <td>300602172.0</td>\n",
       "      <td>32.0</td>\n",
       "      <td>Female</td>\n",
       "      <td>Ashdod</td>\n",
       "      <td>0.0</td>\n",
       "    </tr>\n",
       "    <tr>\n",
       "      <th>6</th>\n",
       "      <td>73002502</td>\n",
       "      <td>1002</td>\n",
       "      <td>Mazda</td>\n",
       "      <td>2000.000000</td>\n",
       "      <td>2016-11-11</td>\n",
       "      <td>2017-11-11</td>\n",
       "      <td>365</td>\n",
       "      <td>1</td>\n",
       "      <td>300603573.0</td>\n",
       "      <td>52.0</td>\n",
       "      <td>Female</td>\n",
       "      <td>Tel Aviv</td>\n",
       "      <td>0.0</td>\n",
       "    </tr>\n",
       "    <tr>\n",
       "      <th>7</th>\n",
       "      <td>73002502</td>\n",
       "      <td>1002</td>\n",
       "      <td>Mazda</td>\n",
       "      <td>2000.000000</td>\n",
       "      <td>2016-11-11</td>\n",
       "      <td>2017-11-11</td>\n",
       "      <td>365</td>\n",
       "      <td>1</td>\n",
       "      <td>300605775.0</td>\n",
       "      <td>33.0</td>\n",
       "      <td>Female</td>\n",
       "      <td>Tel Aviv</td>\n",
       "      <td>0.0</td>\n",
       "    </tr>\n",
       "  </tbody>\n",
       "</table>\n",
       "</div>"
      ],
      "text/plain": [
       "   Rishuy_number  Keypls Rechecv_Companny  Manufacture_Year Start_date  \\\n",
       "0       73002500    1000            Mazda       2008.175663 2016-09-03   \n",
       "1       73002500    1000            Mazda       2008.175663 2016-09-03   \n",
       "2       73002501    1001             Fiat       2006.000000 2016-04-08   \n",
       "3       73002501    1001             Fiat       2006.000000 2016-04-08   \n",
       "4       73002502    1002            Mazda       2000.000000 2016-11-11   \n",
       "5       73002502    1002            Mazda       2000.000000 2016-11-11   \n",
       "6       73002502    1002            Mazda       2000.000000 2016-11-11   \n",
       "7       73002502    1002            Mazda       2000.000000 2016-11-11   \n",
       "\n",
       "    End_date  ins_length  accident           ID   Age  Gender       City  \\\n",
       "0 2017-09-03         365         0  300606479.0  26.0    Male  Jerusalem   \n",
       "1 2017-09-03         365         0  300607701.0  75.0    Male   Tel Aviv   \n",
       "2 2017-04-08         365         0  300606662.0  47.0  Female      Haifa   \n",
       "3 2017-04-08         365         0  300606907.0  18.0  Female  Jerusalem   \n",
       "4 2017-11-11         365         1  300601754.0  25.0  Female   Tel Aviv   \n",
       "5 2017-11-11         365         1  300602172.0  32.0  Female     Ashdod   \n",
       "6 2017-11-11         365         1  300603573.0  52.0  Female   Tel Aviv   \n",
       "7 2017-11-11         365         1  300605775.0  33.0  Female   Tel Aviv   \n",
       "\n",
       "   Meshlem_polisa_IND  \n",
       "0                 0.0  \n",
       "1                 1.0  \n",
       "2                 0.0  \n",
       "3                 1.0  \n",
       "4                 0.0  \n",
       "5                 0.0  \n",
       "6                 0.0  \n",
       "7                 0.0  "
      ]
     },
     "execution_count": 38,
     "metadata": {},
     "output_type": "execute_result"
    }
   ],
   "source": [
    "c.head(8)"
   ]
  },
  {
   "cell_type": "code",
   "execution_count": 41,
   "metadata": {},
   "outputs": [
    {
     "name": "stdout",
     "output_type": "stream",
     "text": [
      "(8000, 5)\n",
      "(4001, 8)\n",
      "(8000, 13)\n"
     ]
    }
   ],
   "source": [
    "print(customers.shape)\n",
    "print(per_car.shape)\n",
    "print(c.shape)"
   ]
  },
  {
   "cell_type": "code",
   "execution_count": 42,
   "metadata": {},
   "outputs": [
    {
     "name": "stdout",
     "output_type": "stream",
     "text": [
      "nulls in data :  False\n",
      "Series([], dtype: int64)\n",
      "=====\n"
     ]
    }
   ],
   "source": [
    "findnulls(c)\n",
    "c= c.dropna()\n",
    "\n",
    "# fill na with meshalem = 1 , age =mean , id= -1 , gender = \n",
    "\n",
    "\n",
    "#customers.sort_values(by='Keypls')"
   ]
  },
  {
   "cell_type": "markdown",
   "metadata": {},
   "source": [
    "# city"
   ]
  },
  {
   "cell_type": "code",
   "execution_count": 43,
   "metadata": {},
   "outputs": [
    {
     "data": {
      "image/png": "[encoded data removed]",
      "text/plain": [
       "<Figure size 432x288 with 1 Axes>"
      ]
     },
     "metadata": {},
     "output_type": "display_data"
    }
   ],
   "source": [
    "# count of accidents and no accidents by city\n",
    "\n",
    "accidents_by_city = c.filter(items=['Keypls','City','accident']).set_index('Keypls')\n",
    "ax = sns.countplot(x=\"City\", data=accidents_by_city,hue=\"accident\")"
   ]
  },
  {
   "cell_type": "code",
   "execution_count": 44,
   "metadata": {},
   "outputs": [
    {
     "data": {
      "image/png": "[encoded data removed]",
      "text/plain": [
       "<Figure size 432x288 with 1 Axes>"
      ]
     },
     "metadata": {},
     "output_type": "display_data"
    }
   ],
   "source": [
    "# count accidents by city of payer of the insurance\n",
    "\n",
    "polisa_payer = c[c['Meshlem_polisa_IND']==1]\n",
    "\n",
    "polisa_payer_city = polisa_payer.filter(items=['Keypls','City','accident'])\n",
    "\n",
    "ax = sns.countplot(x=\"City\", data=polisa_payer_city,hue=\"accident\")"
   ]
  },
  {
   "cell_type": "code",
   "execution_count": 45,
   "metadata": {},
   "outputs": [
    {
     "data": {
      "text/html": [
       "<div>\n",
       "<style scoped>\n",
       "    .dataframe tbody tr th:only-of-type {\n",
       "        vertical-align: middle;\n",
       "    }\n",
       "\n",
       "    .dataframe tbody tr th {\n",
       "        vertical-align: top;\n",
       "    }\n",
       "\n",
       "    .dataframe thead th {\n",
       "        text-align: right;\n",
       "    }\n",
       "</style>\n",
       "<table border=\"1\" class=\"dataframe\">\n",
       "  <thead>\n",
       "    <tr style=\"text-align: right;\">\n",
       "      <th></th>\n",
       "      <th>City_Ashdod</th>\n",
       "      <th>City_Dimona</th>\n",
       "      <th>City_Haifa</th>\n",
       "      <th>City_Jerusalem</th>\n",
       "      <th>City_Tel Aviv</th>\n",
       "      <th>City_Tira</th>\n",
       "      <th>payer_city</th>\n",
       "    </tr>\n",
       "    <tr>\n",
       "      <th>Keypls</th>\n",
       "      <th></th>\n",
       "      <th></th>\n",
       "      <th></th>\n",
       "      <th></th>\n",
       "      <th></th>\n",
       "      <th></th>\n",
       "      <th></th>\n",
       "    </tr>\n",
       "  </thead>\n",
       "  <tbody>\n",
       "    <tr>\n",
       "      <th>1000</th>\n",
       "      <td>0</td>\n",
       "      <td>0</td>\n",
       "      <td>0</td>\n",
       "      <td>1</td>\n",
       "      <td>1</td>\n",
       "      <td>0</td>\n",
       "      <td>Tel Aviv</td>\n",
       "    </tr>\n",
       "    <tr>\n",
       "      <th>1001</th>\n",
       "      <td>0</td>\n",
       "      <td>0</td>\n",
       "      <td>1</td>\n",
       "      <td>1</td>\n",
       "      <td>0</td>\n",
       "      <td>0</td>\n",
       "      <td>Jerusalem</td>\n",
       "    </tr>\n",
       "    <tr>\n",
       "      <th>1002</th>\n",
       "      <td>2</td>\n",
       "      <td>1</td>\n",
       "      <td>0</td>\n",
       "      <td>0</td>\n",
       "      <td>3</td>\n",
       "      <td>0</td>\n",
       "      <td>Ashdod</td>\n",
       "    </tr>\n",
       "    <tr>\n",
       "      <th>1003</th>\n",
       "      <td>0</td>\n",
       "      <td>0</td>\n",
       "      <td>1</td>\n",
       "      <td>0</td>\n",
       "      <td>0</td>\n",
       "      <td>0</td>\n",
       "      <td>Haifa</td>\n",
       "    </tr>\n",
       "    <tr>\n",
       "      <th>1004</th>\n",
       "      <td>0</td>\n",
       "      <td>0</td>\n",
       "      <td>0</td>\n",
       "      <td>1</td>\n",
       "      <td>0</td>\n",
       "      <td>0</td>\n",
       "      <td>Jerusalem</td>\n",
       "    </tr>\n",
       "  </tbody>\n",
       "</table>\n",
       "</div>"
      ],
      "text/plain": [
       "        City_Ashdod  City_Dimona  City_Haifa  City_Jerusalem  City_Tel Aviv  \\\n",
       "Keypls                                                                        \n",
       "1000              0            0           0               1              1   \n",
       "1001              0            0           1               1              0   \n",
       "1002              2            1           0               0              3   \n",
       "1003              0            0           1               0              0   \n",
       "1004              0            0           0               1              0   \n",
       "\n",
       "        City_Tira payer_city  \n",
       "Keypls                        \n",
       "1000            0   Tel Aviv  \n",
       "1001            0  Jerusalem  \n",
       "1002            0     Ashdod  \n",
       "1003            0      Haifa  \n",
       "1004            0  Jerusalem  "
      ]
     },
     "execution_count": 45,
     "metadata": {},
     "output_type": "execute_result"
    }
   ],
   "source": [
    "# make dummies out of cities and sum of members cities\n",
    "\n",
    "cities = c[['Keypls','City']].set_index('Keypls')\n",
    "cities = pd.get_dummies(cities)\n",
    "cities = cities.groupby('Keypls').sum()\n",
    "\n",
    "#add polisa payer city\n",
    "\n",
    "cities['payer_city'] = c[c['Meshlem_polisa_IND']==1].set_index('Keypls')[['City']]\n",
    "\n",
    "cities.head()\n"
   ]
  },
  {
   "cell_type": "markdown",
   "metadata": {},
   "source": [
    "# Gender "
   ]
  },
  {
   "cell_type": "code",
   "execution_count": 46,
   "metadata": {},
   "outputs": [
    {
     "data": {
      "image/png": "[encoded data removed]",
      "text/plain": [
       "<Figure size 432x288 with 1 Axes>"
      ]
     },
     "metadata": {},
     "output_type": "display_data"
    }
   ],
   "source": [
    "# count of accidents and no accidents by Gender\n",
    "\n",
    "\n",
    "accidents_by_gender = c.filter(items=['Keypls','Gender','accident']).set_index('Keypls')\n",
    "#sns.set(style=\"darkgrid\")\n",
    "\n",
    "ax = sns.countplot(x=\"Gender\", data=accidents_by_gender,hue=\"accident\")"
   ]
  },
  {
   "cell_type": "code",
   "execution_count": 47,
   "metadata": {},
   "outputs": [
    {
     "data": {
      "image/png": "[encoded data removed]",
      "text/plain": [
       "<Figure size 432x288 with 1 Axes>"
      ]
     },
     "metadata": {},
     "output_type": "display_data"
    }
   ],
   "source": [
    "## count accidents by gender of the  payer of the insurance\n",
    "\n",
    "polisa_payer = c[c['Meshlem_polisa_IND']==1]\n",
    "\n",
    "polisa_payer_gender = polisa_payer.filter(items=['Keypls','Gender','accident'])\n",
    "\n",
    "ax = sns.countplot(x=\"Gender\", data=polisa_payer_gender,hue=\"accident\")"
   ]
  },
  {
   "cell_type": "code",
   "execution_count": 48,
   "metadata": {},
   "outputs": [
    {
     "data": {
      "text/html": [
       "<div>\n",
       "<style scoped>\n",
       "    .dataframe tbody tr th:only-of-type {\n",
       "        vertical-align: middle;\n",
       "    }\n",
       "\n",
       "    .dataframe tbody tr th {\n",
       "        vertical-align: top;\n",
       "    }\n",
       "\n",
       "    .dataframe thead th {\n",
       "        text-align: right;\n",
       "    }\n",
       "</style>\n",
       "<table border=\"1\" class=\"dataframe\">\n",
       "  <thead>\n",
       "    <tr style=\"text-align: right;\">\n",
       "      <th></th>\n",
       "      <th>Gender_Female</th>\n",
       "      <th>Gender_Male</th>\n",
       "      <th>payer_gender</th>\n",
       "    </tr>\n",
       "    <tr>\n",
       "      <th>Keypls</th>\n",
       "      <th></th>\n",
       "      <th></th>\n",
       "      <th></th>\n",
       "    </tr>\n",
       "  </thead>\n",
       "  <tbody>\n",
       "    <tr>\n",
       "      <th>1000</th>\n",
       "      <td>0</td>\n",
       "      <td>2</td>\n",
       "      <td>Male</td>\n",
       "    </tr>\n",
       "    <tr>\n",
       "      <th>1001</th>\n",
       "      <td>2</td>\n",
       "      <td>0</td>\n",
       "      <td>Female</td>\n",
       "    </tr>\n",
       "    <tr>\n",
       "      <th>1002</th>\n",
       "      <td>6</td>\n",
       "      <td>0</td>\n",
       "      <td>Female</td>\n",
       "    </tr>\n",
       "    <tr>\n",
       "      <th>1003</th>\n",
       "      <td>0</td>\n",
       "      <td>1</td>\n",
       "      <td>Male</td>\n",
       "    </tr>\n",
       "    <tr>\n",
       "      <th>1004</th>\n",
       "      <td>1</td>\n",
       "      <td>0</td>\n",
       "      <td>Female</td>\n",
       "    </tr>\n",
       "  </tbody>\n",
       "</table>\n",
       "</div>"
      ],
      "text/plain": [
       "        Gender_Female  Gender_Male payer_gender\n",
       "Keypls                                         \n",
       "1000                0            2         Male\n",
       "1001                2            0       Female\n",
       "1002                6            0       Female\n",
       "1003                0            1         Male\n",
       "1004                1            0       Female"
      ]
     },
     "execution_count": 48,
     "metadata": {},
     "output_type": "execute_result"
    }
   ],
   "source": [
    "# gender\n",
    "\n",
    "gender = c[['Keypls','Gender']].set_index('Keypls')\n",
    "gender = pd.get_dummies(gender)\n",
    "gender = gender.groupby('Keypls').sum()\n",
    "\n",
    "#add polisa payer gender\n",
    "\n",
    "gender['payer_gender'] = c[c['Meshlem_polisa_IND']==1].set_index('Keypls')[['Gender']]\n",
    "gender.head()"
   ]
  },
  {
   "cell_type": "code",
   "execution_count": null,
   "metadata": {},
   "outputs": [],
   "source": []
  },
  {
   "cell_type": "markdown",
   "metadata": {},
   "source": [
    "# age"
   ]
  },
  {
   "cell_type": "code",
   "execution_count": 49,
   "metadata": {},
   "outputs": [
    {
     "data": {
      "text/html": [
       "<div>\n",
       "<style scoped>\n",
       "    .dataframe tbody tr th:only-of-type {\n",
       "        vertical-align: middle;\n",
       "    }\n",
       "\n",
       "    .dataframe tbody tr th {\n",
       "        vertical-align: top;\n",
       "    }\n",
       "\n",
       "    .dataframe thead th {\n",
       "        text-align: right;\n",
       "    }\n",
       "</style>\n",
       "<table border=\"1\" class=\"dataframe\">\n",
       "  <thead>\n",
       "    <tr style=\"text-align: right;\">\n",
       "      <th></th>\n",
       "      <th>min_age</th>\n",
       "      <th>max_age</th>\n",
       "      <th>sum_age</th>\n",
       "      <th>mean_age</th>\n",
       "      <th>count_age</th>\n",
       "      <th>weighted_age</th>\n",
       "      <th>payer_age</th>\n",
       "    </tr>\n",
       "    <tr>\n",
       "      <th>Keypls</th>\n",
       "      <th></th>\n",
       "      <th></th>\n",
       "      <th></th>\n",
       "      <th></th>\n",
       "      <th></th>\n",
       "      <th></th>\n",
       "      <th></th>\n",
       "    </tr>\n",
       "  </thead>\n",
       "  <tbody>\n",
       "    <tr>\n",
       "      <th>1000</th>\n",
       "      <td>26.0</td>\n",
       "      <td>75.0</td>\n",
       "      <td>101.0</td>\n",
       "      <td>50.500000</td>\n",
       "      <td>2</td>\n",
       "      <td>71.417785</td>\n",
       "      <td>75.0</td>\n",
       "    </tr>\n",
       "    <tr>\n",
       "      <th>1001</th>\n",
       "      <td>18.0</td>\n",
       "      <td>47.0</td>\n",
       "      <td>65.0</td>\n",
       "      <td>32.500000</td>\n",
       "      <td>2</td>\n",
       "      <td>45.961941</td>\n",
       "      <td>18.0</td>\n",
       "    </tr>\n",
       "    <tr>\n",
       "      <th>1002</th>\n",
       "      <td>25.0</td>\n",
       "      <td>52.0</td>\n",
       "      <td>227.0</td>\n",
       "      <td>37.833333</td>\n",
       "      <td>6</td>\n",
       "      <td>92.672362</td>\n",
       "      <td>41.0</td>\n",
       "    </tr>\n",
       "    <tr>\n",
       "      <th>1003</th>\n",
       "      <td>49.0</td>\n",
       "      <td>49.0</td>\n",
       "      <td>49.0</td>\n",
       "      <td>49.000000</td>\n",
       "      <td>1</td>\n",
       "      <td>49.000000</td>\n",
       "      <td>49.0</td>\n",
       "    </tr>\n",
       "    <tr>\n",
       "      <th>1004</th>\n",
       "      <td>58.0</td>\n",
       "      <td>58.0</td>\n",
       "      <td>58.0</td>\n",
       "      <td>58.000000</td>\n",
       "      <td>1</td>\n",
       "      <td>58.000000</td>\n",
       "      <td>58.0</td>\n",
       "    </tr>\n",
       "    <tr>\n",
       "      <th>1005</th>\n",
       "      <td>42.0</td>\n",
       "      <td>75.0</td>\n",
       "      <td>117.0</td>\n",
       "      <td>58.500000</td>\n",
       "      <td>2</td>\n",
       "      <td>82.731493</td>\n",
       "      <td>42.0</td>\n",
       "    </tr>\n",
       "    <tr>\n",
       "      <th>1006</th>\n",
       "      <td>36.0</td>\n",
       "      <td>61.0</td>\n",
       "      <td>97.0</td>\n",
       "      <td>48.500000</td>\n",
       "      <td>2</td>\n",
       "      <td>68.589358</td>\n",
       "      <td>36.0</td>\n",
       "    </tr>\n",
       "    <tr>\n",
       "      <th>1007</th>\n",
       "      <td>59.0</td>\n",
       "      <td>59.0</td>\n",
       "      <td>59.0</td>\n",
       "      <td>59.000000</td>\n",
       "      <td>1</td>\n",
       "      <td>59.000000</td>\n",
       "      <td>59.0</td>\n",
       "    </tr>\n",
       "    <tr>\n",
       "      <th>1009</th>\n",
       "      <td>57.0</td>\n",
       "      <td>57.0</td>\n",
       "      <td>57.0</td>\n",
       "      <td>57.000000</td>\n",
       "      <td>1</td>\n",
       "      <td>57.000000</td>\n",
       "      <td>57.0</td>\n",
       "    </tr>\n",
       "    <tr>\n",
       "      <th>1010</th>\n",
       "      <td>36.0</td>\n",
       "      <td>52.0</td>\n",
       "      <td>132.0</td>\n",
       "      <td>44.000000</td>\n",
       "      <td>3</td>\n",
       "      <td>76.210236</td>\n",
       "      <td>36.0</td>\n",
       "    </tr>\n",
       "  </tbody>\n",
       "</table>\n",
       "</div>"
      ],
      "text/plain": [
       "        min_age  max_age  sum_age   mean_age  count_age  weighted_age  \\\n",
       "Keypls                                                                  \n",
       "1000       26.0     75.0    101.0  50.500000          2     71.417785   \n",
       "1001       18.0     47.0     65.0  32.500000          2     45.961941   \n",
       "1002       25.0     52.0    227.0  37.833333          6     92.672362   \n",
       "1003       49.0     49.0     49.0  49.000000          1     49.000000   \n",
       "1004       58.0     58.0     58.0  58.000000          1     58.000000   \n",
       "1005       42.0     75.0    117.0  58.500000          2     82.731493   \n",
       "1006       36.0     61.0     97.0  48.500000          2     68.589358   \n",
       "1007       59.0     59.0     59.0  59.000000          1     59.000000   \n",
       "1009       57.0     57.0     57.0  57.000000          1     57.000000   \n",
       "1010       36.0     52.0    132.0  44.000000          3     76.210236   \n",
       "\n",
       "        payer_age  \n",
       "Keypls             \n",
       "1000         75.0  \n",
       "1001         18.0  \n",
       "1002         41.0  \n",
       "1003         49.0  \n",
       "1004         58.0  \n",
       "1005         42.0  \n",
       "1006         36.0  \n",
       "1007         59.0  \n",
       "1009         57.0  \n",
       "1010         36.0  "
      ]
     },
     "execution_count": 49,
     "metadata": {},
     "output_type": "execute_result"
    }
   ],
   "source": [
    "ages = pd.DataFrame()\n",
    "\n",
    "\n",
    "\n",
    "ages['min_age'] = c.groupby('Keypls')['Age'].min()\n",
    "ages['max_age'] = c.groupby('Keypls')['Age'].max()\n",
    "ages['sum_age'] = c.groupby('Keypls')['Age'].sum()\n",
    "\n",
    "\n",
    "ages['mean_age'] = c.groupby('Keypls')['Age'].mean()\n",
    "ages['count_age'] = c.groupby('Keypls')['Age'].count()\n",
    "\n",
    "\n",
    "#ages['weighted_age'] = (ages['sum_age']+ages['mean_age']/((1+(ages['max_age']+ages['min_age'])) * ages['count_age']*3 ) )\n",
    "ages['weighted_age'] = ((ages['mean_age']))/(1+ages['max_age']-ages['min_age'])*((ages['count_age'])**0.5)*(1+ages['max_age']-ages['min_age'])\n",
    "\n",
    "# polisa payer age \n",
    "ages['payer_age'] = c[c['Meshlem_polisa_IND']==1].set_index('Keypls')[['Age']]\n",
    "\n",
    "ages.head(10)"
   ]
  },
  {
   "cell_type": "code",
   "execution_count": 50,
   "metadata": {},
   "outputs": [
    {
     "data": {
      "text/html": [
       "<div>\n",
       "<style scoped>\n",
       "    .dataframe tbody tr th:only-of-type {\n",
       "        vertical-align: middle;\n",
       "    }\n",
       "\n",
       "    .dataframe tbody tr th {\n",
       "        vertical-align: top;\n",
       "    }\n",
       "\n",
       "    .dataframe thead th {\n",
       "        text-align: right;\n",
       "    }\n",
       "</style>\n",
       "<table border=\"1\" class=\"dataframe\">\n",
       "  <thead>\n",
       "    <tr style=\"text-align: right;\">\n",
       "      <th></th>\n",
       "      <th>min_age</th>\n",
       "      <th>max_age</th>\n",
       "      <th>sum_age</th>\n",
       "      <th>mean_age</th>\n",
       "      <th>count_age</th>\n",
       "      <th>weighted_age</th>\n",
       "      <th>payer_age</th>\n",
       "    </tr>\n",
       "    <tr>\n",
       "      <th>Keypls</th>\n",
       "      <th></th>\n",
       "      <th></th>\n",
       "      <th></th>\n",
       "      <th></th>\n",
       "      <th></th>\n",
       "      <th></th>\n",
       "      <th></th>\n",
       "    </tr>\n",
       "  </thead>\n",
       "  <tbody>\n",
       "    <tr>\n",
       "      <th>1000</th>\n",
       "      <td>26.0</td>\n",
       "      <td>75.0</td>\n",
       "      <td>101.0</td>\n",
       "      <td>50.500000</td>\n",
       "      <td>2</td>\n",
       "      <td>71.417785</td>\n",
       "      <td>75.0</td>\n",
       "    </tr>\n",
       "    <tr>\n",
       "      <th>1001</th>\n",
       "      <td>18.0</td>\n",
       "      <td>47.0</td>\n",
       "      <td>65.0</td>\n",
       "      <td>32.500000</td>\n",
       "      <td>2</td>\n",
       "      <td>45.961941</td>\n",
       "      <td>18.0</td>\n",
       "    </tr>\n",
       "    <tr>\n",
       "      <th>1002</th>\n",
       "      <td>25.0</td>\n",
       "      <td>52.0</td>\n",
       "      <td>227.0</td>\n",
       "      <td>37.833333</td>\n",
       "      <td>6</td>\n",
       "      <td>92.672362</td>\n",
       "      <td>41.0</td>\n",
       "    </tr>\n",
       "    <tr>\n",
       "      <th>1003</th>\n",
       "      <td>49.0</td>\n",
       "      <td>49.0</td>\n",
       "      <td>49.0</td>\n",
       "      <td>49.000000</td>\n",
       "      <td>1</td>\n",
       "      <td>49.000000</td>\n",
       "      <td>49.0</td>\n",
       "    </tr>\n",
       "    <tr>\n",
       "      <th>1004</th>\n",
       "      <td>58.0</td>\n",
       "      <td>58.0</td>\n",
       "      <td>58.0</td>\n",
       "      <td>58.000000</td>\n",
       "      <td>1</td>\n",
       "      <td>58.000000</td>\n",
       "      <td>58.0</td>\n",
       "    </tr>\n",
       "  </tbody>\n",
       "</table>\n",
       "</div>"
      ],
      "text/plain": [
       "        min_age  max_age  sum_age   mean_age  count_age  weighted_age  \\\n",
       "Keypls                                                                  \n",
       "1000       26.0     75.0    101.0  50.500000          2     71.417785   \n",
       "1001       18.0     47.0     65.0  32.500000          2     45.961941   \n",
       "1002       25.0     52.0    227.0  37.833333          6     92.672362   \n",
       "1003       49.0     49.0     49.0  49.000000          1     49.000000   \n",
       "1004       58.0     58.0     58.0  58.000000          1     58.000000   \n",
       "\n",
       "        payer_age  \n",
       "Keypls             \n",
       "1000         75.0  \n",
       "1001         18.0  \n",
       "1002         41.0  \n",
       "1003         49.0  \n",
       "1004         58.0  "
      ]
     },
     "execution_count": 50,
     "metadata": {},
     "output_type": "execute_result"
    }
   ],
   "source": [
    "ages.head()"
   ]
  },
  {
   "cell_type": "code",
   "execution_count": 51,
   "metadata": {},
   "outputs": [
    {
     "data": {
      "text/html": [
       "<div>\n",
       "<style scoped>\n",
       "    .dataframe tbody tr th:only-of-type {\n",
       "        vertical-align: middle;\n",
       "    }\n",
       "\n",
       "    .dataframe tbody tr th {\n",
       "        vertical-align: top;\n",
       "    }\n",
       "\n",
       "    .dataframe thead th {\n",
       "        text-align: right;\n",
       "    }\n",
       "</style>\n",
       "<table border=\"1\" class=\"dataframe\">\n",
       "  <thead>\n",
       "    <tr style=\"text-align: right;\">\n",
       "      <th></th>\n",
       "      <th>Rishuy_number</th>\n",
       "      <th>Keypls</th>\n",
       "      <th>Rechecv_Companny</th>\n",
       "      <th>Manufacture_Year</th>\n",
       "      <th>Start_date</th>\n",
       "      <th>End_date</th>\n",
       "      <th>ins_length</th>\n",
       "      <th>accident</th>\n",
       "      <th>ID</th>\n",
       "      <th>Age</th>\n",
       "      <th>Gender</th>\n",
       "      <th>City</th>\n",
       "      <th>Meshlem_polisa_IND</th>\n",
       "    </tr>\n",
       "  </thead>\n",
       "  <tbody>\n",
       "    <tr>\n",
       "      <th>0</th>\n",
       "      <td>73002500</td>\n",
       "      <td>1000</td>\n",
       "      <td>Mazda</td>\n",
       "      <td>2008.175663</td>\n",
       "      <td>2016-09-03</td>\n",
       "      <td>2017-09-03</td>\n",
       "      <td>365</td>\n",
       "      <td>0</td>\n",
       "      <td>300606479.0</td>\n",
       "      <td>26.0</td>\n",
       "      <td>Male</td>\n",
       "      <td>Jerusalem</td>\n",
       "      <td>0.0</td>\n",
       "    </tr>\n",
       "    <tr>\n",
       "      <th>1</th>\n",
       "      <td>73002500</td>\n",
       "      <td>1000</td>\n",
       "      <td>Mazda</td>\n",
       "      <td>2008.175663</td>\n",
       "      <td>2016-09-03</td>\n",
       "      <td>2017-09-03</td>\n",
       "      <td>365</td>\n",
       "      <td>0</td>\n",
       "      <td>300607701.0</td>\n",
       "      <td>75.0</td>\n",
       "      <td>Male</td>\n",
       "      <td>Tel Aviv</td>\n",
       "      <td>1.0</td>\n",
       "    </tr>\n",
       "  </tbody>\n",
       "</table>\n",
       "</div>"
      ],
      "text/plain": [
       "   Rishuy_number  Keypls Rechecv_Companny  Manufacture_Year Start_date  \\\n",
       "0       73002500    1000            Mazda       2008.175663 2016-09-03   \n",
       "1       73002500    1000            Mazda       2008.175663 2016-09-03   \n",
       "\n",
       "    End_date  ins_length  accident           ID   Age Gender       City  \\\n",
       "0 2017-09-03         365         0  300606479.0  26.0   Male  Jerusalem   \n",
       "1 2017-09-03         365         0  300607701.0  75.0   Male   Tel Aviv   \n",
       "\n",
       "   Meshlem_polisa_IND  \n",
       "0                 0.0  \n",
       "1                 1.0  "
      ]
     },
     "execution_count": 51,
     "metadata": {},
     "output_type": "execute_result"
    }
   ],
   "source": [
    "c.head(2)"
   ]
  },
  {
   "cell_type": "markdown",
   "metadata": {},
   "source": [
    "# merge "
   ]
  },
  {
   "cell_type": "code",
   "execution_count": 52,
   "metadata": {},
   "outputs": [
    {
     "data": {
      "text/html": [
       "<div>\n",
       "<style scoped>\n",
       "    .dataframe tbody tr th:only-of-type {\n",
       "        vertical-align: middle;\n",
       "    }\n",
       "\n",
       "    .dataframe tbody tr th {\n",
       "        vertical-align: top;\n",
       "    }\n",
       "\n",
       "    .dataframe thead th {\n",
       "        text-align: right;\n",
       "    }\n",
       "</style>\n",
       "<table border=\"1\" class=\"dataframe\">\n",
       "  <thead>\n",
       "    <tr style=\"text-align: right;\">\n",
       "      <th></th>\n",
       "      <th>Rechecv_Companny</th>\n",
       "      <th>Manufacture_Year</th>\n",
       "      <th>ins_length</th>\n",
       "      <th>accident</th>\n",
       "    </tr>\n",
       "    <tr>\n",
       "      <th>Keypls</th>\n",
       "      <th></th>\n",
       "      <th></th>\n",
       "      <th></th>\n",
       "      <th></th>\n",
       "    </tr>\n",
       "  </thead>\n",
       "  <tbody>\n",
       "    <tr>\n",
       "      <th>1000</th>\n",
       "      <td>Mazda</td>\n",
       "      <td>2008.175663</td>\n",
       "      <td>365</td>\n",
       "      <td>0</td>\n",
       "    </tr>\n",
       "    <tr>\n",
       "      <th>1001</th>\n",
       "      <td>Fiat</td>\n",
       "      <td>2006.000000</td>\n",
       "      <td>365</td>\n",
       "      <td>0</td>\n",
       "    </tr>\n",
       "    <tr>\n",
       "      <th>1002</th>\n",
       "      <td>Mazda</td>\n",
       "      <td>2000.000000</td>\n",
       "      <td>365</td>\n",
       "      <td>1</td>\n",
       "    </tr>\n",
       "    <tr>\n",
       "      <th>1003</th>\n",
       "      <td>Mazda</td>\n",
       "      <td>2010.000000</td>\n",
       "      <td>365</td>\n",
       "      <td>0</td>\n",
       "    </tr>\n",
       "    <tr>\n",
       "      <th>1004</th>\n",
       "      <td>Fiat</td>\n",
       "      <td>2008.000000</td>\n",
       "      <td>365</td>\n",
       "      <td>1</td>\n",
       "    </tr>\n",
       "  </tbody>\n",
       "</table>\n",
       "</div>"
      ],
      "text/plain": [
       "       Rechecv_Companny  Manufacture_Year  ins_length  accident\n",
       "Keypls                                                         \n",
       "1000              Mazda       2008.175663         365         0\n",
       "1001               Fiat       2006.000000         365         0\n",
       "1002              Mazda       2000.000000         365         1\n",
       "1003              Mazda       2010.000000         365         0\n",
       "1004               Fiat       2008.000000         365         1"
      ]
     },
     "execution_count": 52,
     "metadata": {},
     "output_type": "execute_result"
    }
   ],
   "source": [
    "# polisa data\n",
    "\n",
    "pol = c[['Keypls','Rechecv_Companny','Manufacture_Year','ins_length','accident']][c['Meshlem_polisa_IND']==1].set_index('Keypls')\n",
    "pol.head()"
   ]
  },
  {
   "cell_type": "code",
   "execution_count": 53,
   "metadata": {},
   "outputs": [
    {
     "data": {
      "text/html": [
       "<div>\n",
       "<style scoped>\n",
       "    .dataframe tbody tr th:only-of-type {\n",
       "        vertical-align: middle;\n",
       "    }\n",
       "\n",
       "    .dataframe tbody tr th {\n",
       "        vertical-align: top;\n",
       "    }\n",
       "\n",
       "    .dataframe thead th {\n",
       "        text-align: right;\n",
       "    }\n",
       "</style>\n",
       "<table border=\"1\" class=\"dataframe\">\n",
       "  <thead>\n",
       "    <tr style=\"text-align: right;\">\n",
       "      <th></th>\n",
       "      <th>City_Ashdod</th>\n",
       "      <th>City_Dimona</th>\n",
       "      <th>City_Haifa</th>\n",
       "      <th>City_Jerusalem</th>\n",
       "      <th>City_Tel Aviv</th>\n",
       "      <th>City_Tira</th>\n",
       "      <th>payer_city</th>\n",
       "      <th>Gender_Female</th>\n",
       "      <th>Gender_Male</th>\n",
       "      <th>payer_gender</th>\n",
       "      <th>...</th>\n",
       "      <th>max_age</th>\n",
       "      <th>sum_age</th>\n",
       "      <th>mean_age</th>\n",
       "      <th>count_age</th>\n",
       "      <th>weighted_age</th>\n",
       "      <th>payer_age</th>\n",
       "      <th>Rechecv_Companny</th>\n",
       "      <th>Manufacture_Year</th>\n",
       "      <th>ins_length</th>\n",
       "      <th>accident</th>\n",
       "    </tr>\n",
       "    <tr>\n",
       "      <th>Keypls</th>\n",
       "      <th></th>\n",
       "      <th></th>\n",
       "      <th></th>\n",
       "      <th></th>\n",
       "      <th></th>\n",
       "      <th></th>\n",
       "      <th></th>\n",
       "      <th></th>\n",
       "      <th></th>\n",
       "      <th></th>\n",
       "      <th></th>\n",
       "      <th></th>\n",
       "      <th></th>\n",
       "      <th></th>\n",
       "      <th></th>\n",
       "      <th></th>\n",
       "      <th></th>\n",
       "      <th></th>\n",
       "      <th></th>\n",
       "      <th></th>\n",
       "      <th></th>\n",
       "    </tr>\n",
       "  </thead>\n",
       "  <tbody>\n",
       "    <tr>\n",
       "      <th>1000</th>\n",
       "      <td>0</td>\n",
       "      <td>0</td>\n",
       "      <td>0</td>\n",
       "      <td>1</td>\n",
       "      <td>1</td>\n",
       "      <td>0</td>\n",
       "      <td>Tel Aviv</td>\n",
       "      <td>0</td>\n",
       "      <td>2</td>\n",
       "      <td>Male</td>\n",
       "      <td>...</td>\n",
       "      <td>75.0</td>\n",
       "      <td>101.0</td>\n",
       "      <td>50.5</td>\n",
       "      <td>2</td>\n",
       "      <td>71.417785</td>\n",
       "      <td>75.0</td>\n",
       "      <td>Mazda</td>\n",
       "      <td>2008.175663</td>\n",
       "      <td>365</td>\n",
       "      <td>0</td>\n",
       "    </tr>\n",
       "    <tr>\n",
       "      <th>1001</th>\n",
       "      <td>0</td>\n",
       "      <td>0</td>\n",
       "      <td>1</td>\n",
       "      <td>1</td>\n",
       "      <td>0</td>\n",
       "      <td>0</td>\n",
       "      <td>Jerusalem</td>\n",
       "      <td>2</td>\n",
       "      <td>0</td>\n",
       "      <td>Female</td>\n",
       "      <td>...</td>\n",
       "      <td>47.0</td>\n",
       "      <td>65.0</td>\n",
       "      <td>32.5</td>\n",
       "      <td>2</td>\n",
       "      <td>45.961941</td>\n",
       "      <td>18.0</td>\n",
       "      <td>Fiat</td>\n",
       "      <td>2006.000000</td>\n",
       "      <td>365</td>\n",
       "      <td>0</td>\n",
       "    </tr>\n",
       "  </tbody>\n",
       "</table>\n",
       "<p>2 rows × 21 columns</p>\n",
       "</div>"
      ],
      "text/plain": [
       "        City_Ashdod  City_Dimona  City_Haifa  City_Jerusalem  City_Tel Aviv  \\\n",
       "Keypls                                                                        \n",
       "1000              0            0           0               1              1   \n",
       "1001              0            0           1               1              0   \n",
       "\n",
       "        City_Tira payer_city  Gender_Female  Gender_Male payer_gender  \\\n",
       "Keypls                                                                  \n",
       "1000            0   Tel Aviv              0            2         Male   \n",
       "1001            0  Jerusalem              2            0       Female   \n",
       "\n",
       "          ...     max_age  sum_age  mean_age  count_age  weighted_age  \\\n",
       "Keypls    ...                                                           \n",
       "1000      ...        75.0    101.0      50.5          2     71.417785   \n",
       "1001      ...        47.0     65.0      32.5          2     45.961941   \n",
       "\n",
       "        payer_age  Rechecv_Companny Manufacture_Year  ins_length  accident  \n",
       "Keypls                                                                      \n",
       "1000         75.0             Mazda      2008.175663         365         0  \n",
       "1001         18.0              Fiat      2006.000000         365         0  \n",
       "\n",
       "[2 rows x 21 columns]"
      ]
     },
     "execution_count": 53,
     "metadata": {},
     "output_type": "execute_result"
    }
   ],
   "source": [
    "\n",
    "data = cities.merge(gender,on='Keypls').merge(ages,on='Keypls').merge(pol,on='Keypls')\n",
    "data.head(2)"
   ]
  },
  {
   "cell_type": "code",
   "execution_count": 54,
   "metadata": {},
   "outputs": [
    {
     "name": "stdout",
     "output_type": "stream",
     "text": [
      "(3493, 3)\n",
      "(3493, 7)\n",
      "(3493, 7)\n",
      "(3493, 4)\n",
      "(3493, 21)\n"
     ]
    }
   ],
   "source": [
    "# merge all\n",
    "print(gender.shape)\n",
    "print(cities.shape)\n",
    "print(ages.shape)\n",
    "print(pol.shape)\n",
    "print(data.shape)\n"
   ]
  },
  {
   "cell_type": "code",
   "execution_count": null,
   "metadata": {},
   "outputs": [],
   "source": []
  },
  {
   "cell_type": "code",
   "execution_count": 55,
   "metadata": {},
   "outputs": [
    {
     "data": {
      "text/plain": [
       "Index(['City_Ashdod', 'City_Dimona', 'City_Haifa', 'City_Jerusalem',\n",
       "       'City_Tel Aviv', 'City_Tira', 'payer_city', 'Gender_Female',\n",
       "       'Gender_Male', 'payer_gender', 'min_age', 'max_age', 'sum_age',\n",
       "       'mean_age', 'count_age', 'weighted_age', 'payer_age',\n",
       "       'Rechecv_Companny', 'Manufacture_Year', 'ins_length', 'accident'],\n",
       "      dtype='object')"
      ]
     },
     "execution_count": 55,
     "metadata": {},
     "output_type": "execute_result"
    }
   ],
   "source": [
    "data.columns"
   ]
  },
  {
   "cell_type": "code",
   "execution_count": 56,
   "metadata": {},
   "outputs": [
    {
     "data": {
      "image/png": "[encoded data removed]",
      "text/plain": [
       "<Figure size 432x288 with 2 Axes>"
      ]
     },
     "metadata": {},
     "output_type": "display_data"
    }
   ],
   "source": [
    "corr = data.corr()\n",
    "sns.heatmap(corr, \n",
    "            xticklabels=corr.columns.values,\n",
    "            yticklabels=corr.columns.values)\n",
    "plt.show()"
   ]
  },
  {
   "cell_type": "code",
   "execution_count": null,
   "metadata": {},
   "outputs": [],
   "source": []
  },
  {
   "cell_type": "code",
   "execution_count": 57,
   "metadata": {},
   "outputs": [
    {
     "name": "stdout",
     "output_type": "stream",
     "text": [
      "<class 'pandas.core.frame.DataFrame'>\n",
      "Int64Index: 3493 entries, 1000 to 5000\n",
      "Data columns (total 21 columns):\n",
      "City_Ashdod         3493 non-null uint8\n",
      "City_Dimona         3493 non-null uint8\n",
      "City_Haifa          3493 non-null uint8\n",
      "City_Jerusalem      3493 non-null uint8\n",
      "City_Tel Aviv       3493 non-null uint8\n",
      "City_Tira           3493 non-null uint8\n",
      "payer_city          3493 non-null object\n",
      "Gender_Female       3493 non-null uint8\n",
      "Gender_Male         3493 non-null uint8\n",
      "payer_gender        3493 non-null object\n",
      "min_age             3493 non-null float64\n",
      "max_age             3493 non-null float64\n",
      "sum_age             3493 non-null float64\n",
      "mean_age            3493 non-null float64\n",
      "count_age           3493 non-null int64\n",
      "weighted_age        3493 non-null float64\n",
      "payer_age           3493 non-null float64\n",
      "Rechecv_Companny    3493 non-null category\n",
      "Manufacture_Year    3493 non-null float64\n",
      "ins_length          3493 non-null int64\n",
      "accident            3493 non-null int32\n",
      "dtypes: category(1), float64(7), int32(1), int64(2), object(2), uint8(8)\n",
      "memory usage: 372.0+ KB\n"
     ]
    },
    {
     "data": {
      "text/html": [
       "<div>\n",
       "<style scoped>\n",
       "    .dataframe tbody tr th:only-of-type {\n",
       "        vertical-align: middle;\n",
       "    }\n",
       "\n",
       "    .dataframe tbody tr th {\n",
       "        vertical-align: top;\n",
       "    }\n",
       "\n",
       "    .dataframe thead th {\n",
       "        text-align: right;\n",
       "    }\n",
       "</style>\n",
       "<table border=\"1\" class=\"dataframe\">\n",
       "  <thead>\n",
       "    <tr style=\"text-align: right;\">\n",
       "      <th></th>\n",
       "      <th>City_Ashdod</th>\n",
       "      <th>City_Dimona</th>\n",
       "      <th>City_Haifa</th>\n",
       "      <th>City_Jerusalem</th>\n",
       "      <th>City_Tel Aviv</th>\n",
       "      <th>City_Tira</th>\n",
       "      <th>payer_city</th>\n",
       "      <th>Gender_Female</th>\n",
       "      <th>Gender_Male</th>\n",
       "      <th>payer_gender</th>\n",
       "      <th>...</th>\n",
       "      <th>max_age</th>\n",
       "      <th>sum_age</th>\n",
       "      <th>mean_age</th>\n",
       "      <th>count_age</th>\n",
       "      <th>weighted_age</th>\n",
       "      <th>payer_age</th>\n",
       "      <th>Rechecv_Companny</th>\n",
       "      <th>Manufacture_Year</th>\n",
       "      <th>ins_length</th>\n",
       "      <th>accident</th>\n",
       "    </tr>\n",
       "    <tr>\n",
       "      <th>Keypls</th>\n",
       "      <th></th>\n",
       "      <th></th>\n",
       "      <th></th>\n",
       "      <th></th>\n",
       "      <th></th>\n",
       "      <th></th>\n",
       "      <th></th>\n",
       "      <th></th>\n",
       "      <th></th>\n",
       "      <th></th>\n",
       "      <th></th>\n",
       "      <th></th>\n",
       "      <th></th>\n",
       "      <th></th>\n",
       "      <th></th>\n",
       "      <th></th>\n",
       "      <th></th>\n",
       "      <th></th>\n",
       "      <th></th>\n",
       "      <th></th>\n",
       "      <th></th>\n",
       "    </tr>\n",
       "  </thead>\n",
       "  <tbody>\n",
       "    <tr>\n",
       "      <th>1000</th>\n",
       "      <td>0</td>\n",
       "      <td>0</td>\n",
       "      <td>0</td>\n",
       "      <td>1</td>\n",
       "      <td>1</td>\n",
       "      <td>0</td>\n",
       "      <td>Tel Aviv</td>\n",
       "      <td>0</td>\n",
       "      <td>2</td>\n",
       "      <td>Male</td>\n",
       "      <td>...</td>\n",
       "      <td>75.0</td>\n",
       "      <td>101.0</td>\n",
       "      <td>50.500000</td>\n",
       "      <td>2</td>\n",
       "      <td>71.417785</td>\n",
       "      <td>75.0</td>\n",
       "      <td>Mazda</td>\n",
       "      <td>2008.175663</td>\n",
       "      <td>365</td>\n",
       "      <td>0</td>\n",
       "    </tr>\n",
       "    <tr>\n",
       "      <th>1001</th>\n",
       "      <td>0</td>\n",
       "      <td>0</td>\n",
       "      <td>1</td>\n",
       "      <td>1</td>\n",
       "      <td>0</td>\n",
       "      <td>0</td>\n",
       "      <td>Jerusalem</td>\n",
       "      <td>2</td>\n",
       "      <td>0</td>\n",
       "      <td>Female</td>\n",
       "      <td>...</td>\n",
       "      <td>47.0</td>\n",
       "      <td>65.0</td>\n",
       "      <td>32.500000</td>\n",
       "      <td>2</td>\n",
       "      <td>45.961941</td>\n",
       "      <td>18.0</td>\n",
       "      <td>Fiat</td>\n",
       "      <td>2006.000000</td>\n",
       "      <td>365</td>\n",
       "      <td>0</td>\n",
       "    </tr>\n",
       "    <tr>\n",
       "      <th>1002</th>\n",
       "      <td>2</td>\n",
       "      <td>1</td>\n",
       "      <td>0</td>\n",
       "      <td>0</td>\n",
       "      <td>3</td>\n",
       "      <td>0</td>\n",
       "      <td>Ashdod</td>\n",
       "      <td>6</td>\n",
       "      <td>0</td>\n",
       "      <td>Female</td>\n",
       "      <td>...</td>\n",
       "      <td>52.0</td>\n",
       "      <td>227.0</td>\n",
       "      <td>37.833333</td>\n",
       "      <td>6</td>\n",
       "      <td>92.672362</td>\n",
       "      <td>41.0</td>\n",
       "      <td>Mazda</td>\n",
       "      <td>2000.000000</td>\n",
       "      <td>365</td>\n",
       "      <td>1</td>\n",
       "    </tr>\n",
       "    <tr>\n",
       "      <th>1003</th>\n",
       "      <td>0</td>\n",
       "      <td>0</td>\n",
       "      <td>1</td>\n",
       "      <td>0</td>\n",
       "      <td>0</td>\n",
       "      <td>0</td>\n",
       "      <td>Haifa</td>\n",
       "      <td>0</td>\n",
       "      <td>1</td>\n",
       "      <td>Male</td>\n",
       "      <td>...</td>\n",
       "      <td>49.0</td>\n",
       "      <td>49.0</td>\n",
       "      <td>49.000000</td>\n",
       "      <td>1</td>\n",
       "      <td>49.000000</td>\n",
       "      <td>49.0</td>\n",
       "      <td>Mazda</td>\n",
       "      <td>2010.000000</td>\n",
       "      <td>365</td>\n",
       "      <td>0</td>\n",
       "    </tr>\n",
       "    <tr>\n",
       "      <th>1004</th>\n",
       "      <td>0</td>\n",
       "      <td>0</td>\n",
       "      <td>0</td>\n",
       "      <td>1</td>\n",
       "      <td>0</td>\n",
       "      <td>0</td>\n",
       "      <td>Jerusalem</td>\n",
       "      <td>1</td>\n",
       "      <td>0</td>\n",
       "      <td>Female</td>\n",
       "      <td>...</td>\n",
       "      <td>58.0</td>\n",
       "      <td>58.0</td>\n",
       "      <td>58.000000</td>\n",
       "      <td>1</td>\n",
       "      <td>58.000000</td>\n",
       "      <td>58.0</td>\n",
       "      <td>Fiat</td>\n",
       "      <td>2008.000000</td>\n",
       "      <td>365</td>\n",
       "      <td>1</td>\n",
       "    </tr>\n",
       "  </tbody>\n",
       "</table>\n",
       "<p>5 rows × 21 columns</p>\n",
       "</div>"
      ],
      "text/plain": [
       "        City_Ashdod  City_Dimona  City_Haifa  City_Jerusalem  City_Tel Aviv  \\\n",
       "Keypls                                                                        \n",
       "1000              0            0           0               1              1   \n",
       "1001              0            0           1               1              0   \n",
       "1002              2            1           0               0              3   \n",
       "1003              0            0           1               0              0   \n",
       "1004              0            0           0               1              0   \n",
       "\n",
       "        City_Tira payer_city  Gender_Female  Gender_Male payer_gender  \\\n",
       "Keypls                                                                  \n",
       "1000            0   Tel Aviv              0            2         Male   \n",
       "1001            0  Jerusalem              2            0       Female   \n",
       "1002            0     Ashdod              6            0       Female   \n",
       "1003            0      Haifa              0            1         Male   \n",
       "1004            0  Jerusalem              1            0       Female   \n",
       "\n",
       "          ...     max_age  sum_age   mean_age  count_age  weighted_age  \\\n",
       "Keypls    ...                                                            \n",
       "1000      ...        75.0    101.0  50.500000          2     71.417785   \n",
       "1001      ...        47.0     65.0  32.500000          2     45.961941   \n",
       "1002      ...        52.0    227.0  37.833333          6     92.672362   \n",
       "1003      ...        49.0     49.0  49.000000          1     49.000000   \n",
       "1004      ...        58.0     58.0  58.000000          1     58.000000   \n",
       "\n",
       "        payer_age  Rechecv_Companny Manufacture_Year  ins_length  accident  \n",
       "Keypls                                                                      \n",
       "1000         75.0             Mazda      2008.175663         365         0  \n",
       "1001         18.0              Fiat      2006.000000         365         0  \n",
       "1002         41.0             Mazda      2000.000000         365         1  \n",
       "1003         49.0             Mazda      2010.000000         365         0  \n",
       "1004         58.0              Fiat      2008.000000         365         1  \n",
       "\n",
       "[5 rows x 21 columns]"
      ]
     },
     "execution_count": 57,
     "metadata": {},
     "output_type": "execute_result"
    }
   ],
   "source": [
    "data.info()\n",
    "data.columns\n",
    "data.head()"
   ]
  },
  {
   "cell_type": "code",
   "execution_count": 58,
   "metadata": {},
   "outputs": [
    {
     "data": {
      "text/plain": [
       "Index(['City_Ashdod', 'City_Dimona', 'City_Haifa', 'City_Jerusalem',\n",
       "       'City_Tel Aviv', 'City_Tira', 'payer_city', 'Gender_Female',\n",
       "       'Gender_Male', 'payer_gender', 'min_age', 'max_age', 'sum_age',\n",
       "       'mean_age', 'count_age', 'weighted_age', 'payer_age',\n",
       "       'Rechecv_Companny', 'Manufacture_Year', 'ins_length', 'accident'],\n",
       "      dtype='object')"
      ]
     },
     "execution_count": 58,
     "metadata": {},
     "output_type": "execute_result"
    }
   ],
   "source": [
    "data.columns\n"
   ]
  },
  {
   "cell_type": "code",
   "execution_count": 59,
   "metadata": {},
   "outputs": [],
   "source": [
    "cols = ['City_Ashdod', 'City_Dimona', 'City_Haifa', 'City_Jerusalem',\n",
    "       'City_Tel Aviv', 'City_Tira',## 'payer_city', \n",
    "        'Gender_Female',\n",
    "       'Gender_Male',## 'payer_gender', 'min_age', 'max_age', 'sum_age',\n",
    "       'mean_age', 'count_age',## 'weighted_age', 'payer_age',\n",
    "       'Rechecv_Companny', 'Manufacture_Year', 'ins_length', 'accident']"
   ]
  },
  {
   "cell_type": "code",
   "execution_count": 60,
   "metadata": {},
   "outputs": [],
   "source": [
    "data = data[cols]"
   ]
  },
  {
   "cell_type": "code",
   "execution_count": null,
   "metadata": {},
   "outputs": [],
   "source": []
  },
  {
   "cell_type": "markdown",
   "metadata": {},
   "source": [
    "# model "
   ]
  },
  {
   "cell_type": "code",
   "execution_count": 61,
   "metadata": {},
   "outputs": [
    {
     "data": {
      "text/html": [
       "<div>\n",
       "<style scoped>\n",
       "    .dataframe tbody tr th:only-of-type {\n",
       "        vertical-align: middle;\n",
       "    }\n",
       "\n",
       "    .dataframe tbody tr th {\n",
       "        vertical-align: top;\n",
       "    }\n",
       "\n",
       "    .dataframe thead th {\n",
       "        text-align: right;\n",
       "    }\n",
       "</style>\n",
       "<table border=\"1\" class=\"dataframe\">\n",
       "  <thead>\n",
       "    <tr style=\"text-align: right;\">\n",
       "      <th></th>\n",
       "      <th>City_Ashdod</th>\n",
       "      <th>City_Dimona</th>\n",
       "      <th>City_Haifa</th>\n",
       "      <th>City_Jerusalem</th>\n",
       "      <th>City_Tel Aviv</th>\n",
       "      <th>City_Tira</th>\n",
       "      <th>Gender_Female</th>\n",
       "      <th>Gender_Male</th>\n",
       "      <th>mean_age</th>\n",
       "      <th>count_age</th>\n",
       "      <th>Rechecv_Companny</th>\n",
       "      <th>Manufacture_Year</th>\n",
       "      <th>ins_length</th>\n",
       "      <th>accident</th>\n",
       "    </tr>\n",
       "    <tr>\n",
       "      <th>Keypls</th>\n",
       "      <th></th>\n",
       "      <th></th>\n",
       "      <th></th>\n",
       "      <th></th>\n",
       "      <th></th>\n",
       "      <th></th>\n",
       "      <th></th>\n",
       "      <th></th>\n",
       "      <th></th>\n",
       "      <th></th>\n",
       "      <th></th>\n",
       "      <th></th>\n",
       "      <th></th>\n",
       "      <th></th>\n",
       "    </tr>\n",
       "  </thead>\n",
       "  <tbody>\n",
       "    <tr>\n",
       "      <th>1000</th>\n",
       "      <td>0</td>\n",
       "      <td>0</td>\n",
       "      <td>0</td>\n",
       "      <td>1</td>\n",
       "      <td>1</td>\n",
       "      <td>0</td>\n",
       "      <td>0</td>\n",
       "      <td>2</td>\n",
       "      <td>50.500000</td>\n",
       "      <td>2</td>\n",
       "      <td>Mazda</td>\n",
       "      <td>2008.175663</td>\n",
       "      <td>365</td>\n",
       "      <td>0</td>\n",
       "    </tr>\n",
       "    <tr>\n",
       "      <th>1001</th>\n",
       "      <td>0</td>\n",
       "      <td>0</td>\n",
       "      <td>1</td>\n",
       "      <td>1</td>\n",
       "      <td>0</td>\n",
       "      <td>0</td>\n",
       "      <td>2</td>\n",
       "      <td>0</td>\n",
       "      <td>32.500000</td>\n",
       "      <td>2</td>\n",
       "      <td>Fiat</td>\n",
       "      <td>2006.000000</td>\n",
       "      <td>365</td>\n",
       "      <td>0</td>\n",
       "    </tr>\n",
       "    <tr>\n",
       "      <th>1002</th>\n",
       "      <td>2</td>\n",
       "      <td>1</td>\n",
       "      <td>0</td>\n",
       "      <td>0</td>\n",
       "      <td>3</td>\n",
       "      <td>0</td>\n",
       "      <td>6</td>\n",
       "      <td>0</td>\n",
       "      <td>37.833333</td>\n",
       "      <td>6</td>\n",
       "      <td>Mazda</td>\n",
       "      <td>2000.000000</td>\n",
       "      <td>365</td>\n",
       "      <td>1</td>\n",
       "    </tr>\n",
       "    <tr>\n",
       "      <th>1003</th>\n",
       "      <td>0</td>\n",
       "      <td>0</td>\n",
       "      <td>1</td>\n",
       "      <td>0</td>\n",
       "      <td>0</td>\n",
       "      <td>0</td>\n",
       "      <td>0</td>\n",
       "      <td>1</td>\n",
       "      <td>49.000000</td>\n",
       "      <td>1</td>\n",
       "      <td>Mazda</td>\n",
       "      <td>2010.000000</td>\n",
       "      <td>365</td>\n",
       "      <td>0</td>\n",
       "    </tr>\n",
       "    <tr>\n",
       "      <th>1004</th>\n",
       "      <td>0</td>\n",
       "      <td>0</td>\n",
       "      <td>0</td>\n",
       "      <td>1</td>\n",
       "      <td>0</td>\n",
       "      <td>0</td>\n",
       "      <td>1</td>\n",
       "      <td>0</td>\n",
       "      <td>58.000000</td>\n",
       "      <td>1</td>\n",
       "      <td>Fiat</td>\n",
       "      <td>2008.000000</td>\n",
       "      <td>365</td>\n",
       "      <td>1</td>\n",
       "    </tr>\n",
       "  </tbody>\n",
       "</table>\n",
       "</div>"
      ],
      "text/plain": [
       "        City_Ashdod  City_Dimona  City_Haifa  City_Jerusalem  City_Tel Aviv  \\\n",
       "Keypls                                                                        \n",
       "1000              0            0           0               1              1   \n",
       "1001              0            0           1               1              0   \n",
       "1002              2            1           0               0              3   \n",
       "1003              0            0           1               0              0   \n",
       "1004              0            0           0               1              0   \n",
       "\n",
       "        City_Tira  Gender_Female  Gender_Male   mean_age  count_age  \\\n",
       "Keypls                                                                \n",
       "1000            0              0            2  50.500000          2   \n",
       "1001            0              2            0  32.500000          2   \n",
       "1002            0              6            0  37.833333          6   \n",
       "1003            0              0            1  49.000000          1   \n",
       "1004            0              1            0  58.000000          1   \n",
       "\n",
       "       Rechecv_Companny  Manufacture_Year  ins_length  accident  \n",
       "Keypls                                                           \n",
       "1000              Mazda       2008.175663         365         0  \n",
       "1001               Fiat       2006.000000         365         0  \n",
       "1002              Mazda       2000.000000         365         1  \n",
       "1003              Mazda       2010.000000         365         0  \n",
       "1004               Fiat       2008.000000         365         1  "
      ]
     },
     "execution_count": 61,
     "metadata": {},
     "output_type": "execute_result"
    }
   ],
   "source": [
    "data.head()"
   ]
  },
  {
   "cell_type": "code",
   "execution_count": 62,
   "metadata": {},
   "outputs": [
    {
     "name": "stdout",
     "output_type": "stream",
     "text": [
      "nulls in data :  False\n",
      "Series([], dtype: int64)\n",
      "=====\n"
     ]
    }
   ],
   "source": [
    "\n",
    "findnulls(data)\n",
    "\n",
    "#data = data.dropna()\n",
    "\n",
    "\n",
    "\n",
    "\n",
    "#X.fillna(0,inplace=True)\n"
   ]
  },
  {
   "cell_type": "code",
   "execution_count": 63,
   "metadata": {},
   "outputs": [
    {
     "data": {
      "text/html": [
       "<div>\n",
       "<style scoped>\n",
       "    .dataframe tbody tr th:only-of-type {\n",
       "        vertical-align: middle;\n",
       "    }\n",
       "\n",
       "    .dataframe tbody tr th {\n",
       "        vertical-align: top;\n",
       "    }\n",
       "\n",
       "    .dataframe thead th {\n",
       "        text-align: right;\n",
       "    }\n",
       "</style>\n",
       "<table border=\"1\" class=\"dataframe\">\n",
       "  <thead>\n",
       "    <tr style=\"text-align: right;\">\n",
       "      <th></th>\n",
       "      <th>City_Ashdod</th>\n",
       "      <th>City_Dimona</th>\n",
       "      <th>City_Haifa</th>\n",
       "      <th>City_Jerusalem</th>\n",
       "      <th>City_Tel Aviv</th>\n",
       "      <th>City_Tira</th>\n",
       "      <th>Gender_Female</th>\n",
       "      <th>Gender_Male</th>\n",
       "      <th>mean_age</th>\n",
       "      <th>count_age</th>\n",
       "      <th>Rechecv_Companny</th>\n",
       "      <th>Manufacture_Year</th>\n",
       "      <th>ins_length</th>\n",
       "    </tr>\n",
       "    <tr>\n",
       "      <th>Keypls</th>\n",
       "      <th></th>\n",
       "      <th></th>\n",
       "      <th></th>\n",
       "      <th></th>\n",
       "      <th></th>\n",
       "      <th></th>\n",
       "      <th></th>\n",
       "      <th></th>\n",
       "      <th></th>\n",
       "      <th></th>\n",
       "      <th></th>\n",
       "      <th></th>\n",
       "      <th></th>\n",
       "    </tr>\n",
       "  </thead>\n",
       "  <tbody>\n",
       "    <tr>\n",
       "      <th>1000</th>\n",
       "      <td>0</td>\n",
       "      <td>0</td>\n",
       "      <td>0</td>\n",
       "      <td>1</td>\n",
       "      <td>1</td>\n",
       "      <td>0</td>\n",
       "      <td>0</td>\n",
       "      <td>2</td>\n",
       "      <td>50.500000</td>\n",
       "      <td>2</td>\n",
       "      <td>Mazda</td>\n",
       "      <td>2008.175663</td>\n",
       "      <td>365</td>\n",
       "    </tr>\n",
       "    <tr>\n",
       "      <th>1001</th>\n",
       "      <td>0</td>\n",
       "      <td>0</td>\n",
       "      <td>1</td>\n",
       "      <td>1</td>\n",
       "      <td>0</td>\n",
       "      <td>0</td>\n",
       "      <td>2</td>\n",
       "      <td>0</td>\n",
       "      <td>32.500000</td>\n",
       "      <td>2</td>\n",
       "      <td>Fiat</td>\n",
       "      <td>2006.000000</td>\n",
       "      <td>365</td>\n",
       "    </tr>\n",
       "    <tr>\n",
       "      <th>1002</th>\n",
       "      <td>2</td>\n",
       "      <td>1</td>\n",
       "      <td>0</td>\n",
       "      <td>0</td>\n",
       "      <td>3</td>\n",
       "      <td>0</td>\n",
       "      <td>6</td>\n",
       "      <td>0</td>\n",
       "      <td>37.833333</td>\n",
       "      <td>6</td>\n",
       "      <td>Mazda</td>\n",
       "      <td>2000.000000</td>\n",
       "      <td>365</td>\n",
       "    </tr>\n",
       "    <tr>\n",
       "      <th>1003</th>\n",
       "      <td>0</td>\n",
       "      <td>0</td>\n",
       "      <td>1</td>\n",
       "      <td>0</td>\n",
       "      <td>0</td>\n",
       "      <td>0</td>\n",
       "      <td>0</td>\n",
       "      <td>1</td>\n",
       "      <td>49.000000</td>\n",
       "      <td>1</td>\n",
       "      <td>Mazda</td>\n",
       "      <td>2010.000000</td>\n",
       "      <td>365</td>\n",
       "    </tr>\n",
       "    <tr>\n",
       "      <th>1004</th>\n",
       "      <td>0</td>\n",
       "      <td>0</td>\n",
       "      <td>0</td>\n",
       "      <td>1</td>\n",
       "      <td>0</td>\n",
       "      <td>0</td>\n",
       "      <td>1</td>\n",
       "      <td>0</td>\n",
       "      <td>58.000000</td>\n",
       "      <td>1</td>\n",
       "      <td>Fiat</td>\n",
       "      <td>2008.000000</td>\n",
       "      <td>365</td>\n",
       "    </tr>\n",
       "  </tbody>\n",
       "</table>\n",
       "</div>"
      ],
      "text/plain": [
       "        City_Ashdod  City_Dimona  City_Haifa  City_Jerusalem  City_Tel Aviv  \\\n",
       "Keypls                                                                        \n",
       "1000              0            0           0               1              1   \n",
       "1001              0            0           1               1              0   \n",
       "1002              2            1           0               0              3   \n",
       "1003              0            0           1               0              0   \n",
       "1004              0            0           0               1              0   \n",
       "\n",
       "        City_Tira  Gender_Female  Gender_Male   mean_age  count_age  \\\n",
       "Keypls                                                                \n",
       "1000            0              0            2  50.500000          2   \n",
       "1001            0              2            0  32.500000          2   \n",
       "1002            0              6            0  37.833333          6   \n",
       "1003            0              0            1  49.000000          1   \n",
       "1004            0              1            0  58.000000          1   \n",
       "\n",
       "       Rechecv_Companny  Manufacture_Year  ins_length  \n",
       "Keypls                                                 \n",
       "1000              Mazda       2008.175663         365  \n",
       "1001               Fiat       2006.000000         365  \n",
       "1002              Mazda       2000.000000         365  \n",
       "1003              Mazda       2010.000000         365  \n",
       "1004               Fiat       2008.000000         365  "
      ]
     },
     "execution_count": 63,
     "metadata": {},
     "output_type": "execute_result"
    }
   ],
   "source": [
    "y = data.accident\n",
    "X = data.drop(['accident'],axis=1)\n",
    "\n",
    "\n",
    "y.head()\n",
    "X.head()\n"
   ]
  },
  {
   "cell_type": "code",
   "execution_count": 64,
   "metadata": {},
   "outputs": [],
   "source": [
    "# create dummies\n",
    "\n",
    "X = pd.get_dummies(X)\n",
    "\n",
    "#split data to test and train set to check the model \n",
    "\n",
    "X_train, X_test, y_train, y_test = train_test_split(X, y, test_size = 0.2, random_state=27)\n"
   ]
  },
  {
   "cell_type": "markdown",
   "metadata": {},
   "source": [
    "# knn"
   ]
  },
  {
   "cell_type": "code",
   "execution_count": 209,
   "metadata": {},
   "outputs": [
    {
     "data": {
      "image/png": "[encoded data removed]",
      "text/plain": [
       "<Figure size 432x288 with 1 Axes>"
      ]
     },
     "metadata": {},
     "output_type": "display_data"
    }
   ],
   "source": [
    "from sklearn.neighbors import KNeighborsClassifier\n",
    "\n",
    "neighbors = np.arange(1, 15)\n",
    "train_accuracy = np.empty(len(neighbors))\n",
    "test_accuracy = np.empty(len(neighbors))\n",
    "\n",
    "for i, k in enumerate(neighbors):\n",
    "    knn = KNeighborsClassifier(k)\n",
    "    knn.fit(X_train,y_train)\n",
    "    train_accuracy[i] = knn.score(X_train,y_train)\n",
    "    test_accuracy[i] = knn.score(X_test, y_test)\n",
    "\n",
    "plt.title('k-NN: Varying Number of Neighbors')\n",
    "plt.plot(neighbors, test_accuracy, label = 'Testing Accuracy')\n",
    "plt.plot(neighbors, train_accuracy, label = 'Training Accuracy')\n",
    "plt.legend()\n",
    "plt.xlabel('Number of Neighbors')\n",
    "plt.ylabel('Accuracy')\n",
    "plt.show()"
   ]
  },
  {
   "cell_type": "code",
   "execution_count": 210,
   "metadata": {},
   "outputs": [
    {
     "name": "stdout",
     "output_type": "stream",
     "text": [
      "0.8068669527896996\n"
     ]
    }
   ],
   "source": [
    "knn  = KNeighborsClassifier(n_neighbors=4)\n",
    "knn.fit(X_train,y_train)\n",
    "y_pred = knn.predict(X_test)\n",
    "\n",
    "print(knn.score(X_test, y_test))\n"
   ]
  },
  {
   "cell_type": "code",
   "execution_count": 211,
   "metadata": {},
   "outputs": [
    {
     "name": "stdout",
     "output_type": "stream",
     "text": [
      "             precision    recall  f1-score   support\n",
      "\n",
      "no accident       0.82      0.98      0.89       571\n",
      "   accident       0.23      0.02      0.04       128\n",
      "\n",
      "avg / total       0.71      0.81      0.74       699\n",
      "\n"
     ]
    }
   ],
   "source": [
    "target_names = ['no accident', 'accident']\n",
    "\n",
    "print(classification_report(y_test, y_pred, target_names=target_names))"
   ]
  },
  {
   "cell_type": "code",
   "execution_count": null,
   "metadata": {},
   "outputs": [],
   "source": [
    "\"\"\"\n",
    "\n",
    "\n",
    "no accident       0.82      0.97      0.89       571\n",
    "   accident       0.12      0.02      0.03       128\n",
    "\n",
    "avg / total       0.69      0.80      0.73       699\n",
    "\"\"\""
   ]
  },
  {
   "cell_type": "markdown",
   "metadata": {},
   "source": [
    "# rndm frst"
   ]
  },
  {
   "cell_type": "code",
   "execution_count": 212,
   "metadata": {},
   "outputs": [
    {
     "name": "stdout",
     "output_type": "stream",
     "text": [
      "             precision    recall  f1-score   support\n",
      "\n",
      "no accident       0.83      0.96      0.89       571\n",
      "   accident       0.41      0.12      0.18       128\n",
      "\n",
      "avg / total       0.75      0.81      0.76       699\n",
      "\n"
     ]
    }
   ],
   "source": [
    "from sklearn.ensemble import RandomForestClassifier\n",
    "RF = RandomForestClassifier()\n",
    "\n",
    "RF.fit(X_train, y_train)\n",
    "\n",
    "#predict test set result\n",
    "y_pred = RF.predict(X_test)\n",
    "\n",
    "\n",
    "target_names = ['no accident', 'accident']\n",
    "\n",
    "print(classification_report(y_test, y_pred, target_names=target_names))"
   ]
  },
  {
   "cell_type": "code",
   "execution_count": null,
   "metadata": {},
   "outputs": [],
   "source": [
    "\"\"\"\n",
    "\n",
    "# only age \n",
    "\n",
    "\n",
    "\n",
    "no accident       0.83      0.96      0.89       571\n",
    "   accident       0.34      0.10      0.16       128\n",
    "\n",
    "avg / total       0.74      0.80      0.75       69\n",
    "\n",
    "\n",
    "age gender city\n",
    "\n",
    "no accident       0.82      0.97      0.89       571\n",
    "   accident       0.32      0.06      0.10       128\n",
    "\n",
    "avg / total       0.73      0.80      0.75       699\n",
    "\"\"\""
   ]
  },
  {
   "cell_type": "markdown",
   "metadata": {},
   "source": [
    "# boosted xtreme gradient"
   ]
  },
  {
   "cell_type": "code",
   "execution_count": 213,
   "metadata": {},
   "outputs": [
    {
     "name": "stdout",
     "output_type": "stream",
     "text": [
      "             precision    recall  f1-score   support\n",
      "\n",
      "no accident       0.82      0.99      0.90       571\n",
      "   accident       0.00      0.00      0.00       128\n",
      "\n",
      "avg / total       0.67      0.81      0.73       699\n",
      "\n"
     ]
    },
    {
     "name": "stderr",
     "output_type": "stream",
     "text": [
      "C:\\Users\\python\\Anaconda3\\lib\\site-packages\\sklearn\\preprocessing\\label.py:151: DeprecationWarning: The truth value of an empty array is ambiguous. Returning False, but in future this will result in an error. Use `array.size > 0` to check that an array is not empty.\n",
      "  if diff:\n"
     ]
    }
   ],
   "source": [
    "import xgboost as xgb\n",
    "\n",
    "clf = xgb.XGBClassifier()\n",
    "\n",
    "clf.fit(X_train, y_train)\n",
    "\n",
    "y_pred = clf.predict(X_test)\n",
    "\n",
    "print(classification_report(y_test, y_pred, target_names=target_names))"
   ]
  },
  {
   "cell_type": "markdown",
   "metadata": {},
   "source": [
    "# NAIVE BAYES"
   ]
  },
  {
   "cell_type": "code",
   "execution_count": 214,
   "metadata": {},
   "outputs": [
    {
     "name": "stdout",
     "output_type": "stream",
     "text": [
      "             precision    recall  f1-score   support\n",
      "\n",
      "no accident       0.85      0.80      0.83       571\n",
      "   accident       0.30      0.39      0.34       128\n",
      "\n",
      "avg / total       0.75      0.72      0.74       699\n",
      "\n"
     ]
    }
   ],
   "source": [
    "#NAIVE BAYES\n",
    "\n",
    "from sklearn.naive_bayes import GaussianNB\n",
    "from sklearn.preprocessing import StandardScaler\n",
    "\n",
    "\n",
    "# Feature Scaling\n",
    "sc_X = StandardScaler()\n",
    "X_train = sc_X.fit_transform(X_train)\n",
    "X_test = sc_X.transform(X_test)\n",
    "\n",
    "classifier = GaussianNB()\n",
    "\n",
    "classifier.fit(X_train, y_train)\n",
    "\n",
    "y_pred = classifier.predict(X_test)\n",
    "\n",
    "print(classification_report(y_test, y_pred, target_names=target_names))"
   ]
  },
  {
   "cell_type": "code",
   "execution_count": null,
   "metadata": {},
   "outputs": [],
   "source": [
    "\"\"\"\n",
    "no accident       0.86      0.78      0.82       571\n",
    "   accident       0.31      0.42      0.35       128\n",
    "\n",
    "avg / total       0.76      0.72      0.73       699\n",
    "\n",
    "\n",
    "\n",
    "\"\"\""
   ]
  },
  {
   "cell_type": "markdown",
   "metadata": {},
   "source": [
    "# SVM"
   ]
  },
  {
   "cell_type": "code",
   "execution_count": 66,
   "metadata": {},
   "outputs": [
    {
     "name": "stdout",
     "output_type": "stream",
     "text": [
      "             precision    recall  f1-score   support\n",
      "\n",
      "no accident       0.82      1.00      0.90       571\n",
      "   accident       0.00      0.00      0.00       128\n",
      "\n",
      "avg / total       0.67      0.82      0.73       699\n",
      "\n"
     ]
    },
    {
     "name": "stderr",
     "output_type": "stream",
     "text": [
      "C:\\Users\\python\\Anaconda3\\lib\\site-packages\\sklearn\\metrics\\classification.py:1135: UndefinedMetricWarning: Precision and F-score are ill-defined and being set to 0.0 in labels with no predicted samples.\n",
      "  'precision', 'predicted', average, warn_for)\n"
     ]
    }
   ],
   "source": [
    "# Feature Scaling\n",
    "\n",
    "from sklearn.preprocessing import StandardScaler\n",
    "sc_X = StandardScaler()\n",
    "X_train = sc_X.fit_transform(X_train)\n",
    "X_test = sc_X.transform(X_test)\n",
    "\n",
    "#fitting logistic regression to the training set\n",
    "\n",
    "from sklearn.svm import SVC\n",
    "classifier = SVC(kernel = 'linear',\n",
    "                 random_state = 0)\n",
    "classifier.fit(X_train, y_train)\n",
    "\n",
    "#predict test set result\n",
    "y_pred = classifier.predict(X_test)\n",
    "\n",
    "print(classification_report(y_test, y_pred, target_names=target_names))"
   ]
  },
  {
   "cell_type": "code",
   "execution_count": 215,
   "metadata": {},
   "outputs": [
    {
     "data": {
      "image/png": "[encoded data removed]",
      "text/plain": [
       "<Figure size 432x288 with 1 Axes>"
      ]
     },
     "metadata": {},
     "output_type": "display_data"
    }
   ],
   "source": [
    "# roc\n",
    "from sklearn import metrics\n",
    "\n",
    "y_pred_proba = classifier.predict_proba(X_test)[::,1]\n",
    "fpr, tpr, _ = metrics.roc_curve(y_test,  y_pred_proba)\n",
    "auc = metrics.roc_auc_score(y_test, y_pred_proba)\n",
    "plt.plot(fpr,tpr,label=\"data 1, auc=\"+str(auc))\n",
    "plt.legend(loc=4)\n",
    "plt.show()\n"
   ]
  },
  {
   "cell_type": "code",
   "execution_count": null,
   "metadata": {},
   "outputs": [],
   "source": []
  }
 ],
 "metadata": {
  "kernelspec": {
   "display_name": "Python 3",
   "language": "python",
   "name": "python3"
  },
  "language_info": {
   "codemirror_mode": {
    "name": "ipython",
    "version": 3
   },
   "file_extension": ".py",
   "mimetype": "text/x-python",
   "name": "python",
   "nbconvert_exporter": "python",
   "pygments_lexer": "ipython3",
   "version": "3.6.5"
  }
 },
 "nbformat": 4,
 "nbformat_minor": 2
}
